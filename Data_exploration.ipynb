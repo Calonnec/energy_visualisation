{
 "cells": [
  {
   "cell_type": "code",
   "execution_count": 4,
   "id": "5bd52751",
   "metadata": {},
   "outputs": [],
   "source": [
    "import numpy as np\n",
    "import pandas as pd\n",
    "import plotly.express as px\n",
    "import plotly.graph_objs as go\n",
    "from ipywidgets import interactive, Checkbox\n",
    "from ipywidgets import widgets\n",
    "from IPython.display import display\n",
    "from plotly.subplots import make_subplots"
   ]
  },
  {
   "cell_type": "code",
   "execution_count": 5,
   "id": "de196c91",
   "metadata": {},
   "outputs": [],
   "source": [
    "data = pd.read_csv(\"data/data.csv\")"
   ]
  },
  {
   "cell_type": "code",
   "execution_count": 6,
   "id": "cd2db246",
   "metadata": {},
   "outputs": [
    {
     "data": {
      "text/html": [
       "<div>\n",
       "<style scoped>\n",
       "    .dataframe tbody tr th:only-of-type {\n",
       "        vertical-align: middle;\n",
       "    }\n",
       "\n",
       "    .dataframe tbody tr th {\n",
       "        vertical-align: top;\n",
       "    }\n",
       "\n",
       "    .dataframe thead th {\n",
       "        text-align: right;\n",
       "    }\n",
       "</style>\n",
       "<table border=\"1\" class=\"dataframe\">\n",
       "  <thead>\n",
       "    <tr style=\"text-align: right;\">\n",
       "      <th></th>\n",
       "      <th>COUNTRY</th>\n",
       "      <th>CODE_TIME</th>\n",
       "      <th>TIME</th>\n",
       "      <th>YEAR</th>\n",
       "      <th>MONTH</th>\n",
       "      <th>MONTH_NAME</th>\n",
       "      <th>PRODUCT</th>\n",
       "      <th>VALUE</th>\n",
       "      <th>DISPLAY_ORDER</th>\n",
       "      <th>yearToDate</th>\n",
       "      <th>previousYearToDate</th>\n",
       "      <th>share</th>\n",
       "    </tr>\n",
       "  </thead>\n",
       "  <tbody>\n",
       "    <tr>\n",
       "      <th>0</th>\n",
       "      <td>Australia</td>\n",
       "      <td>JAN2010</td>\n",
       "      <td>January 2010</td>\n",
       "      <td>2010</td>\n",
       "      <td>1</td>\n",
       "      <td>January</td>\n",
       "      <td>Hydro</td>\n",
       "      <td>990.728</td>\n",
       "      <td>1</td>\n",
       "      <td>16471.891</td>\n",
       "      <td>NaN</td>\n",
       "      <td>0.047771</td>\n",
       "    </tr>\n",
       "    <tr>\n",
       "      <th>1</th>\n",
       "      <td>Australia</td>\n",
       "      <td>JAN2010</td>\n",
       "      <td>January 2010</td>\n",
       "      <td>2010</td>\n",
       "      <td>1</td>\n",
       "      <td>January</td>\n",
       "      <td>Wind</td>\n",
       "      <td>409.469</td>\n",
       "      <td>2</td>\n",
       "      <td>4940.909</td>\n",
       "      <td>NaN</td>\n",
       "      <td>0.019744</td>\n",
       "    </tr>\n",
       "    <tr>\n",
       "      <th>2</th>\n",
       "      <td>Australia</td>\n",
       "      <td>JAN2010</td>\n",
       "      <td>January 2010</td>\n",
       "      <td>2010</td>\n",
       "      <td>1</td>\n",
       "      <td>January</td>\n",
       "      <td>Solar</td>\n",
       "      <td>49.216</td>\n",
       "      <td>3</td>\n",
       "      <td>908.238</td>\n",
       "      <td>NaN</td>\n",
       "      <td>0.002373</td>\n",
       "    </tr>\n",
       "    <tr>\n",
       "      <th>3</th>\n",
       "      <td>Australia</td>\n",
       "      <td>JAN2010</td>\n",
       "      <td>January 2010</td>\n",
       "      <td>2010</td>\n",
       "      <td>1</td>\n",
       "      <td>January</td>\n",
       "      <td>Geothermal</td>\n",
       "      <td>0.083</td>\n",
       "      <td>4</td>\n",
       "      <td>0.996</td>\n",
       "      <td>NaN</td>\n",
       "      <td>0.000004</td>\n",
       "    </tr>\n",
       "    <tr>\n",
       "      <th>4</th>\n",
       "      <td>Australia</td>\n",
       "      <td>JAN2010</td>\n",
       "      <td>January 2010</td>\n",
       "      <td>2010</td>\n",
       "      <td>1</td>\n",
       "      <td>January</td>\n",
       "      <td>Total combustible fuels</td>\n",
       "      <td>19289.730</td>\n",
       "      <td>7</td>\n",
       "      <td>214302.969</td>\n",
       "      <td>NaN</td>\n",
       "      <td>0.930108</td>\n",
       "    </tr>\n",
       "  </tbody>\n",
       "</table>\n",
       "</div>"
      ],
      "text/plain": [
       "     COUNTRY CODE_TIME          TIME  YEAR  MONTH MONTH_NAME  \\\n",
       "0  Australia   JAN2010  January 2010  2010      1    January   \n",
       "1  Australia   JAN2010  January 2010  2010      1    January   \n",
       "2  Australia   JAN2010  January 2010  2010      1    January   \n",
       "3  Australia   JAN2010  January 2010  2010      1    January   \n",
       "4  Australia   JAN2010  January 2010  2010      1    January   \n",
       "\n",
       "                   PRODUCT      VALUE  DISPLAY_ORDER  yearToDate  \\\n",
       "0                    Hydro    990.728              1   16471.891   \n",
       "1                     Wind    409.469              2    4940.909   \n",
       "2                    Solar     49.216              3     908.238   \n",
       "3               Geothermal      0.083              4       0.996   \n",
       "4  Total combustible fuels  19289.730              7  214302.969   \n",
       "\n",
       "   previousYearToDate     share  \n",
       "0                 NaN  0.047771  \n",
       "1                 NaN  0.019744  \n",
       "2                 NaN  0.002373  \n",
       "3                 NaN  0.000004  \n",
       "4                 NaN  0.930108  "
      ]
     },
     "execution_count": 6,
     "metadata": {},
     "output_type": "execute_result"
    }
   ],
   "source": [
    "data.head()"
   ]
  },
  {
   "cell_type": "code",
   "execution_count": 7,
   "id": "ab30124d",
   "metadata": {},
   "outputs": [
    {
     "data": {
      "text/plain": [
       "['Fossil fuels',\n",
       " 'Low carbon',\n",
       " 'Total combustible fuels',\n",
       " 'Non-renewables',\n",
       " 'Net electricity production',\n",
       " 'Electricity supplied',\n",
       " 'Renewables',\n",
       " 'Others',\n",
       " 'Other renewables aggregated',\n",
       " 'Oil',\n",
       " 'Hydro',\n",
       " 'Distribution losses',\n",
       " 'Final consumption',\n",
       " 'Combustible renewables',\n",
       " 'Wind',\n",
       " 'Natural gas',\n",
       " 'Solar',\n",
       " 'Coal',\n",
       " 'Electricity trade',\n",
       " 'Total imports',\n",
       " 'Total exports',\n",
       " 'Other combustible non-renewables',\n",
       " 'Used for pumped storage',\n",
       " 'Not specified',\n",
       " 'Nuclear',\n",
       " 'Geothermal',\n",
       " 'Other renewables']"
      ]
     },
     "execution_count": 7,
     "metadata": {},
     "output_type": "execute_result"
    }
   ],
   "source": [
    "data[\"PRODUCT\"].value_counts().keys().tolist()"
   ]
  },
  {
   "cell_type": "code",
   "execution_count": 8,
   "id": "9a62dc7b",
   "metadata": {},
   "outputs": [
    {
     "data": {
      "text/html": [
       "<div>\n",
       "<style scoped>\n",
       "    .dataframe tbody tr th:only-of-type {\n",
       "        vertical-align: middle;\n",
       "    }\n",
       "\n",
       "    .dataframe tbody tr th {\n",
       "        vertical-align: top;\n",
       "    }\n",
       "\n",
       "    .dataframe thead th {\n",
       "        text-align: right;\n",
       "    }\n",
       "</style>\n",
       "<table border=\"1\" class=\"dataframe\">\n",
       "  <thead>\n",
       "    <tr style=\"text-align: right;\">\n",
       "      <th></th>\n",
       "      <th>COUNTRY</th>\n",
       "      <th>CODE_TIME</th>\n",
       "      <th>TIME</th>\n",
       "      <th>YEAR</th>\n",
       "      <th>MONTH</th>\n",
       "      <th>MONTH_NAME</th>\n",
       "      <th>PRODUCT</th>\n",
       "      <th>VALUE</th>\n",
       "      <th>DISPLAY_ORDER</th>\n",
       "      <th>yearToDate</th>\n",
       "      <th>previousYearToDate</th>\n",
       "      <th>share</th>\n",
       "    </tr>\n",
       "  </thead>\n",
       "  <tbody>\n",
       "    <tr>\n",
       "      <th>162887</th>\n",
       "      <td>France</td>\n",
       "      <td>SEP2021</td>\n",
       "      <td>September 2021</td>\n",
       "      <td>2021</td>\n",
       "      <td>9</td>\n",
       "      <td>September</td>\n",
       "      <td>Net electricity production</td>\n",
       "      <td>39632.539520</td>\n",
       "      <td>14</td>\n",
       "      <td>535399.783544</td>\n",
       "      <td>369892.330933</td>\n",
       "      <td>1.000000</td>\n",
       "    </tr>\n",
       "    <tr>\n",
       "      <th>162899</th>\n",
       "      <td>France</td>\n",
       "      <td>SEP2021</td>\n",
       "      <td>September 2021</td>\n",
       "      <td>2021</td>\n",
       "      <td>9</td>\n",
       "      <td>September</td>\n",
       "      <td>Low carbon</td>\n",
       "      <td>36454.117198</td>\n",
       "      <td>26</td>\n",
       "      <td>487351.735951</td>\n",
       "      <td>338109.169167</td>\n",
       "      <td>0.919803</td>\n",
       "    </tr>\n",
       "    <tr>\n",
       "      <th>162890</th>\n",
       "      <td>France</td>\n",
       "      <td>SEP2021</td>\n",
       "      <td>September 2021</td>\n",
       "      <td>2021</td>\n",
       "      <td>9</td>\n",
       "      <td>September</td>\n",
       "      <td>Electricity supplied</td>\n",
       "      <td>33816.707040</td>\n",
       "      <td>17</td>\n",
       "      <td>490562.873115</td>\n",
       "      <td>334827.585997</td>\n",
       "      <td>0.853256</td>\n",
       "    </tr>\n",
       "    <tr>\n",
       "      <th>162896</th>\n",
       "      <td>France</td>\n",
       "      <td>SEP2021</td>\n",
       "      <td>September 2021</td>\n",
       "      <td>2021</td>\n",
       "      <td>9</td>\n",
       "      <td>September</td>\n",
       "      <td>Non-renewables</td>\n",
       "      <td>32223.852893</td>\n",
       "      <td>23</td>\n",
       "      <td>409281.154309</td>\n",
       "      <td>273324.783588</td>\n",
       "      <td>0.813066</td>\n",
       "    </tr>\n",
       "    <tr>\n",
       "      <th>162893</th>\n",
       "      <td>France</td>\n",
       "      <td>SEP2021</td>\n",
       "      <td>September 2021</td>\n",
       "      <td>2021</td>\n",
       "      <td>9</td>\n",
       "      <td>September</td>\n",
       "      <td>Final consumption</td>\n",
       "      <td>31196.077434</td>\n",
       "      <td>20</td>\n",
       "      <td>446562.574938</td>\n",
       "      <td>305243.680921</td>\n",
       "      <td>0.787133</td>\n",
       "    </tr>\n",
       "    <tr>\n",
       "      <th>162879</th>\n",
       "      <td>France</td>\n",
       "      <td>SEP2021</td>\n",
       "      <td>September 2021</td>\n",
       "      <td>2021</td>\n",
       "      <td>9</td>\n",
       "      <td>September</td>\n",
       "      <td>Nuclear</td>\n",
       "      <td>29001.309906</td>\n",
       "      <td>6</td>\n",
       "      <td>360703.658711</td>\n",
       "      <td>241144.535812</td>\n",
       "      <td>0.731755</td>\n",
       "    </tr>\n",
       "    <tr>\n",
       "      <th>162895</th>\n",
       "      <td>France</td>\n",
       "      <td>SEP2021</td>\n",
       "      <td>September 2021</td>\n",
       "      <td>2021</td>\n",
       "      <td>9</td>\n",
       "      <td>September</td>\n",
       "      <td>Renewables</td>\n",
       "      <td>7408.686625</td>\n",
       "      <td>22</td>\n",
       "      <td>126118.629236</td>\n",
       "      <td>96567.547352</td>\n",
       "      <td>0.186934</td>\n",
       "    </tr>\n",
       "    <tr>\n",
       "      <th>162889</th>\n",
       "      <td>France</td>\n",
       "      <td>SEP2021</td>\n",
       "      <td>September 2021</td>\n",
       "      <td>2021</td>\n",
       "      <td>9</td>\n",
       "      <td>September</td>\n",
       "      <td>Total exports</td>\n",
       "      <td>6480.785060</td>\n",
       "      <td>16</td>\n",
       "      <td>69369.016301</td>\n",
       "      <td>48587.211416</td>\n",
       "      <td>0.163522</td>\n",
       "    </tr>\n",
       "    <tr>\n",
       "      <th>162894</th>\n",
       "      <td>France</td>\n",
       "      <td>SEP2021</td>\n",
       "      <td>September 2021</td>\n",
       "      <td>2021</td>\n",
       "      <td>9</td>\n",
       "      <td>September</td>\n",
       "      <td>Electricity trade</td>\n",
       "      <td>5815.832480</td>\n",
       "      <td>21</td>\n",
       "      <td>44836.910429</td>\n",
       "      <td>35064.744936</td>\n",
       "      <td>0.146744</td>\n",
       "    </tr>\n",
       "    <tr>\n",
       "      <th>162880</th>\n",
       "      <td>France</td>\n",
       "      <td>SEP2021</td>\n",
       "      <td>September 2021</td>\n",
       "      <td>2021</td>\n",
       "      <td>9</td>\n",
       "      <td>September</td>\n",
       "      <td>Total combustible fuels</td>\n",
       "      <td>3964.122600</td>\n",
       "      <td>7</td>\n",
       "      <td>58775.660782</td>\n",
       "      <td>38244.373955</td>\n",
       "      <td>0.100022</td>\n",
       "    </tr>\n",
       "    <tr>\n",
       "      <th>162874</th>\n",
       "      <td>France</td>\n",
       "      <td>SEP2021</td>\n",
       "      <td>September 2021</td>\n",
       "      <td>2021</td>\n",
       "      <td>9</td>\n",
       "      <td>September</td>\n",
       "      <td>Hydro</td>\n",
       "      <td>3452.197264</td>\n",
       "      <td>1</td>\n",
       "      <td>63110.429485</td>\n",
       "      <td>50222.455496</td>\n",
       "      <td>0.087105</td>\n",
       "    </tr>\n",
       "    <tr>\n",
       "      <th>162900</th>\n",
       "      <td>France</td>\n",
       "      <td>SEP2021</td>\n",
       "      <td>September 2021</td>\n",
       "      <td>2021</td>\n",
       "      <td>9</td>\n",
       "      <td>September</td>\n",
       "      <td>Fossil fuels</td>\n",
       "      <td>3222.542987</td>\n",
       "      <td>27</td>\n",
       "      <td>48577.495598</td>\n",
       "      <td>32180.247776</td>\n",
       "      <td>0.081311</td>\n",
       "    </tr>\n",
       "    <tr>\n",
       "      <th>162892</th>\n",
       "      <td>France</td>\n",
       "      <td>SEP2021</td>\n",
       "      <td>September 2021</td>\n",
       "      <td>2021</td>\n",
       "      <td>9</td>\n",
       "      <td>September</td>\n",
       "      <td>Distribution losses</td>\n",
       "      <td>2238.540606</td>\n",
       "      <td>19</td>\n",
       "      <td>38133.883177</td>\n",
       "      <td>25163.478076</td>\n",
       "      <td>0.056482</td>\n",
       "    </tr>\n",
       "    <tr>\n",
       "      <th>162875</th>\n",
       "      <td>France</td>\n",
       "      <td>SEP2021</td>\n",
       "      <td>September 2021</td>\n",
       "      <td>2021</td>\n",
       "      <td>9</td>\n",
       "      <td>September</td>\n",
       "      <td>Wind</td>\n",
       "      <td>1662.519357</td>\n",
       "      <td>2</td>\n",
       "      <td>36907.955069</td>\n",
       "      <td>27915.454881</td>\n",
       "      <td>0.041948</td>\n",
       "    </tr>\n",
       "    <tr>\n",
       "      <th>162883</th>\n",
       "      <td>France</td>\n",
       "      <td>SEP2021</td>\n",
       "      <td>September 2021</td>\n",
       "      <td>2021</td>\n",
       "      <td>9</td>\n",
       "      <td>September</td>\n",
       "      <td>Natural gas</td>\n",
       "      <td>1482.977231</td>\n",
       "      <td>10</td>\n",
       "      <td>30441.737646</td>\n",
       "      <td>23142.467045</td>\n",
       "      <td>0.037418</td>\n",
       "    </tr>\n",
       "    <tr>\n",
       "      <th>162876</th>\n",
       "      <td>France</td>\n",
       "      <td>SEP2021</td>\n",
       "      <td>September 2021</td>\n",
       "      <td>2021</td>\n",
       "      <td>9</td>\n",
       "      <td>September</td>\n",
       "      <td>Solar</td>\n",
       "      <td>1458.591853</td>\n",
       "      <td>3</td>\n",
       "      <td>14776.497026</td>\n",
       "      <td>11521.528287</td>\n",
       "      <td>0.036803</td>\n",
       "    </tr>\n",
       "    <tr>\n",
       "      <th>162881</th>\n",
       "      <td>France</td>\n",
       "      <td>SEP2021</td>\n",
       "      <td>September 2021</td>\n",
       "      <td>2021</td>\n",
       "      <td>9</td>\n",
       "      <td>September</td>\n",
       "      <td>Coal</td>\n",
       "      <td>1087.574319</td>\n",
       "      <td>8</td>\n",
       "      <td>9858.717118</td>\n",
       "      <td>3033.993969</td>\n",
       "      <td>0.027441</td>\n",
       "    </tr>\n",
       "    <tr>\n",
       "      <th>162898</th>\n",
       "      <td>France</td>\n",
       "      <td>SEP2021</td>\n",
       "      <td>September 2021</td>\n",
       "      <td>2021</td>\n",
       "      <td>9</td>\n",
       "      <td>September</td>\n",
       "      <td>Other renewables aggregated</td>\n",
       "      <td>835.378151</td>\n",
       "      <td>25</td>\n",
       "      <td>11323.747656</td>\n",
       "      <td>6908.108688</td>\n",
       "      <td>0.021078</td>\n",
       "    </tr>\n",
       "    <tr>\n",
       "      <th>162884</th>\n",
       "      <td>France</td>\n",
       "      <td>SEP2021</td>\n",
       "      <td>September 2021</td>\n",
       "      <td>2021</td>\n",
       "      <td>9</td>\n",
       "      <td>September</td>\n",
       "      <td>Combustible renewables</td>\n",
       "      <td>785.700279</td>\n",
       "      <td>11</td>\n",
       "      <td>10727.613192</td>\n",
       "      <td>6461.212185</td>\n",
       "      <td>0.019825</td>\n",
       "    </tr>\n",
       "    <tr>\n",
       "      <th>162888</th>\n",
       "      <td>France</td>\n",
       "      <td>SEP2021</td>\n",
       "      <td>September 2021</td>\n",
       "      <td>2021</td>\n",
       "      <td>9</td>\n",
       "      <td>September</td>\n",
       "      <td>Total imports</td>\n",
       "      <td>664.952580</td>\n",
       "      <td>15</td>\n",
       "      <td>24532.105872</td>\n",
       "      <td>13522.466480</td>\n",
       "      <td>0.016778</td>\n",
       "    </tr>\n",
       "    <tr>\n",
       "      <th>162897</th>\n",
       "      <td>France</td>\n",
       "      <td>SEP2021</td>\n",
       "      <td>September 2021</td>\n",
       "      <td>2021</td>\n",
       "      <td>9</td>\n",
       "      <td>September</td>\n",
       "      <td>Others</td>\n",
       "      <td>651.991437</td>\n",
       "      <td>24</td>\n",
       "      <td>8277.040834</td>\n",
       "      <td>6003.786762</td>\n",
       "      <td>0.016451</td>\n",
       "    </tr>\n",
       "    <tr>\n",
       "      <th>162882</th>\n",
       "      <td>France</td>\n",
       "      <td>SEP2021</td>\n",
       "      <td>September 2021</td>\n",
       "      <td>2021</td>\n",
       "      <td>9</td>\n",
       "      <td>September</td>\n",
       "      <td>Oil</td>\n",
       "      <td>425.760160</td>\n",
       "      <td>9</td>\n",
       "      <td>5562.265510</td>\n",
       "      <td>3967.705269</td>\n",
       "      <td>0.010743</td>\n",
       "    </tr>\n",
       "    <tr>\n",
       "      <th>162891</th>\n",
       "      <td>France</td>\n",
       "      <td>SEP2021</td>\n",
       "      <td>September 2021</td>\n",
       "      <td>2021</td>\n",
       "      <td>9</td>\n",
       "      <td>September</td>\n",
       "      <td>Used for pumped storage</td>\n",
       "      <td>382.089000</td>\n",
       "      <td>18</td>\n",
       "      <td>5866.415000</td>\n",
       "      <td>4420.427000</td>\n",
       "      <td>0.009641</td>\n",
       "    </tr>\n",
       "    <tr>\n",
       "      <th>162885</th>\n",
       "      <td>France</td>\n",
       "      <td>SEP2021</td>\n",
       "      <td>September 2021</td>\n",
       "      <td>2021</td>\n",
       "      <td>9</td>\n",
       "      <td>September</td>\n",
       "      <td>Other combustible non-renewables</td>\n",
       "      <td>182.110610</td>\n",
       "      <td>12</td>\n",
       "      <td>2185.327320</td>\n",
       "      <td>1638.995490</td>\n",
       "      <td>0.004595</td>\n",
       "    </tr>\n",
       "    <tr>\n",
       "      <th>162886</th>\n",
       "      <td>France</td>\n",
       "      <td>SEP2021</td>\n",
       "      <td>September 2021</td>\n",
       "      <td>2021</td>\n",
       "      <td>9</td>\n",
       "      <td>September</td>\n",
       "      <td>Not specified</td>\n",
       "      <td>44.120667</td>\n",
       "      <td>13</td>\n",
       "      <td>529.448004</td>\n",
       "      <td>397.086003</td>\n",
       "      <td>0.001113</td>\n",
       "    </tr>\n",
       "    <tr>\n",
       "      <th>162878</th>\n",
       "      <td>France</td>\n",
       "      <td>SEP2021</td>\n",
       "      <td>September 2021</td>\n",
       "      <td>2021</td>\n",
       "      <td>9</td>\n",
       "      <td>September</td>\n",
       "      <td>Other renewables</td>\n",
       "      <td>39.655250</td>\n",
       "      <td>5</td>\n",
       "      <td>475.863000</td>\n",
       "      <td>356.897250</td>\n",
       "      <td>0.001001</td>\n",
       "    </tr>\n",
       "    <tr>\n",
       "      <th>162877</th>\n",
       "      <td>France</td>\n",
       "      <td>SEP2021</td>\n",
       "      <td>September 2021</td>\n",
       "      <td>2021</td>\n",
       "      <td>9</td>\n",
       "      <td>September</td>\n",
       "      <td>Geothermal</td>\n",
       "      <td>10.022622</td>\n",
       "      <td>4</td>\n",
       "      <td>120.271464</td>\n",
       "      <td>89.999253</td>\n",
       "      <td>0.000253</td>\n",
       "    </tr>\n",
       "  </tbody>\n",
       "</table>\n",
       "</div>"
      ],
      "text/plain": [
       "       COUNTRY CODE_TIME            TIME  YEAR  MONTH MONTH_NAME  \\\n",
       "162887  France   SEP2021  September 2021  2021      9  September   \n",
       "162899  France   SEP2021  September 2021  2021      9  September   \n",
       "162890  France   SEP2021  September 2021  2021      9  September   \n",
       "162896  France   SEP2021  September 2021  2021      9  September   \n",
       "162893  France   SEP2021  September 2021  2021      9  September   \n",
       "162879  France   SEP2021  September 2021  2021      9  September   \n",
       "162895  France   SEP2021  September 2021  2021      9  September   \n",
       "162889  France   SEP2021  September 2021  2021      9  September   \n",
       "162894  France   SEP2021  September 2021  2021      9  September   \n",
       "162880  France   SEP2021  September 2021  2021      9  September   \n",
       "162874  France   SEP2021  September 2021  2021      9  September   \n",
       "162900  France   SEP2021  September 2021  2021      9  September   \n",
       "162892  France   SEP2021  September 2021  2021      9  September   \n",
       "162875  France   SEP2021  September 2021  2021      9  September   \n",
       "162883  France   SEP2021  September 2021  2021      9  September   \n",
       "162876  France   SEP2021  September 2021  2021      9  September   \n",
       "162881  France   SEP2021  September 2021  2021      9  September   \n",
       "162898  France   SEP2021  September 2021  2021      9  September   \n",
       "162884  France   SEP2021  September 2021  2021      9  September   \n",
       "162888  France   SEP2021  September 2021  2021      9  September   \n",
       "162897  France   SEP2021  September 2021  2021      9  September   \n",
       "162882  France   SEP2021  September 2021  2021      9  September   \n",
       "162891  France   SEP2021  September 2021  2021      9  September   \n",
       "162885  France   SEP2021  September 2021  2021      9  September   \n",
       "162886  France   SEP2021  September 2021  2021      9  September   \n",
       "162878  France   SEP2021  September 2021  2021      9  September   \n",
       "162877  France   SEP2021  September 2021  2021      9  September   \n",
       "\n",
       "                                 PRODUCT         VALUE  DISPLAY_ORDER  \\\n",
       "162887        Net electricity production  39632.539520             14   \n",
       "162899                        Low carbon  36454.117198             26   \n",
       "162890              Electricity supplied  33816.707040             17   \n",
       "162896                    Non-renewables  32223.852893             23   \n",
       "162893                 Final consumption  31196.077434             20   \n",
       "162879                           Nuclear  29001.309906              6   \n",
       "162895                        Renewables   7408.686625             22   \n",
       "162889                     Total exports   6480.785060             16   \n",
       "162894                 Electricity trade   5815.832480             21   \n",
       "162880           Total combustible fuels   3964.122600              7   \n",
       "162874                             Hydro   3452.197264              1   \n",
       "162900                      Fossil fuels   3222.542987             27   \n",
       "162892               Distribution losses   2238.540606             19   \n",
       "162875                              Wind   1662.519357              2   \n",
       "162883                       Natural gas   1482.977231             10   \n",
       "162876                             Solar   1458.591853              3   \n",
       "162881                              Coal   1087.574319              8   \n",
       "162898       Other renewables aggregated    835.378151             25   \n",
       "162884            Combustible renewables    785.700279             11   \n",
       "162888                     Total imports    664.952580             15   \n",
       "162897                            Others    651.991437             24   \n",
       "162882                               Oil    425.760160              9   \n",
       "162891           Used for pumped storage    382.089000             18   \n",
       "162885  Other combustible non-renewables    182.110610             12   \n",
       "162886                     Not specified     44.120667             13   \n",
       "162878                  Other renewables     39.655250              5   \n",
       "162877                        Geothermal     10.022622              4   \n",
       "\n",
       "           yearToDate  previousYearToDate     share  \n",
       "162887  535399.783544       369892.330933  1.000000  \n",
       "162899  487351.735951       338109.169167  0.919803  \n",
       "162890  490562.873115       334827.585997  0.853256  \n",
       "162896  409281.154309       273324.783588  0.813066  \n",
       "162893  446562.574938       305243.680921  0.787133  \n",
       "162879  360703.658711       241144.535812  0.731755  \n",
       "162895  126118.629236        96567.547352  0.186934  \n",
       "162889   69369.016301        48587.211416  0.163522  \n",
       "162894   44836.910429        35064.744936  0.146744  \n",
       "162880   58775.660782        38244.373955  0.100022  \n",
       "162874   63110.429485        50222.455496  0.087105  \n",
       "162900   48577.495598        32180.247776  0.081311  \n",
       "162892   38133.883177        25163.478076  0.056482  \n",
       "162875   36907.955069        27915.454881  0.041948  \n",
       "162883   30441.737646        23142.467045  0.037418  \n",
       "162876   14776.497026        11521.528287  0.036803  \n",
       "162881    9858.717118         3033.993969  0.027441  \n",
       "162898   11323.747656         6908.108688  0.021078  \n",
       "162884   10727.613192         6461.212185  0.019825  \n",
       "162888   24532.105872        13522.466480  0.016778  \n",
       "162897    8277.040834         6003.786762  0.016451  \n",
       "162882    5562.265510         3967.705269  0.010743  \n",
       "162891    5866.415000         4420.427000  0.009641  \n",
       "162885    2185.327320         1638.995490  0.004595  \n",
       "162886     529.448004          397.086003  0.001113  \n",
       "162878     475.863000          356.897250  0.001001  \n",
       "162877     120.271464           89.999253  0.000253  "
      ]
     },
     "execution_count": 8,
     "metadata": {},
     "output_type": "execute_result"
    }
   ],
   "source": [
    "data[(data[\"COUNTRY\"] == \"France\")  & (data[\"CODE_TIME\"] == \"SEP2021\")].sort_values(by=\"VALUE\", ascending = False)"
   ]
  },
  {
   "cell_type": "code",
   "execution_count": 26,
   "id": "bf33361f",
   "metadata": {},
   "outputs": [
    {
     "data": {
      "text/html": [
       "<div>\n",
       "<style scoped>\n",
       "    .dataframe tbody tr th:only-of-type {\n",
       "        vertical-align: middle;\n",
       "    }\n",
       "\n",
       "    .dataframe tbody tr th {\n",
       "        vertical-align: top;\n",
       "    }\n",
       "\n",
       "    .dataframe thead th {\n",
       "        text-align: right;\n",
       "    }\n",
       "</style>\n",
       "<table border=\"1\" class=\"dataframe\">\n",
       "  <thead>\n",
       "    <tr style=\"text-align: right;\">\n",
       "      <th>PRODUCT</th>\n",
       "      <th>COUNTRY</th>\n",
       "      <th>TIME</th>\n",
       "      <th>Coal</th>\n",
       "      <th>Geothermal</th>\n",
       "      <th>Hydro</th>\n",
       "      <th>Natural gas</th>\n",
       "      <th>Net electricity production</th>\n",
       "      <th>Nuclear</th>\n",
       "      <th>Oil</th>\n",
       "      <th>Renewables</th>\n",
       "      <th>Solar</th>\n",
       "      <th>Total combustible fuels</th>\n",
       "      <th>Wind</th>\n",
       "      <th>Other_renewable</th>\n",
       "    </tr>\n",
       "  </thead>\n",
       "  <tbody>\n",
       "    <tr>\n",
       "      <th>32</th>\n",
       "      <td>Argentina</td>\n",
       "      <td>2015-01-01</td>\n",
       "      <td>195.203000</td>\n",
       "      <td>0.000000</td>\n",
       "      <td>2519.945000</td>\n",
       "      <td>6767.060000</td>\n",
       "      <td>12007.063000</td>\n",
       "      <td>559.079000</td>\n",
       "      <td>1856.738000</td>\n",
       "      <td>2628.984000</td>\n",
       "      <td>1.511000</td>\n",
       "      <td>8875.235000</td>\n",
       "      <td>51.294000</td>\n",
       "      <td>56.234000</td>\n",
       "    </tr>\n",
       "    <tr>\n",
       "      <th>24</th>\n",
       "      <td>Argentina</td>\n",
       "      <td>2015-02-01</td>\n",
       "      <td>203.211000</td>\n",
       "      <td>0.000000</td>\n",
       "      <td>2032.279000</td>\n",
       "      <td>6673.424000</td>\n",
       "      <td>11283.226000</td>\n",
       "      <td>610.064000</td>\n",
       "      <td>1670.965000</td>\n",
       "      <td>2125.563000</td>\n",
       "      <td>1.262000</td>\n",
       "      <td>8597.118000</td>\n",
       "      <td>42.504000</td>\n",
       "      <td>49.518000</td>\n",
       "    </tr>\n",
       "    <tr>\n",
       "      <th>56</th>\n",
       "      <td>Argentina</td>\n",
       "      <td>2015-03-01</td>\n",
       "      <td>247.979000</td>\n",
       "      <td>0.000000</td>\n",
       "      <td>2142.899000</td>\n",
       "      <td>7363.379000</td>\n",
       "      <td>12417.895000</td>\n",
       "      <td>631.876000</td>\n",
       "      <td>1903.254000</td>\n",
       "      <td>2271.408000</td>\n",
       "      <td>1.313000</td>\n",
       "      <td>9600.665000</td>\n",
       "      <td>41.142000</td>\n",
       "      <td>86.054000</td>\n",
       "    </tr>\n",
       "    <tr>\n",
       "      <th>0</th>\n",
       "      <td>Argentina</td>\n",
       "      <td>2015-04-01</td>\n",
       "      <td>254.968000</td>\n",
       "      <td>0.000000</td>\n",
       "      <td>1890.171000</td>\n",
       "      <td>6962.605000</td>\n",
       "      <td>10996.635000</td>\n",
       "      <td>356.188000</td>\n",
       "      <td>1383.536000</td>\n",
       "      <td>2039.338000</td>\n",
       "      <td>1.192000</td>\n",
       "      <td>8704.831000</td>\n",
       "      <td>44.253000</td>\n",
       "      <td>103.722000</td>\n",
       "    </tr>\n",
       "    <tr>\n",
       "      <th>64</th>\n",
       "      <td>Argentina</td>\n",
       "      <td>2015-05-01</td>\n",
       "      <td>280.550000</td>\n",
       "      <td>0.000000</td>\n",
       "      <td>1827.250000</td>\n",
       "      <td>7112.067000</td>\n",
       "      <td>11578.940000</td>\n",
       "      <td>339.552000</td>\n",
       "      <td>1902.151000</td>\n",
       "      <td>1944.620000</td>\n",
       "      <td>1.123000</td>\n",
       "      <td>9363.043000</td>\n",
       "      <td>47.972000</td>\n",
       "      <td>68.275000</td>\n",
       "    </tr>\n",
       "    <tr>\n",
       "      <th>...</th>\n",
       "      <td>...</td>\n",
       "      <td>...</td>\n",
       "      <td>...</td>\n",
       "      <td>...</td>\n",
       "      <td>...</td>\n",
       "      <td>...</td>\n",
       "      <td>...</td>\n",
       "      <td>...</td>\n",
       "      <td>...</td>\n",
       "      <td>...</td>\n",
       "      <td>...</td>\n",
       "      <td>...</td>\n",
       "      <td>...</td>\n",
       "      <td>...</td>\n",
       "    </tr>\n",
       "    <tr>\n",
       "      <th>7201</th>\n",
       "      <td>United States</td>\n",
       "      <td>2022-08-01</td>\n",
       "      <td>88712.579496</td>\n",
       "      <td>1375.872584</td>\n",
       "      <td>24982.775617</td>\n",
       "      <td>185925.666023</td>\n",
       "      <td>421900.971532</td>\n",
       "      <td>68863.195017</td>\n",
       "      <td>3181.260211</td>\n",
       "      <td>74284.700383</td>\n",
       "      <td>18590.661226</td>\n",
       "      <td>283439.854680</td>\n",
       "      <td>24420.616841</td>\n",
       "      <td>4914.774115</td>\n",
       "    </tr>\n",
       "    <tr>\n",
       "      <th>7331</th>\n",
       "      <td>United States</td>\n",
       "      <td>2022-09-01</td>\n",
       "      <td>67935.386732</td>\n",
       "      <td>1380.620256</td>\n",
       "      <td>18246.431192</td>\n",
       "      <td>153903.515685</td>\n",
       "      <td>357841.886999</td>\n",
       "      <td>63701.991434</td>\n",
       "      <td>2990.693742</td>\n",
       "      <td>68452.539106</td>\n",
       "      <td>17437.422895</td>\n",
       "      <td>229820.211604</td>\n",
       "      <td>27065.969770</td>\n",
       "      <td>4322.094993</td>\n",
       "    </tr>\n",
       "    <tr>\n",
       "      <th>7318</th>\n",
       "      <td>United States</td>\n",
       "      <td>2022-10-01</td>\n",
       "      <td>56939.650116</td>\n",
       "      <td>1314.322467</td>\n",
       "      <td>15414.364050</td>\n",
       "      <td>130838.270175</td>\n",
       "      <td>320248.929383</td>\n",
       "      <td>58916.531851</td>\n",
       "      <td>3102.625423</td>\n",
       "      <td>69598.179805</td>\n",
       "      <td>15851.396970</td>\n",
       "      <td>195698.481675</td>\n",
       "      <td>32876.999913</td>\n",
       "      <td>4141.096405</td>\n",
       "    </tr>\n",
       "    <tr>\n",
       "      <th>7305</th>\n",
       "      <td>United States</td>\n",
       "      <td>2022-11-01</td>\n",
       "      <td>59045.340383</td>\n",
       "      <td>1436.169501</td>\n",
       "      <td>19468.463044</td>\n",
       "      <td>125024.250596</td>\n",
       "      <td>328345.960190</td>\n",
       "      <td>62010.920544</td>\n",
       "      <td>2980.652613</td>\n",
       "      <td>78413.975465</td>\n",
       "      <td>11021.744199</td>\n",
       "      <td>192177.829229</td>\n",
       "      <td>42035.865355</td>\n",
       "      <td>4451.733366</td>\n",
       "    </tr>\n",
       "    <tr>\n",
       "      <th>7214</th>\n",
       "      <td>United States</td>\n",
       "      <td>2022-12-01</td>\n",
       "      <td>76638.109671</td>\n",
       "      <td>1528.806695</td>\n",
       "      <td>22536.684780</td>\n",
       "      <td>138701.269022</td>\n",
       "      <td>369604.059764</td>\n",
       "      <td>69060.328482</td>\n",
       "      <td>7130.296428</td>\n",
       "      <td>77186.511631</td>\n",
       "      <td>9172.684879</td>\n",
       "      <td>227783.044478</td>\n",
       "      <td>39343.876029</td>\n",
       "      <td>4604.459248</td>\n",
       "    </tr>\n",
       "  </tbody>\n",
       "</table>\n",
       "<p>7332 rows × 14 columns</p>\n",
       "</div>"
      ],
      "text/plain": [
       "PRODUCT        COUNTRY       TIME          Coal   Geothermal         Hydro  \\\n",
       "32           Argentina 2015-01-01    195.203000     0.000000   2519.945000   \n",
       "24           Argentina 2015-02-01    203.211000     0.000000   2032.279000   \n",
       "56           Argentina 2015-03-01    247.979000     0.000000   2142.899000   \n",
       "0            Argentina 2015-04-01    254.968000     0.000000   1890.171000   \n",
       "64           Argentina 2015-05-01    280.550000     0.000000   1827.250000   \n",
       "...                ...        ...           ...          ...           ...   \n",
       "7201     United States 2022-08-01  88712.579496  1375.872584  24982.775617   \n",
       "7331     United States 2022-09-01  67935.386732  1380.620256  18246.431192   \n",
       "7318     United States 2022-10-01  56939.650116  1314.322467  15414.364050   \n",
       "7305     United States 2022-11-01  59045.340383  1436.169501  19468.463044   \n",
       "7214     United States 2022-12-01  76638.109671  1528.806695  22536.684780   \n",
       "\n",
       "PRODUCT    Natural gas  Net electricity production       Nuclear          Oil  \\\n",
       "32         6767.060000                12007.063000    559.079000  1856.738000   \n",
       "24         6673.424000                11283.226000    610.064000  1670.965000   \n",
       "56         7363.379000                12417.895000    631.876000  1903.254000   \n",
       "0          6962.605000                10996.635000    356.188000  1383.536000   \n",
       "64         7112.067000                11578.940000    339.552000  1902.151000   \n",
       "...                ...                         ...           ...          ...   \n",
       "7201     185925.666023               421900.971532  68863.195017  3181.260211   \n",
       "7331     153903.515685               357841.886999  63701.991434  2990.693742   \n",
       "7318     130838.270175               320248.929383  58916.531851  3102.625423   \n",
       "7305     125024.250596               328345.960190  62010.920544  2980.652613   \n",
       "7214     138701.269022               369604.059764  69060.328482  7130.296428   \n",
       "\n",
       "PRODUCT    Renewables         Solar  Total combustible fuels          Wind  \\\n",
       "32        2628.984000      1.511000              8875.235000     51.294000   \n",
       "24        2125.563000      1.262000              8597.118000     42.504000   \n",
       "56        2271.408000      1.313000              9600.665000     41.142000   \n",
       "0         2039.338000      1.192000              8704.831000     44.253000   \n",
       "64        1944.620000      1.123000              9363.043000     47.972000   \n",
       "...               ...           ...                      ...           ...   \n",
       "7201     74284.700383  18590.661226            283439.854680  24420.616841   \n",
       "7331     68452.539106  17437.422895            229820.211604  27065.969770   \n",
       "7318     69598.179805  15851.396970            195698.481675  32876.999913   \n",
       "7305     78413.975465  11021.744199            192177.829229  42035.865355   \n",
       "7214     77186.511631   9172.684879            227783.044478  39343.876029   \n",
       "\n",
       "PRODUCT  Other_renewable  \n",
       "32             56.234000  \n",
       "24             49.518000  \n",
       "56             86.054000  \n",
       "0             103.722000  \n",
       "64             68.275000  \n",
       "...                  ...  \n",
       "7201         4914.774115  \n",
       "7331         4322.094993  \n",
       "7318         4141.096405  \n",
       "7305         4451.733366  \n",
       "7214         4604.459248  \n",
       "\n",
       "[7332 rows x 14 columns]"
      ]
     },
     "execution_count": 26,
     "metadata": {},
     "output_type": "execute_result"
    }
   ],
   "source": [
    "to_keep = [\"Natural gas\", \"Coal\", \"Oil\", \"Nuclear\", \"Solar\", \"Wind\", \"Hydro\", \"Geothermal\", \"Total combustible fuels\", \"Net electricity production\", \"Renewables\"]\n",
    "\n",
    "data_filtered = data[data[\"PRODUCT\"].isin(to_keep)]\n",
    "\n",
    "data_group = data_filtered.groupby(by=['COUNTRY', 'TIME', \"PRODUCT\"])[\"VALUE\"].sum().reset_index()\n",
    "\n",
    "data_renew  = data_group.pivot(index=['COUNTRY', 'TIME'], columns='PRODUCT', values='VALUE').reset_index()\n",
    "data_renew[\"Other_renewable\"] = data_renew[\"Renewables\"] - sum([data_renew[\"Geothermal\"],data_renew[\"Hydro\"], data_renew[\"Solar\"], data_renew[\"Wind\"]])\n",
    "data_renew[\"TIME\"] = pd.to_datetime(data_renew.TIME)\n",
    "data_renew.sort_values(by=[\"COUNTRY\", \"TIME\"], inplace=True)\n",
    "data_renew"
   ]
  },
  {
   "cell_type": "code",
   "execution_count": 30,
   "id": "909f7f59",
   "metadata": {},
   "outputs": [
    {
     "data": {
      "application/vnd.jupyter.widget-view+json": {
       "model_id": "61643d841df54e85bac0d1a36254c6d5",
       "version_major": 2,
       "version_minor": 0
      },
      "text/plain": [
       "interactive(children=(Dropdown(description='country', options=('Argentina', 'Australia', 'Austria', 'Belgium',…"
      ]
     },
     "metadata": {},
     "output_type": "display_data"
    }
   ],
   "source": [
    "def dropdown(country):\n",
    "    return country\n",
    "\n",
    "data_yearly = data_renew.groupby([\"COUNTRY\", pd.Grouper(key='TIME', axis=0, freq='Y')]).sum().sort_values(by=[\"COUNTRY\",\"TIME\"]).reset_index()\n",
    "data_yearly[\"%_RENEWABLE_PRODUCED\"] = data_yearly[\"Renewables\"] / (data_yearly[\"Net electricity production\"]) * 100\n",
    "data_yearly[\"%_NUCLEAR_PRODUCED\"] = data_yearly[\"Nuclear\"] / (data_yearly[\"Net electricity production\"]) * 100\n",
    "data_yearly[\"%_FOSSILE_PRODUCED\"] = data_yearly[\"Total combustible fuels\"] / (data_yearly[\"Net electricity production\"]) * 100\n",
    "data_yearly[\"TIME\"] = data_yearly[\"TIME\"].apply(lambda x: x.year)\n",
    "\n",
    "country_list = data_yearly[\"COUNTRY\"].unique()\n",
    "\n",
    "country_select = interactive(dropdown, country=country_list)\n",
    "display(country_select)"
   ]
  },
  {
   "cell_type": "code",
   "execution_count": 31,
   "id": "e0333a2a",
   "metadata": {},
   "outputs": [
    {
     "data": {
      "application/vnd.plotly.v1+json": {
       "config": {
        "plotlyServerURL": "https://plot.ly"
       },
       "data": [
        {
         "name": "Nuclear",
         "type": "bar",
         "x": [
          2015,
          2016,
          2017,
          2018,
          2019,
          2020,
          2021,
          2022
         ],
         "y": [
          6644.077,
          7820.169,
          5770.611,
          6514.307078,
          7969.4685230000005,
          10064.414559,
          10224.076091,
          7509.18667
         ]
        },
        {
         "name": "Renewables",
         "type": "bar",
         "x": [
          2015,
          2016,
          2017,
          2018,
          2019,
          2020,
          2021,
          2022
         ],
         "y": [
          33567.573,
          31013.883,
          33292.217000000004,
          34652.21956,
          34524.081521,
          36392.04386,
          42587.396466,
          43141.786988
         ]
        },
        {
         "name": "Total combustible fuels",
         "type": "bar",
         "x": [
          2015,
          2016,
          2017,
          2018,
          2019,
          2020,
          2021,
          2022
         ],
         "y": [
          98499.693,
          101477.393,
          100155.943,
          99297.98336,
          91519.67088,
          93246.980101,
          102048.186182,
          91536.894631
         ]
        },
        {
         "name": "Other",
         "type": "bar",
         "x": [
          2015,
          2016,
          2017,
          2018,
          2019,
          2020,
          2021,
          2022
         ],
         "y": [
          -1120.5109999999986,
          -1139.2749999999796,
          -1303.546000000002,
          -1276.3930950000213,
          -1550.9078840000002,
          -2128.817060000001,
          -3312.1530429999984,
          -2232.9125780000177
         ]
        }
       ],
       "layout": {
        "barmode": "stack",
        "template": {
         "data": {
          "bar": [
           {
            "error_x": {
             "color": "#2a3f5f"
            },
            "error_y": {
             "color": "#2a3f5f"
            },
            "marker": {
             "line": {
              "color": "#E5ECF6",
              "width": 0.5
             },
             "pattern": {
              "fillmode": "overlay",
              "size": 10,
              "solidity": 0.2
             }
            },
            "type": "bar"
           }
          ],
          "barpolar": [
           {
            "marker": {
             "line": {
              "color": "#E5ECF6",
              "width": 0.5
             },
             "pattern": {
              "fillmode": "overlay",
              "size": 10,
              "solidity": 0.2
             }
            },
            "type": "barpolar"
           }
          ],
          "carpet": [
           {
            "aaxis": {
             "endlinecolor": "#2a3f5f",
             "gridcolor": "white",
             "linecolor": "white",
             "minorgridcolor": "white",
             "startlinecolor": "#2a3f5f"
            },
            "baxis": {
             "endlinecolor": "#2a3f5f",
             "gridcolor": "white",
             "linecolor": "white",
             "minorgridcolor": "white",
             "startlinecolor": "#2a3f5f"
            },
            "type": "carpet"
           }
          ],
          "choropleth": [
           {
            "colorbar": {
             "outlinewidth": 0,
             "ticks": ""
            },
            "type": "choropleth"
           }
          ],
          "contour": [
           {
            "colorbar": {
             "outlinewidth": 0,
             "ticks": ""
            },
            "colorscale": [
             [
              0,
              "#0d0887"
             ],
             [
              0.1111111111111111,
              "#46039f"
             ],
             [
              0.2222222222222222,
              "#7201a8"
             ],
             [
              0.3333333333333333,
              "#9c179e"
             ],
             [
              0.4444444444444444,
              "#bd3786"
             ],
             [
              0.5555555555555556,
              "#d8576b"
             ],
             [
              0.6666666666666666,
              "#ed7953"
             ],
             [
              0.7777777777777778,
              "#fb9f3a"
             ],
             [
              0.8888888888888888,
              "#fdca26"
             ],
             [
              1,
              "#f0f921"
             ]
            ],
            "type": "contour"
           }
          ],
          "contourcarpet": [
           {
            "colorbar": {
             "outlinewidth": 0,
             "ticks": ""
            },
            "type": "contourcarpet"
           }
          ],
          "heatmap": [
           {
            "colorbar": {
             "outlinewidth": 0,
             "ticks": ""
            },
            "colorscale": [
             [
              0,
              "#0d0887"
             ],
             [
              0.1111111111111111,
              "#46039f"
             ],
             [
              0.2222222222222222,
              "#7201a8"
             ],
             [
              0.3333333333333333,
              "#9c179e"
             ],
             [
              0.4444444444444444,
              "#bd3786"
             ],
             [
              0.5555555555555556,
              "#d8576b"
             ],
             [
              0.6666666666666666,
              "#ed7953"
             ],
             [
              0.7777777777777778,
              "#fb9f3a"
             ],
             [
              0.8888888888888888,
              "#fdca26"
             ],
             [
              1,
              "#f0f921"
             ]
            ],
            "type": "heatmap"
           }
          ],
          "heatmapgl": [
           {
            "colorbar": {
             "outlinewidth": 0,
             "ticks": ""
            },
            "colorscale": [
             [
              0,
              "#0d0887"
             ],
             [
              0.1111111111111111,
              "#46039f"
             ],
             [
              0.2222222222222222,
              "#7201a8"
             ],
             [
              0.3333333333333333,
              "#9c179e"
             ],
             [
              0.4444444444444444,
              "#bd3786"
             ],
             [
              0.5555555555555556,
              "#d8576b"
             ],
             [
              0.6666666666666666,
              "#ed7953"
             ],
             [
              0.7777777777777778,
              "#fb9f3a"
             ],
             [
              0.8888888888888888,
              "#fdca26"
             ],
             [
              1,
              "#f0f921"
             ]
            ],
            "type": "heatmapgl"
           }
          ],
          "histogram": [
           {
            "marker": {
             "pattern": {
              "fillmode": "overlay",
              "size": 10,
              "solidity": 0.2
             }
            },
            "type": "histogram"
           }
          ],
          "histogram2d": [
           {
            "colorbar": {
             "outlinewidth": 0,
             "ticks": ""
            },
            "colorscale": [
             [
              0,
              "#0d0887"
             ],
             [
              0.1111111111111111,
              "#46039f"
             ],
             [
              0.2222222222222222,
              "#7201a8"
             ],
             [
              0.3333333333333333,
              "#9c179e"
             ],
             [
              0.4444444444444444,
              "#bd3786"
             ],
             [
              0.5555555555555556,
              "#d8576b"
             ],
             [
              0.6666666666666666,
              "#ed7953"
             ],
             [
              0.7777777777777778,
              "#fb9f3a"
             ],
             [
              0.8888888888888888,
              "#fdca26"
             ],
             [
              1,
              "#f0f921"
             ]
            ],
            "type": "histogram2d"
           }
          ],
          "histogram2dcontour": [
           {
            "colorbar": {
             "outlinewidth": 0,
             "ticks": ""
            },
            "colorscale": [
             [
              0,
              "#0d0887"
             ],
             [
              0.1111111111111111,
              "#46039f"
             ],
             [
              0.2222222222222222,
              "#7201a8"
             ],
             [
              0.3333333333333333,
              "#9c179e"
             ],
             [
              0.4444444444444444,
              "#bd3786"
             ],
             [
              0.5555555555555556,
              "#d8576b"
             ],
             [
              0.6666666666666666,
              "#ed7953"
             ],
             [
              0.7777777777777778,
              "#fb9f3a"
             ],
             [
              0.8888888888888888,
              "#fdca26"
             ],
             [
              1,
              "#f0f921"
             ]
            ],
            "type": "histogram2dcontour"
           }
          ],
          "mesh3d": [
           {
            "colorbar": {
             "outlinewidth": 0,
             "ticks": ""
            },
            "type": "mesh3d"
           }
          ],
          "parcoords": [
           {
            "line": {
             "colorbar": {
              "outlinewidth": 0,
              "ticks": ""
             }
            },
            "type": "parcoords"
           }
          ],
          "pie": [
           {
            "automargin": true,
            "type": "pie"
           }
          ],
          "scatter": [
           {
            "fillpattern": {
             "fillmode": "overlay",
             "size": 10,
             "solidity": 0.2
            },
            "type": "scatter"
           }
          ],
          "scatter3d": [
           {
            "line": {
             "colorbar": {
              "outlinewidth": 0,
              "ticks": ""
             }
            },
            "marker": {
             "colorbar": {
              "outlinewidth": 0,
              "ticks": ""
             }
            },
            "type": "scatter3d"
           }
          ],
          "scattercarpet": [
           {
            "marker": {
             "colorbar": {
              "outlinewidth": 0,
              "ticks": ""
             }
            },
            "type": "scattercarpet"
           }
          ],
          "scattergeo": [
           {
            "marker": {
             "colorbar": {
              "outlinewidth": 0,
              "ticks": ""
             }
            },
            "type": "scattergeo"
           }
          ],
          "scattergl": [
           {
            "marker": {
             "colorbar": {
              "outlinewidth": 0,
              "ticks": ""
             }
            },
            "type": "scattergl"
           }
          ],
          "scattermapbox": [
           {
            "marker": {
             "colorbar": {
              "outlinewidth": 0,
              "ticks": ""
             }
            },
            "type": "scattermapbox"
           }
          ],
          "scatterpolar": [
           {
            "marker": {
             "colorbar": {
              "outlinewidth": 0,
              "ticks": ""
             }
            },
            "type": "scatterpolar"
           }
          ],
          "scatterpolargl": [
           {
            "marker": {
             "colorbar": {
              "outlinewidth": 0,
              "ticks": ""
             }
            },
            "type": "scatterpolargl"
           }
          ],
          "scatterternary": [
           {
            "marker": {
             "colorbar": {
              "outlinewidth": 0,
              "ticks": ""
             }
            },
            "type": "scatterternary"
           }
          ],
          "surface": [
           {
            "colorbar": {
             "outlinewidth": 0,
             "ticks": ""
            },
            "colorscale": [
             [
              0,
              "#0d0887"
             ],
             [
              0.1111111111111111,
              "#46039f"
             ],
             [
              0.2222222222222222,
              "#7201a8"
             ],
             [
              0.3333333333333333,
              "#9c179e"
             ],
             [
              0.4444444444444444,
              "#bd3786"
             ],
             [
              0.5555555555555556,
              "#d8576b"
             ],
             [
              0.6666666666666666,
              "#ed7953"
             ],
             [
              0.7777777777777778,
              "#fb9f3a"
             ],
             [
              0.8888888888888888,
              "#fdca26"
             ],
             [
              1,
              "#f0f921"
             ]
            ],
            "type": "surface"
           }
          ],
          "table": [
           {
            "cells": {
             "fill": {
              "color": "#EBF0F8"
             },
             "line": {
              "color": "white"
             }
            },
            "header": {
             "fill": {
              "color": "#C8D4E3"
             },
             "line": {
              "color": "white"
             }
            },
            "type": "table"
           }
          ]
         },
         "layout": {
          "annotationdefaults": {
           "arrowcolor": "#2a3f5f",
           "arrowhead": 0,
           "arrowwidth": 1
          },
          "autotypenumbers": "strict",
          "coloraxis": {
           "colorbar": {
            "outlinewidth": 0,
            "ticks": ""
           }
          },
          "colorscale": {
           "diverging": [
            [
             0,
             "#8e0152"
            ],
            [
             0.1,
             "#c51b7d"
            ],
            [
             0.2,
             "#de77ae"
            ],
            [
             0.3,
             "#f1b6da"
            ],
            [
             0.4,
             "#fde0ef"
            ],
            [
             0.5,
             "#f7f7f7"
            ],
            [
             0.6,
             "#e6f5d0"
            ],
            [
             0.7,
             "#b8e186"
            ],
            [
             0.8,
             "#7fbc41"
            ],
            [
             0.9,
             "#4d9221"
            ],
            [
             1,
             "#276419"
            ]
           ],
           "sequential": [
            [
             0,
             "#0d0887"
            ],
            [
             0.1111111111111111,
             "#46039f"
            ],
            [
             0.2222222222222222,
             "#7201a8"
            ],
            [
             0.3333333333333333,
             "#9c179e"
            ],
            [
             0.4444444444444444,
             "#bd3786"
            ],
            [
             0.5555555555555556,
             "#d8576b"
            ],
            [
             0.6666666666666666,
             "#ed7953"
            ],
            [
             0.7777777777777778,
             "#fb9f3a"
            ],
            [
             0.8888888888888888,
             "#fdca26"
            ],
            [
             1,
             "#f0f921"
            ]
           ],
           "sequentialminus": [
            [
             0,
             "#0d0887"
            ],
            [
             0.1111111111111111,
             "#46039f"
            ],
            [
             0.2222222222222222,
             "#7201a8"
            ],
            [
             0.3333333333333333,
             "#9c179e"
            ],
            [
             0.4444444444444444,
             "#bd3786"
            ],
            [
             0.5555555555555556,
             "#d8576b"
            ],
            [
             0.6666666666666666,
             "#ed7953"
            ],
            [
             0.7777777777777778,
             "#fb9f3a"
            ],
            [
             0.8888888888888888,
             "#fdca26"
            ],
            [
             1,
             "#f0f921"
            ]
           ]
          },
          "colorway": [
           "#636efa",
           "#EF553B",
           "#00cc96",
           "#ab63fa",
           "#FFA15A",
           "#19d3f3",
           "#FF6692",
           "#B6E880",
           "#FF97FF",
           "#FECB52"
          ],
          "font": {
           "color": "#2a3f5f"
          },
          "geo": {
           "bgcolor": "white",
           "lakecolor": "white",
           "landcolor": "#E5ECF6",
           "showlakes": true,
           "showland": true,
           "subunitcolor": "white"
          },
          "hoverlabel": {
           "align": "left"
          },
          "hovermode": "closest",
          "mapbox": {
           "style": "light"
          },
          "paper_bgcolor": "white",
          "plot_bgcolor": "#E5ECF6",
          "polar": {
           "angularaxis": {
            "gridcolor": "white",
            "linecolor": "white",
            "ticks": ""
           },
           "bgcolor": "#E5ECF6",
           "radialaxis": {
            "gridcolor": "white",
            "linecolor": "white",
            "ticks": ""
           }
          },
          "scene": {
           "xaxis": {
            "backgroundcolor": "#E5ECF6",
            "gridcolor": "white",
            "gridwidth": 2,
            "linecolor": "white",
            "showbackground": true,
            "ticks": "",
            "zerolinecolor": "white"
           },
           "yaxis": {
            "backgroundcolor": "#E5ECF6",
            "gridcolor": "white",
            "gridwidth": 2,
            "linecolor": "white",
            "showbackground": true,
            "ticks": "",
            "zerolinecolor": "white"
           },
           "zaxis": {
            "backgroundcolor": "#E5ECF6",
            "gridcolor": "white",
            "gridwidth": 2,
            "linecolor": "white",
            "showbackground": true,
            "ticks": "",
            "zerolinecolor": "white"
           }
          },
          "shapedefaults": {
           "line": {
            "color": "#2a3f5f"
           }
          },
          "ternary": {
           "aaxis": {
            "gridcolor": "white",
            "linecolor": "white",
            "ticks": ""
           },
           "baxis": {
            "gridcolor": "white",
            "linecolor": "white",
            "ticks": ""
           },
           "bgcolor": "#E5ECF6",
           "caxis": {
            "gridcolor": "white",
            "linecolor": "white",
            "ticks": ""
           }
          },
          "title": {
           "x": 0.05
          },
          "xaxis": {
           "automargin": true,
           "gridcolor": "white",
           "linecolor": "white",
           "ticks": "",
           "title": {
            "standoff": 15
           },
           "zerolinecolor": "white",
           "zerolinewidth": 2
          },
          "yaxis": {
           "automargin": true,
           "gridcolor": "white",
           "linecolor": "white",
           "ticks": "",
           "title": {
            "standoff": 15
           },
           "zerolinecolor": "white",
           "zerolinewidth": 2
          }
         }
        },
        "title": {
         "text": "Electricity Production by Years of Argentina"
        },
        "xaxis": {
         "title": {
          "text": "Year"
         }
        },
        "yaxis": {
         "title": {
          "text": "Electricity Production (GWh)"
         }
        }
       }
      },
      "text/html": [
       "<div>                            <div id=\"96b757c9-3ed0-4c78-aef5-dab1833e3f8d\" class=\"plotly-graph-div\" style=\"height:525px; width:100%;\"></div>            <script type=\"text/javascript\">                require([\"plotly\"], function(Plotly) {                    window.PLOTLYENV=window.PLOTLYENV || {};                                    if (document.getElementById(\"96b757c9-3ed0-4c78-aef5-dab1833e3f8d\")) {                    Plotly.newPlot(                        \"96b757c9-3ed0-4c78-aef5-dab1833e3f8d\",                        [{\"name\":\"Nuclear\",\"x\":[2015,2016,2017,2018,2019,2020,2021,2022],\"y\":[6644.077,7820.169,5770.611,6514.307078,7969.4685230000005,10064.414559,10224.076091,7509.18667],\"type\":\"bar\"},{\"name\":\"Renewables\",\"x\":[2015,2016,2017,2018,2019,2020,2021,2022],\"y\":[33567.573,31013.883,33292.217000000004,34652.21956,34524.081521,36392.04386,42587.396466,43141.786988],\"type\":\"bar\"},{\"name\":\"Total combustible fuels\",\"x\":[2015,2016,2017,2018,2019,2020,2021,2022],\"y\":[98499.693,101477.393,100155.943,99297.98336,91519.67088,93246.980101,102048.186182,91536.894631],\"type\":\"bar\"},{\"name\":\"Other\",\"x\":[2015,2016,2017,2018,2019,2020,2021,2022],\"y\":[-1120.5109999999986,-1139.2749999999796,-1303.546000000002,-1276.3930950000213,-1550.9078840000002,-2128.817060000001,-3312.1530429999984,-2232.9125780000177],\"type\":\"bar\"}],                        {\"barmode\":\"stack\",\"title\":{\"text\":\"Electricity Production by Years of Argentina\"},\"xaxis\":{\"title\":{\"text\":\"Year\"}},\"yaxis\":{\"title\":{\"text\":\"Electricity Production (GWh)\"}},\"template\":{\"data\":{\"histogram2dcontour\":[{\"type\":\"histogram2dcontour\",\"colorbar\":{\"outlinewidth\":0,\"ticks\":\"\"},\"colorscale\":[[0.0,\"#0d0887\"],[0.1111111111111111,\"#46039f\"],[0.2222222222222222,\"#7201a8\"],[0.3333333333333333,\"#9c179e\"],[0.4444444444444444,\"#bd3786\"],[0.5555555555555556,\"#d8576b\"],[0.6666666666666666,\"#ed7953\"],[0.7777777777777778,\"#fb9f3a\"],[0.8888888888888888,\"#fdca26\"],[1.0,\"#f0f921\"]]}],\"choropleth\":[{\"type\":\"choropleth\",\"colorbar\":{\"outlinewidth\":0,\"ticks\":\"\"}}],\"histogram2d\":[{\"type\":\"histogram2d\",\"colorbar\":{\"outlinewidth\":0,\"ticks\":\"\"},\"colorscale\":[[0.0,\"#0d0887\"],[0.1111111111111111,\"#46039f\"],[0.2222222222222222,\"#7201a8\"],[0.3333333333333333,\"#9c179e\"],[0.4444444444444444,\"#bd3786\"],[0.5555555555555556,\"#d8576b\"],[0.6666666666666666,\"#ed7953\"],[0.7777777777777778,\"#fb9f3a\"],[0.8888888888888888,\"#fdca26\"],[1.0,\"#f0f921\"]]}],\"heatmap\":[{\"type\":\"heatmap\",\"colorbar\":{\"outlinewidth\":0,\"ticks\":\"\"},\"colorscale\":[[0.0,\"#0d0887\"],[0.1111111111111111,\"#46039f\"],[0.2222222222222222,\"#7201a8\"],[0.3333333333333333,\"#9c179e\"],[0.4444444444444444,\"#bd3786\"],[0.5555555555555556,\"#d8576b\"],[0.6666666666666666,\"#ed7953\"],[0.7777777777777778,\"#fb9f3a\"],[0.8888888888888888,\"#fdca26\"],[1.0,\"#f0f921\"]]}],\"heatmapgl\":[{\"type\":\"heatmapgl\",\"colorbar\":{\"outlinewidth\":0,\"ticks\":\"\"},\"colorscale\":[[0.0,\"#0d0887\"],[0.1111111111111111,\"#46039f\"],[0.2222222222222222,\"#7201a8\"],[0.3333333333333333,\"#9c179e\"],[0.4444444444444444,\"#bd3786\"],[0.5555555555555556,\"#d8576b\"],[0.6666666666666666,\"#ed7953\"],[0.7777777777777778,\"#fb9f3a\"],[0.8888888888888888,\"#fdca26\"],[1.0,\"#f0f921\"]]}],\"contourcarpet\":[{\"type\":\"contourcarpet\",\"colorbar\":{\"outlinewidth\":0,\"ticks\":\"\"}}],\"contour\":[{\"type\":\"contour\",\"colorbar\":{\"outlinewidth\":0,\"ticks\":\"\"},\"colorscale\":[[0.0,\"#0d0887\"],[0.1111111111111111,\"#46039f\"],[0.2222222222222222,\"#7201a8\"],[0.3333333333333333,\"#9c179e\"],[0.4444444444444444,\"#bd3786\"],[0.5555555555555556,\"#d8576b\"],[0.6666666666666666,\"#ed7953\"],[0.7777777777777778,\"#fb9f3a\"],[0.8888888888888888,\"#fdca26\"],[1.0,\"#f0f921\"]]}],\"surface\":[{\"type\":\"surface\",\"colorbar\":{\"outlinewidth\":0,\"ticks\":\"\"},\"colorscale\":[[0.0,\"#0d0887\"],[0.1111111111111111,\"#46039f\"],[0.2222222222222222,\"#7201a8\"],[0.3333333333333333,\"#9c179e\"],[0.4444444444444444,\"#bd3786\"],[0.5555555555555556,\"#d8576b\"],[0.6666666666666666,\"#ed7953\"],[0.7777777777777778,\"#fb9f3a\"],[0.8888888888888888,\"#fdca26\"],[1.0,\"#f0f921\"]]}],\"mesh3d\":[{\"type\":\"mesh3d\",\"colorbar\":{\"outlinewidth\":0,\"ticks\":\"\"}}],\"scatter\":[{\"fillpattern\":{\"fillmode\":\"overlay\",\"size\":10,\"solidity\":0.2},\"type\":\"scatter\"}],\"parcoords\":[{\"type\":\"parcoords\",\"line\":{\"colorbar\":{\"outlinewidth\":0,\"ticks\":\"\"}}}],\"scatterpolargl\":[{\"type\":\"scatterpolargl\",\"marker\":{\"colorbar\":{\"outlinewidth\":0,\"ticks\":\"\"}}}],\"bar\":[{\"error_x\":{\"color\":\"#2a3f5f\"},\"error_y\":{\"color\":\"#2a3f5f\"},\"marker\":{\"line\":{\"color\":\"#E5ECF6\",\"width\":0.5},\"pattern\":{\"fillmode\":\"overlay\",\"size\":10,\"solidity\":0.2}},\"type\":\"bar\"}],\"scattergeo\":[{\"type\":\"scattergeo\",\"marker\":{\"colorbar\":{\"outlinewidth\":0,\"ticks\":\"\"}}}],\"scatterpolar\":[{\"type\":\"scatterpolar\",\"marker\":{\"colorbar\":{\"outlinewidth\":0,\"ticks\":\"\"}}}],\"histogram\":[{\"marker\":{\"pattern\":{\"fillmode\":\"overlay\",\"size\":10,\"solidity\":0.2}},\"type\":\"histogram\"}],\"scattergl\":[{\"type\":\"scattergl\",\"marker\":{\"colorbar\":{\"outlinewidth\":0,\"ticks\":\"\"}}}],\"scatter3d\":[{\"type\":\"scatter3d\",\"line\":{\"colorbar\":{\"outlinewidth\":0,\"ticks\":\"\"}},\"marker\":{\"colorbar\":{\"outlinewidth\":0,\"ticks\":\"\"}}}],\"scattermapbox\":[{\"type\":\"scattermapbox\",\"marker\":{\"colorbar\":{\"outlinewidth\":0,\"ticks\":\"\"}}}],\"scatterternary\":[{\"type\":\"scatterternary\",\"marker\":{\"colorbar\":{\"outlinewidth\":0,\"ticks\":\"\"}}}],\"scattercarpet\":[{\"type\":\"scattercarpet\",\"marker\":{\"colorbar\":{\"outlinewidth\":0,\"ticks\":\"\"}}}],\"carpet\":[{\"aaxis\":{\"endlinecolor\":\"#2a3f5f\",\"gridcolor\":\"white\",\"linecolor\":\"white\",\"minorgridcolor\":\"white\",\"startlinecolor\":\"#2a3f5f\"},\"baxis\":{\"endlinecolor\":\"#2a3f5f\",\"gridcolor\":\"white\",\"linecolor\":\"white\",\"minorgridcolor\":\"white\",\"startlinecolor\":\"#2a3f5f\"},\"type\":\"carpet\"}],\"table\":[{\"cells\":{\"fill\":{\"color\":\"#EBF0F8\"},\"line\":{\"color\":\"white\"}},\"header\":{\"fill\":{\"color\":\"#C8D4E3\"},\"line\":{\"color\":\"white\"}},\"type\":\"table\"}],\"barpolar\":[{\"marker\":{\"line\":{\"color\":\"#E5ECF6\",\"width\":0.5},\"pattern\":{\"fillmode\":\"overlay\",\"size\":10,\"solidity\":0.2}},\"type\":\"barpolar\"}],\"pie\":[{\"automargin\":true,\"type\":\"pie\"}]},\"layout\":{\"autotypenumbers\":\"strict\",\"colorway\":[\"#636efa\",\"#EF553B\",\"#00cc96\",\"#ab63fa\",\"#FFA15A\",\"#19d3f3\",\"#FF6692\",\"#B6E880\",\"#FF97FF\",\"#FECB52\"],\"font\":{\"color\":\"#2a3f5f\"},\"hovermode\":\"closest\",\"hoverlabel\":{\"align\":\"left\"},\"paper_bgcolor\":\"white\",\"plot_bgcolor\":\"#E5ECF6\",\"polar\":{\"bgcolor\":\"#E5ECF6\",\"angularaxis\":{\"gridcolor\":\"white\",\"linecolor\":\"white\",\"ticks\":\"\"},\"radialaxis\":{\"gridcolor\":\"white\",\"linecolor\":\"white\",\"ticks\":\"\"}},\"ternary\":{\"bgcolor\":\"#E5ECF6\",\"aaxis\":{\"gridcolor\":\"white\",\"linecolor\":\"white\",\"ticks\":\"\"},\"baxis\":{\"gridcolor\":\"white\",\"linecolor\":\"white\",\"ticks\":\"\"},\"caxis\":{\"gridcolor\":\"white\",\"linecolor\":\"white\",\"ticks\":\"\"}},\"coloraxis\":{\"colorbar\":{\"outlinewidth\":0,\"ticks\":\"\"}},\"colorscale\":{\"sequential\":[[0.0,\"#0d0887\"],[0.1111111111111111,\"#46039f\"],[0.2222222222222222,\"#7201a8\"],[0.3333333333333333,\"#9c179e\"],[0.4444444444444444,\"#bd3786\"],[0.5555555555555556,\"#d8576b\"],[0.6666666666666666,\"#ed7953\"],[0.7777777777777778,\"#fb9f3a\"],[0.8888888888888888,\"#fdca26\"],[1.0,\"#f0f921\"]],\"sequentialminus\":[[0.0,\"#0d0887\"],[0.1111111111111111,\"#46039f\"],[0.2222222222222222,\"#7201a8\"],[0.3333333333333333,\"#9c179e\"],[0.4444444444444444,\"#bd3786\"],[0.5555555555555556,\"#d8576b\"],[0.6666666666666666,\"#ed7953\"],[0.7777777777777778,\"#fb9f3a\"],[0.8888888888888888,\"#fdca26\"],[1.0,\"#f0f921\"]],\"diverging\":[[0,\"#8e0152\"],[0.1,\"#c51b7d\"],[0.2,\"#de77ae\"],[0.3,\"#f1b6da\"],[0.4,\"#fde0ef\"],[0.5,\"#f7f7f7\"],[0.6,\"#e6f5d0\"],[0.7,\"#b8e186\"],[0.8,\"#7fbc41\"],[0.9,\"#4d9221\"],[1,\"#276419\"]]},\"xaxis\":{\"gridcolor\":\"white\",\"linecolor\":\"white\",\"ticks\":\"\",\"title\":{\"standoff\":15},\"zerolinecolor\":\"white\",\"automargin\":true,\"zerolinewidth\":2},\"yaxis\":{\"gridcolor\":\"white\",\"linecolor\":\"white\",\"ticks\":\"\",\"title\":{\"standoff\":15},\"zerolinecolor\":\"white\",\"automargin\":true,\"zerolinewidth\":2},\"scene\":{\"xaxis\":{\"backgroundcolor\":\"#E5ECF6\",\"gridcolor\":\"white\",\"linecolor\":\"white\",\"showbackground\":true,\"ticks\":\"\",\"zerolinecolor\":\"white\",\"gridwidth\":2},\"yaxis\":{\"backgroundcolor\":\"#E5ECF6\",\"gridcolor\":\"white\",\"linecolor\":\"white\",\"showbackground\":true,\"ticks\":\"\",\"zerolinecolor\":\"white\",\"gridwidth\":2},\"zaxis\":{\"backgroundcolor\":\"#E5ECF6\",\"gridcolor\":\"white\",\"linecolor\":\"white\",\"showbackground\":true,\"ticks\":\"\",\"zerolinecolor\":\"white\",\"gridwidth\":2}},\"shapedefaults\":{\"line\":{\"color\":\"#2a3f5f\"}},\"annotationdefaults\":{\"arrowcolor\":\"#2a3f5f\",\"arrowhead\":0,\"arrowwidth\":1},\"geo\":{\"bgcolor\":\"white\",\"landcolor\":\"#E5ECF6\",\"subunitcolor\":\"white\",\"showland\":true,\"showlakes\":true,\"lakecolor\":\"white\"},\"title\":{\"x\":0.05},\"mapbox\":{\"style\":\"light\"}}}},                        {\"responsive\": true}                    ).then(function(){\n",
       "                            \n",
       "var gd = document.getElementById('96b757c9-3ed0-4c78-aef5-dab1833e3f8d');\n",
       "var x = new MutationObserver(function (mutations, observer) {{\n",
       "        var display = window.getComputedStyle(gd).display;\n",
       "        if (!display || display === 'none') {{\n",
       "            console.log([gd, 'removed!']);\n",
       "            Plotly.purge(gd);\n",
       "            observer.disconnect();\n",
       "        }}\n",
       "}});\n",
       "\n",
       "// Listen for the removal of the full notebook cells\n",
       "var notebookContainer = gd.closest('#notebook-container');\n",
       "if (notebookContainer) {{\n",
       "    x.observe(notebookContainer, {childList: true});\n",
       "}}\n",
       "\n",
       "// Listen for the clearing of the current output cell\n",
       "var outputEl = gd.closest('.output');\n",
       "if (outputEl) {{\n",
       "    x.observe(outputEl, {childList: true});\n",
       "}}\n",
       "\n",
       "                        })                };                });            </script>        </div>"
      ]
     },
     "metadata": {},
     "output_type": "display_data"
    }
   ],
   "source": [
    "mask = data_yearly[\"COUNTRY\"] == country_select.result\n",
    "data_filtered = data_yearly[mask]\n",
    "\n",
    "x = data_filtered[\"TIME\"]\n",
    "y_net_electricity = data_filtered[\"Net electricity production\"]\n",
    "y_nuclear = data_filtered[\"Nuclear\"]\n",
    "y_renewables = data_filtered[\"Renewables\"]\n",
    "y_combustible_fuels = data_filtered[\"Total combustible fuels\"]\n",
    "y_other = y_net_electricity - y_nuclear - y_renewables - y_combustible_fuels\n",
    "\n",
    "#trace1 = go.Bar(x=x,y=y_net_electricity,name='Net electricity production')\n",
    "trace2 = go.Bar(x=x,y=y_nuclear,name='Nuclear')\n",
    "trace3 = go.Bar(x=x,y=y_renewables,name='Renewables')\n",
    "trace4 = go.Bar(x=x,y=y_combustible_fuels,name='Total combustible fuels')\n",
    "trace5 = go.Bar(x=x,y=y_other,name='Other')\n",
    "\n",
    "layout = go.Layout(\n",
    "    title=f'Electricity Production by Years of {country_select.result}',\n",
    "    xaxis=dict(title='Year'),\n",
    "    yaxis=dict(title='Electricity Production (GWh)'),\n",
    "    barmode='stack'\n",
    ")\n",
    "\n",
    "fig = go.Figure(data=[trace2, trace3, trace4, trace5], layout=layout)\n",
    "\n",
    "fig.show()"
   ]
  },
  {
   "cell_type": "code",
   "execution_count": null,
   "id": "159c994e",
   "metadata": {},
   "outputs": [],
   "source": []
  },
  {
   "cell_type": "code",
   "execution_count": 12,
   "id": "c4db1e00",
   "metadata": {},
   "outputs": [
    {
     "data": {
      "application/vnd.plotly.v1+json": {
       "config": {
        "plotlyServerURL": "https://plot.ly"
       },
       "data": [
        {
         "mode": "lines",
         "name": "Renewable energy produced (%)",
         "type": "scatter",
         "x": [
          2015,
          2016,
          2017,
          2018,
          2019,
          2020,
          2021,
          2022
         ],
         "y": [
          24.672221422009592,
          22.569448472177058,
          24.490576596309612,
          24.895961186218997,
          26.06332377011616,
          26.452585130740143,
          28.10168090224402,
          30.82548007595075
         ]
        },
        {
         "mode": "lines",
         "name": "Nuclear energy produced (%)",
         "type": "scatter",
         "x": [
          2015,
          2016,
          2017,
          2018,
          2019,
          2020,
          2021,
          2022
         ],
         "y": [
          4.8834075340770475,
          5.690899823450562,
          4.245003890939639,
          4.680217839673635,
          6.016404470148002,
          7.315604035244423,
          6.746449599447191,
          5.365431064481987
         ]
        },
        {
         "mode": "lines",
         "name": "Fossile energy produced (%)",
         "type": "scatter",
         "x": [
          2015,
          2016,
          2017,
          2018,
          2019,
          2020,
          2021,
          2022
         ],
         "y": [
          72.3974365288777,
          73.84721198581812,
          73.67718387805532,
          71.34084832055069,
          69.09110129487438,
          67.77920165174626,
          67.33742380868067,
          65.40453974350086
         ]
        }
       ],
       "layout": {
        "template": {
         "data": {
          "bar": [
           {
            "error_x": {
             "color": "#2a3f5f"
            },
            "error_y": {
             "color": "#2a3f5f"
            },
            "marker": {
             "line": {
              "color": "#E5ECF6",
              "width": 0.5
             },
             "pattern": {
              "fillmode": "overlay",
              "size": 10,
              "solidity": 0.2
             }
            },
            "type": "bar"
           }
          ],
          "barpolar": [
           {
            "marker": {
             "line": {
              "color": "#E5ECF6",
              "width": 0.5
             },
             "pattern": {
              "fillmode": "overlay",
              "size": 10,
              "solidity": 0.2
             }
            },
            "type": "barpolar"
           }
          ],
          "carpet": [
           {
            "aaxis": {
             "endlinecolor": "#2a3f5f",
             "gridcolor": "white",
             "linecolor": "white",
             "minorgridcolor": "white",
             "startlinecolor": "#2a3f5f"
            },
            "baxis": {
             "endlinecolor": "#2a3f5f",
             "gridcolor": "white",
             "linecolor": "white",
             "minorgridcolor": "white",
             "startlinecolor": "#2a3f5f"
            },
            "type": "carpet"
           }
          ],
          "choropleth": [
           {
            "colorbar": {
             "outlinewidth": 0,
             "ticks": ""
            },
            "type": "choropleth"
           }
          ],
          "contour": [
           {
            "colorbar": {
             "outlinewidth": 0,
             "ticks": ""
            },
            "colorscale": [
             [
              0,
              "#0d0887"
             ],
             [
              0.1111111111111111,
              "#46039f"
             ],
             [
              0.2222222222222222,
              "#7201a8"
             ],
             [
              0.3333333333333333,
              "#9c179e"
             ],
             [
              0.4444444444444444,
              "#bd3786"
             ],
             [
              0.5555555555555556,
              "#d8576b"
             ],
             [
              0.6666666666666666,
              "#ed7953"
             ],
             [
              0.7777777777777778,
              "#fb9f3a"
             ],
             [
              0.8888888888888888,
              "#fdca26"
             ],
             [
              1,
              "#f0f921"
             ]
            ],
            "type": "contour"
           }
          ],
          "contourcarpet": [
           {
            "colorbar": {
             "outlinewidth": 0,
             "ticks": ""
            },
            "type": "contourcarpet"
           }
          ],
          "heatmap": [
           {
            "colorbar": {
             "outlinewidth": 0,
             "ticks": ""
            },
            "colorscale": [
             [
              0,
              "#0d0887"
             ],
             [
              0.1111111111111111,
              "#46039f"
             ],
             [
              0.2222222222222222,
              "#7201a8"
             ],
             [
              0.3333333333333333,
              "#9c179e"
             ],
             [
              0.4444444444444444,
              "#bd3786"
             ],
             [
              0.5555555555555556,
              "#d8576b"
             ],
             [
              0.6666666666666666,
              "#ed7953"
             ],
             [
              0.7777777777777778,
              "#fb9f3a"
             ],
             [
              0.8888888888888888,
              "#fdca26"
             ],
             [
              1,
              "#f0f921"
             ]
            ],
            "type": "heatmap"
           }
          ],
          "heatmapgl": [
           {
            "colorbar": {
             "outlinewidth": 0,
             "ticks": ""
            },
            "colorscale": [
             [
              0,
              "#0d0887"
             ],
             [
              0.1111111111111111,
              "#46039f"
             ],
             [
              0.2222222222222222,
              "#7201a8"
             ],
             [
              0.3333333333333333,
              "#9c179e"
             ],
             [
              0.4444444444444444,
              "#bd3786"
             ],
             [
              0.5555555555555556,
              "#d8576b"
             ],
             [
              0.6666666666666666,
              "#ed7953"
             ],
             [
              0.7777777777777778,
              "#fb9f3a"
             ],
             [
              0.8888888888888888,
              "#fdca26"
             ],
             [
              1,
              "#f0f921"
             ]
            ],
            "type": "heatmapgl"
           }
          ],
          "histogram": [
           {
            "marker": {
             "pattern": {
              "fillmode": "overlay",
              "size": 10,
              "solidity": 0.2
             }
            },
            "type": "histogram"
           }
          ],
          "histogram2d": [
           {
            "colorbar": {
             "outlinewidth": 0,
             "ticks": ""
            },
            "colorscale": [
             [
              0,
              "#0d0887"
             ],
             [
              0.1111111111111111,
              "#46039f"
             ],
             [
              0.2222222222222222,
              "#7201a8"
             ],
             [
              0.3333333333333333,
              "#9c179e"
             ],
             [
              0.4444444444444444,
              "#bd3786"
             ],
             [
              0.5555555555555556,
              "#d8576b"
             ],
             [
              0.6666666666666666,
              "#ed7953"
             ],
             [
              0.7777777777777778,
              "#fb9f3a"
             ],
             [
              0.8888888888888888,
              "#fdca26"
             ],
             [
              1,
              "#f0f921"
             ]
            ],
            "type": "histogram2d"
           }
          ],
          "histogram2dcontour": [
           {
            "colorbar": {
             "outlinewidth": 0,
             "ticks": ""
            },
            "colorscale": [
             [
              0,
              "#0d0887"
             ],
             [
              0.1111111111111111,
              "#46039f"
             ],
             [
              0.2222222222222222,
              "#7201a8"
             ],
             [
              0.3333333333333333,
              "#9c179e"
             ],
             [
              0.4444444444444444,
              "#bd3786"
             ],
             [
              0.5555555555555556,
              "#d8576b"
             ],
             [
              0.6666666666666666,
              "#ed7953"
             ],
             [
              0.7777777777777778,
              "#fb9f3a"
             ],
             [
              0.8888888888888888,
              "#fdca26"
             ],
             [
              1,
              "#f0f921"
             ]
            ],
            "type": "histogram2dcontour"
           }
          ],
          "mesh3d": [
           {
            "colorbar": {
             "outlinewidth": 0,
             "ticks": ""
            },
            "type": "mesh3d"
           }
          ],
          "parcoords": [
           {
            "line": {
             "colorbar": {
              "outlinewidth": 0,
              "ticks": ""
             }
            },
            "type": "parcoords"
           }
          ],
          "pie": [
           {
            "automargin": true,
            "type": "pie"
           }
          ],
          "scatter": [
           {
            "fillpattern": {
             "fillmode": "overlay",
             "size": 10,
             "solidity": 0.2
            },
            "type": "scatter"
           }
          ],
          "scatter3d": [
           {
            "line": {
             "colorbar": {
              "outlinewidth": 0,
              "ticks": ""
             }
            },
            "marker": {
             "colorbar": {
              "outlinewidth": 0,
              "ticks": ""
             }
            },
            "type": "scatter3d"
           }
          ],
          "scattercarpet": [
           {
            "marker": {
             "colorbar": {
              "outlinewidth": 0,
              "ticks": ""
             }
            },
            "type": "scattercarpet"
           }
          ],
          "scattergeo": [
           {
            "marker": {
             "colorbar": {
              "outlinewidth": 0,
              "ticks": ""
             }
            },
            "type": "scattergeo"
           }
          ],
          "scattergl": [
           {
            "marker": {
             "colorbar": {
              "outlinewidth": 0,
              "ticks": ""
             }
            },
            "type": "scattergl"
           }
          ],
          "scattermapbox": [
           {
            "marker": {
             "colorbar": {
              "outlinewidth": 0,
              "ticks": ""
             }
            },
            "type": "scattermapbox"
           }
          ],
          "scatterpolar": [
           {
            "marker": {
             "colorbar": {
              "outlinewidth": 0,
              "ticks": ""
             }
            },
            "type": "scatterpolar"
           }
          ],
          "scatterpolargl": [
           {
            "marker": {
             "colorbar": {
              "outlinewidth": 0,
              "ticks": ""
             }
            },
            "type": "scatterpolargl"
           }
          ],
          "scatterternary": [
           {
            "marker": {
             "colorbar": {
              "outlinewidth": 0,
              "ticks": ""
             }
            },
            "type": "scatterternary"
           }
          ],
          "surface": [
           {
            "colorbar": {
             "outlinewidth": 0,
             "ticks": ""
            },
            "colorscale": [
             [
              0,
              "#0d0887"
             ],
             [
              0.1111111111111111,
              "#46039f"
             ],
             [
              0.2222222222222222,
              "#7201a8"
             ],
             [
              0.3333333333333333,
              "#9c179e"
             ],
             [
              0.4444444444444444,
              "#bd3786"
             ],
             [
              0.5555555555555556,
              "#d8576b"
             ],
             [
              0.6666666666666666,
              "#ed7953"
             ],
             [
              0.7777777777777778,
              "#fb9f3a"
             ],
             [
              0.8888888888888888,
              "#fdca26"
             ],
             [
              1,
              "#f0f921"
             ]
            ],
            "type": "surface"
           }
          ],
          "table": [
           {
            "cells": {
             "fill": {
              "color": "#EBF0F8"
             },
             "line": {
              "color": "white"
             }
            },
            "header": {
             "fill": {
              "color": "#C8D4E3"
             },
             "line": {
              "color": "white"
             }
            },
            "type": "table"
           }
          ]
         },
         "layout": {
          "annotationdefaults": {
           "arrowcolor": "#2a3f5f",
           "arrowhead": 0,
           "arrowwidth": 1
          },
          "autotypenumbers": "strict",
          "coloraxis": {
           "colorbar": {
            "outlinewidth": 0,
            "ticks": ""
           }
          },
          "colorscale": {
           "diverging": [
            [
             0,
             "#8e0152"
            ],
            [
             0.1,
             "#c51b7d"
            ],
            [
             0.2,
             "#de77ae"
            ],
            [
             0.3,
             "#f1b6da"
            ],
            [
             0.4,
             "#fde0ef"
            ],
            [
             0.5,
             "#f7f7f7"
            ],
            [
             0.6,
             "#e6f5d0"
            ],
            [
             0.7,
             "#b8e186"
            ],
            [
             0.8,
             "#7fbc41"
            ],
            [
             0.9,
             "#4d9221"
            ],
            [
             1,
             "#276419"
            ]
           ],
           "sequential": [
            [
             0,
             "#0d0887"
            ],
            [
             0.1111111111111111,
             "#46039f"
            ],
            [
             0.2222222222222222,
             "#7201a8"
            ],
            [
             0.3333333333333333,
             "#9c179e"
            ],
            [
             0.4444444444444444,
             "#bd3786"
            ],
            [
             0.5555555555555556,
             "#d8576b"
            ],
            [
             0.6666666666666666,
             "#ed7953"
            ],
            [
             0.7777777777777778,
             "#fb9f3a"
            ],
            [
             0.8888888888888888,
             "#fdca26"
            ],
            [
             1,
             "#f0f921"
            ]
           ],
           "sequentialminus": [
            [
             0,
             "#0d0887"
            ],
            [
             0.1111111111111111,
             "#46039f"
            ],
            [
             0.2222222222222222,
             "#7201a8"
            ],
            [
             0.3333333333333333,
             "#9c179e"
            ],
            [
             0.4444444444444444,
             "#bd3786"
            ],
            [
             0.5555555555555556,
             "#d8576b"
            ],
            [
             0.6666666666666666,
             "#ed7953"
            ],
            [
             0.7777777777777778,
             "#fb9f3a"
            ],
            [
             0.8888888888888888,
             "#fdca26"
            ],
            [
             1,
             "#f0f921"
            ]
           ]
          },
          "colorway": [
           "#636efa",
           "#EF553B",
           "#00cc96",
           "#ab63fa",
           "#FFA15A",
           "#19d3f3",
           "#FF6692",
           "#B6E880",
           "#FF97FF",
           "#FECB52"
          ],
          "font": {
           "color": "#2a3f5f"
          },
          "geo": {
           "bgcolor": "white",
           "lakecolor": "white",
           "landcolor": "#E5ECF6",
           "showlakes": true,
           "showland": true,
           "subunitcolor": "white"
          },
          "hoverlabel": {
           "align": "left"
          },
          "hovermode": "closest",
          "mapbox": {
           "style": "light"
          },
          "paper_bgcolor": "white",
          "plot_bgcolor": "#E5ECF6",
          "polar": {
           "angularaxis": {
            "gridcolor": "white",
            "linecolor": "white",
            "ticks": ""
           },
           "bgcolor": "#E5ECF6",
           "radialaxis": {
            "gridcolor": "white",
            "linecolor": "white",
            "ticks": ""
           }
          },
          "scene": {
           "xaxis": {
            "backgroundcolor": "#E5ECF6",
            "gridcolor": "white",
            "gridwidth": 2,
            "linecolor": "white",
            "showbackground": true,
            "ticks": "",
            "zerolinecolor": "white"
           },
           "yaxis": {
            "backgroundcolor": "#E5ECF6",
            "gridcolor": "white",
            "gridwidth": 2,
            "linecolor": "white",
            "showbackground": true,
            "ticks": "",
            "zerolinecolor": "white"
           },
           "zaxis": {
            "backgroundcolor": "#E5ECF6",
            "gridcolor": "white",
            "gridwidth": 2,
            "linecolor": "white",
            "showbackground": true,
            "ticks": "",
            "zerolinecolor": "white"
           }
          },
          "shapedefaults": {
           "line": {
            "color": "#2a3f5f"
           }
          },
          "ternary": {
           "aaxis": {
            "gridcolor": "white",
            "linecolor": "white",
            "ticks": ""
           },
           "baxis": {
            "gridcolor": "white",
            "linecolor": "white",
            "ticks": ""
           },
           "bgcolor": "#E5ECF6",
           "caxis": {
            "gridcolor": "white",
            "linecolor": "white",
            "ticks": ""
           }
          },
          "title": {
           "x": 0.05
          },
          "xaxis": {
           "automargin": true,
           "gridcolor": "white",
           "linecolor": "white",
           "ticks": "",
           "title": {
            "standoff": 15
           },
           "zerolinecolor": "white",
           "zerolinewidth": 2
          },
          "yaxis": {
           "automargin": true,
           "gridcolor": "white",
           "linecolor": "white",
           "ticks": "",
           "title": {
            "standoff": 15
           },
           "zerolinecolor": "white",
           "zerolinewidth": 2
          }
         }
        },
        "title": {
         "text": "Proportion of energy type generated by Argentina (GWh)"
        },
        "xaxis": {
         "title": {
          "text": "Year"
         }
        },
        "yaxis": {
         "title": {
          "text": "Energy ratio produced (%)"
         }
        }
       }
      },
      "text/html": [
       "<div>                            <div id=\"5276f2a8-317d-4719-b615-f1de1abc5703\" class=\"plotly-graph-div\" style=\"height:525px; width:100%;\"></div>            <script type=\"text/javascript\">                require([\"plotly\"], function(Plotly) {                    window.PLOTLYENV=window.PLOTLYENV || {};                                    if (document.getElementById(\"5276f2a8-317d-4719-b615-f1de1abc5703\")) {                    Plotly.newPlot(                        \"5276f2a8-317d-4719-b615-f1de1abc5703\",                        [{\"mode\":\"lines\",\"name\":\"Renewable energy produced (%)\",\"x\":[2015,2016,2017,2018,2019,2020,2021,2022],\"y\":[24.672221422009592,22.569448472177058,24.490576596309612,24.895961186218997,26.06332377011616,26.452585130740143,28.10168090224402,30.82548007595075],\"type\":\"scatter\"},{\"mode\":\"lines\",\"name\":\"Nuclear energy produced (%)\",\"x\":[2015,2016,2017,2018,2019,2020,2021,2022],\"y\":[4.8834075340770475,5.690899823450562,4.245003890939639,4.680217839673635,6.016404470148002,7.315604035244423,6.746449599447191,5.365431064481987],\"type\":\"scatter\"},{\"mode\":\"lines\",\"name\":\"Fossile energy produced (%)\",\"x\":[2015,2016,2017,2018,2019,2020,2021,2022],\"y\":[72.3974365288777,73.84721198581812,73.67718387805532,71.34084832055069,69.09110129487438,67.77920165174626,67.33742380868067,65.40453974350086],\"type\":\"scatter\"}],                        {\"template\":{\"data\":{\"histogram2dcontour\":[{\"type\":\"histogram2dcontour\",\"colorbar\":{\"outlinewidth\":0,\"ticks\":\"\"},\"colorscale\":[[0.0,\"#0d0887\"],[0.1111111111111111,\"#46039f\"],[0.2222222222222222,\"#7201a8\"],[0.3333333333333333,\"#9c179e\"],[0.4444444444444444,\"#bd3786\"],[0.5555555555555556,\"#d8576b\"],[0.6666666666666666,\"#ed7953\"],[0.7777777777777778,\"#fb9f3a\"],[0.8888888888888888,\"#fdca26\"],[1.0,\"#f0f921\"]]}],\"choropleth\":[{\"type\":\"choropleth\",\"colorbar\":{\"outlinewidth\":0,\"ticks\":\"\"}}],\"histogram2d\":[{\"type\":\"histogram2d\",\"colorbar\":{\"outlinewidth\":0,\"ticks\":\"\"},\"colorscale\":[[0.0,\"#0d0887\"],[0.1111111111111111,\"#46039f\"],[0.2222222222222222,\"#7201a8\"],[0.3333333333333333,\"#9c179e\"],[0.4444444444444444,\"#bd3786\"],[0.5555555555555556,\"#d8576b\"],[0.6666666666666666,\"#ed7953\"],[0.7777777777777778,\"#fb9f3a\"],[0.8888888888888888,\"#fdca26\"],[1.0,\"#f0f921\"]]}],\"heatmap\":[{\"type\":\"heatmap\",\"colorbar\":{\"outlinewidth\":0,\"ticks\":\"\"},\"colorscale\":[[0.0,\"#0d0887\"],[0.1111111111111111,\"#46039f\"],[0.2222222222222222,\"#7201a8\"],[0.3333333333333333,\"#9c179e\"],[0.4444444444444444,\"#bd3786\"],[0.5555555555555556,\"#d8576b\"],[0.6666666666666666,\"#ed7953\"],[0.7777777777777778,\"#fb9f3a\"],[0.8888888888888888,\"#fdca26\"],[1.0,\"#f0f921\"]]}],\"heatmapgl\":[{\"type\":\"heatmapgl\",\"colorbar\":{\"outlinewidth\":0,\"ticks\":\"\"},\"colorscale\":[[0.0,\"#0d0887\"],[0.1111111111111111,\"#46039f\"],[0.2222222222222222,\"#7201a8\"],[0.3333333333333333,\"#9c179e\"],[0.4444444444444444,\"#bd3786\"],[0.5555555555555556,\"#d8576b\"],[0.6666666666666666,\"#ed7953\"],[0.7777777777777778,\"#fb9f3a\"],[0.8888888888888888,\"#fdca26\"],[1.0,\"#f0f921\"]]}],\"contourcarpet\":[{\"type\":\"contourcarpet\",\"colorbar\":{\"outlinewidth\":0,\"ticks\":\"\"}}],\"contour\":[{\"type\":\"contour\",\"colorbar\":{\"outlinewidth\":0,\"ticks\":\"\"},\"colorscale\":[[0.0,\"#0d0887\"],[0.1111111111111111,\"#46039f\"],[0.2222222222222222,\"#7201a8\"],[0.3333333333333333,\"#9c179e\"],[0.4444444444444444,\"#bd3786\"],[0.5555555555555556,\"#d8576b\"],[0.6666666666666666,\"#ed7953\"],[0.7777777777777778,\"#fb9f3a\"],[0.8888888888888888,\"#fdca26\"],[1.0,\"#f0f921\"]]}],\"surface\":[{\"type\":\"surface\",\"colorbar\":{\"outlinewidth\":0,\"ticks\":\"\"},\"colorscale\":[[0.0,\"#0d0887\"],[0.1111111111111111,\"#46039f\"],[0.2222222222222222,\"#7201a8\"],[0.3333333333333333,\"#9c179e\"],[0.4444444444444444,\"#bd3786\"],[0.5555555555555556,\"#d8576b\"],[0.6666666666666666,\"#ed7953\"],[0.7777777777777778,\"#fb9f3a\"],[0.8888888888888888,\"#fdca26\"],[1.0,\"#f0f921\"]]}],\"mesh3d\":[{\"type\":\"mesh3d\",\"colorbar\":{\"outlinewidth\":0,\"ticks\":\"\"}}],\"scatter\":[{\"fillpattern\":{\"fillmode\":\"overlay\",\"size\":10,\"solidity\":0.2},\"type\":\"scatter\"}],\"parcoords\":[{\"type\":\"parcoords\",\"line\":{\"colorbar\":{\"outlinewidth\":0,\"ticks\":\"\"}}}],\"scatterpolargl\":[{\"type\":\"scatterpolargl\",\"marker\":{\"colorbar\":{\"outlinewidth\":0,\"ticks\":\"\"}}}],\"bar\":[{\"error_x\":{\"color\":\"#2a3f5f\"},\"error_y\":{\"color\":\"#2a3f5f\"},\"marker\":{\"line\":{\"color\":\"#E5ECF6\",\"width\":0.5},\"pattern\":{\"fillmode\":\"overlay\",\"size\":10,\"solidity\":0.2}},\"type\":\"bar\"}],\"scattergeo\":[{\"type\":\"scattergeo\",\"marker\":{\"colorbar\":{\"outlinewidth\":0,\"ticks\":\"\"}}}],\"scatterpolar\":[{\"type\":\"scatterpolar\",\"marker\":{\"colorbar\":{\"outlinewidth\":0,\"ticks\":\"\"}}}],\"histogram\":[{\"marker\":{\"pattern\":{\"fillmode\":\"overlay\",\"size\":10,\"solidity\":0.2}},\"type\":\"histogram\"}],\"scattergl\":[{\"type\":\"scattergl\",\"marker\":{\"colorbar\":{\"outlinewidth\":0,\"ticks\":\"\"}}}],\"scatter3d\":[{\"type\":\"scatter3d\",\"line\":{\"colorbar\":{\"outlinewidth\":0,\"ticks\":\"\"}},\"marker\":{\"colorbar\":{\"outlinewidth\":0,\"ticks\":\"\"}}}],\"scattermapbox\":[{\"type\":\"scattermapbox\",\"marker\":{\"colorbar\":{\"outlinewidth\":0,\"ticks\":\"\"}}}],\"scatterternary\":[{\"type\":\"scatterternary\",\"marker\":{\"colorbar\":{\"outlinewidth\":0,\"ticks\":\"\"}}}],\"scattercarpet\":[{\"type\":\"scattercarpet\",\"marker\":{\"colorbar\":{\"outlinewidth\":0,\"ticks\":\"\"}}}],\"carpet\":[{\"aaxis\":{\"endlinecolor\":\"#2a3f5f\",\"gridcolor\":\"white\",\"linecolor\":\"white\",\"minorgridcolor\":\"white\",\"startlinecolor\":\"#2a3f5f\"},\"baxis\":{\"endlinecolor\":\"#2a3f5f\",\"gridcolor\":\"white\",\"linecolor\":\"white\",\"minorgridcolor\":\"white\",\"startlinecolor\":\"#2a3f5f\"},\"type\":\"carpet\"}],\"table\":[{\"cells\":{\"fill\":{\"color\":\"#EBF0F8\"},\"line\":{\"color\":\"white\"}},\"header\":{\"fill\":{\"color\":\"#C8D4E3\"},\"line\":{\"color\":\"white\"}},\"type\":\"table\"}],\"barpolar\":[{\"marker\":{\"line\":{\"color\":\"#E5ECF6\",\"width\":0.5},\"pattern\":{\"fillmode\":\"overlay\",\"size\":10,\"solidity\":0.2}},\"type\":\"barpolar\"}],\"pie\":[{\"automargin\":true,\"type\":\"pie\"}]},\"layout\":{\"autotypenumbers\":\"strict\",\"colorway\":[\"#636efa\",\"#EF553B\",\"#00cc96\",\"#ab63fa\",\"#FFA15A\",\"#19d3f3\",\"#FF6692\",\"#B6E880\",\"#FF97FF\",\"#FECB52\"],\"font\":{\"color\":\"#2a3f5f\"},\"hovermode\":\"closest\",\"hoverlabel\":{\"align\":\"left\"},\"paper_bgcolor\":\"white\",\"plot_bgcolor\":\"#E5ECF6\",\"polar\":{\"bgcolor\":\"#E5ECF6\",\"angularaxis\":{\"gridcolor\":\"white\",\"linecolor\":\"white\",\"ticks\":\"\"},\"radialaxis\":{\"gridcolor\":\"white\",\"linecolor\":\"white\",\"ticks\":\"\"}},\"ternary\":{\"bgcolor\":\"#E5ECF6\",\"aaxis\":{\"gridcolor\":\"white\",\"linecolor\":\"white\",\"ticks\":\"\"},\"baxis\":{\"gridcolor\":\"white\",\"linecolor\":\"white\",\"ticks\":\"\"},\"caxis\":{\"gridcolor\":\"white\",\"linecolor\":\"white\",\"ticks\":\"\"}},\"coloraxis\":{\"colorbar\":{\"outlinewidth\":0,\"ticks\":\"\"}},\"colorscale\":{\"sequential\":[[0.0,\"#0d0887\"],[0.1111111111111111,\"#46039f\"],[0.2222222222222222,\"#7201a8\"],[0.3333333333333333,\"#9c179e\"],[0.4444444444444444,\"#bd3786\"],[0.5555555555555556,\"#d8576b\"],[0.6666666666666666,\"#ed7953\"],[0.7777777777777778,\"#fb9f3a\"],[0.8888888888888888,\"#fdca26\"],[1.0,\"#f0f921\"]],\"sequentialminus\":[[0.0,\"#0d0887\"],[0.1111111111111111,\"#46039f\"],[0.2222222222222222,\"#7201a8\"],[0.3333333333333333,\"#9c179e\"],[0.4444444444444444,\"#bd3786\"],[0.5555555555555556,\"#d8576b\"],[0.6666666666666666,\"#ed7953\"],[0.7777777777777778,\"#fb9f3a\"],[0.8888888888888888,\"#fdca26\"],[1.0,\"#f0f921\"]],\"diverging\":[[0,\"#8e0152\"],[0.1,\"#c51b7d\"],[0.2,\"#de77ae\"],[0.3,\"#f1b6da\"],[0.4,\"#fde0ef\"],[0.5,\"#f7f7f7\"],[0.6,\"#e6f5d0\"],[0.7,\"#b8e186\"],[0.8,\"#7fbc41\"],[0.9,\"#4d9221\"],[1,\"#276419\"]]},\"xaxis\":{\"gridcolor\":\"white\",\"linecolor\":\"white\",\"ticks\":\"\",\"title\":{\"standoff\":15},\"zerolinecolor\":\"white\",\"automargin\":true,\"zerolinewidth\":2},\"yaxis\":{\"gridcolor\":\"white\",\"linecolor\":\"white\",\"ticks\":\"\",\"title\":{\"standoff\":15},\"zerolinecolor\":\"white\",\"automargin\":true,\"zerolinewidth\":2},\"scene\":{\"xaxis\":{\"backgroundcolor\":\"#E5ECF6\",\"gridcolor\":\"white\",\"linecolor\":\"white\",\"showbackground\":true,\"ticks\":\"\",\"zerolinecolor\":\"white\",\"gridwidth\":2},\"yaxis\":{\"backgroundcolor\":\"#E5ECF6\",\"gridcolor\":\"white\",\"linecolor\":\"white\",\"showbackground\":true,\"ticks\":\"\",\"zerolinecolor\":\"white\",\"gridwidth\":2},\"zaxis\":{\"backgroundcolor\":\"#E5ECF6\",\"gridcolor\":\"white\",\"linecolor\":\"white\",\"showbackground\":true,\"ticks\":\"\",\"zerolinecolor\":\"white\",\"gridwidth\":2}},\"shapedefaults\":{\"line\":{\"color\":\"#2a3f5f\"}},\"annotationdefaults\":{\"arrowcolor\":\"#2a3f5f\",\"arrowhead\":0,\"arrowwidth\":1},\"geo\":{\"bgcolor\":\"white\",\"landcolor\":\"#E5ECF6\",\"subunitcolor\":\"white\",\"showland\":true,\"showlakes\":true,\"lakecolor\":\"white\"},\"title\":{\"x\":0.05},\"mapbox\":{\"style\":\"light\"}}},\"title\":{\"text\":\"Proportion of energy type generated by Argentina (GWh)\"},\"xaxis\":{\"title\":{\"text\":\"Year\"}},\"yaxis\":{\"title\":{\"text\":\"Energy ratio produced (%)\"}}},                        {\"responsive\": true}                    ).then(function(){\n",
       "                            \n",
       "var gd = document.getElementById('5276f2a8-317d-4719-b615-f1de1abc5703');\n",
       "var x = new MutationObserver(function (mutations, observer) {{\n",
       "        var display = window.getComputedStyle(gd).display;\n",
       "        if (!display || display === 'none') {{\n",
       "            console.log([gd, 'removed!']);\n",
       "            Plotly.purge(gd);\n",
       "            observer.disconnect();\n",
       "        }}\n",
       "}});\n",
       "\n",
       "// Listen for the removal of the full notebook cells\n",
       "var notebookContainer = gd.closest('#notebook-container');\n",
       "if (notebookContainer) {{\n",
       "    x.observe(notebookContainer, {childList: true});\n",
       "}}\n",
       "\n",
       "// Listen for the clearing of the current output cell\n",
       "var outputEl = gd.closest('.output');\n",
       "if (outputEl) {{\n",
       "    x.observe(outputEl, {childList: true});\n",
       "}}\n",
       "\n",
       "                        })                };                });            </script>        </div>"
      ]
     },
     "metadata": {},
     "output_type": "display_data"
    }
   ],
   "source": [
    "data_yearly_2 = data_yearly\n",
    "mask = data_yearly_2[\"COUNTRY\"] == country_select.result\n",
    "data_filtered_2 = data_yearly_2[mask]\n",
    "\n",
    "y1 = data_filtered_2[\"%_RENEWABLE_PRODUCED\"]\n",
    "y2 = data_filtered_2[\"%_NUCLEAR_PRODUCED\"]\n",
    "y3 = data_filtered_2[\"%_FOSSILE_PRODUCED\"]\n",
    "\n",
    "fig = go.Figure()\n",
    "fig.add_trace(go.Scatter(x=data_filtered_2[\"TIME\"], y=y1, mode=\"lines\", name=\"Renewable energy produced (%)\"))\n",
    "fig.add_trace(go.Scatter(x=data_filtered_2[\"TIME\"], y=y2, mode=\"lines\", name=\"Nuclear energy produced (%)\"))\n",
    "fig.add_trace(go.Scatter(x=data_filtered_2[\"TIME\"], y=y3, mode=\"lines\", name=\"Fossile energy produced (%)\"))\n",
    "\n",
    "fig.update_layout(title=f'Proportion of energy type generated by {country_select.result} (GWh)',\n",
    "    xaxis=dict(title='Year'),\n",
    "    yaxis=dict(title='Energy ratio produced (%)'))\n",
    "\n",
    "fig.show()"
   ]
  },
  {
   "cell_type": "code",
   "execution_count": 13,
   "id": "89f6b3b6",
   "metadata": {},
   "outputs": [
    {
     "data": {
      "application/vnd.plotly.v1+json": {
       "config": {
        "plotlyServerURL": "https://plot.ly"
       },
       "data": [
        {
         "alignmentgroup": "True",
         "hovertemplate": "variable=Renewables<br>COUNTRY=Argentina<br>Year=%{x}<br>Energy Production (GWh)=%{y}<extra></extra>",
         "legendgroup": "Renewables",
         "marker": {
          "color": "#636efa",
          "pattern": {
           "shape": ""
          }
         },
         "name": "Renewables",
         "offsetgroup": "Renewables",
         "orientation": "v",
         "showlegend": true,
         "textposition": "auto",
         "type": "bar",
         "x": [
          2015,
          2016,
          2017,
          2018,
          2019,
          2020,
          2021,
          2022
         ],
         "xaxis": "x",
         "y": [
          33567.573,
          31013.883,
          33292.217000000004,
          34652.21956,
          34524.081521,
          36392.04386,
          42587.396466,
          43141.786988
         ],
         "yaxis": "y"
        },
        {
         "alignmentgroup": "True",
         "hovertemplate": "variable=Nuclear<br>COUNTRY=Argentina<br>Year=%{x}<br>Energy Production (GWh)=%{y}<extra></extra>",
         "legendgroup": "Nuclear",
         "marker": {
          "color": "#EF553B",
          "pattern": {
           "shape": ""
          }
         },
         "name": "Nuclear",
         "offsetgroup": "Nuclear",
         "orientation": "v",
         "showlegend": true,
         "textposition": "auto",
         "type": "bar",
         "x": [
          2015,
          2016,
          2017,
          2018,
          2019,
          2020,
          2021,
          2022
         ],
         "xaxis": "x",
         "y": [
          6644.077,
          7820.169,
          5770.611,
          6514.307078,
          7969.4685230000005,
          10064.414559,
          10224.076091,
          7509.18667
         ],
         "yaxis": "y"
        },
        {
         "alignmentgroup": "True",
         "hovertemplate": "variable=Total combustible fuels<br>COUNTRY=Argentina<br>Year=%{x}<br>Energy Production (GWh)=%{y}<extra></extra>",
         "legendgroup": "Total combustible fuels",
         "marker": {
          "color": "#00cc96",
          "pattern": {
           "shape": ""
          }
         },
         "name": "Total combustible fuels",
         "offsetgroup": "Total combustible fuels",
         "orientation": "v",
         "showlegend": true,
         "textposition": "auto",
         "type": "bar",
         "x": [
          2015,
          2016,
          2017,
          2018,
          2019,
          2020,
          2021,
          2022
         ],
         "xaxis": "x",
         "y": [
          98499.693,
          101477.393,
          100155.943,
          99297.98336,
          91519.67088,
          93246.980101,
          102048.186182,
          91536.894631
         ],
         "yaxis": "y"
        }
       ],
       "frames": [
        {
         "data": [
          {
           "alignmentgroup": "True",
           "hovertemplate": "variable=Renewables<br>COUNTRY=Argentina<br>Year=%{x}<br>Energy Production (GWh)=%{y}<extra></extra>",
           "legendgroup": "Renewables",
           "marker": {
            "color": "#636efa",
            "pattern": {
             "shape": ""
            }
           },
           "name": "Renewables",
           "offsetgroup": "Renewables",
           "orientation": "v",
           "showlegend": true,
           "textposition": "auto",
           "type": "bar",
           "x": [
            2015,
            2016,
            2017,
            2018,
            2019,
            2020,
            2021,
            2022
           ],
           "xaxis": "x",
           "y": [
            33567.573,
            31013.883,
            33292.217000000004,
            34652.21956,
            34524.081521,
            36392.04386,
            42587.396466,
            43141.786988
           ],
           "yaxis": "y"
          },
          {
           "alignmentgroup": "True",
           "hovertemplate": "variable=Nuclear<br>COUNTRY=Argentina<br>Year=%{x}<br>Energy Production (GWh)=%{y}<extra></extra>",
           "legendgroup": "Nuclear",
           "marker": {
            "color": "#EF553B",
            "pattern": {
             "shape": ""
            }
           },
           "name": "Nuclear",
           "offsetgroup": "Nuclear",
           "orientation": "v",
           "showlegend": true,
           "textposition": "auto",
           "type": "bar",
           "x": [
            2015,
            2016,
            2017,
            2018,
            2019,
            2020,
            2021,
            2022
           ],
           "xaxis": "x",
           "y": [
            6644.077,
            7820.169,
            5770.611,
            6514.307078,
            7969.4685230000005,
            10064.414559,
            10224.076091,
            7509.18667
           ],
           "yaxis": "y"
          },
          {
           "alignmentgroup": "True",
           "hovertemplate": "variable=Total combustible fuels<br>COUNTRY=Argentina<br>Year=%{x}<br>Energy Production (GWh)=%{y}<extra></extra>",
           "legendgroup": "Total combustible fuels",
           "marker": {
            "color": "#00cc96",
            "pattern": {
             "shape": ""
            }
           },
           "name": "Total combustible fuels",
           "offsetgroup": "Total combustible fuels",
           "orientation": "v",
           "showlegend": true,
           "textposition": "auto",
           "type": "bar",
           "x": [
            2015,
            2016,
            2017,
            2018,
            2019,
            2020,
            2021,
            2022
           ],
           "xaxis": "x",
           "y": [
            98499.693,
            101477.393,
            100155.943,
            99297.98336,
            91519.67088,
            93246.980101,
            102048.186182,
            91536.894631
           ],
           "yaxis": "y"
          }
         ],
         "name": "Argentina"
        },
        {
         "data": [
          {
           "alignmentgroup": "True",
           "hovertemplate": "variable=Renewables<br>COUNTRY=Australia<br>Year=%{x}<br>Energy Production (GWh)=%{y}<extra></extra>",
           "legendgroup": "Renewables",
           "marker": {
            "color": "#636efa",
            "pattern": {
             "shape": ""
            }
           },
           "name": "Renewables",
           "offsetgroup": "Renewables",
           "orientation": "v",
           "showlegend": true,
           "textposition": "auto",
           "type": "bar",
           "x": [
            2010,
            2011,
            2012,
            2013,
            2014,
            2015,
            2016,
            2017,
            2018,
            2019,
            2020,
            2021,
            2022
           ],
           "xaxis": "x",
           "y": [
            24610.86,
            25078.374,
            29876.966,
            35667.676,
            32869.815,
            35033.856311,
            43979.519863,
            39298.654663,
            50132.733078,
            55675.459561,
            65300.914967,
            79585.79405,
            91140.767104
           ],
           "yaxis": "y"
          },
          {
           "alignmentgroup": "True",
           "hovertemplate": "variable=Nuclear<br>COUNTRY=Australia<br>Year=%{x}<br>Energy Production (GWh)=%{y}<extra></extra>",
           "legendgroup": "Nuclear",
           "marker": {
            "color": "#EF553B",
            "pattern": {
             "shape": ""
            }
           },
           "name": "Nuclear",
           "offsetgroup": "Nuclear",
           "orientation": "v",
           "showlegend": true,
           "textposition": "auto",
           "type": "bar",
           "x": [
            2010,
            2011,
            2012,
            2013,
            2014,
            2015,
            2016,
            2017,
            2018,
            2019,
            2020,
            2021,
            2022
           ],
           "xaxis": "x",
           "y": [
            0,
            0,
            0,
            0,
            0,
            0,
            0,
            0,
            0,
            0,
            0,
            0,
            0
           ],
           "yaxis": "y"
          },
          {
           "alignmentgroup": "True",
           "hovertemplate": "variable=Total combustible fuels<br>COUNTRY=Australia<br>Year=%{x}<br>Energy Production (GWh)=%{y}<extra></extra>",
           "legendgroup": "Total combustible fuels",
           "marker": {
            "color": "#00cc96",
            "pattern": {
             "shape": ""
            }
           },
           "name": "Total combustible fuels",
           "offsetgroup": "Total combustible fuels",
           "orientation": "v",
           "showlegend": true,
           "textposition": "auto",
           "type": "bar",
           "x": [
            2010,
            2011,
            2012,
            2013,
            2014,
            2015,
            2016,
            2017,
            2018,
            2019,
            2020,
            2021,
            2022
           ],
           "xaxis": "x",
           "y": [
            214302.969,
            216322.15899999999,
            209534.422,
            198806.252,
            208675.772,
            209285.37664099998,
            207156.89535,
            209572.321406,
            200828.02296099998,
            199150.001687,
            189712.149699,
            179392.243375,
            174108.47098
           ],
           "yaxis": "y"
          }
         ],
         "name": "Australia"
        },
        {
         "data": [
          {
           "alignmentgroup": "True",
           "hovertemplate": "variable=Renewables<br>COUNTRY=Austria<br>Year=%{x}<br>Energy Production (GWh)=%{y}<extra></extra>",
           "legendgroup": "Renewables",
           "marker": {
            "color": "#636efa",
            "pattern": {
             "shape": ""
            }
           },
           "name": "Renewables",
           "offsetgroup": "Renewables",
           "orientation": "v",
           "showlegend": true,
           "textposition": "auto",
           "type": "bar",
           "x": [
            2010,
            2011,
            2012,
            2013,
            2014,
            2015,
            2016,
            2017,
            2018,
            2019,
            2020,
            2021,
            2022
           ],
           "xaxis": "x",
           "y": [
            45809.266,
            42207.865,
            52720.992,
            51826.71,
            51370.356999999996,
            48405.934,
            51467.09,
            52448.23,
            51106.768430000004,
            55235.997182,
            55437.98516,
            53472.61501,
            51259.356188
           ],
           "yaxis": "y"
          },
          {
           "alignmentgroup": "True",
           "hovertemplate": "variable=Nuclear<br>COUNTRY=Austria<br>Year=%{x}<br>Energy Production (GWh)=%{y}<extra></extra>",
           "legendgroup": "Nuclear",
           "marker": {
            "color": "#EF553B",
            "pattern": {
             "shape": ""
            }
           },
           "name": "Nuclear",
           "offsetgroup": "Nuclear",
           "orientation": "v",
           "showlegend": true,
           "textposition": "auto",
           "type": "bar",
           "x": [
            2010,
            2011,
            2012,
            2013,
            2014,
            2015,
            2016,
            2017,
            2018,
            2019,
            2020,
            2021,
            2022
           ],
           "xaxis": "x",
           "y": [
            0,
            0,
            0,
            0,
            0,
            0,
            0,
            0,
            0,
            0,
            0,
            0,
            0
           ],
           "yaxis": "y"
          },
          {
           "alignmentgroup": "True",
           "hovertemplate": "variable=Total combustible fuels<br>COUNTRY=Austria<br>Year=%{x}<br>Energy Production (GWh)=%{y}<extra></extra>",
           "legendgroup": "Total combustible fuels",
           "marker": {
            "color": "#00cc96",
            "pattern": {
             "shape": ""
            }
           },
           "name": "Total combustible fuels",
           "offsetgroup": "Total combustible fuels",
           "orientation": "v",
           "showlegend": true,
           "textposition": "auto",
           "type": "bar",
           "x": [
            2010,
            2011,
            2012,
            2013,
            2014,
            2015,
            2016,
            2017,
            2018,
            2019,
            2020,
            2021,
            2022
           ],
           "xaxis": "x",
           "y": [
            26042.221,
            24602.529,
            21050.441,
            17945.572,
            15179.741,
            17947.525,
            18024.479,
            20331.363,
            18961.854999,
            19984.499001,
            17572.505,
            17945.498193,
            18314.839288
           ],
           "yaxis": "y"
          }
         ],
         "name": "Austria"
        },
        {
         "data": [
          {
           "alignmentgroup": "True",
           "hovertemplate": "variable=Renewables<br>COUNTRY=Belgium<br>Year=%{x}<br>Energy Production (GWh)=%{y}<extra></extra>",
           "legendgroup": "Renewables",
           "marker": {
            "color": "#636efa",
            "pattern": {
             "shape": ""
            }
           },
           "name": "Renewables",
           "offsetgroup": "Renewables",
           "orientation": "v",
           "showlegend": true,
           "textposition": "auto",
           "type": "bar",
           "x": [
            2010,
            2011,
            2012,
            2013,
            2014,
            2015,
            2016,
            2017,
            2018,
            2019,
            2020,
            2021,
            2022
           ],
           "xaxis": "x",
           "y": [
            7681.649,
            9405.339,
            11518.663,
            12745.991,
            13199.087,
            15308.409,
            15132.223,
            16576.751,
            17726.295457,
            19916.739189,
            24035.054198,
            23292.515605,
            24733.478944000002
           ],
           "yaxis": "y"
          },
          {
           "alignmentgroup": "True",
           "hovertemplate": "variable=Nuclear<br>COUNTRY=Belgium<br>Year=%{x}<br>Energy Production (GWh)=%{y}<extra></extra>",
           "legendgroup": "Nuclear",
           "marker": {
            "color": "#EF553B",
            "pattern": {
             "shape": ""
            }
           },
           "name": "Nuclear",
           "offsetgroup": "Nuclear",
           "orientation": "v",
           "showlegend": true,
           "textposition": "auto",
           "type": "bar",
           "x": [
            2010,
            2011,
            2012,
            2013,
            2014,
            2015,
            2016,
            2017,
            2018,
            2019,
            2020,
            2021,
            2022
           ],
           "xaxis": "x",
           "y": [
            45729,
            45942,
            38464.001,
            40567,
            31969.002,
            24824.998,
            41429.998999999996,
            40128.501,
            27126.299999,
            41305.599999,
            32605.8,
            47891.716523,
            41616.582424
           ],
           "yaxis": "y"
          },
          {
           "alignmentgroup": "True",
           "hovertemplate": "variable=Total combustible fuels<br>COUNTRY=Belgium<br>Year=%{x}<br>Energy Production (GWh)=%{y}<extra></extra>",
           "legendgroup": "Total combustible fuels",
           "marker": {
            "color": "#00cc96",
            "pattern": {
             "shape": ""
            }
           },
           "name": "Total combustible fuels",
           "offsetgroup": "Total combustible fuels",
           "orientation": "v",
           "showlegend": true,
           "textposition": "auto",
           "type": "bar",
           "x": [
            2010,
            2011,
            2012,
            2013,
            2014,
            2015,
            2016,
            2017,
            2018,
            2019,
            2020,
            2021,
            2022
           ],
           "xaxis": "x",
           "y": [
            42060.998999999996,
            35720.998999999996,
            34628,
            31407,
            28579,
            32204.899,
            30672.601,
            31438.801,
            31920.700002,
            33279.4,
            34037.800001,
            29265.178901,
            29513.266759
           ],
           "yaxis": "y"
          }
         ],
         "name": "Belgium"
        },
        {
         "data": [
          {
           "alignmentgroup": "True",
           "hovertemplate": "variable=Renewables<br>COUNTRY=Brazil<br>Year=%{x}<br>Energy Production (GWh)=%{y}<extra></extra>",
           "legendgroup": "Renewables",
           "marker": {
            "color": "#636efa",
            "pattern": {
             "shape": ""
            }
           },
           "name": "Renewables",
           "offsetgroup": "Renewables",
           "orientation": "v",
           "showlegend": true,
           "textposition": "auto",
           "type": "bar",
           "x": [
            2015,
            2016,
            2017,
            2018,
            2019,
            2020,
            2021,
            2022
           ],
           "xaxis": "x",
           "y": [
            423216.131,
            457470.239,
            458637.322,
            486518.198235,
            507537.708859,
            514703.665791,
            477740.617312,
            583458.043248
           ],
           "yaxis": "y"
          },
          {
           "alignmentgroup": "True",
           "hovertemplate": "variable=Nuclear<br>COUNTRY=Brazil<br>Year=%{x}<br>Energy Production (GWh)=%{y}<extra></extra>",
           "legendgroup": "Nuclear",
           "marker": {
            "color": "#EF553B",
            "pattern": {
             "shape": ""
            }
           },
           "name": "Nuclear",
           "offsetgroup": "Nuclear",
           "orientation": "v",
           "showlegend": true,
           "textposition": "auto",
           "type": "bar",
           "x": [
            2015,
            2016,
            2017,
            2018,
            2019,
            2020,
            2021,
            2022
           ],
           "xaxis": "x",
           "y": [
            13907.351,
            14973.952000000001,
            14856.152,
            14794.505006,
            15161.094561,
            13209.442119,
            13825.679378,
            13684.322262
           ],
           "yaxis": "y"
          },
          {
           "alignmentgroup": "True",
           "hovertemplate": "variable=Total combustible fuels<br>COUNTRY=Brazil<br>Year=%{x}<br>Energy Production (GWh)=%{y}<extra></extra>",
           "legendgroup": "Total combustible fuels",
           "marker": {
            "color": "#00cc96",
            "pattern": {
             "shape": ""
            }
           },
           "name": "Total combustible fuels",
           "offsetgroup": "Total combustible fuels",
           "orientation": "v",
           "showlegend": true,
           "textposition": "auto",
           "type": "bar",
           "x": [
            2015,
            2016,
            2017,
            2018,
            2019,
            2020,
            2021,
            2022
           ],
           "xaxis": "x",
           "y": [
            173553.155,
            139038.848,
            149241.7,
            135482.435488,
            140312.532881,
            134184.2198,
            196820.964317,
            94970.301581
           ],
           "yaxis": "y"
          }
         ],
         "name": "Brazil"
        },
        {
         "data": [
          {
           "alignmentgroup": "True",
           "hovertemplate": "variable=Renewables<br>COUNTRY=Bulgaria<br>Year=%{x}<br>Energy Production (GWh)=%{y}<extra></extra>",
           "legendgroup": "Renewables",
           "marker": {
            "color": "#636efa",
            "pattern": {
             "shape": ""
            }
           },
           "name": "Renewables",
           "offsetgroup": "Renewables",
           "orientation": "v",
           "showlegend": true,
           "textposition": "auto",
           "type": "bar",
           "x": [
            2015,
            2016,
            2017,
            2018,
            2019,
            2020,
            2021,
            2022
           ],
           "xaxis": "x",
           "y": [
            9094.398,
            7648.193,
            6699.715,
            9374.168267,
            7669.257401,
            7690.763573,
            10143.970128,
            9153.369705000001
           ],
           "yaxis": "y"
          },
          {
           "alignmentgroup": "True",
           "hovertemplate": "variable=Nuclear<br>COUNTRY=Bulgaria<br>Year=%{x}<br>Energy Production (GWh)=%{y}<extra></extra>",
           "legendgroup": "Nuclear",
           "marker": {
            "color": "#EF553B",
            "pattern": {
             "shape": ""
            }
           },
           "name": "Nuclear",
           "offsetgroup": "Nuclear",
           "orientation": "v",
           "showlegend": true,
           "textposition": "auto",
           "type": "bar",
           "x": [
            2015,
            2016,
            2017,
            2018,
            2019,
            2020,
            2021,
            2022
           ],
           "xaxis": "x",
           "y": [
            14528,
            14932.001,
            14718.367,
            15291.203999,
            15712.446,
            15787.268001,
            15650.832998,
            15615.001997
           ],
           "yaxis": "y"
          },
          {
           "alignmentgroup": "True",
           "hovertemplate": "variable=Total combustible fuels<br>COUNTRY=Bulgaria<br>Year=%{x}<br>Energy Production (GWh)=%{y}<extra></extra>",
           "legendgroup": "Total combustible fuels",
           "marker": {
            "color": "#00cc96",
            "pattern": {
             "shape": ""
            }
           },
           "name": "Total combustible fuels",
           "offsetgroup": "Total combustible fuels",
           "orientation": "v",
           "showlegend": true,
           "textposition": "auto",
           "type": "bar",
           "x": [
            2015,
            2016,
            2017,
            2018,
            2019,
            2020,
            2021,
            2022
           ],
           "xaxis": "x",
           "y": [
            21314.999,
            18908.998,
            20234.209,
            19371.636,
            18494.507999,
            15167.317998,
            19855.117,
            22862.372252
           ],
           "yaxis": "y"
          }
         ],
         "name": "Bulgaria"
        },
        {
         "data": [
          {
           "alignmentgroup": "True",
           "hovertemplate": "variable=Renewables<br>COUNTRY=Canada<br>Year=%{x}<br>Energy Production (GWh)=%{y}<extra></extra>",
           "legendgroup": "Renewables",
           "marker": {
            "color": "#636efa",
            "pattern": {
             "shape": ""
            }
           },
           "name": "Renewables",
           "offsetgroup": "Renewables",
           "orientation": "v",
           "showlegend": true,
           "textposition": "auto",
           "type": "bar",
           "x": [
            2010,
            2011,
            2012,
            2013,
            2014,
            2015,
            2016,
            2017,
            2018,
            2019,
            2020,
            2021,
            2022
           ],
           "xaxis": "x",
           "y": [
            366611.134,
            392288.66000000003,
            398121.491,
            416479.892,
            414931.787,
            416605.471,
            425347.081,
            436143.86100000003,
            428485.542932,
            422568.13133999996,
            430313.182139,
            427134.88302199997,
            446026.725612
           ],
           "yaxis": "y"
          },
          {
           "alignmentgroup": "True",
           "hovertemplate": "variable=Nuclear<br>COUNTRY=Canada<br>Year=%{x}<br>Energy Production (GWh)=%{y}<extra></extra>",
           "legendgroup": "Nuclear",
           "marker": {
            "color": "#EF553B",
            "pattern": {
             "shape": ""
            }
           },
           "name": "Nuclear",
           "offsetgroup": "Nuclear",
           "orientation": "v",
           "showlegend": true,
           "textposition": "auto",
           "type": "bar",
           "x": [
            2010,
            2011,
            2012,
            2013,
            2014,
            2015,
            2016,
            2017,
            2018,
            2019,
            2020,
            2021,
            2022
           ],
           "xaxis": "x",
           "y": [
            85527,
            88290.999,
            89491.99799999999,
            97583.999,
            101207.999,
            96046.00099999999,
            95687,
            95565.001,
            95030.00000100001,
            95469,
            92651.606554,
            87362.240845,
            82287.819565
           ],
           "yaxis": "y"
          },
          {
           "alignmentgroup": "True",
           "hovertemplate": "variable=Total combustible fuels<br>COUNTRY=Canada<br>Year=%{x}<br>Energy Production (GWh)=%{y}<extra></extra>",
           "legendgroup": "Total combustible fuels",
           "marker": {
            "color": "#00cc96",
            "pattern": {
             "shape": ""
            }
           },
           "name": "Total combustible fuels",
           "offsetgroup": "Total combustible fuels",
           "orientation": "v",
           "showlegend": true,
           "textposition": "auto",
           "type": "bar",
           "x": [
            2010,
            2011,
            2012,
            2013,
            2014,
            2015,
            2016,
            2017,
            2018,
            2019,
            2020,
            2021,
            2022
           ],
           "xaxis": "x",
           "y": [
            140041,
            140839.999,
            133848.999,
            132244,
            134613.998,
            134251,
            132249.999,
            122880,
            121393,
            119237,
            109734.866236,
            120800.180915,
            119318.008239
           ],
           "yaxis": "y"
          }
         ],
         "name": "Canada"
        },
        {
         "data": [
          {
           "alignmentgroup": "True",
           "hovertemplate": "variable=Renewables<br>COUNTRY=Chile<br>Year=%{x}<br>Energy Production (GWh)=%{y}<extra></extra>",
           "legendgroup": "Renewables",
           "marker": {
            "color": "#636efa",
            "pattern": {
             "shape": ""
            }
           },
           "name": "Renewables",
           "offsetgroup": "Renewables",
           "orientation": "v",
           "showlegend": true,
           "textposition": "auto",
           "type": "bar",
           "x": [
            2010,
            2011,
            2012,
            2013,
            2014,
            2015,
            2016,
            2017,
            2018,
            2019,
            2020,
            2021,
            2022
           ],
           "xaxis": "x",
           "y": [
            24101.174,
            25689.737,
            24871.883,
            25642.855,
            29943.127,
            32035.042999999998,
            33527.852,
            34147.004,
            37294.544856,
            38612.830575,
            40547.283435,
            41529.625071,
            46886.973366
           ],
           "yaxis": "y"
          },
          {
           "alignmentgroup": "True",
           "hovertemplate": "variable=Nuclear<br>COUNTRY=Chile<br>Year=%{x}<br>Energy Production (GWh)=%{y}<extra></extra>",
           "legendgroup": "Nuclear",
           "marker": {
            "color": "#EF553B",
            "pattern": {
             "shape": ""
            }
           },
           "name": "Nuclear",
           "offsetgroup": "Nuclear",
           "orientation": "v",
           "showlegend": true,
           "textposition": "auto",
           "type": "bar",
           "x": [
            2010,
            2011,
            2012,
            2013,
            2014,
            2015,
            2016,
            2017,
            2018,
            2019,
            2020,
            2021,
            2022
           ],
           "xaxis": "x",
           "y": [
            0,
            0,
            0,
            0,
            0,
            0,
            0,
            0,
            0,
            0,
            0,
            0,
            0
           ],
           "yaxis": "y"
          },
          {
           "alignmentgroup": "True",
           "hovertemplate": "variable=Total combustible fuels<br>COUNTRY=Chile<br>Year=%{x}<br>Energy Production (GWh)=%{y}<extra></extra>",
           "legendgroup": "Total combustible fuels",
           "marker": {
            "color": "#00cc96",
            "pattern": {
             "shape": ""
            }
           },
           "name": "Total combustible fuels",
           "offsetgroup": "Total combustible fuels",
           "orientation": "v",
           "showlegend": true,
           "textposition": "auto",
           "type": "bar",
           "x": [
            2010,
            2011,
            2012,
            2013,
            2014,
            2015,
            2016,
            2017,
            2018,
            2019,
            2020,
            2021,
            2022
           ],
           "xaxis": "x",
           "y": [
            36249.001000000004,
            41914.001,
            45454.001000000004,
            49341,
            44426.002,
            45276.001,
            48610.002,
            48716.992,
            48064.578,
            48680.373,
            46666.701831,
            49492.308858000004,
            37314.721303
           ],
           "yaxis": "y"
          }
         ],
         "name": "Chile"
        },
        {
         "data": [
          {
           "alignmentgroup": "True",
           "hovertemplate": "variable=Renewables<br>COUNTRY=Colombia<br>Year=%{x}<br>Energy Production (GWh)=%{y}<extra></extra>",
           "legendgroup": "Renewables",
           "marker": {
            "color": "#636efa",
            "pattern": {
             "shape": ""
            }
           },
           "name": "Renewables",
           "offsetgroup": "Renewables",
           "orientation": "v",
           "showlegend": true,
           "textposition": "auto",
           "type": "bar",
           "x": [
            2014,
            2015,
            2016,
            2017,
            2018,
            2019,
            2020,
            2021,
            2022
           ],
           "xaxis": "x",
           "y": [
            48591.614,
            49301.099,
            49890.778,
            61994.521,
            59670.123082,
            54698.270145,
            50731.028468,
            60649.185588,
            65484.517485000004
           ],
           "yaxis": "y"
          },
          {
           "alignmentgroup": "True",
           "hovertemplate": "variable=Nuclear<br>COUNTRY=Colombia<br>Year=%{x}<br>Energy Production (GWh)=%{y}<extra></extra>",
           "legendgroup": "Nuclear",
           "marker": {
            "color": "#EF553B",
            "pattern": {
             "shape": ""
            }
           },
           "name": "Nuclear",
           "offsetgroup": "Nuclear",
           "orientation": "v",
           "showlegend": true,
           "textposition": "auto",
           "type": "bar",
           "x": [
            2014,
            2015,
            2016,
            2017,
            2018,
            2019,
            2020,
            2021,
            2022
           ],
           "xaxis": "x",
           "y": [
            0,
            0,
            0,
            0,
            0,
            0,
            0,
            0,
            0
           ],
           "yaxis": "y"
          },
          {
           "alignmentgroup": "True",
           "hovertemplate": "variable=Total combustible fuels<br>COUNTRY=Colombia<br>Year=%{x}<br>Energy Production (GWh)=%{y}<extra></extra>",
           "legendgroup": "Total combustible fuels",
           "marker": {
            "color": "#00cc96",
            "pattern": {
             "shape": ""
            }
           },
           "name": "Total combustible fuels",
           "offsetgroup": "Total combustible fuels",
           "orientation": "v",
           "showlegend": true,
           "textposition": "auto",
           "type": "bar",
           "x": [
            2014,
            2015,
            2016,
            2017,
            2018,
            2019,
            2020,
            2021,
            2022
           ],
           "xaxis": "x",
           "y": [
            21699.775,
            28107.510000000002,
            25942.506,
            16731.232,
            19437.342999,
            24906.220001,
            28438.157497,
            22487.155456,
            21698.459702
           ],
           "yaxis": "y"
          }
         ],
         "name": "Colombia"
        },
        {
         "data": [
          {
           "alignmentgroup": "True",
           "hovertemplate": "variable=Renewables<br>COUNTRY=Costa Rica<br>Year=%{x}<br>Energy Production (GWh)=%{y}<extra></extra>",
           "legendgroup": "Renewables",
           "marker": {
            "color": "#636efa",
            "pattern": {
             "shape": ""
            }
           },
           "name": "Renewables",
           "offsetgroup": "Renewables",
           "orientation": "v",
           "showlegend": true,
           "textposition": "auto",
           "type": "bar",
           "x": [
            2021,
            2022
           ],
           "xaxis": "x",
           "y": [
            12501.140132,
            12419.44864
           ],
           "yaxis": "y"
          },
          {
           "alignmentgroup": "True",
           "hovertemplate": "variable=Nuclear<br>COUNTRY=Costa Rica<br>Year=%{x}<br>Energy Production (GWh)=%{y}<extra></extra>",
           "legendgroup": "Nuclear",
           "marker": {
            "color": "#EF553B",
            "pattern": {
             "shape": ""
            }
           },
           "name": "Nuclear",
           "offsetgroup": "Nuclear",
           "orientation": "v",
           "showlegend": true,
           "textposition": "auto",
           "type": "bar",
           "x": [
            2021,
            2022
           ],
           "xaxis": "x",
           "y": [
            0,
            0
           ],
           "yaxis": "y"
          },
          {
           "alignmentgroup": "True",
           "hovertemplate": "variable=Total combustible fuels<br>COUNTRY=Costa Rica<br>Year=%{x}<br>Energy Production (GWh)=%{y}<extra></extra>",
           "legendgroup": "Total combustible fuels",
           "marker": {
            "color": "#00cc96",
            "pattern": {
             "shape": ""
            }
           },
           "name": "Total combustible fuels",
           "offsetgroup": "Total combustible fuels",
           "orientation": "v",
           "showlegend": true,
           "textposition": "auto",
           "type": "bar",
           "x": [
            2021,
            2022
           ],
           "xaxis": "x",
           "y": [
            193.983,
            229.18799
           ],
           "yaxis": "y"
          }
         ],
         "name": "Costa Rica"
        },
        {
         "data": [
          {
           "alignmentgroup": "True",
           "hovertemplate": "variable=Renewables<br>COUNTRY=Croatia<br>Year=%{x}<br>Energy Production (GWh)=%{y}<extra></extra>",
           "legendgroup": "Renewables",
           "marker": {
            "color": "#636efa",
            "pattern": {
             "shape": ""
            }
           },
           "name": "Renewables",
           "offsetgroup": "Renewables",
           "orientation": "v",
           "showlegend": true,
           "textposition": "auto",
           "type": "bar",
           "x": [
            2015,
            2016,
            2017,
            2018,
            2019,
            2020,
            2021,
            2022
           ],
           "xaxis": "x",
           "y": [
            7611.559,
            8433.404,
            7201.522,
            9717.480248,
            8281.486968000001,
            8537.441257,
            10445.7978,
            9033.710625
           ],
           "yaxis": "y"
          },
          {
           "alignmentgroup": "True",
           "hovertemplate": "variable=Nuclear<br>COUNTRY=Croatia<br>Year=%{x}<br>Energy Production (GWh)=%{y}<extra></extra>",
           "legendgroup": "Nuclear",
           "marker": {
            "color": "#EF553B",
            "pattern": {
             "shape": ""
            }
           },
           "name": "Nuclear",
           "offsetgroup": "Nuclear",
           "orientation": "v",
           "showlegend": true,
           "textposition": "auto",
           "type": "bar",
           "x": [
            2015,
            2016,
            2017,
            2018,
            2019,
            2020,
            2021,
            2022
           ],
           "xaxis": "x",
           "y": [
            0,
            0,
            0,
            0,
            0,
            0,
            0,
            0
           ],
           "yaxis": "y"
          },
          {
           "alignmentgroup": "True",
           "hovertemplate": "variable=Total combustible fuels<br>COUNTRY=Croatia<br>Year=%{x}<br>Energy Production (GWh)=%{y}<extra></extra>",
           "legendgroup": "Total combustible fuels",
           "marker": {
            "color": "#00cc96",
            "pattern": {
             "shape": ""
            }
           },
           "name": "Total combustible fuels",
           "offsetgroup": "Total combustible fuels",
           "orientation": "v",
           "showlegend": true,
           "textposition": "auto",
           "type": "bar",
           "x": [
            2015,
            2016,
            2017,
            2018,
            2019,
            2020,
            2021,
            2022
           ],
           "xaxis": "x",
           "y": [
            3611.998,
            4241,
            4808.002,
            4078.599999,
            4778,
            5243.1,
            5254.227707,
            6003.620745
           ],
           "yaxis": "y"
          }
         ],
         "name": "Croatia"
        },
        {
         "data": [
          {
           "alignmentgroup": "True",
           "hovertemplate": "variable=Renewables<br>COUNTRY=Cyprus<br>Year=%{x}<br>Energy Production (GWh)=%{y}<extra></extra>",
           "legendgroup": "Renewables",
           "marker": {
            "color": "#636efa",
            "pattern": {
             "shape": ""
            }
           },
           "name": "Renewables",
           "offsetgroup": "Renewables",
           "orientation": "v",
           "showlegend": true,
           "textposition": "auto",
           "type": "bar",
           "x": [
            2015,
            2016,
            2017,
            2018,
            2019,
            2020,
            2021,
            2022
           ],
           "xaxis": "x",
           "y": [
            396.823,
            422.103,
            432.677,
            474.56845599999997,
            511.936738,
            593.858892,
            721.596273,
            880.606586
           ],
           "yaxis": "y"
          },
          {
           "alignmentgroup": "True",
           "hovertemplate": "variable=Nuclear<br>COUNTRY=Cyprus<br>Year=%{x}<br>Energy Production (GWh)=%{y}<extra></extra>",
           "legendgroup": "Nuclear",
           "marker": {
            "color": "#EF553B",
            "pattern": {
             "shape": ""
            }
           },
           "name": "Nuclear",
           "offsetgroup": "Nuclear",
           "orientation": "v",
           "showlegend": true,
           "textposition": "auto",
           "type": "bar",
           "x": [
            2015,
            2016,
            2017,
            2018,
            2019,
            2020,
            2021,
            2022
           ],
           "xaxis": "x",
           "y": [
            0,
            0,
            0,
            0,
            0,
            0,
            0,
            0
           ],
           "yaxis": "y"
          },
          {
           "alignmentgroup": "True",
           "hovertemplate": "variable=Total combustible fuels<br>COUNTRY=Cyprus<br>Year=%{x}<br>Energy Production (GWh)=%{y}<extra></extra>",
           "legendgroup": "Total combustible fuels",
           "marker": {
            "color": "#00cc96",
            "pattern": {
             "shape": ""
            }
           },
           "name": "Total combustible fuels",
           "offsetgroup": "Total combustible fuels",
           "orientation": "v",
           "showlegend": true,
           "textposition": "auto",
           "type": "bar",
           "x": [
            2015,
            2016,
            2017,
            2018,
            2019,
            2020,
            2021,
            2022
           ],
           "xaxis": "x",
           "y": [
            3964.999,
            4294.999,
            4394.819,
            4406.747999,
            4456.956,
            4114.300998,
            4156.826556,
            4187.43377
           ],
           "yaxis": "y"
          }
         ],
         "name": "Cyprus"
        },
        {
         "data": [
          {
           "alignmentgroup": "True",
           "hovertemplate": "variable=Renewables<br>COUNTRY=Czech Republic<br>Year=%{x}<br>Energy Production (GWh)=%{y}<extra></extra>",
           "legendgroup": "Renewables",
           "marker": {
            "color": "#636efa",
            "pattern": {
             "shape": ""
            }
           },
           "name": "Renewables",
           "offsetgroup": "Renewables",
           "orientation": "v",
           "showlegend": true,
           "textposition": "auto",
           "type": "bar",
           "x": [
            2010,
            2011,
            2012,
            2013,
            2014,
            2015,
            2016,
            2017,
            2018,
            2019,
            2020,
            2021,
            2022
           ],
           "xaxis": "x",
           "y": [
            6235.555,
            7626.8769999999995,
            8402.173,
            9725.578,
            9689.015,
            10128.543,
            10035.875,
            10204.061,
            9900.257937,
            10641.624875,
            11029.68808,
            11184.533855,
            11012.935017
           ],
           "yaxis": "y"
          },
          {
           "alignmentgroup": "True",
           "hovertemplate": "variable=Nuclear<br>COUNTRY=Czech Republic<br>Year=%{x}<br>Energy Production (GWh)=%{y}<extra></extra>",
           "legendgroup": "Nuclear",
           "marker": {
            "color": "#EF553B",
            "pattern": {
             "shape": ""
            }
           },
           "name": "Nuclear",
           "offsetgroup": "Nuclear",
           "orientation": "v",
           "showlegend": true,
           "textposition": "auto",
           "type": "bar",
           "x": [
            2010,
            2011,
            2012,
            2013,
            2014,
            2015,
            2016,
            2017,
            2018,
            2019,
            2020,
            2021,
            2022
           ],
           "xaxis": "x",
           "y": [
            26346.003,
            26602.002,
            28603,
            29001,
            28633,
            25335.001,
            22726.999,
            26785.6,
            28252.539003,
            28579.351,
            28369.685000999998,
            29041.959857,
            29308.427907
           ],
           "yaxis": "y"
          },
          {
           "alignmentgroup": "True",
           "hovertemplate": "variable=Total combustible fuels<br>COUNTRY=Czech Republic<br>Year=%{x}<br>Energy Production (GWh)=%{y}<extra></extra>",
           "legendgroup": "Total combustible fuels",
           "marker": {
            "color": "#00cc96",
            "pattern": {
             "shape": ""
            }
           },
           "name": "Total combustible fuels",
           "offsetgroup": "Total combustible fuels",
           "orientation": "v",
           "showlegend": true,
           "textposition": "auto",
           "type": "bar",
           "x": [
            2010,
            2011,
            2012,
            2013,
            2014,
            2015,
            2016,
            2017,
            2018,
            2019,
            2020,
            2021,
            2022
           ],
           "xaxis": "x",
           "y": [
            47564.998,
            48012,
            46255.998999999996,
            44610.001000000004,
            44891,
            45664,
            47816.998999999996,
            47246.628,
            46926.262,
            45301.339,
            40233.901,
            42651.637912,
            42668.316671
           ],
           "yaxis": "y"
          }
         ],
         "name": "Czech Republic"
        },
        {
         "data": [
          {
           "alignmentgroup": "True",
           "hovertemplate": "variable=Renewables<br>COUNTRY=Denmark<br>Year=%{x}<br>Energy Production (GWh)=%{y}<extra></extra>",
           "legendgroup": "Renewables",
           "marker": {
            "color": "#636efa",
            "pattern": {
             "shape": ""
            }
           },
           "name": "Renewables",
           "offsetgroup": "Renewables",
           "orientation": "v",
           "showlegend": true,
           "textposition": "auto",
           "type": "bar",
           "x": [
            2010,
            2011,
            2012,
            2013,
            2014,
            2015,
            2016,
            2017,
            2018,
            2019,
            2020,
            2021,
            2022
           ],
           "xaxis": "x",
           "y": [
            12134.486,
            13891.649,
            14508.385,
            15667.377,
            17666.24,
            18636.517,
            17974.506,
            21238.905,
            20360.452830000002,
            22679.318561,
            22820.65616,
            25624.467061,
            27909.605478
           ],
           "yaxis": "y"
          },
          {
           "alignmentgroup": "True",
           "hovertemplate": "variable=Nuclear<br>COUNTRY=Denmark<br>Year=%{x}<br>Energy Production (GWh)=%{y}<extra></extra>",
           "legendgroup": "Nuclear",
           "marker": {
            "color": "#EF553B",
            "pattern": {
             "shape": ""
            }
           },
           "name": "Nuclear",
           "offsetgroup": "Nuclear",
           "orientation": "v",
           "showlegend": true,
           "textposition": "auto",
           "type": "bar",
           "x": [
            2010,
            2011,
            2012,
            2013,
            2014,
            2015,
            2016,
            2017,
            2018,
            2019,
            2020,
            2021,
            2022
           ],
           "xaxis": "x",
           "y": [
            0,
            0,
            0,
            0,
            0,
            0,
            0,
            0,
            0,
            0,
            0,
            0,
            0
           ],
           "yaxis": "y"
          },
          {
           "alignmentgroup": "True",
           "hovertemplate": "variable=Total combustible fuels<br>COUNTRY=Denmark<br>Year=%{x}<br>Energy Production (GWh)=%{y}<extra></extra>",
           "legendgroup": "Total combustible fuels",
           "marker": {
            "color": "#00cc96",
            "pattern": {
             "shape": ""
            }
           },
           "name": "Total combustible fuels",
           "offsetgroup": "Total combustible fuels",
           "orientation": "v",
           "showlegend": true,
           "textposition": "auto",
           "type": "bar",
           "x": [
            2010,
            2011,
            2012,
            2013,
            2014,
            2015,
            2016,
            2017,
            2018,
            2019,
            2020,
            2021,
            2022
           ],
           "xaxis": "x",
           "y": [
            29036.001,
            23742.803,
            18809.527000000002,
            21484.583,
            17125.73,
            13165.758,
            15536.288,
            14088.943,
            14444.509999,
            11559.499,
            10352.233002,
            15464.818858,
            12366.901574
           ],
           "yaxis": "y"
          }
         ],
         "name": "Denmark"
        },
        {
         "data": [
          {
           "alignmentgroup": "True",
           "hovertemplate": "variable=Renewables<br>COUNTRY=Estonia<br>Year=%{x}<br>Energy Production (GWh)=%{y}<extra></extra>",
           "legendgroup": "Renewables",
           "marker": {
            "color": "#636efa",
            "pattern": {
             "shape": ""
            }
           },
           "name": "Renewables",
           "offsetgroup": "Renewables",
           "orientation": "v",
           "showlegend": true,
           "textposition": "auto",
           "type": "bar",
           "x": [
            2010,
            2011,
            2012,
            2013,
            2014,
            2015,
            2016,
            2017,
            2018,
            2019,
            2020,
            2021,
            2022
           ],
           "xaxis": "x",
           "y": [
            971.987,
            1102.37,
            1351.56,
            1144.092,
            1297.0639999999999,
            1396.847,
            1444.7930000000001,
            1689.635,
            1828.663306,
            1940.04986,
            1767.320029,
            2978.015448,
            2557.737767
           ],
           "yaxis": "y"
          },
          {
           "alignmentgroup": "True",
           "hovertemplate": "variable=Nuclear<br>COUNTRY=Estonia<br>Year=%{x}<br>Energy Production (GWh)=%{y}<extra></extra>",
           "legendgroup": "Nuclear",
           "marker": {
            "color": "#EF553B",
            "pattern": {
             "shape": ""
            }
           },
           "name": "Nuclear",
           "offsetgroup": "Nuclear",
           "orientation": "v",
           "showlegend": true,
           "textposition": "auto",
           "type": "bar",
           "x": [
            2010,
            2011,
            2012,
            2013,
            2014,
            2015,
            2016,
            2017,
            2018,
            2019,
            2020,
            2021,
            2022
           ],
           "xaxis": "x",
           "y": [
            0,
            0,
            0,
            0,
            0,
            0,
            0,
            0,
            0,
            0,
            0,
            0,
            0
           ],
           "yaxis": "y"
          },
          {
           "alignmentgroup": "True",
           "hovertemplate": "variable=Total combustible fuels<br>COUNTRY=Estonia<br>Year=%{x}<br>Energy Production (GWh)=%{y}<extra></extra>",
           "legendgroup": "Total combustible fuels",
           "marker": {
            "color": "#00cc96",
            "pattern": {
             "shape": ""
            }
           },
           "name": "Total combustible fuels",
           "offsetgroup": "Total combustible fuels",
           "orientation": "v",
           "showlegend": true,
           "textposition": "auto",
           "type": "bar",
           "x": [
            2010,
            2011,
            2012,
            2013,
            2014,
            2015,
            2016,
            2017,
            2018,
            2019,
            2020,
            2021,
            2022
           ],
           "xaxis": "x",
           "y": [
            11428.001,
            11268.999,
            10051,
            11268,
            10382,
            8319.999,
            9795.002,
            10485,
            10251.000001,
            5820.600001,
            4163.023108,
            5582.817304,
            5224.265671
           ],
           "yaxis": "y"
          }
         ],
         "name": "Estonia"
        },
        {
         "data": [
          {
           "alignmentgroup": "True",
           "hovertemplate": "variable=Renewables<br>COUNTRY=Finland<br>Year=%{x}<br>Energy Production (GWh)=%{y}<extra></extra>",
           "legendgroup": "Renewables",
           "marker": {
            "color": "#636efa",
            "pattern": {
             "shape": ""
            }
           },
           "name": "Renewables",
           "offsetgroup": "Renewables",
           "orientation": "v",
           "showlegend": true,
           "textposition": "auto",
           "type": "bar",
           "x": [
            2010,
            2011,
            2012,
            2013,
            2014,
            2015,
            2016,
            2017,
            2018,
            2019,
            2020,
            2021,
            2022
           ],
           "xaxis": "x",
           "y": [
            23435.425,
            23407.943,
            27777.686,
            24828.089,
            25509.815,
            29759.398,
            29614.757,
            30673.984,
            31229.926874,
            30976.8402,
            34769.604541,
            37048.768122,
            38975.054112
           ],
           "yaxis": "y"
          },
          {
           "alignmentgroup": "True",
           "hovertemplate": "variable=Nuclear<br>COUNTRY=Finland<br>Year=%{x}<br>Energy Production (GWh)=%{y}<extra></extra>",
           "legendgroup": "Nuclear",
           "marker": {
            "color": "#EF553B",
            "pattern": {
             "shape": ""
            }
           },
           "name": "Nuclear",
           "offsetgroup": "Nuclear",
           "orientation": "v",
           "showlegend": true,
           "textposition": "auto",
           "type": "bar",
           "x": [
            2010,
            2011,
            2012,
            2013,
            2014,
            2015,
            2016,
            2017,
            2018,
            2019,
            2020,
            2021,
            2022
           ],
           "xaxis": "x",
           "y": [
            21889,
            22266,
            22063,
            22673.001,
            22646,
            22325.999,
            22280.001,
            21573.999,
            21880.999999,
            22915,
            22354,
            22629.813964,
            24222.819643000003
           ],
           "yaxis": "y"
          },
          {
           "alignmentgroup": "True",
           "hovertemplate": "variable=Total combustible fuels<br>COUNTRY=Finland<br>Year=%{x}<br>Energy Production (GWh)=%{y}<extra></extra>",
           "legendgroup": "Total combustible fuels",
           "marker": {
            "color": "#00cc96",
            "pattern": {
             "shape": ""
            }
           },
           "name": "Total combustible fuels",
           "offsetgroup": "Total combustible fuels",
           "orientation": "v",
           "showlegend": true,
           "textposition": "auto",
           "type": "bar",
           "x": [
            2010,
            2011,
            2012,
            2013,
            2014,
            2015,
            2016,
            2017,
            2018,
            2019,
            2020,
            2021,
            2022
           ],
           "xaxis": "x",
           "y": [
            42000,
            35103.001,
            28178.999,
            31959.001,
            28185.998,
            24676.001,
            24949.997,
            23681.002,
            26346.000001,
            24496.000001,
            20232.945818,
            22580.441434,
            20121.997941
           ],
           "yaxis": "y"
          }
         ],
         "name": "Finland"
        },
        {
         "data": [
          {
           "alignmentgroup": "True",
           "hovertemplate": "variable=Renewables<br>COUNTRY=France<br>Year=%{x}<br>Energy Production (GWh)=%{y}<extra></extra>",
           "legendgroup": "Renewables",
           "marker": {
            "color": "#636efa",
            "pattern": {
             "shape": ""
            }
           },
           "name": "Renewables",
           "offsetgroup": "Renewables",
           "orientation": "v",
           "showlegend": true,
           "textposition": "auto",
           "type": "bar",
           "x": [
            2010,
            2011,
            2012,
            2013,
            2014,
            2015,
            2016,
            2017,
            2018,
            2019,
            2020,
            2021,
            2022
           ],
           "xaxis": "x",
           "y": [
            81923.204,
            70281.812,
            89051.01999999999,
            103151.674,
            98533.057,
            95647.624,
            102600.669,
            96631.443,
            117591.126038,
            116574.619828,
            127848.102587,
            126118.62923600001,
            118082.833646
           ],
           "yaxis": "y"
          },
          {
           "alignmentgroup": "True",
           "hovertemplate": "variable=Nuclear<br>COUNTRY=France<br>Year=%{x}<br>Energy Production (GWh)=%{y}<extra></extra>",
           "legendgroup": "Nuclear",
           "marker": {
            "color": "#EF553B",
            "pattern": {
             "shape": ""
            }
           },
           "name": "Nuclear",
           "offsetgroup": "Nuclear",
           "orientation": "v",
           "showlegend": true,
           "textposition": "auto",
           "type": "bar",
           "x": [
            2010,
            2011,
            2012,
            2013,
            2014,
            2015,
            2016,
            2017,
            2018,
            2019,
            2020,
            2021,
            2022
           ],
           "xaxis": "x",
           "y": [
            407878.00100000005,
            421077.532,
            404880.016,
            403694.687,
            415861.772,
            416794.816,
            384008.124,
            379093.955,
            393134.32699800003,
            379464,
            335414.238,
            360703.658711,
            278961.291218
           ],
           "yaxis": "y"
          },
          {
           "alignmentgroup": "True",
           "hovertemplate": "variable=Total combustible fuels<br>COUNTRY=France<br>Year=%{x}<br>Energy Production (GWh)=%{y}<extra></extra>",
           "legendgroup": "Total combustible fuels",
           "marker": {
            "color": "#00cc96",
            "pattern": {
             "shape": ""
            }
           },
           "name": "Total combustible fuels",
           "offsetgroup": "Total combustible fuels",
           "orientation": "v",
           "showlegend": true,
           "textposition": "auto",
           "type": "bar",
           "x": [
            2010,
            2011,
            2012,
            2013,
            2014,
            2015,
            2016,
            2017,
            2018,
            2019,
            2020,
            2021,
            2022
           ],
           "xaxis": "x",
           "y": [
            58552.293999999994,
            61128.551,
            58314.733,
            55334.394,
            38956.388999999996,
            48112.436,
            60348.004,
            68753.152,
            54383.597056,
            58629.857002000004,
            53802.365001,
            58775.660782,
            63965.959688999996
           ],
           "yaxis": "y"
          }
         ],
         "name": "France"
        },
        {
         "data": [
          {
           "alignmentgroup": "True",
           "hovertemplate": "variable=Renewables<br>COUNTRY=Germany<br>Year=%{x}<br>Energy Production (GWh)=%{y}<extra></extra>",
           "legendgroup": "Renewables",
           "marker": {
            "color": "#636efa",
            "pattern": {
             "shape": ""
            }
           },
           "name": "Renewables",
           "offsetgroup": "Renewables",
           "orientation": "v",
           "showlegend": true,
           "textposition": "auto",
           "type": "bar",
           "x": [
            2010,
            2011,
            2012,
            2013,
            2014,
            2015,
            2016,
            2017,
            2018,
            2019,
            2020,
            2021,
            2022
           ],
           "xaxis": "x",
           "y": [
            107981.966,
            125766.644,
            144484.215,
            153312.682,
            163281.499,
            188901.308,
            189697.468,
            216528.135,
            224773.155651,
            239316.758056,
            249594.712705,
            234913.659841,
            249975.215754
           ],
           "yaxis": "y"
          },
          {
           "alignmentgroup": "True",
           "hovertemplate": "variable=Nuclear<br>COUNTRY=Germany<br>Year=%{x}<br>Energy Production (GWh)=%{y}<extra></extra>",
           "legendgroup": "Nuclear",
           "marker": {
            "color": "#EF553B",
            "pattern": {
             "shape": ""
            }
           },
           "name": "Nuclear",
           "offsetgroup": "Nuclear",
           "orientation": "v",
           "showlegend": true,
           "textposition": "auto",
           "type": "bar",
           "x": [
            2010,
            2011,
            2012,
            2013,
            2014,
            2015,
            2016,
            2017,
            2018,
            2019,
            2020,
            2021,
            2022
           ],
           "xaxis": "x",
           "y": [
            132971.002,
            102241,
            94180,
            92127,
            91799.999,
            86765,
            80038,
            72155,
            71866,
            70992,
            60913.999998,
            65441.295274000004,
            32765.274321
           ],
           "yaxis": "y"
          },
          {
           "alignmentgroup": "True",
           "hovertemplate": "variable=Total combustible fuels<br>COUNTRY=Germany<br>Year=%{x}<br>Energy Production (GWh)=%{y}<extra></extra>",
           "legendgroup": "Total combustible fuels",
           "marker": {
            "color": "#00cc96",
            "pattern": {
             "shape": ""
            }
           },
           "name": "Total combustible fuels",
           "offsetgroup": "Total combustible fuels",
           "orientation": "v",
           "showlegend": true,
           "textposition": "auto",
           "type": "bar",
           "x": [
            2010,
            2011,
            2012,
            2013,
            2014,
            2015,
            2016,
            2017,
            2018,
            2019,
            2020,
            2021,
            2022
           ],
           "xaxis": "x",
           "y": [
            382985,
            380502.999,
            391208.001,
            396081,
            378653.999,
            379427.998,
            390146.00299999997,
            376115.004,
            358049.999998,
            310750.000002,
            280263.000001,
            309097.861641,
            313654.867906
           ],
           "yaxis": "y"
          }
         ],
         "name": "Germany"
        },
        {
         "data": [
          {
           "alignmentgroup": "True",
           "hovertemplate": "variable=Renewables<br>COUNTRY=Greece<br>Year=%{x}<br>Energy Production (GWh)=%{y}<extra></extra>",
           "legendgroup": "Renewables",
           "marker": {
            "color": "#636efa",
            "pattern": {
             "shape": ""
            }
           },
           "name": "Renewables",
           "offsetgroup": "Renewables",
           "orientation": "v",
           "showlegend": true,
           "textposition": "auto",
           "type": "bar",
           "x": [
            2010,
            2011,
            2012,
            2013,
            2014,
            2015,
            2016,
            2017,
            2018,
            2019,
            2020,
            2021,
            2022
           ],
           "xaxis": "x",
           "y": [
            10501.954,
            8372.052,
            9424.246,
            14354.967,
            12274.448,
            14562.704,
            14886.334,
            13842.725,
            15435.686897,
            16071.374105,
            17947.702882999998,
            21757.676028,
            23116.005828
           ],
           "yaxis": "y"
          },
          {
           "alignmentgroup": "True",
           "hovertemplate": "variable=Nuclear<br>COUNTRY=Greece<br>Year=%{x}<br>Energy Production (GWh)=%{y}<extra></extra>",
           "legendgroup": "Nuclear",
           "marker": {
            "color": "#EF553B",
            "pattern": {
             "shape": ""
            }
           },
           "name": "Nuclear",
           "offsetgroup": "Nuclear",
           "orientation": "v",
           "showlegend": true,
           "textposition": "auto",
           "type": "bar",
           "x": [
            2010,
            2011,
            2012,
            2013,
            2014,
            2015,
            2016,
            2017,
            2018,
            2019,
            2020,
            2021,
            2022
           ],
           "xaxis": "x",
           "y": [
            0,
            0,
            0,
            0,
            0,
            0,
            0,
            0,
            0,
            0,
            0,
            0,
            0
           ],
           "yaxis": "y"
          },
          {
           "alignmentgroup": "True",
           "hovertemplate": "variable=Total combustible fuels<br>COUNTRY=Greece<br>Year=%{x}<br>Energy Production (GWh)=%{y}<extra></extra>",
           "legendgroup": "Total combustible fuels",
           "marker": {
            "color": "#00cc96",
            "pattern": {
             "shape": ""
            }
           },
           "name": "Total combustible fuels",
           "offsetgroup": "Total combustible fuels",
           "orientation": "v",
           "showlegend": true,
           "textposition": "auto",
           "type": "bar",
           "x": [
            2010,
            2011,
            2012,
            2013,
            2014,
            2015,
            2016,
            2017,
            2018,
            2019,
            2020,
            2021,
            2022
           ],
           "xaxis": "x",
           "y": [
            43061,
            45726,
            44408.001000000004,
            38398,
            34626,
            33451.001000000004,
            35586.001,
            37021.75,
            34941.296001,
            29850.773001,
            25425.938426,
            30999.432769,
            26791.601629
           ],
           "yaxis": "y"
          }
         ],
         "name": "Greece"
        },
        {
         "data": [
          {
           "alignmentgroup": "True",
           "hovertemplate": "variable=Renewables<br>COUNTRY=Hungary<br>Year=%{x}<br>Energy Production (GWh)=%{y}<extra></extra>",
           "legendgroup": "Renewables",
           "marker": {
            "color": "#636efa",
            "pattern": {
             "shape": ""
            }
           },
           "name": "Renewables",
           "offsetgroup": "Renewables",
           "orientation": "v",
           "showlegend": true,
           "textposition": "auto",
           "type": "bar",
           "x": [
            2010,
            2011,
            2012,
            2013,
            2014,
            2015,
            2016,
            2017,
            2018,
            2019,
            2020,
            2021,
            2022
           ],
           "xaxis": "x",
           "y": [
            2808.989,
            2544.2889999999998,
            2495.515,
            2586.858,
            2892.04,
            2989.11,
            3027.353,
            3274.518,
            3536.94958,
            4468.061637,
            5327.579371,
            6848.4823750000005,
            7300.052959
           ],
           "yaxis": "y"
          },
          {
           "alignmentgroup": "True",
           "hovertemplate": "variable=Nuclear<br>COUNTRY=Hungary<br>Year=%{x}<br>Energy Production (GWh)=%{y}<extra></extra>",
           "legendgroup": "Nuclear",
           "marker": {
            "color": "#EF553B",
            "pattern": {
             "shape": ""
            }
           },
           "name": "Nuclear",
           "offsetgroup": "Nuclear",
           "orientation": "v",
           "showlegend": true,
           "textposition": "auto",
           "type": "bar",
           "x": [
            2010,
            2011,
            2012,
            2013,
            2014,
            2015,
            2016,
            2017,
            2018,
            2019,
            2020,
            2021,
            2022
           ],
           "xaxis": "x",
           "y": [
            14799.001,
            14711.001,
            14818,
            14438.999,
            14778,
            14955.999,
            15162,
            15215,
            14855,
            15402.000001,
            15172.000002,
            15110.007511,
            14944.495278
           ],
           "yaxis": "y"
          },
          {
           "alignmentgroup": "True",
           "hovertemplate": "variable=Total combustible fuels<br>COUNTRY=Hungary<br>Year=%{x}<br>Energy Production (GWh)=%{y}<extra></extra>",
           "legendgroup": "Total combustible fuels",
           "marker": {
            "color": "#00cc96",
            "pattern": {
             "shape": ""
            }
           },
           "name": "Total combustible fuels",
           "offsetgroup": "Total combustible fuels",
           "orientation": "v",
           "showlegend": true,
           "textposition": "auto",
           "type": "bar",
           "x": [
            2010,
            2011,
            2012,
            2013,
            2014,
            2015,
            2016,
            2017,
            2018,
            2019,
            2020,
            2021,
            2022
           ],
           "xaxis": "x",
           "y": [
            19106,
            17994.999,
            16574.001,
            12637,
            11320.999,
            12100,
            13155.997,
            14110.002,
            13449.000001,
            14217.000002,
            14286,
            14193.165821,
            13289.10734
           ],
           "yaxis": "y"
          }
         ],
         "name": "Hungary"
        },
        {
         "data": [
          {
           "alignmentgroup": "True",
           "hovertemplate": "variable=Renewables<br>COUNTRY=IEA Total<br>Year=%{x}<br>Energy Production (GWh)=%{y}<extra></extra>",
           "legendgroup": "Renewables",
           "marker": {
            "color": "#636efa",
            "pattern": {
             "shape": ""
            }
           },
           "name": "Renewables",
           "offsetgroup": "Renewables",
           "orientation": "v",
           "showlegend": true,
           "textposition": "auto",
           "type": "bar",
           "x": [
            2010,
            2011,
            2012,
            2013,
            2014,
            2015,
            2016,
            2017,
            2018,
            2019,
            2020,
            2021,
            2022
           ],
           "xaxis": "x",
           "y": [
            1912547.6260000002,
            2038175.736,
            2142631.108,
            2270885.688,
            2332474.781,
            2438357.519311,
            2559313.377866,
            2688748.177663,
            2811218.612365,
            2912425.566302,
            3109925.543598,
            3221327.644434,
            3391523.393563
           ],
           "yaxis": "y"
          },
          {
           "alignmentgroup": "True",
           "hovertemplate": "variable=Nuclear<br>COUNTRY=IEA Total<br>Year=%{x}<br>Energy Production (GWh)=%{y}<extra></extra>",
           "legendgroup": "Nuclear",
           "marker": {
            "color": "#EF553B",
            "pattern": {
             "shape": ""
            }
           },
           "name": "Nuclear",
           "offsetgroup": "Nuclear",
           "orientation": "v",
           "showlegend": true,
           "textposition": "auto",
           "type": "bar",
           "x": [
            2010,
            2011,
            2012,
            2013,
            2014,
            2015,
            2016,
            2017,
            2018,
            2019,
            2020,
            2021,
            2022
           ],
           "xaxis": "x",
           "y": [
            2181222.605,
            2041867.956,
            1855575.296,
            1867811.523,
            1882241.775,
            1868833.994,
            1865852.171,
            1854296.024,
            1867209.419954,
            1891313.59427,
            1773073.964904,
            1812912.247121,
            1695683.847461
           ],
           "yaxis": "y"
          },
          {
           "alignmentgroup": "True",
           "hovertemplate": "variable=Total combustible fuels<br>COUNTRY=IEA Total<br>Year=%{x}<br>Energy Production (GWh)=%{y}<extra></extra>",
           "legendgroup": "Total combustible fuels",
           "marker": {
            "color": "#00cc96",
            "pattern": {
             "shape": ""
            }
           },
           "name": "Total combustible fuels",
           "offsetgroup": "Total combustible fuels",
           "orientation": "v",
           "showlegend": true,
           "textposition": "auto",
           "type": "bar",
           "x": [
            2010,
            2011,
            2012,
            2013,
            2014,
            2015,
            2016,
            2017,
            2018,
            2019,
            2020,
            2021,
            2022
           ],
           "xaxis": "x",
           "y": [
            6410080.916,
            6398424.195,
            6488511.4629999995,
            6354139.233,
            6269516.961,
            6228698.884641,
            6182170.4443500005,
            6103313.757406,
            6174842.903728,
            5903687.811668,
            5554970.1332950005,
            5727429.765043,
            5777740.954236
           ],
           "yaxis": "y"
          }
         ],
         "name": "IEA Total"
        },
        {
         "data": [
          {
           "alignmentgroup": "True",
           "hovertemplate": "variable=Renewables<br>COUNTRY=Iceland<br>Year=%{x}<br>Energy Production (GWh)=%{y}<extra></extra>",
           "legendgroup": "Renewables",
           "marker": {
            "color": "#636efa",
            "pattern": {
             "shape": ""
            }
           },
           "name": "Renewables",
           "offsetgroup": "Renewables",
           "orientation": "v",
           "showlegend": true,
           "textposition": "auto",
           "type": "bar",
           "x": [
            2010,
            2011,
            2012,
            2013,
            2014,
            2015,
            2016,
            2017,
            2018,
            2019,
            2020,
            2021,
            2022
           ],
           "xaxis": "x",
           "y": [
            16743.999,
            16848.998,
            17292.999,
            17995,
            17800,
            18554.002,
            18168.608,
            18844.21,
            19430.622999,
            19117.132000999998,
            18775.627002,
            19260.528452,
            19745.66915
           ],
           "yaxis": "y"
          },
          {
           "alignmentgroup": "True",
           "hovertemplate": "variable=Nuclear<br>COUNTRY=Iceland<br>Year=%{x}<br>Energy Production (GWh)=%{y}<extra></extra>",
           "legendgroup": "Nuclear",
           "marker": {
            "color": "#EF553B",
            "pattern": {
             "shape": ""
            }
           },
           "name": "Nuclear",
           "offsetgroup": "Nuclear",
           "orientation": "v",
           "showlegend": true,
           "textposition": "auto",
           "type": "bar",
           "x": [
            2010,
            2011,
            2012,
            2013,
            2014,
            2015,
            2016,
            2017,
            2018,
            2019,
            2020,
            2021,
            2022
           ],
           "xaxis": "x",
           "y": [
            0,
            0,
            0,
            0,
            0,
            0,
            0,
            0,
            0,
            0,
            0,
            0,
            0
           ],
           "yaxis": "y"
          },
          {
           "alignmentgroup": "True",
           "hovertemplate": "variable=Total combustible fuels<br>COUNTRY=Iceland<br>Year=%{x}<br>Energy Production (GWh)=%{y}<extra></extra>",
           "legendgroup": "Total combustible fuels",
           "marker": {
            "color": "#00cc96",
            "pattern": {
             "shape": ""
            }
           },
           "name": "Total combustible fuels",
           "offsetgroup": "Total combustible fuels",
           "orientation": "v",
           "showlegend": true,
           "textposition": "auto",
           "type": "bar",
           "x": [
            2010,
            2011,
            2012,
            2013,
            2014,
            2015,
            2016,
            2017,
            2018,
            2019,
            2020,
            2021,
            2022
           ],
           "xaxis": "x",
           "y": [
            2.004,
            2,
            3,
            4.998,
            3,
            3.9989999999999997,
            3,
            2.085,
            1.874998,
            2.661,
            3.0669999999999997,
            2.4598020000000003,
            2.943
           ],
           "yaxis": "y"
          }
         ],
         "name": "Iceland"
        },
        {
         "data": [
          {
           "alignmentgroup": "True",
           "hovertemplate": "variable=Renewables<br>COUNTRY=India<br>Year=%{x}<br>Energy Production (GWh)=%{y}<extra></extra>",
           "legendgroup": "Renewables",
           "marker": {
            "color": "#636efa",
            "pattern": {
             "shape": ""
            }
           },
           "name": "Renewables",
           "offsetgroup": "Renewables",
           "orientation": "v",
           "showlegend": true,
           "textposition": "auto",
           "type": "bar",
           "x": [
            2015,
            2016,
            2017,
            2018,
            2019,
            2020,
            2021,
            2022
           ],
           "xaxis": "x",
           "y": [
            189413.208691,
            230497.902364,
            244981.875789,
            274527.322742,
            310518.426998,
            324222.356117,
            340580.48552,
            375263.008789
           ],
           "yaxis": "y"
          },
          {
           "alignmentgroup": "True",
           "hovertemplate": "variable=Nuclear<br>COUNTRY=India<br>Year=%{x}<br>Energy Production (GWh)=%{y}<extra></extra>",
           "legendgroup": "Nuclear",
           "marker": {
            "color": "#EF553B",
            "pattern": {
             "shape": ""
            }
           },
           "name": "Nuclear",
           "offsetgroup": "Nuclear",
           "orientation": "v",
           "showlegend": true,
           "textposition": "auto",
           "type": "bar",
           "x": [
            2015,
            2016,
            2017,
            2018,
            2019,
            2020,
            2021,
            2022
           ],
           "xaxis": "x",
           "y": [
            36158.280103,
            35760.205132,
            35326.443863,
            36707.667708,
            42449.401366,
            42063.212379,
            41407.784799,
            43422.9992
           ],
           "yaxis": "y"
          },
          {
           "alignmentgroup": "True",
           "hovertemplate": "variable=Total combustible fuels<br>COUNTRY=India<br>Year=%{x}<br>Energy Production (GWh)=%{y}<extra></extra>",
           "legendgroup": "Total combustible fuels",
           "marker": {
            "color": "#00cc96",
            "pattern": {
             "shape": ""
            }
           },
           "name": "Total combustible fuels",
           "offsetgroup": "Total combustible fuels",
           "orientation": "v",
           "showlegend": true,
           "textposition": "auto",
           "type": "bar",
           "x": [
            2015,
            2016,
            2017,
            2018,
            2019,
            2020,
            2021,
            2022
           ],
           "xaxis": "x",
           "y": [
            992734.84854,
            1120370.278584,
            1151146.377724,
            1237362.1357,
            1210896.451961,
            1167108.841222,
            1273312.698388,
            1263699.967528
           ],
           "yaxis": "y"
          }
         ],
         "name": "India"
        },
        {
         "data": [
          {
           "alignmentgroup": "True",
           "hovertemplate": "variable=Renewables<br>COUNTRY=Ireland<br>Year=%{x}<br>Energy Production (GWh)=%{y}<extra></extra>",
           "legendgroup": "Renewables",
           "marker": {
            "color": "#636efa",
            "pattern": {
             "shape": ""
            }
           },
           "name": "Renewables",
           "offsetgroup": "Renewables",
           "orientation": "v",
           "showlegend": true,
           "textposition": "auto",
           "type": "bar",
           "x": [
            2010,
            2011,
            2012,
            2013,
            2014,
            2015,
            2016,
            2017,
            2018,
            2019,
            2020,
            2021,
            2022
           ],
           "xaxis": "x",
           "y": [
            3886.1059999999998,
            5404.206,
            5440.341,
            5943.618,
            6640.248,
            8123.493,
            7771.718,
            9050.607,
            10396.352581,
            12002.999453,
            13725.098410999999,
            11731.740322,
            13856.114475
           ],
           "yaxis": "y"
          },
          {
           "alignmentgroup": "True",
           "hovertemplate": "variable=Nuclear<br>COUNTRY=Ireland<br>Year=%{x}<br>Energy Production (GWh)=%{y}<extra></extra>",
           "legendgroup": "Nuclear",
           "marker": {
            "color": "#EF553B",
            "pattern": {
             "shape": ""
            }
           },
           "name": "Nuclear",
           "offsetgroup": "Nuclear",
           "orientation": "v",
           "showlegend": true,
           "textposition": "auto",
           "type": "bar",
           "x": [
            2010,
            2011,
            2012,
            2013,
            2014,
            2015,
            2016,
            2017,
            2018,
            2019,
            2020,
            2021,
            2022
           ],
           "xaxis": "x",
           "y": [
            0,
            0,
            0,
            0,
            0,
            0,
            0,
            0,
            0,
            0,
            0,
            0,
            0
           ],
           "yaxis": "y"
          },
          {
           "alignmentgroup": "True",
           "hovertemplate": "variable=Total combustible fuels<br>COUNTRY=Ireland<br>Year=%{x}<br>Energy Production (GWh)=%{y}<extra></extra>",
           "legendgroup": "Total combustible fuels",
           "marker": {
            "color": "#00cc96",
            "pattern": {
             "shape": ""
            }
           },
           "name": "Total combustible fuels",
           "offsetgroup": "Total combustible fuels",
           "orientation": "v",
           "showlegend": true,
           "textposition": "auto",
           "type": "bar",
           "x": [
            2010,
            2011,
            2012,
            2013,
            2014,
            2015,
            2016,
            2017,
            2018,
            2019,
            2020,
            2021,
            2022
           ],
           "xaxis": "x",
           "y": [
            23858.392,
            21285.041,
            21464.357,
            19639.578,
            19192.642,
            19962.933,
            22575.529,
            21751.886000000002,
            20773.890999,
            19094.546,
            18695.048999,
            23276.228928,
            20472.375782
           ],
           "yaxis": "y"
          }
         ],
         "name": "Ireland"
        },
        {
         "data": [
          {
           "alignmentgroup": "True",
           "hovertemplate": "variable=Renewables<br>COUNTRY=Italy<br>Year=%{x}<br>Energy Production (GWh)=%{y}<extra></extra>",
           "legendgroup": "Renewables",
           "marker": {
            "color": "#636efa",
            "pattern": {
             "shape": ""
            }
           },
           "name": "Renewables",
           "offsetgroup": "Renewables",
           "orientation": "v",
           "showlegend": true,
           "textposition": "auto",
           "type": "bar",
           "x": [
            2010,
            2011,
            2012,
            2013,
            2014,
            2015,
            2016,
            2017,
            2018,
            2019,
            2020,
            2021,
            2022
           ],
           "xaxis": "x",
           "y": [
            78785.184,
            83318.159,
            92377.523,
            111672.887,
            119834.336,
            108039.839,
            107598.961,
            103493.942,
            113831.132686,
            115359.668468,
            116594.554235,
            116313.906562,
            102165.186896
           ],
           "yaxis": "y"
          },
          {
           "alignmentgroup": "True",
           "hovertemplate": "variable=Nuclear<br>COUNTRY=Italy<br>Year=%{x}<br>Energy Production (GWh)=%{y}<extra></extra>",
           "legendgroup": "Nuclear",
           "marker": {
            "color": "#EF553B",
            "pattern": {
             "shape": ""
            }
           },
           "name": "Nuclear",
           "offsetgroup": "Nuclear",
           "orientation": "v",
           "showlegend": true,
           "textposition": "auto",
           "type": "bar",
           "x": [
            2010,
            2011,
            2012,
            2013,
            2014,
            2015,
            2016,
            2017,
            2018,
            2019,
            2020,
            2021,
            2022
           ],
           "xaxis": "x",
           "y": [
            0,
            0,
            0,
            0,
            0,
            0,
            0,
            0,
            0,
            0,
            0,
            0,
            0
           ],
           "yaxis": "y"
          },
          {
           "alignmentgroup": "True",
           "hovertemplate": "variable=Total combustible fuels<br>COUNTRY=Italy<br>Year=%{x}<br>Energy Production (GWh)=%{y}<extra></extra>",
           "legendgroup": "Total combustible fuels",
           "marker": {
            "color": "#00cc96",
            "pattern": {
             "shape": ""
            }
           },
           "name": "Total combustible fuels",
           "offsetgroup": "Total combustible fuels",
           "orientation": "v",
           "showlegend": true,
           "textposition": "auto",
           "type": "bar",
           "x": [
            2010,
            2011,
            2012,
            2013,
            2014,
            2015,
            2016,
            2017,
            2018,
            2019,
            2020,
            2021,
            2022
           ],
           "xaxis": "x",
           "y": [
            220242,
            217707.999,
            206603.999,
            182683,
            166445.001,
            182321.999,
            190121,
            199722.444,
            183803.153,
            186747.629,
            173464.227001,
            178613.564502,
            194506.20908499998
           ],
           "yaxis": "y"
          }
         ],
         "name": "Italy"
        },
        {
         "data": [
          {
           "alignmentgroup": "True",
           "hovertemplate": "variable=Renewables<br>COUNTRY=Japan<br>Year=%{x}<br>Energy Production (GWh)=%{y}<extra></extra>",
           "legendgroup": "Renewables",
           "marker": {
            "color": "#636efa",
            "pattern": {
             "shape": ""
            }
           },
           "name": "Renewables",
           "offsetgroup": "Renewables",
           "orientation": "v",
           "showlegend": true,
           "textposition": "auto",
           "type": "bar",
           "x": [
            2010,
            2011,
            2012,
            2013,
            2014,
            2015,
            2016,
            2017,
            2018,
            2019,
            2020,
            2021,
            2022
           ],
           "xaxis": "x",
           "y": [
            116146.16,
            116207.927,
            112872.466,
            119508.389,
            127801.768,
            151668.684,
            155914.21600000001,
            170723.842,
            183435.188683,
            180144.999527,
            198895.040911,
            213813.716219,
            222755.341553
           ],
           "yaxis": "y"
          },
          {
           "alignmentgroup": "True",
           "hovertemplate": "variable=Nuclear<br>COUNTRY=Japan<br>Year=%{x}<br>Energy Production (GWh)=%{y}<extra></extra>",
           "legendgroup": "Nuclear",
           "marker": {
            "color": "#EF553B",
            "pattern": {
             "shape": ""
            }
           },
           "name": "Nuclear",
           "offsetgroup": "Nuclear",
           "orientation": "v",
           "showlegend": true,
           "textposition": "auto",
           "type": "bar",
           "x": [
            2010,
            2011,
            2012,
            2013,
            2014,
            2015,
            2016,
            2017,
            2018,
            2019,
            2020,
            2021,
            2022
           ],
           "xaxis": "x",
           "y": [
            278364.595,
            153375.423,
            15121.278,
            10432.836,
            0,
            3240.625,
            14869.062,
            27751.517,
            47858.632954,
            63878.788269,
            42439.837188,
            61094.686595,
            51714.184529
           ],
           "yaxis": "y"
          },
          {
           "alignmentgroup": "True",
           "hovertemplate": "variable=Total combustible fuels<br>COUNTRY=Japan<br>Year=%{x}<br>Energy Production (GWh)=%{y}<extra></extra>",
           "legendgroup": "Total combustible fuels",
           "marker": {
            "color": "#00cc96",
            "pattern": {
             "shape": ""
            }
           },
           "name": "Total combustible fuels",
           "offsetgroup": "Total combustible fuels",
           "orientation": "v",
           "showlegend": true,
           "textposition": "auto",
           "type": "bar",
           "x": [
            2010,
            2011,
            2012,
            2013,
            2014,
            2015,
            2016,
            2017,
            2018,
            2019,
            2020,
            2021,
            2022
           ],
           "xaxis": "x",
           "y": [
            711932.093,
            798366.486,
            943309.371,
            921792.895,
            916433.541,
            875493.701,
            856638.696,
            833573.334,
            826996.282683,
            764875.1846789999,
            737288.309593,
            728577.7164060001,
            744497.391412
           ],
           "yaxis": "y"
          }
         ],
         "name": "Japan"
        },
        {
         "data": [
          {
           "alignmentgroup": "True",
           "hovertemplate": "variable=Renewables<br>COUNTRY=Korea<br>Year=%{x}<br>Energy Production (GWh)=%{y}<extra></extra>",
           "legendgroup": "Renewables",
           "marker": {
            "color": "#636efa",
            "pattern": {
             "shape": ""
            }
           },
           "name": "Renewables",
           "offsetgroup": "Renewables",
           "orientation": "v",
           "showlegend": true,
           "textposition": "auto",
           "type": "bar",
           "x": [
            2010,
            2011,
            2012,
            2013,
            2014,
            2015,
            2016,
            2017,
            2018,
            2019,
            2020,
            2021,
            2022
           ],
           "xaxis": "x",
           "y": [
            8877.013,
            10592.774,
            10578.65,
            12751.641,
            13490.703,
            14044.562,
            19144.339,
            22590.316,
            26592.16744,
            30515.950582999998,
            36661.79226,
            41941.465012,
            50576.365896999996
           ],
           "yaxis": "y"
          },
          {
           "alignmentgroup": "True",
           "hovertemplate": "variable=Nuclear<br>COUNTRY=Korea<br>Year=%{x}<br>Energy Production (GWh)=%{y}<extra></extra>",
           "legendgroup": "Nuclear",
           "marker": {
            "color": "#EF553B",
            "pattern": {
             "shape": ""
            }
           },
           "name": "Nuclear",
           "offsetgroup": "Nuclear",
           "orientation": "v",
           "showlegend": true,
           "textposition": "auto",
           "type": "bar",
           "x": [
            2010,
            2011,
            2012,
            2013,
            2014,
            2015,
            2016,
            2017,
            2018,
            2019,
            2020,
            2021,
            2022
           ],
           "xaxis": "x",
           "y": [
            141894.001,
            147763,
            143548,
            132465,
            149165.001,
            157161,
            154195.001,
            141278.286,
            127077.898001,
            138679.204,
            152583.935999,
            150456.549001,
            166924.625678
           ],
           "yaxis": "y"
          },
          {
           "alignmentgroup": "True",
           "hovertemplate": "variable=Total combustible fuels<br>COUNTRY=Korea<br>Year=%{x}<br>Energy Production (GWh)=%{y}<extra></extra>",
           "legendgroup": "Total combustible fuels",
           "marker": {
            "color": "#00cc96",
            "pattern": {
             "shape": ""
            }
           },
           "name": "Total combustible fuels",
           "offsetgroup": "Total combustible fuels",
           "orientation": "v",
           "showlegend": true,
           "textposition": "auto",
           "type": "bar",
           "x": [
            2010,
            2011,
            2012,
            2013,
            2014,
            2015,
            2016,
            2017,
            2018,
            2019,
            2020,
            2021,
            2022
           ],
           "xaxis": "x",
           "y": [
            330155.001,
            345407.999,
            360783,
            376741.999,
            367899.002,
            359110.999,
            370979.004,
            386217.601,
            418508.641004,
            395660.755,
            372071.291001,
            354664.572001,
            353410.164293
           ],
           "yaxis": "y"
          }
         ],
         "name": "Korea"
        },
        {
         "data": [
          {
           "alignmentgroup": "True",
           "hovertemplate": "variable=Renewables<br>COUNTRY=Latvia<br>Year=%{x}<br>Energy Production (GWh)=%{y}<extra></extra>",
           "legendgroup": "Renewables",
           "marker": {
            "color": "#636efa",
            "pattern": {
             "shape": ""
            }
           },
           "name": "Renewables",
           "offsetgroup": "Renewables",
           "orientation": "v",
           "showlegend": true,
           "textposition": "auto",
           "type": "bar",
           "x": [
            2010,
            2011,
            2012,
            2013,
            2014,
            2015,
            2016,
            2017,
            2018,
            2019,
            2020,
            2021,
            2022
           ],
           "xaxis": "x",
           "y": [
            3591.35,
            3026.934,
            4026.901,
            3406.183,
            2678.8650000000002,
            2664.2019999999998,
            3365.527,
            5285.859,
            3368.392077,
            3072.744984,
            3551.6035,
            3578.7376050000003,
            3656.4349660000003
           ],
           "yaxis": "y"
          },
          {
           "alignmentgroup": "True",
           "hovertemplate": "variable=Nuclear<br>COUNTRY=Latvia<br>Year=%{x}<br>Energy Production (GWh)=%{y}<extra></extra>",
           "legendgroup": "Nuclear",
           "marker": {
            "color": "#EF553B",
            "pattern": {
             "shape": ""
            }
           },
           "name": "Nuclear",
           "offsetgroup": "Nuclear",
           "orientation": "v",
           "showlegend": true,
           "textposition": "auto",
           "type": "bar",
           "x": [
            2010,
            2011,
            2012,
            2013,
            2014,
            2015,
            2016,
            2017,
            2018,
            2019,
            2020,
            2021,
            2022
           ],
           "xaxis": "x",
           "y": [
            0,
            0,
            0,
            0,
            0,
            0,
            0,
            0,
            0,
            0,
            0,
            0,
            0
           ],
           "yaxis": "y"
          },
          {
           "alignmentgroup": "True",
           "hovertemplate": "variable=Total combustible fuels<br>COUNTRY=Latvia<br>Year=%{x}<br>Energy Production (GWh)=%{y}<extra></extra>",
           "legendgroup": "Total combustible fuels",
           "marker": {
            "color": "#00cc96",
            "pattern": {
             "shape": ""
            }
           },
           "name": "Total combustible fuels",
           "offsetgroup": "Total combustible fuels",
           "orientation": "v",
           "showlegend": true,
           "textposition": "auto",
           "type": "bar",
           "x": [
            2010,
            2011,
            2012,
            2013,
            2014,
            2015,
            2016,
            2017,
            2018,
            2019,
            2020,
            2021,
            2022
           ],
           "xaxis": "x",
           "y": [
            2531.999,
            2637,
            1929.001,
            2842.999,
            2640.999,
            3106.0009999999997,
            3277,
            2519.809,
            3663.77634,
            3695.446085,
            2677.731737,
            2705.216918,
            1839.904194
           ],
           "yaxis": "y"
          }
         ],
         "name": "Latvia"
        },
        {
         "data": [
          {
           "alignmentgroup": "True",
           "hovertemplate": "variable=Renewables<br>COUNTRY=Lithuania<br>Year=%{x}<br>Energy Production (GWh)=%{y}<extra></extra>",
           "legendgroup": "Renewables",
           "marker": {
            "color": "#636efa",
            "pattern": {
             "shape": ""
            }
           },
           "name": "Renewables",
           "offsetgroup": "Renewables",
           "orientation": "v",
           "showlegend": true,
           "textposition": "auto",
           "type": "bar",
           "x": [
            2010,
            2011,
            2012,
            2013,
            2014,
            2015,
            2016,
            2017,
            2018,
            2019,
            2020,
            2021,
            2022
           ],
           "xaxis": "x",
           "y": [
            1631.254,
            1650.941,
            1656.085,
            2018.798,
            2141.92,
            2297.486,
            2616.324,
            3031.148,
            2625.235035,
            2963.517518,
            3076.48411,
            3039.893571,
            2932.293548
           ],
           "yaxis": "y"
          },
          {
           "alignmentgroup": "True",
           "hovertemplate": "variable=Nuclear<br>COUNTRY=Lithuania<br>Year=%{x}<br>Energy Production (GWh)=%{y}<extra></extra>",
           "legendgroup": "Nuclear",
           "marker": {
            "color": "#EF553B",
            "pattern": {
             "shape": ""
            }
           },
           "name": "Nuclear",
           "offsetgroup": "Nuclear",
           "orientation": "v",
           "showlegend": true,
           "textposition": "auto",
           "type": "bar",
           "x": [
            2010,
            2011,
            2012,
            2013,
            2014,
            2015,
            2016,
            2017,
            2018,
            2019,
            2020,
            2021,
            2022
           ],
           "xaxis": "x",
           "y": [
            0,
            0,
            0,
            0,
            0,
            0,
            0,
            0,
            0,
            0,
            0,
            0,
            0
           ],
           "yaxis": "y"
          },
          {
           "alignmentgroup": "True",
           "hovertemplate": "variable=Total combustible fuels<br>COUNTRY=Lithuania<br>Year=%{x}<br>Energy Production (GWh)=%{y}<extra></extra>",
           "legendgroup": "Total combustible fuels",
           "marker": {
            "color": "#00cc96",
            "pattern": {
             "shape": ""
            }
           },
           "name": "Total combustible fuels",
           "offsetgroup": "Total combustible fuels",
           "orientation": "v",
           "showlegend": true,
           "textposition": "auto",
           "type": "bar",
           "x": [
            2010,
            2011,
            2012,
            2013,
            2014,
            2015,
            2016,
            2017,
            2018,
            2019,
            2020,
            2021,
            2022
           ],
           "xaxis": "x",
           "y": [
            3608,
            2685.001,
            3011.999,
            2524.9990000000003,
            2130,
            2533,
            1566.001,
            1165.3,
            929.2000009999999,
            1050.4,
            2355.299999,
            1852.515562,
            1628.261209
           ],
           "yaxis": "y"
          }
         ],
         "name": "Lithuania"
        },
        {
         "data": [
          {
           "alignmentgroup": "True",
           "hovertemplate": "variable=Renewables<br>COUNTRY=Luxembourg<br>Year=%{x}<br>Energy Production (GWh)=%{y}<extra></extra>",
           "legendgroup": "Renewables",
           "marker": {
            "color": "#636efa",
            "pattern": {
             "shape": ""
            }
           },
           "name": "Renewables",
           "offsetgroup": "Renewables",
           "orientation": "v",
           "showlegend": true,
           "textposition": "auto",
           "type": "bar",
           "x": [
            2010,
            2011,
            2012,
            2013,
            2014,
            2015,
            2016,
            2017,
            2018,
            2019,
            2020,
            2021,
            2022
           ],
           "xaxis": "x",
           "y": [
            1617.06,
            1306.914,
            1355.914,
            1395.246,
            1446.538,
            1848.759,
            1852.729,
            1918.857,
            1909.704624,
            1617.579315,
            1961.972683,
            2013.826948,
            2014.630064
           ],
           "yaxis": "y"
          },
          {
           "alignmentgroup": "True",
           "hovertemplate": "variable=Nuclear<br>COUNTRY=Luxembourg<br>Year=%{x}<br>Energy Production (GWh)=%{y}<extra></extra>",
           "legendgroup": "Nuclear",
           "marker": {
            "color": "#EF553B",
            "pattern": {
             "shape": ""
            }
           },
           "name": "Nuclear",
           "offsetgroup": "Nuclear",
           "orientation": "v",
           "showlegend": true,
           "textposition": "auto",
           "type": "bar",
           "x": [
            2010,
            2011,
            2012,
            2013,
            2014,
            2015,
            2016,
            2017,
            2018,
            2019,
            2020,
            2021,
            2022
           ],
           "xaxis": "x",
           "y": [
            0,
            0,
            0,
            0,
            0,
            0,
            0,
            0,
            0,
            0,
            0,
            0,
            0
           ],
           "yaxis": "y"
          },
          {
           "alignmentgroup": "True",
           "hovertemplate": "variable=Total combustible fuels<br>COUNTRY=Luxembourg<br>Year=%{x}<br>Energy Production (GWh)=%{y}<extra></extra>",
           "legendgroup": "Total combustible fuels",
           "marker": {
            "color": "#00cc96",
            "pattern": {
             "shape": ""
            }
           },
           "name": "Total combustible fuels",
           "offsetgroup": "Total combustible fuels",
           "orientation": "v",
           "showlegend": true,
           "textposition": "auto",
           "type": "bar",
           "x": [
            2010,
            2011,
            2012,
            2013,
            2014,
            2015,
            2016,
            2017,
            2018,
            2019,
            2020,
            2021,
            2022
           ],
           "xaxis": "x",
           "y": [
            3027.39,
            2479.419,
            2524.3360000000002,
            1558.385,
            1605.1109999999999,
            1012.691,
            449.25800000000004,
            449.96,
            470.301844,
            527.830205,
            608.275306,
            640.106382,
            514.403965
           ],
           "yaxis": "y"
          }
         ],
         "name": "Luxembourg"
        },
        {
         "data": [
          {
           "alignmentgroup": "True",
           "hovertemplate": "variable=Renewables<br>COUNTRY=Malta<br>Year=%{x}<br>Energy Production (GWh)=%{y}<extra></extra>",
           "legendgroup": "Renewables",
           "marker": {
            "color": "#636efa",
            "pattern": {
             "shape": ""
            }
           },
           "name": "Renewables",
           "offsetgroup": "Renewables",
           "orientation": "v",
           "showlegend": true,
           "textposition": "auto",
           "type": "bar",
           "x": [
            2015,
            2016,
            2017,
            2018,
            2019,
            2020,
            2021,
            2022
           ],
           "xaxis": "x",
           "y": [
            101.618,
            135.617,
            171.676,
            197.520292,
            201.757092,
            237.073837,
            237.073837,
            255.946001
           ],
           "yaxis": "y"
          },
          {
           "alignmentgroup": "True",
           "hovertemplate": "variable=Nuclear<br>COUNTRY=Malta<br>Year=%{x}<br>Energy Production (GWh)=%{y}<extra></extra>",
           "legendgroup": "Nuclear",
           "marker": {
            "color": "#EF553B",
            "pattern": {
             "shape": ""
            }
           },
           "name": "Nuclear",
           "offsetgroup": "Nuclear",
           "orientation": "v",
           "showlegend": true,
           "textposition": "auto",
           "type": "bar",
           "x": [
            2015,
            2016,
            2017,
            2018,
            2019,
            2020,
            2021,
            2022
           ],
           "xaxis": "x",
           "y": [
            0,
            0,
            0,
            0,
            0,
            0,
            0,
            0
           ],
           "yaxis": "y"
          },
          {
           "alignmentgroup": "True",
           "hovertemplate": "variable=Total combustible fuels<br>COUNTRY=Malta<br>Year=%{x}<br>Energy Production (GWh)=%{y}<extra></extra>",
           "legendgroup": "Total combustible fuels",
           "marker": {
            "color": "#00cc96",
            "pattern": {
             "shape": ""
            }
           },
           "name": "Total combustible fuels",
           "offsetgroup": "Total combustible fuels",
           "orientation": "v",
           "showlegend": true,
           "textposition": "auto",
           "type": "bar",
           "x": [
            2015,
            2016,
            2017,
            2018,
            2019,
            2020,
            2021,
            2022
           ],
           "xaxis": "x",
           "y": [
            1146,
            678.5980000000001,
            1440.1970000000001,
            1716.49,
            1799.5622700000001,
            1838.204449,
            1848.047973,
            1945.704238
           ],
           "yaxis": "y"
          }
         ],
         "name": "Malta"
        },
        {
         "data": [
          {
           "alignmentgroup": "True",
           "hovertemplate": "variable=Renewables<br>COUNTRY=Mexico<br>Year=%{x}<br>Energy Production (GWh)=%{y}<extra></extra>",
           "legendgroup": "Renewables",
           "marker": {
            "color": "#636efa",
            "pattern": {
             "shape": ""
            }
           },
           "name": "Renewables",
           "offsetgroup": "Renewables",
           "orientation": "v",
           "showlegend": true,
           "textposition": "auto",
           "type": "bar",
           "x": [
            2010,
            2011,
            2012,
            2013,
            2014,
            2015,
            2016,
            2017,
            2018,
            2019,
            2020,
            2021,
            2022
           ],
           "xaxis": "x",
           "y": [
            45046.671,
            44372.956,
            41661.373,
            38894.262,
            52118.08,
            46579.933,
            47338.895,
            50332.339,
            53709.708965,
            54356.199525,
            62741.588902,
            74332.190331,
            74114.390265
           ],
           "yaxis": "y"
          },
          {
           "alignmentgroup": "True",
           "hovertemplate": "variable=Nuclear<br>COUNTRY=Mexico<br>Year=%{x}<br>Energy Production (GWh)=%{y}<extra></extra>",
           "legendgroup": "Nuclear",
           "marker": {
            "color": "#EF553B",
            "pattern": {
             "shape": ""
            }
           },
           "name": "Nuclear",
           "offsetgroup": "Nuclear",
           "orientation": "v",
           "showlegend": true,
           "textposition": "auto",
           "type": "bar",
           "x": [
            2010,
            2011,
            2012,
            2013,
            2014,
            2015,
            2016,
            2017,
            2018,
            2019,
            2020,
            2021,
            2022
           ],
           "xaxis": "x",
           "y": [
            5661,
            9662.999,
            8409,
            11377.001,
            9303,
            11177.001,
            10271.999,
            10572.003,
            13317.000001,
            10881,
            10866.3479,
            11432.554308,
            10401.088265
           ],
           "yaxis": "y"
          },
          {
           "alignmentgroup": "True",
           "hovertemplate": "variable=Total combustible fuels<br>COUNTRY=Mexico<br>Year=%{x}<br>Energy Production (GWh)=%{y}<extra></extra>",
           "legendgroup": "Total combustible fuels",
           "marker": {
            "color": "#00cc96",
            "pattern": {
             "shape": ""
            }
           },
           "name": "Total combustible fuels",
           "offsetgroup": "Total combustible fuels",
           "orientation": "v",
           "showlegend": true,
           "textposition": "auto",
           "type": "bar",
           "x": [
            2010,
            2011,
            2012,
            2013,
            2014,
            2015,
            2016,
            2017,
            2018,
            2019,
            2020,
            2021,
            2022
           ],
           "xaxis": "x",
           "y": [
            214323,
            226638.024,
            235161.714,
            237955,
            229923.999,
            241299,
            246639,
            249983,
            264299,
            254607.056999,
            250277.750095,
            248792.219416,
            251966.00982
           ],
           "yaxis": "y"
          }
         ],
         "name": "Mexico"
        },
        {
         "data": [
          {
           "alignmentgroup": "True",
           "hovertemplate": "variable=Renewables<br>COUNTRY=Netherlands<br>Year=%{x}<br>Energy Production (GWh)=%{y}<extra></extra>",
           "legendgroup": "Renewables",
           "marker": {
            "color": "#636efa",
            "pattern": {
             "shape": ""
            }
           },
           "name": "Renewables",
           "offsetgroup": "Renewables",
           "orientation": "v",
           "showlegend": true,
           "textposition": "auto",
           "type": "bar",
           "x": [
            2010,
            2011,
            2012,
            2013,
            2014,
            2015,
            2016,
            2017,
            2018,
            2019,
            2020,
            2021,
            2022
           ],
           "xaxis": "x",
           "y": [
            10928.442,
            12009.844,
            12182.565,
            11846.548,
            11407.684000000001,
            13469.305,
            14584.791,
            17268.945,
            18744.993066,
            22541.354424,
            32767.033419,
            41459.176057,
            48185.557145
           ],
           "yaxis": "y"
          },
          {
           "alignmentgroup": "True",
           "hovertemplate": "variable=Nuclear<br>COUNTRY=Netherlands<br>Year=%{x}<br>Energy Production (GWh)=%{y}<extra></extra>",
           "legendgroup": "Nuclear",
           "marker": {
            "color": "#EF553B",
            "pattern": {
             "shape": ""
            }
           },
           "name": "Nuclear",
           "offsetgroup": "Nuclear",
           "orientation": "v",
           "showlegend": true,
           "textposition": "auto",
           "type": "bar",
           "x": [
            2010,
            2011,
            2012,
            2013,
            2014,
            2015,
            2016,
            2017,
            2018,
            2019,
            2020,
            2021,
            2022
           ],
           "xaxis": "x",
           "y": [
            3752,
            3915.0009999999997,
            3741,
            2737,
            3873,
            3857,
            3749.9049999999997,
            3277.664,
            3395.496,
            3700.299,
            3864.924,
            3618.207992,
            3929.994
           ],
           "yaxis": "y"
          },
          {
           "alignmentgroup": "True",
           "hovertemplate": "variable=Total combustible fuels<br>COUNTRY=Netherlands<br>Year=%{x}<br>Energy Production (GWh)=%{y}<extra></extra>",
           "legendgroup": "Total combustible fuels",
           "marker": {
            "color": "#00cc96",
            "pattern": {
             "shape": ""
            }
           },
           "name": "Total combustible fuels",
           "offsetgroup": "Total combustible fuels",
           "orientation": "v",
           "showlegend": true,
           "textposition": "auto",
           "type": "bar",
           "x": [
            2010,
            2011,
            2012,
            2013,
            2014,
            2015,
            2016,
            2017,
            2018,
            2019,
            2020,
            2021,
            2022
           ],
           "xaxis": "x",
           "y": [
            106765,
            99820.002,
            90009.477,
            88438.33,
            88062,
            93144.269,
            96026.634,
            95746.33,
            92383.448001,
            96357.694002,
            91404.952764,
            85616.456886,
            75415.273604
           ],
           "yaxis": "y"
          }
         ],
         "name": "Netherlands"
        },
        {
         "data": [
          {
           "alignmentgroup": "True",
           "hovertemplate": "variable=Renewables<br>COUNTRY=New Zealand<br>Year=%{x}<br>Energy Production (GWh)=%{y}<extra></extra>",
           "legendgroup": "Renewables",
           "marker": {
            "color": "#636efa",
            "pattern": {
             "shape": ""
            }
           },
           "name": "Renewables",
           "offsetgroup": "Renewables",
           "orientation": "v",
           "showlegend": true,
           "textposition": "auto",
           "type": "bar",
           "x": [
            2010,
            2011,
            2012,
            2013,
            2014,
            2015,
            2016,
            2017,
            2018,
            2019,
            2020,
            2021,
            2022
           ],
           "xaxis": "x",
           "y": [
            32200.919,
            33141.869,
            31147.021,
            31445.925,
            33738.590000000004,
            34664.254,
            36162.393,
            35212.42,
            36259.645609,
            35862.697797,
            35032.111459,
            35361.30718,
            37274.750803
           ],
           "yaxis": "y"
          },
          {
           "alignmentgroup": "True",
           "hovertemplate": "variable=Nuclear<br>COUNTRY=New Zealand<br>Year=%{x}<br>Energy Production (GWh)=%{y}<extra></extra>",
           "legendgroup": "Nuclear",
           "marker": {
            "color": "#EF553B",
            "pattern": {
             "shape": ""
            }
           },
           "name": "Nuclear",
           "offsetgroup": "Nuclear",
           "orientation": "v",
           "showlegend": true,
           "textposition": "auto",
           "type": "bar",
           "x": [
            2010,
            2011,
            2012,
            2013,
            2014,
            2015,
            2016,
            2017,
            2018,
            2019,
            2020,
            2021,
            2022
           ],
           "xaxis": "x",
           "y": [
            0,
            0,
            0,
            0,
            0,
            0,
            0,
            0,
            0,
            0,
            0,
            0,
            0
           ],
           "yaxis": "y"
          },
          {
           "alignmentgroup": "True",
           "hovertemplate": "variable=Total combustible fuels<br>COUNTRY=New Zealand<br>Year=%{x}<br>Energy Production (GWh)=%{y}<extra></extra>",
           "legendgroup": "Total combustible fuels",
           "marker": {
            "color": "#00cc96",
            "pattern": {
             "shape": ""
            }
           },
           "name": "Total combustible fuels",
           "offsetgroup": "Total combustible fuels",
           "orientation": "v",
           "showlegend": true,
           "textposition": "auto",
           "type": "bar",
           "x": [
            2010,
            2011,
            2012,
            2013,
            2014,
            2015,
            2016,
            2017,
            2018,
            2019,
            2020,
            2021,
            2022
           ],
           "xaxis": "x",
           "y": [
            11749.716,
            10441.322,
            12194.074,
            10947.254,
            9025.108,
            8774.759,
            6979.702,
            8318.396,
            7407.079131,
            8191.821999,
            8843.194,
            8454.152606,
            5889.827408
           ],
           "yaxis": "y"
          }
         ],
         "name": "New Zealand"
        },
        {
         "data": [
          {
           "alignmentgroup": "True",
           "hovertemplate": "variable=Renewables<br>COUNTRY=North Macedonia<br>Year=%{x}<br>Energy Production (GWh)=%{y}<extra></extra>",
           "legendgroup": "Renewables",
           "marker": {
            "color": "#636efa",
            "pattern": {
             "shape": ""
            }
           },
           "name": "Renewables",
           "offsetgroup": "Renewables",
           "orientation": "v",
           "showlegend": true,
           "textposition": "auto",
           "type": "bar",
           "x": [
            2015,
            2016,
            2017,
            2018,
            2019,
            2020,
            2021,
            2022
           ],
           "xaxis": "x",
           "y": [
            2008.08,
            2035.729,
            1268.664,
            1944.176044,
            1331.1916919999999,
            1465.120386,
            1586.312667,
            1511.122053
           ],
           "yaxis": "y"
          },
          {
           "alignmentgroup": "True",
           "hovertemplate": "variable=Nuclear<br>COUNTRY=North Macedonia<br>Year=%{x}<br>Energy Production (GWh)=%{y}<extra></extra>",
           "legendgroup": "Nuclear",
           "marker": {
            "color": "#EF553B",
            "pattern": {
             "shape": ""
            }
           },
           "name": "Nuclear",
           "offsetgroup": "Nuclear",
           "orientation": "v",
           "showlegend": true,
           "textposition": "auto",
           "type": "bar",
           "x": [
            2015,
            2016,
            2017,
            2018,
            2019,
            2020,
            2021,
            2022
           ],
           "xaxis": "x",
           "y": [
            0,
            0,
            0,
            0,
            0,
            0,
            0,
            0
           ],
           "yaxis": "y"
          },
          {
           "alignmentgroup": "True",
           "hovertemplate": "variable=Total combustible fuels<br>COUNTRY=North Macedonia<br>Year=%{x}<br>Energy Production (GWh)=%{y}<extra></extra>",
           "legendgroup": "Total combustible fuels",
           "marker": {
            "color": "#00cc96",
            "pattern": {
             "shape": ""
            }
           },
           "name": "Total combustible fuels",
           "offsetgroup": "Total combustible fuels",
           "orientation": "v",
           "showlegend": true,
           "textposition": "auto",
           "type": "bar",
           "x": [
            2015,
            2016,
            2017,
            2018,
            2019,
            2020,
            2021,
            2022
           ],
           "xaxis": "x",
           "y": [
            3288,
            3281.379,
            4005.609,
            3388.128998,
            4220.386001,
            3620.435001,
            3649.158373,
            3940.771262
           ],
           "yaxis": "y"
          }
         ],
         "name": "North Macedonia"
        },
        {
         "data": [
          {
           "alignmentgroup": "True",
           "hovertemplate": "variable=Renewables<br>COUNTRY=Norway<br>Year=%{x}<br>Energy Production (GWh)=%{y}<extra></extra>",
           "legendgroup": "Renewables",
           "marker": {
            "color": "#636efa",
            "pattern": {
             "shape": ""
            }
           },
           "name": "Renewables",
           "offsetgroup": "Renewables",
           "orientation": "v",
           "showlegend": true,
           "textposition": "auto",
           "type": "bar",
           "x": [
            2010,
            2011,
            2012,
            2013,
            2014,
            2015,
            2016,
            2017,
            2018,
            2019,
            2020,
            2021,
            2022
           ],
           "xaxis": "x",
           "y": [
            117902.418,
            122675.93000000001,
            144149.001,
            130388.99799999999,
            138032.001,
            140579,
            145202.995,
            145508.002,
            142993.82479400001,
            131662.973523,
            151223.939729,
            155890.825443,
            144002.62901
           ],
           "yaxis": "y"
          },
          {
           "alignmentgroup": "True",
           "hovertemplate": "variable=Nuclear<br>COUNTRY=Norway<br>Year=%{x}<br>Energy Production (GWh)=%{y}<extra></extra>",
           "legendgroup": "Nuclear",
           "marker": {
            "color": "#EF553B",
            "pattern": {
             "shape": ""
            }
           },
           "name": "Nuclear",
           "offsetgroup": "Nuclear",
           "orientation": "v",
           "showlegend": true,
           "textposition": "auto",
           "type": "bar",
           "x": [
            2010,
            2011,
            2012,
            2013,
            2014,
            2015,
            2016,
            2017,
            2018,
            2019,
            2020,
            2021,
            2022
           ],
           "xaxis": "x",
           "y": [
            0,
            0,
            0,
            0,
            0,
            0,
            0,
            0,
            0,
            0,
            0,
            0,
            0
           ],
           "yaxis": "y"
          },
          {
           "alignmentgroup": "True",
           "hovertemplate": "variable=Total combustible fuels<br>COUNTRY=Norway<br>Year=%{x}<br>Energy Production (GWh)=%{y}<extra></extra>",
           "legendgroup": "Total combustible fuels",
           "marker": {
            "color": "#00cc96",
            "pattern": {
             "shape": ""
            }
           },
           "name": "Total combustible fuels",
           "offsetgroup": "Total combustible fuels",
           "orientation": "v",
           "showlegend": true,
           "textposition": "auto",
           "type": "bar",
           "x": [
            2010,
            2011,
            2012,
            2013,
            2014,
            2015,
            2016,
            2017,
            2018,
            2019,
            2020,
            2021,
            2022
           ],
           "xaxis": "x",
           "y": [
            5465.999,
            4644.998,
            3276.9990000000003,
            3239,
            3254.9990000000003,
            3247,
            3201,
            3189.999,
            3109.719,
            2940.2359969999998,
            2372.211999,
            1451.951667,
            1813.370556
           ],
           "yaxis": "y"
          }
         ],
         "name": "Norway"
        },
        {
         "data": [
          {
           "alignmentgroup": "True",
           "hovertemplate": "variable=Renewables<br>COUNTRY=OECD Americas<br>Year=%{x}<br>Energy Production (GWh)=%{y}<extra></extra>",
           "legendgroup": "Renewables",
           "marker": {
            "color": "#636efa",
            "pattern": {
             "shape": ""
            }
           },
           "name": "Renewables",
           "offsetgroup": "Renewables",
           "orientation": "v",
           "showlegend": true,
           "textposition": "auto",
           "type": "bar",
           "x": [
            2010,
            2011,
            2012,
            2013,
            2014,
            2015,
            2016,
            2017,
            2018,
            2019,
            2020,
            2021,
            2022
           ],
           "xaxis": "x",
           "y": [
            891901.202,
            1004976.744,
            987431.254,
            1031201.838,
            1114449.25,
            1121504.732,
            1203603.539,
            1311204.633,
            1329967.994947,
            1345539.997033,
            1391279.400096,
            1503230.446647,
            1620760.8930600001
           ],
           "yaxis": "y"
          },
          {
           "alignmentgroup": "True",
           "hovertemplate": "variable=Nuclear<br>COUNTRY=OECD Americas<br>Year=%{x}<br>Energy Production (GWh)=%{y}<extra></extra>",
           "legendgroup": "Nuclear",
           "marker": {
            "color": "#EF553B",
            "pattern": {
             "shape": ""
            }
           },
           "name": "Nuclear",
           "offsetgroup": "Nuclear",
           "orientation": "v",
           "showlegend": true,
           "textposition": "auto",
           "type": "bar",
           "x": [
            2010,
            2011,
            2012,
            2013,
            2014,
            2015,
            2016,
            2017,
            2018,
            2019,
            2020,
            2021,
            2022
           ],
           "xaxis": "x",
           "y": [
            898156.0009999999,
            888157.999,
            867231.999,
            897977.001,
            907676.999,
            904401.0009999999,
            911652.998,
            911086.64,
            915431.477002,
            915759.262,
            893396.817453,
            877290.766866,
            863806.118845
           ],
           "yaxis": "y"
          },
          {
           "alignmentgroup": "True",
           "hovertemplate": "variable=Total combustible fuels<br>COUNTRY=OECD Americas<br>Year=%{x}<br>Energy Production (GWh)=%{y}<extra></extra>",
           "legendgroup": "Total combustible fuels",
           "marker": {
            "color": "#00cc96",
            "pattern": {
             "shape": ""
            }
           },
           "name": "Total combustible fuels",
           "offsetgroup": "Total combustible fuels",
           "orientation": "v",
           "showlegend": true,
           "textposition": "auto",
           "type": "bar",
           "x": [
            2010,
            2011,
            2012,
            2013,
            2014,
            2015,
            2016,
            2017,
            2018,
            2019,
            2020,
            2021,
            2022
           ],
           "xaxis": "x",
           "y": [
            3341180.001,
            3267645.0239999997,
            3256101.716,
            3232842.002,
            3250873.775,
            3245034.511,
            3179672.511,
            3050888.197,
            3191432.827,
            3113323.904001,
            2942992.527658,
            3035763.02048,
            3066338.760622
           ],
           "yaxis": "y"
          }
         ],
         "name": "OECD Americas"
        },
        {
         "data": [
          {
           "alignmentgroup": "True",
           "hovertemplate": "variable=Renewables<br>COUNTRY=OECD Asia Oceania<br>Year=%{x}<br>Energy Production (GWh)=%{y}<extra></extra>",
           "legendgroup": "Renewables",
           "marker": {
            "color": "#636efa",
            "pattern": {
             "shape": ""
            }
           },
           "name": "Renewables",
           "offsetgroup": "Renewables",
           "orientation": "v",
           "showlegend": true,
           "textposition": "auto",
           "type": "bar",
           "x": [
            2010,
            2011,
            2012,
            2013,
            2014,
            2015,
            2016,
            2017,
            2018,
            2019,
            2020,
            2021,
            2022
           ],
           "xaxis": "x",
           "y": [
            181834.952,
            185020.94400000002,
            184475.103,
            199373.631,
            207900.876,
            235410.858311,
            255200.467866,
            267824.734663,
            296419.73481,
            302199.107468,
            335889.859597,
            370702.282461,
            401747.225366
           ],
           "yaxis": "y"
          },
          {
           "alignmentgroup": "True",
           "hovertemplate": "variable=Nuclear<br>COUNTRY=OECD Asia Oceania<br>Year=%{x}<br>Energy Production (GWh)=%{y}<extra></extra>",
           "legendgroup": "Nuclear",
           "marker": {
            "color": "#EF553B",
            "pattern": {
             "shape": ""
            }
           },
           "name": "Nuclear",
           "offsetgroup": "Nuclear",
           "orientation": "v",
           "showlegend": true,
           "textposition": "auto",
           "type": "bar",
           "x": [
            2010,
            2011,
            2012,
            2013,
            2014,
            2015,
            2016,
            2017,
            2018,
            2019,
            2020,
            2021,
            2022
           ],
           "xaxis": "x",
           "y": [
            420258.596,
            301138.423,
            158669.278,
            142897.836,
            149165.001,
            160401.625,
            169064.063,
            169029.803,
            174936.530955,
            202557.99226899998,
            195023.773187,
            211551.235596,
            218638.810205
           ],
           "yaxis": "y"
          },
          {
           "alignmentgroup": "True",
           "hovertemplate": "variable=Total combustible fuels<br>COUNTRY=OECD Asia Oceania<br>Year=%{x}<br>Energy Production (GWh)=%{y}<extra></extra>",
           "legendgroup": "Total combustible fuels",
           "marker": {
            "color": "#00cc96",
            "pattern": {
             "shape": ""
            }
           },
           "name": "Total combustible fuels",
           "offsetgroup": "Total combustible fuels",
           "orientation": "v",
           "showlegend": true,
           "textposition": "auto",
           "type": "bar",
           "x": [
            2010,
            2011,
            2012,
            2013,
            2014,
            2015,
            2016,
            2017,
            2018,
            2019,
            2020,
            2021,
            2022
           ],
           "xaxis": "x",
           "y": [
            1268139.779,
            1370537.966,
            1525820.867,
            1508288.4,
            1502033.423,
            1452664.835641,
            1441754.29735,
            1437681.652406,
            1453740.025779,
            1367877.763365,
            1307914.944293,
            1271088.684388,
            1277905.854089
           ],
           "yaxis": "y"
          }
         ],
         "name": "OECD Asia Oceania"
        },
        {
         "data": [
          {
           "alignmentgroup": "True",
           "hovertemplate": "variable=Renewables<br>COUNTRY=OECD Europe<br>Year=%{x}<br>Energy Production (GWh)=%{y}<extra></extra>",
           "legendgroup": "Renewables",
           "marker": {
            "color": "#636efa",
            "pattern": {
             "shape": ""
            }
           },
           "name": "Renewables",
           "offsetgroup": "Renewables",
           "orientation": "v",
           "showlegend": true,
           "textposition": "auto",
           "type": "bar",
           "x": [
            2010,
            2011,
            2012,
            2013,
            2014,
            2015,
            2016,
            2017,
            2018,
            2019,
            2020,
            2021,
            2022
           ],
           "xaxis": "x",
           "y": [
            888090.17,
            897682.0549999999,
            1021342.554,
            1092660.276,
            1115908.751,
            1188545.166,
            1210707.796,
            1234626.014,
            1309926.6792290001,
            1385344.21306,
            1502142.024102,
            1490495.157747,
            1521337.565494
           ],
           "yaxis": "y"
          },
          {
           "alignmentgroup": "True",
           "hovertemplate": "variable=Nuclear<br>COUNTRY=OECD Europe<br>Year=%{x}<br>Energy Production (GWh)=%{y}<extra></extra>",
           "legendgroup": "Nuclear",
           "marker": {
            "color": "#EF553B",
            "pattern": {
             "shape": ""
            }
           },
           "name": "Nuclear",
           "offsetgroup": "Nuclear",
           "orientation": "v",
           "showlegend": true,
           "textposition": "auto",
           "type": "bar",
           "x": [
            2010,
            2011,
            2012,
            2013,
            2014,
            2015,
            2016,
            2017,
            2018,
            2019,
            2020,
            2021,
            2022
           ],
           "xaxis": "x",
           "y": [
            868189.008,
            858473.534,
            834918.017,
            831972.686,
            831460.775,
            809403.367,
            790566.1089999999,
            780147.407,
            782331.319996,
            778529.321002,
            690694.220265,
            729488.888296,
            618549.615382
           ],
           "yaxis": "y"
          },
          {
           "alignmentgroup": "True",
           "hovertemplate": "variable=Total combustible fuels<br>COUNTRY=OECD Europe<br>Year=%{x}<br>Energy Production (GWh)=%{y}<extra></extra>",
           "legendgroup": "Total combustible fuels",
           "marker": {
            "color": "#00cc96",
            "pattern": {
             "shape": ""
            }
           },
           "name": "Total combustible fuels",
           "offsetgroup": "Total combustible fuels",
           "orientation": "v",
           "showlegend": true,
           "textposition": "auto",
           "type": "bar",
           "x": [
            2010,
            2011,
            2012,
            2013,
            2014,
            2015,
            2016,
            2017,
            2018,
            2019,
            2020,
            2021,
            2022
           ],
           "xaxis": "x",
           "y": [
            1844924.139,
            1810179.205,
            1759245.882,
            1670204.828,
            1589259.54,
            1611996.05,
            1643697.142,
            1687768.669,
            1605698.487286,
            1504531.506387,
            1386563.6114100001,
            1499821.740577,
            1498159.200473
           ],
           "yaxis": "y"
          }
         ],
         "name": "OECD Europe"
        },
        {
         "data": [
          {
           "alignmentgroup": "True",
           "hovertemplate": "variable=Renewables<br>COUNTRY=OECD Total<br>Year=%{x}<br>Energy Production (GWh)=%{y}<extra></extra>",
           "legendgroup": "Renewables",
           "marker": {
            "color": "#636efa",
            "pattern": {
             "shape": ""
            }
           },
           "name": "Renewables",
           "offsetgroup": "Renewables",
           "orientation": "v",
           "showlegend": true,
           "textposition": "auto",
           "type": "bar",
           "x": [
            2010,
            2011,
            2012,
            2013,
            2014,
            2015,
            2016,
            2017,
            2018,
            2019,
            2020,
            2021,
            2022
           ],
           "xaxis": "x",
           "y": [
            1961826.324,
            2087679.743,
            2193248.911,
            2323235.745,
            2438258.877,
            2545460.756311,
            2669511.802866,
            2813655.381663,
            2936314.408986,
            3033083.317561,
            3229311.283795,
            3364427.886855,
            3543845.683928
           ],
           "yaxis": "y"
          },
          {
           "alignmentgroup": "True",
           "hovertemplate": "variable=Nuclear<br>COUNTRY=OECD Total<br>Year=%{x}<br>Energy Production (GWh)=%{y}<extra></extra>",
           "legendgroup": "Nuclear",
           "marker": {
            "color": "#EF553B",
            "pattern": {
             "shape": ""
            }
           },
           "name": "Nuclear",
           "offsetgroup": "Nuclear",
           "orientation": "v",
           "showlegend": true,
           "textposition": "auto",
           "type": "bar",
           "x": [
            2010,
            2011,
            2012,
            2013,
            2014,
            2015,
            2016,
            2017,
            2018,
            2019,
            2020,
            2021,
            2022
           ],
           "xaxis": "x",
           "y": [
            2186603.605,
            2047769.956,
            1860819.294,
            1872847.523,
            1888302.775,
            1874205.993,
            1871283.17,
            1860263.85,
            1872699.327953,
            1896846.575271,
            1779114.810905,
            1818330.890758,
            1700994.544437
           ],
           "yaxis": "y"
          },
          {
           "alignmentgroup": "True",
           "hovertemplate": "variable=Total combustible fuels<br>COUNTRY=OECD Total<br>Year=%{x}<br>Energy Production (GWh)=%{y}<extra></extra>",
           "legendgroup": "Total combustible fuels",
           "marker": {
            "color": "#00cc96",
            "pattern": {
             "shape": ""
            }
           },
           "name": "Total combustible fuels",
           "offsetgroup": "Total combustible fuels",
           "orientation": "v",
           "showlegend": true,
           "textposition": "auto",
           "type": "bar",
           "x": [
            2010,
            2011,
            2012,
            2013,
            2014,
            2015,
            2016,
            2017,
            2018,
            2019,
            2020,
            2021,
            2022
           ],
           "xaxis": "x",
           "y": [
            6454243.919,
            6448362.195,
            6541168.465,
            6411335.23,
            6342166.738,
            6309695.396641,
            6265123.95035,
            6176338.518406,
            6250871.340065,
            5985733.173753,
            5637471.083361,
            5806673.445445,
            5842403.815192
           ],
           "yaxis": "y"
          }
         ],
         "name": "OECD Total"
        },
        {
         "data": [
          {
           "alignmentgroup": "True",
           "hovertemplate": "variable=Renewables<br>COUNTRY=Poland<br>Year=%{x}<br>Energy Production (GWh)=%{y}<extra></extra>",
           "legendgroup": "Renewables",
           "marker": {
            "color": "#636efa",
            "pattern": {
             "shape": ""
            }
           },
           "name": "Renewables",
           "offsetgroup": "Renewables",
           "orientation": "v",
           "showlegend": true,
           "textposition": "auto",
           "type": "bar",
           "x": [
            2010,
            2011,
            2012,
            2013,
            2014,
            2015,
            2016,
            2017,
            2018,
            2019,
            2020,
            2021,
            2022
           ],
           "xaxis": "x",
           "y": [
            10841.987000000001,
            12819.097,
            16303.798999999999,
            16735.025999999998,
            19349.486,
            22205.917,
            22196.557,
            23578.854,
            21067.722711,
            26764.098549000002,
            29552.144511000002,
            31669.331025,
            36569.882493
           ],
           "yaxis": "y"
          },
          {
           "alignmentgroup": "True",
           "hovertemplate": "variable=Nuclear<br>COUNTRY=Poland<br>Year=%{x}<br>Energy Production (GWh)=%{y}<extra></extra>",
           "legendgroup": "Nuclear",
           "marker": {
            "color": "#EF553B",
            "pattern": {
             "shape": ""
            }
           },
           "name": "Nuclear",
           "offsetgroup": "Nuclear",
           "orientation": "v",
           "showlegend": true,
           "textposition": "auto",
           "type": "bar",
           "x": [
            2010,
            2011,
            2012,
            2013,
            2014,
            2015,
            2016,
            2017,
            2018,
            2019,
            2020,
            2021,
            2022
           ],
           "xaxis": "x",
           "y": [
            0,
            0,
            0,
            0,
            0,
            0,
            0,
            0,
            0,
            0,
            0,
            0,
            0
           ],
           "yaxis": "y"
          },
          {
           "alignmentgroup": "True",
           "hovertemplate": "variable=Total combustible fuels<br>COUNTRY=Poland<br>Year=%{x}<br>Energy Production (GWh)=%{y}<extra></extra>",
           "legendgroup": "Total combustible fuels",
           "marker": {
            "color": "#00cc96",
            "pattern": {
             "shape": ""
            }
           },
           "name": "Total combustible fuels",
           "offsetgroup": "Total combustible fuels",
           "orientation": "v",
           "showlegend": true,
           "textposition": "auto",
           "type": "bar",
           "x": [
            2010,
            2011,
            2012,
            2013,
            2014,
            2015,
            2016,
            2017,
            2018,
            2019,
            2020,
            2021,
            2022
           ],
           "xaxis": "x",
           "y": [
            138253,
            142890.001,
            140421.999,
            141062.001,
            134783.999,
            137390.002,
            136945.004,
            137068.094,
            140006.418,
            133025.653999,
            125770.241998,
            144484.842017,
            135129.754279
           ],
           "yaxis": "y"
          }
         ],
         "name": "Poland"
        },
        {
         "data": [
          {
           "alignmentgroup": "True",
           "hovertemplate": "variable=Renewables<br>COUNTRY=Portugal<br>Year=%{x}<br>Energy Production (GWh)=%{y}<extra></extra>",
           "legendgroup": "Renewables",
           "marker": {
            "color": "#636efa",
            "pattern": {
             "shape": ""
            }
           },
           "name": "Renewables",
           "offsetgroup": "Renewables",
           "orientation": "v",
           "showlegend": true,
           "textposition": "auto",
           "type": "bar",
           "x": [
            2010,
            2011,
            2012,
            2013,
            2014,
            2015,
            2016,
            2017,
            2018,
            2019,
            2020,
            2021,
            2022
           ],
           "xaxis": "x",
           "y": [
            28351.645,
            24371.972999999998,
            20120.078,
            30239.827,
            32006.033,
            25164.421000000002,
            33107.475,
            23884.456,
            30292.58838,
            28550.919296,
            31325.839434,
            32202.112412000002,
            29360.121010000003
           ],
           "yaxis": "y"
          },
          {
           "alignmentgroup": "True",
           "hovertemplate": "variable=Nuclear<br>COUNTRY=Portugal<br>Year=%{x}<br>Energy Production (GWh)=%{y}<extra></extra>",
           "legendgroup": "Nuclear",
           "marker": {
            "color": "#EF553B",
            "pattern": {
             "shape": ""
            }
           },
           "name": "Nuclear",
           "offsetgroup": "Nuclear",
           "orientation": "v",
           "showlegend": true,
           "textposition": "auto",
           "type": "bar",
           "x": [
            2010,
            2011,
            2012,
            2013,
            2014,
            2015,
            2016,
            2017,
            2018,
            2019,
            2020,
            2021,
            2022
           ],
           "xaxis": "x",
           "y": [
            0,
            0,
            0,
            0,
            0,
            0,
            0,
            0,
            0,
            0,
            0,
            0,
            0
           ],
           "yaxis": "y"
          },
          {
           "alignmentgroup": "True",
           "hovertemplate": "variable=Total combustible fuels<br>COUNTRY=Portugal<br>Year=%{x}<br>Energy Production (GWh)=%{y}<extra></extra>",
           "legendgroup": "Total combustible fuels",
           "marker": {
            "color": "#00cc96",
            "pattern": {
             "shape": ""
            }
           },
           "name": "Total combustible fuels",
           "offsetgroup": "Total combustible fuels",
           "orientation": "v",
           "showlegend": true,
           "textposition": "auto",
           "type": "bar",
           "x": [
            2010,
            2011,
            2012,
            2013,
            2014,
            2015,
            2016,
            2017,
            2018,
            2019,
            2020,
            2021,
            2022
           ],
           "xaxis": "x",
           "y": [
            26948.999,
            29568.999,
            27959.001,
            23089.999,
            22431.999,
            28741,
            28702,
            36882.02,
            30941.366002,
            26902.164,
            24654.035999,
            20618.797793,
            23295.746821
           ],
           "yaxis": "y"
          }
         ],
         "name": "Portugal"
        },
        {
         "data": [
          {
           "alignmentgroup": "True",
           "hovertemplate": "variable=Renewables<br>COUNTRY=Republic of Turkiye<br>Year=%{x}<br>Energy Production (GWh)=%{y}<extra></extra>",
           "legendgroup": "Renewables",
           "marker": {
            "color": "#636efa",
            "pattern": {
             "shape": ""
            }
           },
           "name": "Renewables",
           "offsetgroup": "Renewables",
           "orientation": "v",
           "showlegend": true,
           "textposition": "auto",
           "type": "bar",
           "x": [
            2010,
            2011,
            2012,
            2013,
            2014,
            2015,
            2016,
            2017,
            2018,
            2019,
            2020,
            2021,
            2022
           ],
           "xaxis": "x",
           "y": [
            55213.632,
            56781.928,
            63830.644,
            67756.034,
            51314.152,
            81733.611,
            88628.648,
            85519.802,
            94551.226398,
            129383.29281,
            132840.472264,
            114536.729989,
            133400.383013
           ],
           "yaxis": "y"
          },
          {
           "alignmentgroup": "True",
           "hovertemplate": "variable=Nuclear<br>COUNTRY=Republic of Turkiye<br>Year=%{x}<br>Energy Production (GWh)=%{y}<extra></extra>",
           "legendgroup": "Nuclear",
           "marker": {
            "color": "#EF553B",
            "pattern": {
             "shape": ""
            }
           },
           "name": "Nuclear",
           "offsetgroup": "Nuclear",
           "orientation": "v",
           "showlegend": true,
           "textposition": "auto",
           "type": "bar",
           "x": [
            2010,
            2011,
            2012,
            2013,
            2014,
            2015,
            2016,
            2017,
            2018,
            2019,
            2020,
            2021,
            2022
           ],
           "xaxis": "x",
           "y": [
            0,
            0,
            0,
            0,
            0,
            0,
            0,
            0,
            0,
            0,
            0,
            0,
            0
           ],
           "yaxis": "y"
          },
          {
           "alignmentgroup": "True",
           "hovertemplate": "variable=Total combustible fuels<br>COUNTRY=Republic of Turkiye<br>Year=%{x}<br>Energy Production (GWh)=%{y}<extra></extra>",
           "legendgroup": "Total combustible fuels",
           "marker": {
            "color": "#00cc96",
            "pattern": {
             "shape": ""
            }
           },
           "name": "Total combustible fuels",
           "offsetgroup": "Total combustible fuels",
           "orientation": "v",
           "showlegend": true,
           "textposition": "auto",
           "type": "bar",
           "x": [
            2010,
            2011,
            2012,
            2013,
            2014,
            2015,
            2016,
            2017,
            2018,
            2019,
            2020,
            2021,
            2022
           ],
           "xaxis": "x",
           "y": [
            148039.001,
            160994,
            164323,
            161783.999,
            188837.001,
            168870,
            174165.999,
            199910.04499999998,
            196483.939998,
            161975.210999,
            170363.749999,
            206596.468274,
            185484.276096
           ],
           "yaxis": "y"
          }
         ],
         "name": "Republic of Turkiye"
        },
        {
         "data": [
          {
           "alignmentgroup": "True",
           "hovertemplate": "variable=Renewables<br>COUNTRY=Romania<br>Year=%{x}<br>Energy Production (GWh)=%{y}<extra></extra>",
           "legendgroup": "Renewables",
           "marker": {
            "color": "#636efa",
            "pattern": {
             "shape": ""
            }
           },
           "name": "Renewables",
           "offsetgroup": "Renewables",
           "orientation": "v",
           "showlegend": true,
           "textposition": "auto",
           "type": "bar",
           "x": [
            2015,
            2016,
            2017,
            2018,
            2019,
            2020,
            2021,
            2022
           ],
           "xaxis": "x",
           "y": [
            26333.446,
            27046.512,
            24330.968,
            26339.668343,
            24757.235311,
            24611.710973,
            26040.261889,
            23597.636828
           ],
           "yaxis": "y"
          },
          {
           "alignmentgroup": "True",
           "hovertemplate": "variable=Nuclear<br>COUNTRY=Romania<br>Year=%{x}<br>Energy Production (GWh)=%{y}<extra></extra>",
           "legendgroup": "Nuclear",
           "marker": {
            "color": "#EF553B",
            "pattern": {
             "shape": ""
            }
           },
           "name": "Nuclear",
           "offsetgroup": "Nuclear",
           "orientation": "v",
           "showlegend": true,
           "textposition": "auto",
           "type": "bar",
           "x": [
            2015,
            2016,
            2017,
            2018,
            2019,
            2020,
            2021,
            2022
           ],
           "xaxis": "x",
           "y": [
            10698,
            10365.999,
            10557.904,
            10441.658999,
            10345.440002,
            10556.703,
            10376.708063,
            10116.092326
           ],
           "yaxis": "y"
          },
          {
           "alignmentgroup": "True",
           "hovertemplate": "variable=Total combustible fuels<br>COUNTRY=Romania<br>Year=%{x}<br>Energy Production (GWh)=%{y}<extra></extra>",
           "legendgroup": "Total combustible fuels",
           "marker": {
            "color": "#00cc96",
            "pattern": {
             "shape": ""
            }
           },
           "name": "Total combustible fuels",
           "offsetgroup": "Total combustible fuels",
           "orientation": "v",
           "showlegend": true,
           "textposition": "auto",
           "type": "bar",
           "x": [
            2015,
            2016,
            2017,
            2018,
            2019,
            2020,
            2021,
            2022
           ],
           "xaxis": "x",
           "y": [
            24698,
            23304,
            24923.059,
            23774.754521,
            20509.216551999998,
            17223.910428,
            19154.534438,
            17953.344642
           ],
           "yaxis": "y"
          }
         ],
         "name": "Romania"
        },
        {
         "data": [
          {
           "alignmentgroup": "True",
           "hovertemplate": "variable=Renewables<br>COUNTRY=Serbia<br>Year=%{x}<br>Energy Production (GWh)=%{y}<extra></extra>",
           "legendgroup": "Renewables",
           "marker": {
            "color": "#636efa",
            "pattern": {
             "shape": ""
            }
           },
           "name": "Renewables",
           "offsetgroup": "Renewables",
           "orientation": "v",
           "showlegend": true,
           "textposition": "auto",
           "type": "bar",
           "x": [
            2015,
            2016,
            2017,
            2018,
            2019,
            2020,
            2021,
            2022
           ],
           "xaxis": "x",
           "y": [
            10728.851999999999,
            11497.791,
            9799.46,
            11562.372699,
            11140.886787,
            10835.240683,
            13222.463359000001,
            10404.362017
           ],
           "yaxis": "y"
          },
          {
           "alignmentgroup": "True",
           "hovertemplate": "variable=Nuclear<br>COUNTRY=Serbia<br>Year=%{x}<br>Energy Production (GWh)=%{y}<extra></extra>",
           "legendgroup": "Nuclear",
           "marker": {
            "color": "#EF553B",
            "pattern": {
             "shape": ""
            }
           },
           "name": "Nuclear",
           "offsetgroup": "Nuclear",
           "orientation": "v",
           "showlegend": true,
           "textposition": "auto",
           "type": "bar",
           "x": [
            2015,
            2016,
            2017,
            2018,
            2019,
            2020,
            2021,
            2022
           ],
           "xaxis": "x",
           "y": [
            0,
            0,
            0,
            0,
            0,
            0,
            0,
            0
           ],
           "yaxis": "y"
          },
          {
           "alignmentgroup": "True",
           "hovertemplate": "variable=Total combustible fuels<br>COUNTRY=Serbia<br>Year=%{x}<br>Energy Production (GWh)=%{y}<extra></extra>",
           "legendgroup": "Total combustible fuels",
           "marker": {
            "color": "#00cc96",
            "pattern": {
             "shape": ""
            }
           },
           "name": "Total combustible fuels",
           "offsetgroup": "Total combustible fuels",
           "orientation": "v",
           "showlegend": true,
           "textposition": "auto",
           "type": "bar",
           "x": [
            2015,
            2016,
            2017,
            2018,
            2019,
            2020,
            2021,
            2022
           ],
           "xaxis": "x",
           "y": [
            24931.002,
            25161.001,
            24566.923000000003,
            23312.703999,
            23546.842,
            24612.650999999998,
            22799.362748,
            22599.546261
           ],
           "yaxis": "y"
          }
         ],
         "name": "Serbia"
        },
        {
         "data": [
          {
           "alignmentgroup": "True",
           "hovertemplate": "variable=Renewables<br>COUNTRY=Slovak Republic<br>Year=%{x}<br>Energy Production (GWh)=%{y}<extra></extra>",
           "legendgroup": "Renewables",
           "marker": {
            "color": "#636efa",
            "pattern": {
             "shape": ""
            }
           },
           "name": "Renewables",
           "offsetgroup": "Renewables",
           "orientation": "v",
           "showlegend": true,
           "textposition": "auto",
           "type": "bar",
           "x": [
            2010,
            2011,
            2012,
            2013,
            2014,
            2015,
            2016,
            2017,
            2018,
            2019,
            2020,
            2021,
            2022
           ],
           "xaxis": "x",
           "y": [
            6213.52,
            4711.824,
            5276.933,
            6146.994,
            5854.472,
            5932.084,
            6584.585,
            6609.296,
            5806.528377,
            6579.417074,
            6299.469084,
            6586.644067,
            6023.417867
           ],
           "yaxis": "y"
          },
          {
           "alignmentgroup": "True",
           "hovertemplate": "variable=Nuclear<br>COUNTRY=Slovak Republic<br>Year=%{x}<br>Energy Production (GWh)=%{y}<extra></extra>",
           "legendgroup": "Nuclear",
           "marker": {
            "color": "#EF553B",
            "pattern": {
             "shape": ""
            }
           },
           "name": "Nuclear",
           "offsetgroup": "Nuclear",
           "orientation": "v",
           "showlegend": true,
           "textposition": "auto",
           "type": "bar",
           "x": [
            2010,
            2011,
            2012,
            2013,
            2014,
            2015,
            2016,
            2017,
            2018,
            2019,
            2020,
            2021,
            2022
           ],
           "xaxis": "x",
           "y": [
            12784.002,
            14340.001,
            14411,
            14623.999,
            14420,
            14080.999,
            13731.998,
            14016.001,
            13784,
            14168.000001,
            14281,
            14589.827,
            14723.704617
           ],
           "yaxis": "y"
          },
          {
           "alignmentgroup": "True",
           "hovertemplate": "variable=Total combustible fuels<br>COUNTRY=Slovak Republic<br>Year=%{x}<br>Energy Production (GWh)=%{y}<extra></extra>",
           "legendgroup": "Total combustible fuels",
           "marker": {
            "color": "#00cc96",
            "pattern": {
             "shape": ""
            }
           },
           "name": "Total combustible fuels",
           "offsetgroup": "Total combustible fuels",
           "orientation": "v",
           "showlegend": true,
           "textposition": "auto",
           "type": "bar",
           "x": [
            2010,
            2011,
            2012,
            2013,
            2014,
            2015,
            2016,
            2017,
            2018,
            2019,
            2020,
            2021,
            2022
           ],
           "xaxis": "x",
           "y": [
            7005.998,
            7691.002,
            7206.999,
            7243,
            5863,
            6105.998,
            6065.004,
            6417.007,
            6592.999999,
            7099.999999,
            7047.999999,
            7835.636775,
            6206.705706
           ],
           "yaxis": "y"
          }
         ],
         "name": "Slovak Republic"
        },
        {
         "data": [
          {
           "alignmentgroup": "True",
           "hovertemplate": "variable=Renewables<br>COUNTRY=Slovenia<br>Year=%{x}<br>Energy Production (GWh)=%{y}<extra></extra>",
           "legendgroup": "Renewables",
           "marker": {
            "color": "#636efa",
            "pattern": {
             "shape": ""
            }
           },
           "name": "Renewables",
           "offsetgroup": "Renewables",
           "orientation": "v",
           "showlegend": true,
           "textposition": "auto",
           "type": "bar",
           "x": [
            2010,
            2011,
            2012,
            2013,
            2014,
            2015,
            2016,
            2017,
            2018,
            2019,
            2020,
            2021,
            2022
           ],
           "xaxis": "x",
           "y": [
            4842.175,
            3938.338,
            4426.02,
            5306.019,
            6770.49,
            4548.891,
            5245.66,
            4635.61,
            5332.113607,
            5156.773553999999,
            5780.197792,
            5581.025573,
            4129.246758
           ],
           "yaxis": "y"
          },
          {
           "alignmentgroup": "True",
           "hovertemplate": "variable=Nuclear<br>COUNTRY=Slovenia<br>Year=%{x}<br>Energy Production (GWh)=%{y}<extra></extra>",
           "legendgroup": "Nuclear",
           "marker": {
            "color": "#EF553B",
            "pattern": {
             "shape": ""
            }
           },
           "name": "Nuclear",
           "offsetgroup": "Nuclear",
           "orientation": "v",
           "showlegend": true,
           "textposition": "auto",
           "type": "bar",
           "x": [
            2010,
            2011,
            2012,
            2013,
            2014,
            2015,
            2016,
            2017,
            2018,
            2019,
            2020,
            2021,
            2022
           ],
           "xaxis": "x",
           "y": [
            5381,
            5902,
            5243.998,
            5036,
            6061,
            5371.999,
            5430.999,
            5967.826,
            5489.907999,
            5532.981001,
            6040.846001,
            5418.643637,
            5310.696976
           ],
           "yaxis": "y"
          },
          {
           "alignmentgroup": "True",
           "hovertemplate": "variable=Total combustible fuels<br>COUNTRY=Slovenia<br>Year=%{x}<br>Energy Production (GWh)=%{y}<extra></extra>",
           "legendgroup": "Total combustible fuels",
           "marker": {
            "color": "#00cc96",
            "pattern": {
             "shape": ""
            }
           },
           "name": "Total combustible fuels",
           "offsetgroup": "Total combustible fuels",
           "orientation": "v",
           "showlegend": true,
           "textposition": "auto",
           "type": "bar",
           "x": [
            2010,
            2011,
            2012,
            2013,
            2014,
            2015,
            2016,
            2017,
            2018,
            2019,
            2020,
            2021,
            2022
           ],
           "xaxis": "x",
           "y": [
            5379.999,
            5384.999,
            5271,
            5007,
            3880.001,
            4503.001,
            5120.9980000000005,
            5054.643,
            4860.864,
            4760.661999,
            4715.292001,
            4362.556368,
            3577.644767
           ],
           "yaxis": "y"
          }
         ],
         "name": "Slovenia"
        },
        {
         "data": [
          {
           "alignmentgroup": "True",
           "hovertemplate": "variable=Renewables<br>COUNTRY=Spain<br>Year=%{x}<br>Energy Production (GWh)=%{y}<extra></extra>",
           "legendgroup": "Renewables",
           "marker": {
            "color": "#636efa",
            "pattern": {
             "shape": ""
            }
           },
           "name": "Renewables",
           "offsetgroup": "Renewables",
           "orientation": "v",
           "showlegend": true,
           "textposition": "auto",
           "type": "bar",
           "x": [
            2010,
            2011,
            2012,
            2013,
            2014,
            2015,
            2016,
            2017,
            2018,
            2019,
            2020,
            2021,
            2022
           ],
           "xaxis": "x",
           "y": [
            98882.106,
            87854.001,
            88403.515,
            113395.136,
            111826.439,
            97776.458,
            105361.21399999999,
            88213.458,
            103674.679244,
            100570.396748,
            114462.96765199999,
            125522.656908,
            122253.966264
           ],
           "yaxis": "y"
          },
          {
           "alignmentgroup": "True",
           "hovertemplate": "variable=Nuclear<br>COUNTRY=Spain<br>Year=%{x}<br>Energy Production (GWh)=%{y}<extra></extra>",
           "legendgroup": "Nuclear",
           "marker": {
            "color": "#EF553B",
            "pattern": {
             "shape": ""
            }
           },
           "name": "Nuclear",
           "offsetgroup": "Nuclear",
           "orientation": "v",
           "showlegend": true,
           "textposition": "auto",
           "type": "bar",
           "x": [
            2010,
            2011,
            2012,
            2013,
            2014,
            2015,
            2016,
            2017,
            2018,
            2019,
            2020,
            2021,
            2022
           ],
           "xaxis": "x",
           "y": [
            59387,
            55235.998,
            58827,
            54473.001,
            54961.001,
            54755.001,
            56099.998999999996,
            55539.999,
            53233.999999,
            55823.999999,
            55756.999999,
            54040.201585,
            55983.635218999996
           ],
           "yaxis": "y"
          },
          {
           "alignmentgroup": "True",
           "hovertemplate": "variable=Total combustible fuels<br>COUNTRY=Spain<br>Year=%{x}<br>Energy Production (GWh)=%{y}<extra></extra>",
           "legendgroup": "Total combustible fuels",
           "marker": {
            "color": "#00cc96",
            "pattern": {
             "shape": ""
            }
           },
           "name": "Total combustible fuels",
           "offsetgroup": "Total combustible fuels",
           "orientation": "v",
           "showlegend": true,
           "textposition": "auto",
           "type": "bar",
           "x": [
            2010,
            2011,
            2012,
            2013,
            2014,
            2015,
            2016,
            2017,
            2018,
            2019,
            2020,
            2021,
            2022
           ],
           "xaxis": "x",
           "y": [
            136384,
            144451,
            143955,
            113033,
            106715,
            122491.999,
            108210.001,
            126885,
            112466,
            112634.999999,
            90126.000001,
            89723.784188,
            111879.350172
           ],
           "yaxis": "y"
          }
         ],
         "name": "Spain"
        },
        {
         "data": [
          {
           "alignmentgroup": "True",
           "hovertemplate": "variable=Renewables<br>COUNTRY=Sweden<br>Year=%{x}<br>Energy Production (GWh)=%{y}<extra></extra>",
           "legendgroup": "Renewables",
           "marker": {
            "color": "#636efa",
            "pattern": {
             "shape": ""
            }
           },
           "name": "Renewables",
           "offsetgroup": "Renewables",
           "orientation": "v",
           "showlegend": true,
           "textposition": "auto",
           "type": "bar",
           "x": [
            2010,
            2011,
            2012,
            2013,
            2014,
            2015,
            2016,
            2017,
            2018,
            2019,
            2020,
            2021,
            2022
           ],
           "xaxis": "x",
           "y": [
            81503.03600000001,
            83419.213,
            97469.801,
            82110.734,
            84938.736,
            101667.226,
            88471.466,
            94168.45,
            90348.382762,
            98074.461625,
            110394.449374,
            112053.552902,
            120076.908612
           ],
           "yaxis": "y"
          },
          {
           "alignmentgroup": "True",
           "hovertemplate": "variable=Nuclear<br>COUNTRY=Sweden<br>Year=%{x}<br>Energy Production (GWh)=%{y}<extra></extra>",
           "legendgroup": "Nuclear",
           "marker": {
            "color": "#EF553B",
            "pattern": {
             "shape": ""
            }
           },
           "name": "Nuclear",
           "offsetgroup": "Nuclear",
           "orientation": "v",
           "showlegend": true,
           "textposition": "auto",
           "type": "bar",
           "x": [
            2010,
            2011,
            2012,
            2013,
            2014,
            2015,
            2016,
            2017,
            2018,
            2019,
            2020,
            2021,
            2022
           ],
           "xaxis": "x",
           "y": [
            55625.998,
            58026,
            61393.001000000004,
            63597,
            62185,
            54347,
            60524,
            63008.001000000004,
            65801,
            64334.000001,
            47262.697266999996,
            50991.809511,
            50062.764373
           ],
           "yaxis": "y"
          },
          {
           "alignmentgroup": "True",
           "hovertemplate": "variable=Total combustible fuels<br>COUNTRY=Sweden<br>Year=%{x}<br>Energy Production (GWh)=%{y}<extra></extra>",
           "legendgroup": "Total combustible fuels",
           "marker": {
            "color": "#00cc96",
            "pattern": {
             "shape": ""
            }
           },
           "name": "Total combustible fuels",
           "offsetgroup": "Total combustible fuels",
           "orientation": "v",
           "showlegend": true,
           "textposition": "auto",
           "type": "bar",
           "x": [
            2010,
            2011,
            2012,
            2013,
            2014,
            2015,
            2016,
            2017,
            2018,
            2019,
            2020,
            2021,
            2022
           ],
           "xaxis": "x",
           "y": [
            19759.999,
            16652.001,
            15794,
            15119.999,
            13155.001,
            13418.001,
            14621,
            15002.996,
            15016,
            15815.999998,
            12837.914197,
            16064.079283,
            15397.643736
           ],
           "yaxis": "y"
          }
         ],
         "name": "Sweden"
        },
        {
         "data": [
          {
           "alignmentgroup": "True",
           "hovertemplate": "variable=Renewables<br>COUNTRY=Switzerland<br>Year=%{x}<br>Energy Production (GWh)=%{y}<extra></extra>",
           "legendgroup": "Renewables",
           "marker": {
            "color": "#636efa",
            "pattern": {
             "shape": ""
            }
           },
           "name": "Renewables",
           "offsetgroup": "Renewables",
           "orientation": "v",
           "showlegend": true,
           "textposition": "auto",
           "type": "bar",
           "x": [
            2010,
            2011,
            2012,
            2013,
            2014,
            2015,
            2016,
            2017,
            2018,
            2019,
            2020,
            2021,
            2022
           ],
           "xaxis": "x",
           "y": [
            38796.51,
            35354.459,
            41755.87,
            41706.266,
            41856.425,
            42255.9,
            39423.574,
            40241.822,
            41232.025374,
            44658.710074,
            45241.197093,
            44000.566188,
            39812.561322
           ],
           "yaxis": "y"
          },
          {
           "alignmentgroup": "True",
           "hovertemplate": "variable=Nuclear<br>COUNTRY=Switzerland<br>Year=%{x}<br>Energy Production (GWh)=%{y}<extra></extra>",
           "legendgroup": "Nuclear",
           "marker": {
            "color": "#EF553B",
            "pattern": {
             "shape": ""
            }
           },
           "name": "Nuclear",
           "offsetgroup": "Nuclear",
           "orientation": "v",
           "showlegend": true,
           "textposition": "auto",
           "type": "bar",
           "x": [
            2010,
            2011,
            2012,
            2013,
            2014,
            2015,
            2016,
            2017,
            2018,
            2019,
            2020,
            2021,
            2022
           ],
           "xaxis": "x",
           "y": [
            25205,
            25560,
            24345,
            24870.999,
            26370,
            22095,
            20235,
            19499,
            24414,
            25280,
            22989.999998,
            18350.201817,
            23338.449675
           ],
           "yaxis": "y"
          },
          {
           "alignmentgroup": "True",
           "hovertemplate": "variable=Total combustible fuels<br>COUNTRY=Switzerland<br>Year=%{x}<br>Energy Production (GWh)=%{y}<extra></extra>",
           "legendgroup": "Total combustible fuels",
           "marker": {
            "color": "#00cc96",
            "pattern": {
             "shape": ""
            }
           },
           "name": "Total combustible fuels",
           "offsetgroup": "Total combustible fuels",
           "orientation": "v",
           "showlegend": true,
           "textposition": "auto",
           "type": "bar",
           "x": [
            2010,
            2011,
            2012,
            2013,
            2014,
            2015,
            2016,
            2017,
            2018,
            2019,
            2020,
            2021,
            2022
           ],
           "xaxis": "x",
           "y": [
            3344.8450000000003,
            3365.861,
            3520.014,
            3481.99,
            3364.931,
            3307.651,
            3691.553,
            3671.237,
            3541.886,
            3579.618,
            3654.601999,
            3445.130211,
            3688.599323
           ],
           "yaxis": "y"
          }
         ],
         "name": "Switzerland"
        },
        {
         "data": [
          {
           "alignmentgroup": "True",
           "hovertemplate": "variable=Renewables<br>COUNTRY=United Kingdom<br>Year=%{x}<br>Energy Production (GWh)=%{y}<extra></extra>",
           "legendgroup": "Renewables",
           "marker": {
            "color": "#636efa",
            "pattern": {
             "shape": ""
            }
           },
           "name": "Renewables",
           "offsetgroup": "Renewables",
           "orientation": "v",
           "showlegend": true,
           "textposition": "auto",
           "type": "bar",
           "x": [
            2010,
            2011,
            2012,
            2013,
            2014,
            2015,
            2016,
            2017,
            2018,
            2019,
            2020,
            2021,
            2022
           ],
           "xaxis": "x",
           "y": [
            28875.265,
            37582.456,
            43540.11,
            55252.944,
            66298.304,
            85948.178,
            84645.896,
            100264.309,
            110831.871514,
            119446.790151,
            133990.568095,
            121814.541142,
            138230.287216
           ],
           "yaxis": "y"
          },
          {
           "alignmentgroup": "True",
           "hovertemplate": "variable=Nuclear<br>COUNTRY=United Kingdom<br>Year=%{x}<br>Energy Production (GWh)=%{y}<extra></extra>",
           "legendgroup": "Nuclear",
           "marker": {
            "color": "#EF553B",
            "pattern": {
             "shape": ""
            }
           },
           "name": "Nuclear",
           "offsetgroup": "Nuclear",
           "orientation": "v",
           "showlegend": true,
           "textposition": "auto",
           "type": "bar",
           "x": [
            2010,
            2011,
            2012,
            2013,
            2014,
            2015,
            2016,
            2017,
            2018,
            2019,
            2020,
            2021,
            2022
           ],
           "xaxis": "x",
           "y": [
            56442.001000000004,
            62654.999,
            63949.001,
            64133,
            57903.001000000004,
            63894.555,
            65149.085,
            63886.861,
            59097.749999,
            51032.09,
            45668.029999,
            41661.544914,
            43381.479736
           ],
           "yaxis": "y"
          },
          {
           "alignmentgroup": "True",
           "hovertemplate": "variable=Total combustible fuels<br>COUNTRY=United Kingdom<br>Year=%{x}<br>Energy Production (GWh)=%{y}<extra></extra>",
           "legendgroup": "Total combustible fuels",
           "marker": {
            "color": "#00cc96",
            "pattern": {
             "shape": ""
            }
           },
           "name": "Total combustible fuels",
           "offsetgroup": "Total combustible fuels",
           "orientation": "v",
           "showlegend": true,
           "textposition": "auto",
           "type": "bar",
           "x": [
            2010,
            2011,
            2012,
            2013,
            2014,
            2015,
            2016,
            2017,
            2018,
            2019,
            2020,
            2021,
            2022
           ],
           "xaxis": "x",
           "y": [
            292471,
            264117.002,
            252492.999,
            238328,
            218994,
            206766.889,
            202924.79,
            189058.169,
            180979.429046,
            174431.788095,
            155443.249055,
            165975.431406,
            171395.613718
           ],
           "yaxis": "y"
          }
         ],
         "name": "United Kingdom"
        },
        {
         "data": [
          {
           "alignmentgroup": "True",
           "hovertemplate": "variable=Renewables<br>COUNTRY=United States<br>Year=%{x}<br>Energy Production (GWh)=%{y}<extra></extra>",
           "legendgroup": "Renewables",
           "marker": {
            "color": "#636efa",
            "pattern": {
             "shape": ""
            }
           },
           "name": "Renewables",
           "offsetgroup": "Renewables",
           "orientation": "v",
           "showlegend": true,
           "textposition": "auto",
           "type": "bar",
           "x": [
            2010,
            2011,
            2012,
            2013,
            2014,
            2015,
            2016,
            2017,
            2018,
            2019,
            2020,
            2021,
            2022
           ],
           "xaxis": "x",
           "y": [
            456142.223,
            542625.391,
            522776.507,
            550184.829,
            568864.642,
            576983.186,
            647498.933,
            728586.908,
            750808.075112,
            775304.565448,
            806946.317152,
            887083.422503,
            975828.837692
           ],
           "yaxis": "y"
          },
          {
           "alignmentgroup": "True",
           "hovertemplate": "variable=Nuclear<br>COUNTRY=United States<br>Year=%{x}<br>Energy Production (GWh)=%{y}<extra></extra>",
           "legendgroup": "Nuclear",
           "marker": {
            "color": "#EF553B",
            "pattern": {
             "shape": ""
            }
           },
           "name": "Nuclear",
           "offsetgroup": "Nuclear",
           "orientation": "v",
           "showlegend": true,
           "textposition": "auto",
           "type": "bar",
           "x": [
            2010,
            2011,
            2012,
            2013,
            2014,
            2015,
            2016,
            2017,
            2018,
            2019,
            2020,
            2021,
            2022
           ],
           "xaxis": "x",
           "y": [
            806968.0009999999,
            790204.0009999999,
            769331.001,
            789016.001,
            797166,
            797177.9990000001,
            805693.9990000001,
            804949.636,
            807084.477,
            809409.262,
            789878.862999,
            778495.971713,
            771117.211015
           ],
           "yaxis": "y"
          },
          {
           "alignmentgroup": "True",
           "hovertemplate": "variable=Total combustible fuels<br>COUNTRY=United States<br>Year=%{x}<br>Energy Production (GWh)=%{y}<extra></extra>",
           "legendgroup": "Total combustible fuels",
           "marker": {
            "color": "#00cc96",
            "pattern": {
             "shape": ""
            }
           },
           "name": "Total combustible fuels",
           "offsetgroup": "Total combustible fuels",
           "orientation": "v",
           "showlegend": true,
           "textposition": "auto",
           "type": "bar",
           "x": [
            2010,
            2011,
            2012,
            2013,
            2014,
            2015,
            2016,
            2017,
            2018,
            2019,
            2020,
            2021,
            2022
           ],
           "xaxis": "x",
           "y": [
            2950567,
            2858253,
            2841637.002,
            2813302.002,
            2820210.0009999997,
            2796101,
            2726231.0039999997,
            2612576.973,
            2738238.906001,
            2665893.254001,
            2507875.051999,
            2593997.172835,
            2635812.373568
           ],
           "yaxis": "y"
          }
         ],
         "name": "United States"
        }
       ],
       "layout": {
        "barmode": "relative",
        "legend": {
         "title": {
          "text": "variable"
         },
         "tracegroupgap": 0
        },
        "sliders": [
         {
          "active": 0,
          "currentvalue": {
           "prefix": "COUNTRY="
          },
          "len": 0.9,
          "pad": {
           "b": 10,
           "t": 60
          },
          "steps": [
           {
            "args": [
             [
              "Argentina"
             ],
             {
              "frame": {
               "duration": 0,
               "redraw": true
              },
              "fromcurrent": true,
              "mode": "immediate",
              "transition": {
               "duration": 0,
               "easing": "linear"
              }
             }
            ],
            "label": "Argentina",
            "method": "animate"
           },
           {
            "args": [
             [
              "Australia"
             ],
             {
              "frame": {
               "duration": 0,
               "redraw": true
              },
              "fromcurrent": true,
              "mode": "immediate",
              "transition": {
               "duration": 0,
               "easing": "linear"
              }
             }
            ],
            "label": "Australia",
            "method": "animate"
           },
           {
            "args": [
             [
              "Austria"
             ],
             {
              "frame": {
               "duration": 0,
               "redraw": true
              },
              "fromcurrent": true,
              "mode": "immediate",
              "transition": {
               "duration": 0,
               "easing": "linear"
              }
             }
            ],
            "label": "Austria",
            "method": "animate"
           },
           {
            "args": [
             [
              "Belgium"
             ],
             {
              "frame": {
               "duration": 0,
               "redraw": true
              },
              "fromcurrent": true,
              "mode": "immediate",
              "transition": {
               "duration": 0,
               "easing": "linear"
              }
             }
            ],
            "label": "Belgium",
            "method": "animate"
           },
           {
            "args": [
             [
              "Brazil"
             ],
             {
              "frame": {
               "duration": 0,
               "redraw": true
              },
              "fromcurrent": true,
              "mode": "immediate",
              "transition": {
               "duration": 0,
               "easing": "linear"
              }
             }
            ],
            "label": "Brazil",
            "method": "animate"
           },
           {
            "args": [
             [
              "Bulgaria"
             ],
             {
              "frame": {
               "duration": 0,
               "redraw": true
              },
              "fromcurrent": true,
              "mode": "immediate",
              "transition": {
               "duration": 0,
               "easing": "linear"
              }
             }
            ],
            "label": "Bulgaria",
            "method": "animate"
           },
           {
            "args": [
             [
              "Canada"
             ],
             {
              "frame": {
               "duration": 0,
               "redraw": true
              },
              "fromcurrent": true,
              "mode": "immediate",
              "transition": {
               "duration": 0,
               "easing": "linear"
              }
             }
            ],
            "label": "Canada",
            "method": "animate"
           },
           {
            "args": [
             [
              "Chile"
             ],
             {
              "frame": {
               "duration": 0,
               "redraw": true
              },
              "fromcurrent": true,
              "mode": "immediate",
              "transition": {
               "duration": 0,
               "easing": "linear"
              }
             }
            ],
            "label": "Chile",
            "method": "animate"
           },
           {
            "args": [
             [
              "Colombia"
             ],
             {
              "frame": {
               "duration": 0,
               "redraw": true
              },
              "fromcurrent": true,
              "mode": "immediate",
              "transition": {
               "duration": 0,
               "easing": "linear"
              }
             }
            ],
            "label": "Colombia",
            "method": "animate"
           },
           {
            "args": [
             [
              "Costa Rica"
             ],
             {
              "frame": {
               "duration": 0,
               "redraw": true
              },
              "fromcurrent": true,
              "mode": "immediate",
              "transition": {
               "duration": 0,
               "easing": "linear"
              }
             }
            ],
            "label": "Costa Rica",
            "method": "animate"
           },
           {
            "args": [
             [
              "Croatia"
             ],
             {
              "frame": {
               "duration": 0,
               "redraw": true
              },
              "fromcurrent": true,
              "mode": "immediate",
              "transition": {
               "duration": 0,
               "easing": "linear"
              }
             }
            ],
            "label": "Croatia",
            "method": "animate"
           },
           {
            "args": [
             [
              "Cyprus"
             ],
             {
              "frame": {
               "duration": 0,
               "redraw": true
              },
              "fromcurrent": true,
              "mode": "immediate",
              "transition": {
               "duration": 0,
               "easing": "linear"
              }
             }
            ],
            "label": "Cyprus",
            "method": "animate"
           },
           {
            "args": [
             [
              "Czech Republic"
             ],
             {
              "frame": {
               "duration": 0,
               "redraw": true
              },
              "fromcurrent": true,
              "mode": "immediate",
              "transition": {
               "duration": 0,
               "easing": "linear"
              }
             }
            ],
            "label": "Czech Republic",
            "method": "animate"
           },
           {
            "args": [
             [
              "Denmark"
             ],
             {
              "frame": {
               "duration": 0,
               "redraw": true
              },
              "fromcurrent": true,
              "mode": "immediate",
              "transition": {
               "duration": 0,
               "easing": "linear"
              }
             }
            ],
            "label": "Denmark",
            "method": "animate"
           },
           {
            "args": [
             [
              "Estonia"
             ],
             {
              "frame": {
               "duration": 0,
               "redraw": true
              },
              "fromcurrent": true,
              "mode": "immediate",
              "transition": {
               "duration": 0,
               "easing": "linear"
              }
             }
            ],
            "label": "Estonia",
            "method": "animate"
           },
           {
            "args": [
             [
              "Finland"
             ],
             {
              "frame": {
               "duration": 0,
               "redraw": true
              },
              "fromcurrent": true,
              "mode": "immediate",
              "transition": {
               "duration": 0,
               "easing": "linear"
              }
             }
            ],
            "label": "Finland",
            "method": "animate"
           },
           {
            "args": [
             [
              "France"
             ],
             {
              "frame": {
               "duration": 0,
               "redraw": true
              },
              "fromcurrent": true,
              "mode": "immediate",
              "transition": {
               "duration": 0,
               "easing": "linear"
              }
             }
            ],
            "label": "France",
            "method": "animate"
           },
           {
            "args": [
             [
              "Germany"
             ],
             {
              "frame": {
               "duration": 0,
               "redraw": true
              },
              "fromcurrent": true,
              "mode": "immediate",
              "transition": {
               "duration": 0,
               "easing": "linear"
              }
             }
            ],
            "label": "Germany",
            "method": "animate"
           },
           {
            "args": [
             [
              "Greece"
             ],
             {
              "frame": {
               "duration": 0,
               "redraw": true
              },
              "fromcurrent": true,
              "mode": "immediate",
              "transition": {
               "duration": 0,
               "easing": "linear"
              }
             }
            ],
            "label": "Greece",
            "method": "animate"
           },
           {
            "args": [
             [
              "Hungary"
             ],
             {
              "frame": {
               "duration": 0,
               "redraw": true
              },
              "fromcurrent": true,
              "mode": "immediate",
              "transition": {
               "duration": 0,
               "easing": "linear"
              }
             }
            ],
            "label": "Hungary",
            "method": "animate"
           },
           {
            "args": [
             [
              "IEA Total"
             ],
             {
              "frame": {
               "duration": 0,
               "redraw": true
              },
              "fromcurrent": true,
              "mode": "immediate",
              "transition": {
               "duration": 0,
               "easing": "linear"
              }
             }
            ],
            "label": "IEA Total",
            "method": "animate"
           },
           {
            "args": [
             [
              "Iceland"
             ],
             {
              "frame": {
               "duration": 0,
               "redraw": true
              },
              "fromcurrent": true,
              "mode": "immediate",
              "transition": {
               "duration": 0,
               "easing": "linear"
              }
             }
            ],
            "label": "Iceland",
            "method": "animate"
           },
           {
            "args": [
             [
              "India"
             ],
             {
              "frame": {
               "duration": 0,
               "redraw": true
              },
              "fromcurrent": true,
              "mode": "immediate",
              "transition": {
               "duration": 0,
               "easing": "linear"
              }
             }
            ],
            "label": "India",
            "method": "animate"
           },
           {
            "args": [
             [
              "Ireland"
             ],
             {
              "frame": {
               "duration": 0,
               "redraw": true
              },
              "fromcurrent": true,
              "mode": "immediate",
              "transition": {
               "duration": 0,
               "easing": "linear"
              }
             }
            ],
            "label": "Ireland",
            "method": "animate"
           },
           {
            "args": [
             [
              "Italy"
             ],
             {
              "frame": {
               "duration": 0,
               "redraw": true
              },
              "fromcurrent": true,
              "mode": "immediate",
              "transition": {
               "duration": 0,
               "easing": "linear"
              }
             }
            ],
            "label": "Italy",
            "method": "animate"
           },
           {
            "args": [
             [
              "Japan"
             ],
             {
              "frame": {
               "duration": 0,
               "redraw": true
              },
              "fromcurrent": true,
              "mode": "immediate",
              "transition": {
               "duration": 0,
               "easing": "linear"
              }
             }
            ],
            "label": "Japan",
            "method": "animate"
           },
           {
            "args": [
             [
              "Korea"
             ],
             {
              "frame": {
               "duration": 0,
               "redraw": true
              },
              "fromcurrent": true,
              "mode": "immediate",
              "transition": {
               "duration": 0,
               "easing": "linear"
              }
             }
            ],
            "label": "Korea",
            "method": "animate"
           },
           {
            "args": [
             [
              "Latvia"
             ],
             {
              "frame": {
               "duration": 0,
               "redraw": true
              },
              "fromcurrent": true,
              "mode": "immediate",
              "transition": {
               "duration": 0,
               "easing": "linear"
              }
             }
            ],
            "label": "Latvia",
            "method": "animate"
           },
           {
            "args": [
             [
              "Lithuania"
             ],
             {
              "frame": {
               "duration": 0,
               "redraw": true
              },
              "fromcurrent": true,
              "mode": "immediate",
              "transition": {
               "duration": 0,
               "easing": "linear"
              }
             }
            ],
            "label": "Lithuania",
            "method": "animate"
           },
           {
            "args": [
             [
              "Luxembourg"
             ],
             {
              "frame": {
               "duration": 0,
               "redraw": true
              },
              "fromcurrent": true,
              "mode": "immediate",
              "transition": {
               "duration": 0,
               "easing": "linear"
              }
             }
            ],
            "label": "Luxembourg",
            "method": "animate"
           },
           {
            "args": [
             [
              "Malta"
             ],
             {
              "frame": {
               "duration": 0,
               "redraw": true
              },
              "fromcurrent": true,
              "mode": "immediate",
              "transition": {
               "duration": 0,
               "easing": "linear"
              }
             }
            ],
            "label": "Malta",
            "method": "animate"
           },
           {
            "args": [
             [
              "Mexico"
             ],
             {
              "frame": {
               "duration": 0,
               "redraw": true
              },
              "fromcurrent": true,
              "mode": "immediate",
              "transition": {
               "duration": 0,
               "easing": "linear"
              }
             }
            ],
            "label": "Mexico",
            "method": "animate"
           },
           {
            "args": [
             [
              "Netherlands"
             ],
             {
              "frame": {
               "duration": 0,
               "redraw": true
              },
              "fromcurrent": true,
              "mode": "immediate",
              "transition": {
               "duration": 0,
               "easing": "linear"
              }
             }
            ],
            "label": "Netherlands",
            "method": "animate"
           },
           {
            "args": [
             [
              "New Zealand"
             ],
             {
              "frame": {
               "duration": 0,
               "redraw": true
              },
              "fromcurrent": true,
              "mode": "immediate",
              "transition": {
               "duration": 0,
               "easing": "linear"
              }
             }
            ],
            "label": "New Zealand",
            "method": "animate"
           },
           {
            "args": [
             [
              "North Macedonia"
             ],
             {
              "frame": {
               "duration": 0,
               "redraw": true
              },
              "fromcurrent": true,
              "mode": "immediate",
              "transition": {
               "duration": 0,
               "easing": "linear"
              }
             }
            ],
            "label": "North Macedonia",
            "method": "animate"
           },
           {
            "args": [
             [
              "Norway"
             ],
             {
              "frame": {
               "duration": 0,
               "redraw": true
              },
              "fromcurrent": true,
              "mode": "immediate",
              "transition": {
               "duration": 0,
               "easing": "linear"
              }
             }
            ],
            "label": "Norway",
            "method": "animate"
           },
           {
            "args": [
             [
              "OECD Americas"
             ],
             {
              "frame": {
               "duration": 0,
               "redraw": true
              },
              "fromcurrent": true,
              "mode": "immediate",
              "transition": {
               "duration": 0,
               "easing": "linear"
              }
             }
            ],
            "label": "OECD Americas",
            "method": "animate"
           },
           {
            "args": [
             [
              "OECD Asia Oceania"
             ],
             {
              "frame": {
               "duration": 0,
               "redraw": true
              },
              "fromcurrent": true,
              "mode": "immediate",
              "transition": {
               "duration": 0,
               "easing": "linear"
              }
             }
            ],
            "label": "OECD Asia Oceania",
            "method": "animate"
           },
           {
            "args": [
             [
              "OECD Europe"
             ],
             {
              "frame": {
               "duration": 0,
               "redraw": true
              },
              "fromcurrent": true,
              "mode": "immediate",
              "transition": {
               "duration": 0,
               "easing": "linear"
              }
             }
            ],
            "label": "OECD Europe",
            "method": "animate"
           },
           {
            "args": [
             [
              "OECD Total"
             ],
             {
              "frame": {
               "duration": 0,
               "redraw": true
              },
              "fromcurrent": true,
              "mode": "immediate",
              "transition": {
               "duration": 0,
               "easing": "linear"
              }
             }
            ],
            "label": "OECD Total",
            "method": "animate"
           },
           {
            "args": [
             [
              "Poland"
             ],
             {
              "frame": {
               "duration": 0,
               "redraw": true
              },
              "fromcurrent": true,
              "mode": "immediate",
              "transition": {
               "duration": 0,
               "easing": "linear"
              }
             }
            ],
            "label": "Poland",
            "method": "animate"
           },
           {
            "args": [
             [
              "Portugal"
             ],
             {
              "frame": {
               "duration": 0,
               "redraw": true
              },
              "fromcurrent": true,
              "mode": "immediate",
              "transition": {
               "duration": 0,
               "easing": "linear"
              }
             }
            ],
            "label": "Portugal",
            "method": "animate"
           },
           {
            "args": [
             [
              "Republic of Turkiye"
             ],
             {
              "frame": {
               "duration": 0,
               "redraw": true
              },
              "fromcurrent": true,
              "mode": "immediate",
              "transition": {
               "duration": 0,
               "easing": "linear"
              }
             }
            ],
            "label": "Republic of Turkiye",
            "method": "animate"
           },
           {
            "args": [
             [
              "Romania"
             ],
             {
              "frame": {
               "duration": 0,
               "redraw": true
              },
              "fromcurrent": true,
              "mode": "immediate",
              "transition": {
               "duration": 0,
               "easing": "linear"
              }
             }
            ],
            "label": "Romania",
            "method": "animate"
           },
           {
            "args": [
             [
              "Serbia"
             ],
             {
              "frame": {
               "duration": 0,
               "redraw": true
              },
              "fromcurrent": true,
              "mode": "immediate",
              "transition": {
               "duration": 0,
               "easing": "linear"
              }
             }
            ],
            "label": "Serbia",
            "method": "animate"
           },
           {
            "args": [
             [
              "Slovak Republic"
             ],
             {
              "frame": {
               "duration": 0,
               "redraw": true
              },
              "fromcurrent": true,
              "mode": "immediate",
              "transition": {
               "duration": 0,
               "easing": "linear"
              }
             }
            ],
            "label": "Slovak Republic",
            "method": "animate"
           },
           {
            "args": [
             [
              "Slovenia"
             ],
             {
              "frame": {
               "duration": 0,
               "redraw": true
              },
              "fromcurrent": true,
              "mode": "immediate",
              "transition": {
               "duration": 0,
               "easing": "linear"
              }
             }
            ],
            "label": "Slovenia",
            "method": "animate"
           },
           {
            "args": [
             [
              "Spain"
             ],
             {
              "frame": {
               "duration": 0,
               "redraw": true
              },
              "fromcurrent": true,
              "mode": "immediate",
              "transition": {
               "duration": 0,
               "easing": "linear"
              }
             }
            ],
            "label": "Spain",
            "method": "animate"
           },
           {
            "args": [
             [
              "Sweden"
             ],
             {
              "frame": {
               "duration": 0,
               "redraw": true
              },
              "fromcurrent": true,
              "mode": "immediate",
              "transition": {
               "duration": 0,
               "easing": "linear"
              }
             }
            ],
            "label": "Sweden",
            "method": "animate"
           },
           {
            "args": [
             [
              "Switzerland"
             ],
             {
              "frame": {
               "duration": 0,
               "redraw": true
              },
              "fromcurrent": true,
              "mode": "immediate",
              "transition": {
               "duration": 0,
               "easing": "linear"
              }
             }
            ],
            "label": "Switzerland",
            "method": "animate"
           },
           {
            "args": [
             [
              "United Kingdom"
             ],
             {
              "frame": {
               "duration": 0,
               "redraw": true
              },
              "fromcurrent": true,
              "mode": "immediate",
              "transition": {
               "duration": 0,
               "easing": "linear"
              }
             }
            ],
            "label": "United Kingdom",
            "method": "animate"
           },
           {
            "args": [
             [
              "United States"
             ],
             {
              "frame": {
               "duration": 0,
               "redraw": true
              },
              "fromcurrent": true,
              "mode": "immediate",
              "transition": {
               "duration": 0,
               "easing": "linear"
              }
             }
            ],
            "label": "United States",
            "method": "animate"
           }
          ],
          "x": 0.1,
          "xanchor": "left",
          "y": 0,
          "yanchor": "top"
         }
        ],
        "template": {
         "data": {
          "bar": [
           {
            "error_x": {
             "color": "#2a3f5f"
            },
            "error_y": {
             "color": "#2a3f5f"
            },
            "marker": {
             "line": {
              "color": "#E5ECF6",
              "width": 0.5
             },
             "pattern": {
              "fillmode": "overlay",
              "size": 10,
              "solidity": 0.2
             }
            },
            "type": "bar"
           }
          ],
          "barpolar": [
           {
            "marker": {
             "line": {
              "color": "#E5ECF6",
              "width": 0.5
             },
             "pattern": {
              "fillmode": "overlay",
              "size": 10,
              "solidity": 0.2
             }
            },
            "type": "barpolar"
           }
          ],
          "carpet": [
           {
            "aaxis": {
             "endlinecolor": "#2a3f5f",
             "gridcolor": "white",
             "linecolor": "white",
             "minorgridcolor": "white",
             "startlinecolor": "#2a3f5f"
            },
            "baxis": {
             "endlinecolor": "#2a3f5f",
             "gridcolor": "white",
             "linecolor": "white",
             "minorgridcolor": "white",
             "startlinecolor": "#2a3f5f"
            },
            "type": "carpet"
           }
          ],
          "choropleth": [
           {
            "colorbar": {
             "outlinewidth": 0,
             "ticks": ""
            },
            "type": "choropleth"
           }
          ],
          "contour": [
           {
            "colorbar": {
             "outlinewidth": 0,
             "ticks": ""
            },
            "colorscale": [
             [
              0,
              "#0d0887"
             ],
             [
              0.1111111111111111,
              "#46039f"
             ],
             [
              0.2222222222222222,
              "#7201a8"
             ],
             [
              0.3333333333333333,
              "#9c179e"
             ],
             [
              0.4444444444444444,
              "#bd3786"
             ],
             [
              0.5555555555555556,
              "#d8576b"
             ],
             [
              0.6666666666666666,
              "#ed7953"
             ],
             [
              0.7777777777777778,
              "#fb9f3a"
             ],
             [
              0.8888888888888888,
              "#fdca26"
             ],
             [
              1,
              "#f0f921"
             ]
            ],
            "type": "contour"
           }
          ],
          "contourcarpet": [
           {
            "colorbar": {
             "outlinewidth": 0,
             "ticks": ""
            },
            "type": "contourcarpet"
           }
          ],
          "heatmap": [
           {
            "colorbar": {
             "outlinewidth": 0,
             "ticks": ""
            },
            "colorscale": [
             [
              0,
              "#0d0887"
             ],
             [
              0.1111111111111111,
              "#46039f"
             ],
             [
              0.2222222222222222,
              "#7201a8"
             ],
             [
              0.3333333333333333,
              "#9c179e"
             ],
             [
              0.4444444444444444,
              "#bd3786"
             ],
             [
              0.5555555555555556,
              "#d8576b"
             ],
             [
              0.6666666666666666,
              "#ed7953"
             ],
             [
              0.7777777777777778,
              "#fb9f3a"
             ],
             [
              0.8888888888888888,
              "#fdca26"
             ],
             [
              1,
              "#f0f921"
             ]
            ],
            "type": "heatmap"
           }
          ],
          "heatmapgl": [
           {
            "colorbar": {
             "outlinewidth": 0,
             "ticks": ""
            },
            "colorscale": [
             [
              0,
              "#0d0887"
             ],
             [
              0.1111111111111111,
              "#46039f"
             ],
             [
              0.2222222222222222,
              "#7201a8"
             ],
             [
              0.3333333333333333,
              "#9c179e"
             ],
             [
              0.4444444444444444,
              "#bd3786"
             ],
             [
              0.5555555555555556,
              "#d8576b"
             ],
             [
              0.6666666666666666,
              "#ed7953"
             ],
             [
              0.7777777777777778,
              "#fb9f3a"
             ],
             [
              0.8888888888888888,
              "#fdca26"
             ],
             [
              1,
              "#f0f921"
             ]
            ],
            "type": "heatmapgl"
           }
          ],
          "histogram": [
           {
            "marker": {
             "pattern": {
              "fillmode": "overlay",
              "size": 10,
              "solidity": 0.2
             }
            },
            "type": "histogram"
           }
          ],
          "histogram2d": [
           {
            "colorbar": {
             "outlinewidth": 0,
             "ticks": ""
            },
            "colorscale": [
             [
              0,
              "#0d0887"
             ],
             [
              0.1111111111111111,
              "#46039f"
             ],
             [
              0.2222222222222222,
              "#7201a8"
             ],
             [
              0.3333333333333333,
              "#9c179e"
             ],
             [
              0.4444444444444444,
              "#bd3786"
             ],
             [
              0.5555555555555556,
              "#d8576b"
             ],
             [
              0.6666666666666666,
              "#ed7953"
             ],
             [
              0.7777777777777778,
              "#fb9f3a"
             ],
             [
              0.8888888888888888,
              "#fdca26"
             ],
             [
              1,
              "#f0f921"
             ]
            ],
            "type": "histogram2d"
           }
          ],
          "histogram2dcontour": [
           {
            "colorbar": {
             "outlinewidth": 0,
             "ticks": ""
            },
            "colorscale": [
             [
              0,
              "#0d0887"
             ],
             [
              0.1111111111111111,
              "#46039f"
             ],
             [
              0.2222222222222222,
              "#7201a8"
             ],
             [
              0.3333333333333333,
              "#9c179e"
             ],
             [
              0.4444444444444444,
              "#bd3786"
             ],
             [
              0.5555555555555556,
              "#d8576b"
             ],
             [
              0.6666666666666666,
              "#ed7953"
             ],
             [
              0.7777777777777778,
              "#fb9f3a"
             ],
             [
              0.8888888888888888,
              "#fdca26"
             ],
             [
              1,
              "#f0f921"
             ]
            ],
            "type": "histogram2dcontour"
           }
          ],
          "mesh3d": [
           {
            "colorbar": {
             "outlinewidth": 0,
             "ticks": ""
            },
            "type": "mesh3d"
           }
          ],
          "parcoords": [
           {
            "line": {
             "colorbar": {
              "outlinewidth": 0,
              "ticks": ""
             }
            },
            "type": "parcoords"
           }
          ],
          "pie": [
           {
            "automargin": true,
            "type": "pie"
           }
          ],
          "scatter": [
           {
            "fillpattern": {
             "fillmode": "overlay",
             "size": 10,
             "solidity": 0.2
            },
            "type": "scatter"
           }
          ],
          "scatter3d": [
           {
            "line": {
             "colorbar": {
              "outlinewidth": 0,
              "ticks": ""
             }
            },
            "marker": {
             "colorbar": {
              "outlinewidth": 0,
              "ticks": ""
             }
            },
            "type": "scatter3d"
           }
          ],
          "scattercarpet": [
           {
            "marker": {
             "colorbar": {
              "outlinewidth": 0,
              "ticks": ""
             }
            },
            "type": "scattercarpet"
           }
          ],
          "scattergeo": [
           {
            "marker": {
             "colorbar": {
              "outlinewidth": 0,
              "ticks": ""
             }
            },
            "type": "scattergeo"
           }
          ],
          "scattergl": [
           {
            "marker": {
             "colorbar": {
              "outlinewidth": 0,
              "ticks": ""
             }
            },
            "type": "scattergl"
           }
          ],
          "scattermapbox": [
           {
            "marker": {
             "colorbar": {
              "outlinewidth": 0,
              "ticks": ""
             }
            },
            "type": "scattermapbox"
           }
          ],
          "scatterpolar": [
           {
            "marker": {
             "colorbar": {
              "outlinewidth": 0,
              "ticks": ""
             }
            },
            "type": "scatterpolar"
           }
          ],
          "scatterpolargl": [
           {
            "marker": {
             "colorbar": {
              "outlinewidth": 0,
              "ticks": ""
             }
            },
            "type": "scatterpolargl"
           }
          ],
          "scatterternary": [
           {
            "marker": {
             "colorbar": {
              "outlinewidth": 0,
              "ticks": ""
             }
            },
            "type": "scatterternary"
           }
          ],
          "surface": [
           {
            "colorbar": {
             "outlinewidth": 0,
             "ticks": ""
            },
            "colorscale": [
             [
              0,
              "#0d0887"
             ],
             [
              0.1111111111111111,
              "#46039f"
             ],
             [
              0.2222222222222222,
              "#7201a8"
             ],
             [
              0.3333333333333333,
              "#9c179e"
             ],
             [
              0.4444444444444444,
              "#bd3786"
             ],
             [
              0.5555555555555556,
              "#d8576b"
             ],
             [
              0.6666666666666666,
              "#ed7953"
             ],
             [
              0.7777777777777778,
              "#fb9f3a"
             ],
             [
              0.8888888888888888,
              "#fdca26"
             ],
             [
              1,
              "#f0f921"
             ]
            ],
            "type": "surface"
           }
          ],
          "table": [
           {
            "cells": {
             "fill": {
              "color": "#EBF0F8"
             },
             "line": {
              "color": "white"
             }
            },
            "header": {
             "fill": {
              "color": "#C8D4E3"
             },
             "line": {
              "color": "white"
             }
            },
            "type": "table"
           }
          ]
         },
         "layout": {
          "annotationdefaults": {
           "arrowcolor": "#2a3f5f",
           "arrowhead": 0,
           "arrowwidth": 1
          },
          "autotypenumbers": "strict",
          "coloraxis": {
           "colorbar": {
            "outlinewidth": 0,
            "ticks": ""
           }
          },
          "colorscale": {
           "diverging": [
            [
             0,
             "#8e0152"
            ],
            [
             0.1,
             "#c51b7d"
            ],
            [
             0.2,
             "#de77ae"
            ],
            [
             0.3,
             "#f1b6da"
            ],
            [
             0.4,
             "#fde0ef"
            ],
            [
             0.5,
             "#f7f7f7"
            ],
            [
             0.6,
             "#e6f5d0"
            ],
            [
             0.7,
             "#b8e186"
            ],
            [
             0.8,
             "#7fbc41"
            ],
            [
             0.9,
             "#4d9221"
            ],
            [
             1,
             "#276419"
            ]
           ],
           "sequential": [
            [
             0,
             "#0d0887"
            ],
            [
             0.1111111111111111,
             "#46039f"
            ],
            [
             0.2222222222222222,
             "#7201a8"
            ],
            [
             0.3333333333333333,
             "#9c179e"
            ],
            [
             0.4444444444444444,
             "#bd3786"
            ],
            [
             0.5555555555555556,
             "#d8576b"
            ],
            [
             0.6666666666666666,
             "#ed7953"
            ],
            [
             0.7777777777777778,
             "#fb9f3a"
            ],
            [
             0.8888888888888888,
             "#fdca26"
            ],
            [
             1,
             "#f0f921"
            ]
           ],
           "sequentialminus": [
            [
             0,
             "#0d0887"
            ],
            [
             0.1111111111111111,
             "#46039f"
            ],
            [
             0.2222222222222222,
             "#7201a8"
            ],
            [
             0.3333333333333333,
             "#9c179e"
            ],
            [
             0.4444444444444444,
             "#bd3786"
            ],
            [
             0.5555555555555556,
             "#d8576b"
            ],
            [
             0.6666666666666666,
             "#ed7953"
            ],
            [
             0.7777777777777778,
             "#fb9f3a"
            ],
            [
             0.8888888888888888,
             "#fdca26"
            ],
            [
             1,
             "#f0f921"
            ]
           ]
          },
          "colorway": [
           "#636efa",
           "#EF553B",
           "#00cc96",
           "#ab63fa",
           "#FFA15A",
           "#19d3f3",
           "#FF6692",
           "#B6E880",
           "#FF97FF",
           "#FECB52"
          ],
          "font": {
           "color": "#2a3f5f"
          },
          "geo": {
           "bgcolor": "white",
           "lakecolor": "white",
           "landcolor": "#E5ECF6",
           "showlakes": true,
           "showland": true,
           "subunitcolor": "white"
          },
          "hoverlabel": {
           "align": "left"
          },
          "hovermode": "closest",
          "mapbox": {
           "style": "light"
          },
          "paper_bgcolor": "white",
          "plot_bgcolor": "#E5ECF6",
          "polar": {
           "angularaxis": {
            "gridcolor": "white",
            "linecolor": "white",
            "ticks": ""
           },
           "bgcolor": "#E5ECF6",
           "radialaxis": {
            "gridcolor": "white",
            "linecolor": "white",
            "ticks": ""
           }
          },
          "scene": {
           "xaxis": {
            "backgroundcolor": "#E5ECF6",
            "gridcolor": "white",
            "gridwidth": 2,
            "linecolor": "white",
            "showbackground": true,
            "ticks": "",
            "zerolinecolor": "white"
           },
           "yaxis": {
            "backgroundcolor": "#E5ECF6",
            "gridcolor": "white",
            "gridwidth": 2,
            "linecolor": "white",
            "showbackground": true,
            "ticks": "",
            "zerolinecolor": "white"
           },
           "zaxis": {
            "backgroundcolor": "#E5ECF6",
            "gridcolor": "white",
            "gridwidth": 2,
            "linecolor": "white",
            "showbackground": true,
            "ticks": "",
            "zerolinecolor": "white"
           }
          },
          "shapedefaults": {
           "line": {
            "color": "#2a3f5f"
           }
          },
          "ternary": {
           "aaxis": {
            "gridcolor": "white",
            "linecolor": "white",
            "ticks": ""
           },
           "baxis": {
            "gridcolor": "white",
            "linecolor": "white",
            "ticks": ""
           },
           "bgcolor": "#E5ECF6",
           "caxis": {
            "gridcolor": "white",
            "linecolor": "white",
            "ticks": ""
           }
          },
          "title": {
           "x": 0.05
          },
          "xaxis": {
           "automargin": true,
           "gridcolor": "white",
           "linecolor": "white",
           "ticks": "",
           "title": {
            "standoff": 15
           },
           "zerolinecolor": "white",
           "zerolinewidth": 2
          },
          "yaxis": {
           "automargin": true,
           "gridcolor": "white",
           "linecolor": "white",
           "ticks": "",
           "title": {
            "standoff": 15
           },
           "zerolinecolor": "white",
           "zerolinewidth": 2
          }
         }
        },
        "title": {
         "text": "Energy production over the year per energy type per country (GWh)"
        },
        "updatemenus": [
         {
          "buttons": [
           {
            "args": [
             null,
             {
              "frame": {
               "duration": 500,
               "redraw": true
              },
              "fromcurrent": true,
              "mode": "immediate",
              "transition": {
               "duration": 500,
               "easing": "linear"
              }
             }
            ],
            "label": "&#9654;",
            "method": "animate"
           },
           {
            "args": [
             [
              null
             ],
             {
              "frame": {
               "duration": 0,
               "redraw": true
              },
              "fromcurrent": true,
              "mode": "immediate",
              "transition": {
               "duration": 0,
               "easing": "linear"
              }
             }
            ],
            "label": "&#9724;",
            "method": "animate"
           }
          ],
          "direction": "left",
          "pad": {
           "r": 10,
           "t": 70
          },
          "showactive": false,
          "type": "buttons",
          "x": 0.1,
          "xanchor": "right",
          "y": 0,
          "yanchor": "top"
         }
        ],
        "xaxis": {
         "anchor": "y",
         "domain": [
          0,
          1
         ],
         "title": {
          "text": "Year"
         }
        },
        "yaxis": {
         "anchor": "x",
         "autorange": true,
         "domain": [
          0,
          1
         ],
         "title": {
          "text": "Energy Production (GWh)"
         }
        }
       }
      },
      "text/html": [
       "<div>                            <div id=\"6e8b878f-4752-4833-93f0-ce844abad815\" class=\"plotly-graph-div\" style=\"height:525px; width:100%;\"></div>            <script type=\"text/javascript\">                require([\"plotly\"], function(Plotly) {                    window.PLOTLYENV=window.PLOTLYENV || {};                                    if (document.getElementById(\"6e8b878f-4752-4833-93f0-ce844abad815\")) {                    Plotly.newPlot(                        \"6e8b878f-4752-4833-93f0-ce844abad815\",                        [{\"alignmentgroup\":\"True\",\"hovertemplate\":\"variable=Renewables<br>COUNTRY=Argentina<br>Year=%{x}<br>Energy Production (GWh)=%{y}<extra></extra>\",\"legendgroup\":\"Renewables\",\"marker\":{\"color\":\"#636efa\",\"pattern\":{\"shape\":\"\"}},\"name\":\"Renewables\",\"offsetgroup\":\"Renewables\",\"orientation\":\"v\",\"showlegend\":true,\"textposition\":\"auto\",\"x\":[2015,2016,2017,2018,2019,2020,2021,2022],\"xaxis\":\"x\",\"y\":[33567.573,31013.883,33292.217000000004,34652.21956,34524.081521,36392.04386,42587.396466,43141.786988],\"yaxis\":\"y\",\"type\":\"bar\"},{\"alignmentgroup\":\"True\",\"hovertemplate\":\"variable=Nuclear<br>COUNTRY=Argentina<br>Year=%{x}<br>Energy Production (GWh)=%{y}<extra></extra>\",\"legendgroup\":\"Nuclear\",\"marker\":{\"color\":\"#EF553B\",\"pattern\":{\"shape\":\"\"}},\"name\":\"Nuclear\",\"offsetgroup\":\"Nuclear\",\"orientation\":\"v\",\"showlegend\":true,\"textposition\":\"auto\",\"x\":[2015,2016,2017,2018,2019,2020,2021,2022],\"xaxis\":\"x\",\"y\":[6644.077,7820.169,5770.611,6514.307078,7969.4685230000005,10064.414559,10224.076091,7509.18667],\"yaxis\":\"y\",\"type\":\"bar\"},{\"alignmentgroup\":\"True\",\"hovertemplate\":\"variable=Total combustible fuels<br>COUNTRY=Argentina<br>Year=%{x}<br>Energy Production (GWh)=%{y}<extra></extra>\",\"legendgroup\":\"Total combustible fuels\",\"marker\":{\"color\":\"#00cc96\",\"pattern\":{\"shape\":\"\"}},\"name\":\"Total combustible fuels\",\"offsetgroup\":\"Total combustible fuels\",\"orientation\":\"v\",\"showlegend\":true,\"textposition\":\"auto\",\"x\":[2015,2016,2017,2018,2019,2020,2021,2022],\"xaxis\":\"x\",\"y\":[98499.693,101477.393,100155.943,99297.98336,91519.67088,93246.980101,102048.186182,91536.894631],\"yaxis\":\"y\",\"type\":\"bar\"}],                        {\"template\":{\"data\":{\"histogram2dcontour\":[{\"type\":\"histogram2dcontour\",\"colorbar\":{\"outlinewidth\":0,\"ticks\":\"\"},\"colorscale\":[[0.0,\"#0d0887\"],[0.1111111111111111,\"#46039f\"],[0.2222222222222222,\"#7201a8\"],[0.3333333333333333,\"#9c179e\"],[0.4444444444444444,\"#bd3786\"],[0.5555555555555556,\"#d8576b\"],[0.6666666666666666,\"#ed7953\"],[0.7777777777777778,\"#fb9f3a\"],[0.8888888888888888,\"#fdca26\"],[1.0,\"#f0f921\"]]}],\"choropleth\":[{\"type\":\"choropleth\",\"colorbar\":{\"outlinewidth\":0,\"ticks\":\"\"}}],\"histogram2d\":[{\"type\":\"histogram2d\",\"colorbar\":{\"outlinewidth\":0,\"ticks\":\"\"},\"colorscale\":[[0.0,\"#0d0887\"],[0.1111111111111111,\"#46039f\"],[0.2222222222222222,\"#7201a8\"],[0.3333333333333333,\"#9c179e\"],[0.4444444444444444,\"#bd3786\"],[0.5555555555555556,\"#d8576b\"],[0.6666666666666666,\"#ed7953\"],[0.7777777777777778,\"#fb9f3a\"],[0.8888888888888888,\"#fdca26\"],[1.0,\"#f0f921\"]]}],\"heatmap\":[{\"type\":\"heatmap\",\"colorbar\":{\"outlinewidth\":0,\"ticks\":\"\"},\"colorscale\":[[0.0,\"#0d0887\"],[0.1111111111111111,\"#46039f\"],[0.2222222222222222,\"#7201a8\"],[0.3333333333333333,\"#9c179e\"],[0.4444444444444444,\"#bd3786\"],[0.5555555555555556,\"#d8576b\"],[0.6666666666666666,\"#ed7953\"],[0.7777777777777778,\"#fb9f3a\"],[0.8888888888888888,\"#fdca26\"],[1.0,\"#f0f921\"]]}],\"heatmapgl\":[{\"type\":\"heatmapgl\",\"colorbar\":{\"outlinewidth\":0,\"ticks\":\"\"},\"colorscale\":[[0.0,\"#0d0887\"],[0.1111111111111111,\"#46039f\"],[0.2222222222222222,\"#7201a8\"],[0.3333333333333333,\"#9c179e\"],[0.4444444444444444,\"#bd3786\"],[0.5555555555555556,\"#d8576b\"],[0.6666666666666666,\"#ed7953\"],[0.7777777777777778,\"#fb9f3a\"],[0.8888888888888888,\"#fdca26\"],[1.0,\"#f0f921\"]]}],\"contourcarpet\":[{\"type\":\"contourcarpet\",\"colorbar\":{\"outlinewidth\":0,\"ticks\":\"\"}}],\"contour\":[{\"type\":\"contour\",\"colorbar\":{\"outlinewidth\":0,\"ticks\":\"\"},\"colorscale\":[[0.0,\"#0d0887\"],[0.1111111111111111,\"#46039f\"],[0.2222222222222222,\"#7201a8\"],[0.3333333333333333,\"#9c179e\"],[0.4444444444444444,\"#bd3786\"],[0.5555555555555556,\"#d8576b\"],[0.6666666666666666,\"#ed7953\"],[0.7777777777777778,\"#fb9f3a\"],[0.8888888888888888,\"#fdca26\"],[1.0,\"#f0f921\"]]}],\"surface\":[{\"type\":\"surface\",\"colorbar\":{\"outlinewidth\":0,\"ticks\":\"\"},\"colorscale\":[[0.0,\"#0d0887\"],[0.1111111111111111,\"#46039f\"],[0.2222222222222222,\"#7201a8\"],[0.3333333333333333,\"#9c179e\"],[0.4444444444444444,\"#bd3786\"],[0.5555555555555556,\"#d8576b\"],[0.6666666666666666,\"#ed7953\"],[0.7777777777777778,\"#fb9f3a\"],[0.8888888888888888,\"#fdca26\"],[1.0,\"#f0f921\"]]}],\"mesh3d\":[{\"type\":\"mesh3d\",\"colorbar\":{\"outlinewidth\":0,\"ticks\":\"\"}}],\"scatter\":[{\"fillpattern\":{\"fillmode\":\"overlay\",\"size\":10,\"solidity\":0.2},\"type\":\"scatter\"}],\"parcoords\":[{\"type\":\"parcoords\",\"line\":{\"colorbar\":{\"outlinewidth\":0,\"ticks\":\"\"}}}],\"scatterpolargl\":[{\"type\":\"scatterpolargl\",\"marker\":{\"colorbar\":{\"outlinewidth\":0,\"ticks\":\"\"}}}],\"bar\":[{\"error_x\":{\"color\":\"#2a3f5f\"},\"error_y\":{\"color\":\"#2a3f5f\"},\"marker\":{\"line\":{\"color\":\"#E5ECF6\",\"width\":0.5},\"pattern\":{\"fillmode\":\"overlay\",\"size\":10,\"solidity\":0.2}},\"type\":\"bar\"}],\"scattergeo\":[{\"type\":\"scattergeo\",\"marker\":{\"colorbar\":{\"outlinewidth\":0,\"ticks\":\"\"}}}],\"scatterpolar\":[{\"type\":\"scatterpolar\",\"marker\":{\"colorbar\":{\"outlinewidth\":0,\"ticks\":\"\"}}}],\"histogram\":[{\"marker\":{\"pattern\":{\"fillmode\":\"overlay\",\"size\":10,\"solidity\":0.2}},\"type\":\"histogram\"}],\"scattergl\":[{\"type\":\"scattergl\",\"marker\":{\"colorbar\":{\"outlinewidth\":0,\"ticks\":\"\"}}}],\"scatter3d\":[{\"type\":\"scatter3d\",\"line\":{\"colorbar\":{\"outlinewidth\":0,\"ticks\":\"\"}},\"marker\":{\"colorbar\":{\"outlinewidth\":0,\"ticks\":\"\"}}}],\"scattermapbox\":[{\"type\":\"scattermapbox\",\"marker\":{\"colorbar\":{\"outlinewidth\":0,\"ticks\":\"\"}}}],\"scatterternary\":[{\"type\":\"scatterternary\",\"marker\":{\"colorbar\":{\"outlinewidth\":0,\"ticks\":\"\"}}}],\"scattercarpet\":[{\"type\":\"scattercarpet\",\"marker\":{\"colorbar\":{\"outlinewidth\":0,\"ticks\":\"\"}}}],\"carpet\":[{\"aaxis\":{\"endlinecolor\":\"#2a3f5f\",\"gridcolor\":\"white\",\"linecolor\":\"white\",\"minorgridcolor\":\"white\",\"startlinecolor\":\"#2a3f5f\"},\"baxis\":{\"endlinecolor\":\"#2a3f5f\",\"gridcolor\":\"white\",\"linecolor\":\"white\",\"minorgridcolor\":\"white\",\"startlinecolor\":\"#2a3f5f\"},\"type\":\"carpet\"}],\"table\":[{\"cells\":{\"fill\":{\"color\":\"#EBF0F8\"},\"line\":{\"color\":\"white\"}},\"header\":{\"fill\":{\"color\":\"#C8D4E3\"},\"line\":{\"color\":\"white\"}},\"type\":\"table\"}],\"barpolar\":[{\"marker\":{\"line\":{\"color\":\"#E5ECF6\",\"width\":0.5},\"pattern\":{\"fillmode\":\"overlay\",\"size\":10,\"solidity\":0.2}},\"type\":\"barpolar\"}],\"pie\":[{\"automargin\":true,\"type\":\"pie\"}]},\"layout\":{\"autotypenumbers\":\"strict\",\"colorway\":[\"#636efa\",\"#EF553B\",\"#00cc96\",\"#ab63fa\",\"#FFA15A\",\"#19d3f3\",\"#FF6692\",\"#B6E880\",\"#FF97FF\",\"#FECB52\"],\"font\":{\"color\":\"#2a3f5f\"},\"hovermode\":\"closest\",\"hoverlabel\":{\"align\":\"left\"},\"paper_bgcolor\":\"white\",\"plot_bgcolor\":\"#E5ECF6\",\"polar\":{\"bgcolor\":\"#E5ECF6\",\"angularaxis\":{\"gridcolor\":\"white\",\"linecolor\":\"white\",\"ticks\":\"\"},\"radialaxis\":{\"gridcolor\":\"white\",\"linecolor\":\"white\",\"ticks\":\"\"}},\"ternary\":{\"bgcolor\":\"#E5ECF6\",\"aaxis\":{\"gridcolor\":\"white\",\"linecolor\":\"white\",\"ticks\":\"\"},\"baxis\":{\"gridcolor\":\"white\",\"linecolor\":\"white\",\"ticks\":\"\"},\"caxis\":{\"gridcolor\":\"white\",\"linecolor\":\"white\",\"ticks\":\"\"}},\"coloraxis\":{\"colorbar\":{\"outlinewidth\":0,\"ticks\":\"\"}},\"colorscale\":{\"sequential\":[[0.0,\"#0d0887\"],[0.1111111111111111,\"#46039f\"],[0.2222222222222222,\"#7201a8\"],[0.3333333333333333,\"#9c179e\"],[0.4444444444444444,\"#bd3786\"],[0.5555555555555556,\"#d8576b\"],[0.6666666666666666,\"#ed7953\"],[0.7777777777777778,\"#fb9f3a\"],[0.8888888888888888,\"#fdca26\"],[1.0,\"#f0f921\"]],\"sequentialminus\":[[0.0,\"#0d0887\"],[0.1111111111111111,\"#46039f\"],[0.2222222222222222,\"#7201a8\"],[0.3333333333333333,\"#9c179e\"],[0.4444444444444444,\"#bd3786\"],[0.5555555555555556,\"#d8576b\"],[0.6666666666666666,\"#ed7953\"],[0.7777777777777778,\"#fb9f3a\"],[0.8888888888888888,\"#fdca26\"],[1.0,\"#f0f921\"]],\"diverging\":[[0,\"#8e0152\"],[0.1,\"#c51b7d\"],[0.2,\"#de77ae\"],[0.3,\"#f1b6da\"],[0.4,\"#fde0ef\"],[0.5,\"#f7f7f7\"],[0.6,\"#e6f5d0\"],[0.7,\"#b8e186\"],[0.8,\"#7fbc41\"],[0.9,\"#4d9221\"],[1,\"#276419\"]]},\"xaxis\":{\"gridcolor\":\"white\",\"linecolor\":\"white\",\"ticks\":\"\",\"title\":{\"standoff\":15},\"zerolinecolor\":\"white\",\"automargin\":true,\"zerolinewidth\":2},\"yaxis\":{\"gridcolor\":\"white\",\"linecolor\":\"white\",\"ticks\":\"\",\"title\":{\"standoff\":15},\"zerolinecolor\":\"white\",\"automargin\":true,\"zerolinewidth\":2},\"scene\":{\"xaxis\":{\"backgroundcolor\":\"#E5ECF6\",\"gridcolor\":\"white\",\"linecolor\":\"white\",\"showbackground\":true,\"ticks\":\"\",\"zerolinecolor\":\"white\",\"gridwidth\":2},\"yaxis\":{\"backgroundcolor\":\"#E5ECF6\",\"gridcolor\":\"white\",\"linecolor\":\"white\",\"showbackground\":true,\"ticks\":\"\",\"zerolinecolor\":\"white\",\"gridwidth\":2},\"zaxis\":{\"backgroundcolor\":\"#E5ECF6\",\"gridcolor\":\"white\",\"linecolor\":\"white\",\"showbackground\":true,\"ticks\":\"\",\"zerolinecolor\":\"white\",\"gridwidth\":2}},\"shapedefaults\":{\"line\":{\"color\":\"#2a3f5f\"}},\"annotationdefaults\":{\"arrowcolor\":\"#2a3f5f\",\"arrowhead\":0,\"arrowwidth\":1},\"geo\":{\"bgcolor\":\"white\",\"landcolor\":\"#E5ECF6\",\"subunitcolor\":\"white\",\"showland\":true,\"showlakes\":true,\"lakecolor\":\"white\"},\"title\":{\"x\":0.05},\"mapbox\":{\"style\":\"light\"}}},\"xaxis\":{\"anchor\":\"y\",\"domain\":[0.0,1.0],\"title\":{\"text\":\"Year\"}},\"yaxis\":{\"anchor\":\"x\",\"domain\":[0.0,1.0],\"title\":{\"text\":\"Energy Production (GWh)\"},\"autorange\":true},\"legend\":{\"title\":{\"text\":\"variable\"},\"tracegroupgap\":0},\"title\":{\"text\":\"Energy production over the year per energy type per country (GWh)\"},\"barmode\":\"relative\",\"updatemenus\":[{\"buttons\":[{\"args\":[null,{\"frame\":{\"duration\":500,\"redraw\":true},\"mode\":\"immediate\",\"fromcurrent\":true,\"transition\":{\"duration\":500,\"easing\":\"linear\"}}],\"label\":\"&#9654;\",\"method\":\"animate\"},{\"args\":[[null],{\"frame\":{\"duration\":0,\"redraw\":true},\"mode\":\"immediate\",\"fromcurrent\":true,\"transition\":{\"duration\":0,\"easing\":\"linear\"}}],\"label\":\"&#9724;\",\"method\":\"animate\"}],\"direction\":\"left\",\"pad\":{\"r\":10,\"t\":70},\"showactive\":false,\"type\":\"buttons\",\"x\":0.1,\"xanchor\":\"right\",\"y\":0,\"yanchor\":\"top\"}],\"sliders\":[{\"active\":0,\"currentvalue\":{\"prefix\":\"COUNTRY=\"},\"len\":0.9,\"pad\":{\"b\":10,\"t\":60},\"steps\":[{\"args\":[[\"Argentina\"],{\"frame\":{\"duration\":0,\"redraw\":true},\"mode\":\"immediate\",\"fromcurrent\":true,\"transition\":{\"duration\":0,\"easing\":\"linear\"}}],\"label\":\"Argentina\",\"method\":\"animate\"},{\"args\":[[\"Australia\"],{\"frame\":{\"duration\":0,\"redraw\":true},\"mode\":\"immediate\",\"fromcurrent\":true,\"transition\":{\"duration\":0,\"easing\":\"linear\"}}],\"label\":\"Australia\",\"method\":\"animate\"},{\"args\":[[\"Austria\"],{\"frame\":{\"duration\":0,\"redraw\":true},\"mode\":\"immediate\",\"fromcurrent\":true,\"transition\":{\"duration\":0,\"easing\":\"linear\"}}],\"label\":\"Austria\",\"method\":\"animate\"},{\"args\":[[\"Belgium\"],{\"frame\":{\"duration\":0,\"redraw\":true},\"mode\":\"immediate\",\"fromcurrent\":true,\"transition\":{\"duration\":0,\"easing\":\"linear\"}}],\"label\":\"Belgium\",\"method\":\"animate\"},{\"args\":[[\"Brazil\"],{\"frame\":{\"duration\":0,\"redraw\":true},\"mode\":\"immediate\",\"fromcurrent\":true,\"transition\":{\"duration\":0,\"easing\":\"linear\"}}],\"label\":\"Brazil\",\"method\":\"animate\"},{\"args\":[[\"Bulgaria\"],{\"frame\":{\"duration\":0,\"redraw\":true},\"mode\":\"immediate\",\"fromcurrent\":true,\"transition\":{\"duration\":0,\"easing\":\"linear\"}}],\"label\":\"Bulgaria\",\"method\":\"animate\"},{\"args\":[[\"Canada\"],{\"frame\":{\"duration\":0,\"redraw\":true},\"mode\":\"immediate\",\"fromcurrent\":true,\"transition\":{\"duration\":0,\"easing\":\"linear\"}}],\"label\":\"Canada\",\"method\":\"animate\"},{\"args\":[[\"Chile\"],{\"frame\":{\"duration\":0,\"redraw\":true},\"mode\":\"immediate\",\"fromcurrent\":true,\"transition\":{\"duration\":0,\"easing\":\"linear\"}}],\"label\":\"Chile\",\"method\":\"animate\"},{\"args\":[[\"Colombia\"],{\"frame\":{\"duration\":0,\"redraw\":true},\"mode\":\"immediate\",\"fromcurrent\":true,\"transition\":{\"duration\":0,\"easing\":\"linear\"}}],\"label\":\"Colombia\",\"method\":\"animate\"},{\"args\":[[\"Costa Rica\"],{\"frame\":{\"duration\":0,\"redraw\":true},\"mode\":\"immediate\",\"fromcurrent\":true,\"transition\":{\"duration\":0,\"easing\":\"linear\"}}],\"label\":\"Costa Rica\",\"method\":\"animate\"},{\"args\":[[\"Croatia\"],{\"frame\":{\"duration\":0,\"redraw\":true},\"mode\":\"immediate\",\"fromcurrent\":true,\"transition\":{\"duration\":0,\"easing\":\"linear\"}}],\"label\":\"Croatia\",\"method\":\"animate\"},{\"args\":[[\"Cyprus\"],{\"frame\":{\"duration\":0,\"redraw\":true},\"mode\":\"immediate\",\"fromcurrent\":true,\"transition\":{\"duration\":0,\"easing\":\"linear\"}}],\"label\":\"Cyprus\",\"method\":\"animate\"},{\"args\":[[\"Czech Republic\"],{\"frame\":{\"duration\":0,\"redraw\":true},\"mode\":\"immediate\",\"fromcurrent\":true,\"transition\":{\"duration\":0,\"easing\":\"linear\"}}],\"label\":\"Czech Republic\",\"method\":\"animate\"},{\"args\":[[\"Denmark\"],{\"frame\":{\"duration\":0,\"redraw\":true},\"mode\":\"immediate\",\"fromcurrent\":true,\"transition\":{\"duration\":0,\"easing\":\"linear\"}}],\"label\":\"Denmark\",\"method\":\"animate\"},{\"args\":[[\"Estonia\"],{\"frame\":{\"duration\":0,\"redraw\":true},\"mode\":\"immediate\",\"fromcurrent\":true,\"transition\":{\"duration\":0,\"easing\":\"linear\"}}],\"label\":\"Estonia\",\"method\":\"animate\"},{\"args\":[[\"Finland\"],{\"frame\":{\"duration\":0,\"redraw\":true},\"mode\":\"immediate\",\"fromcurrent\":true,\"transition\":{\"duration\":0,\"easing\":\"linear\"}}],\"label\":\"Finland\",\"method\":\"animate\"},{\"args\":[[\"France\"],{\"frame\":{\"duration\":0,\"redraw\":true},\"mode\":\"immediate\",\"fromcurrent\":true,\"transition\":{\"duration\":0,\"easing\":\"linear\"}}],\"label\":\"France\",\"method\":\"animate\"},{\"args\":[[\"Germany\"],{\"frame\":{\"duration\":0,\"redraw\":true},\"mode\":\"immediate\",\"fromcurrent\":true,\"transition\":{\"duration\":0,\"easing\":\"linear\"}}],\"label\":\"Germany\",\"method\":\"animate\"},{\"args\":[[\"Greece\"],{\"frame\":{\"duration\":0,\"redraw\":true},\"mode\":\"immediate\",\"fromcurrent\":true,\"transition\":{\"duration\":0,\"easing\":\"linear\"}}],\"label\":\"Greece\",\"method\":\"animate\"},{\"args\":[[\"Hungary\"],{\"frame\":{\"duration\":0,\"redraw\":true},\"mode\":\"immediate\",\"fromcurrent\":true,\"transition\":{\"duration\":0,\"easing\":\"linear\"}}],\"label\":\"Hungary\",\"method\":\"animate\"},{\"args\":[[\"IEA Total\"],{\"frame\":{\"duration\":0,\"redraw\":true},\"mode\":\"immediate\",\"fromcurrent\":true,\"transition\":{\"duration\":0,\"easing\":\"linear\"}}],\"label\":\"IEA Total\",\"method\":\"animate\"},{\"args\":[[\"Iceland\"],{\"frame\":{\"duration\":0,\"redraw\":true},\"mode\":\"immediate\",\"fromcurrent\":true,\"transition\":{\"duration\":0,\"easing\":\"linear\"}}],\"label\":\"Iceland\",\"method\":\"animate\"},{\"args\":[[\"India\"],{\"frame\":{\"duration\":0,\"redraw\":true},\"mode\":\"immediate\",\"fromcurrent\":true,\"transition\":{\"duration\":0,\"easing\":\"linear\"}}],\"label\":\"India\",\"method\":\"animate\"},{\"args\":[[\"Ireland\"],{\"frame\":{\"duration\":0,\"redraw\":true},\"mode\":\"immediate\",\"fromcurrent\":true,\"transition\":{\"duration\":0,\"easing\":\"linear\"}}],\"label\":\"Ireland\",\"method\":\"animate\"},{\"args\":[[\"Italy\"],{\"frame\":{\"duration\":0,\"redraw\":true},\"mode\":\"immediate\",\"fromcurrent\":true,\"transition\":{\"duration\":0,\"easing\":\"linear\"}}],\"label\":\"Italy\",\"method\":\"animate\"},{\"args\":[[\"Japan\"],{\"frame\":{\"duration\":0,\"redraw\":true},\"mode\":\"immediate\",\"fromcurrent\":true,\"transition\":{\"duration\":0,\"easing\":\"linear\"}}],\"label\":\"Japan\",\"method\":\"animate\"},{\"args\":[[\"Korea\"],{\"frame\":{\"duration\":0,\"redraw\":true},\"mode\":\"immediate\",\"fromcurrent\":true,\"transition\":{\"duration\":0,\"easing\":\"linear\"}}],\"label\":\"Korea\",\"method\":\"animate\"},{\"args\":[[\"Latvia\"],{\"frame\":{\"duration\":0,\"redraw\":true},\"mode\":\"immediate\",\"fromcurrent\":true,\"transition\":{\"duration\":0,\"easing\":\"linear\"}}],\"label\":\"Latvia\",\"method\":\"animate\"},{\"args\":[[\"Lithuania\"],{\"frame\":{\"duration\":0,\"redraw\":true},\"mode\":\"immediate\",\"fromcurrent\":true,\"transition\":{\"duration\":0,\"easing\":\"linear\"}}],\"label\":\"Lithuania\",\"method\":\"animate\"},{\"args\":[[\"Luxembourg\"],{\"frame\":{\"duration\":0,\"redraw\":true},\"mode\":\"immediate\",\"fromcurrent\":true,\"transition\":{\"duration\":0,\"easing\":\"linear\"}}],\"label\":\"Luxembourg\",\"method\":\"animate\"},{\"args\":[[\"Malta\"],{\"frame\":{\"duration\":0,\"redraw\":true},\"mode\":\"immediate\",\"fromcurrent\":true,\"transition\":{\"duration\":0,\"easing\":\"linear\"}}],\"label\":\"Malta\",\"method\":\"animate\"},{\"args\":[[\"Mexico\"],{\"frame\":{\"duration\":0,\"redraw\":true},\"mode\":\"immediate\",\"fromcurrent\":true,\"transition\":{\"duration\":0,\"easing\":\"linear\"}}],\"label\":\"Mexico\",\"method\":\"animate\"},{\"args\":[[\"Netherlands\"],{\"frame\":{\"duration\":0,\"redraw\":true},\"mode\":\"immediate\",\"fromcurrent\":true,\"transition\":{\"duration\":0,\"easing\":\"linear\"}}],\"label\":\"Netherlands\",\"method\":\"animate\"},{\"args\":[[\"New Zealand\"],{\"frame\":{\"duration\":0,\"redraw\":true},\"mode\":\"immediate\",\"fromcurrent\":true,\"transition\":{\"duration\":0,\"easing\":\"linear\"}}],\"label\":\"New Zealand\",\"method\":\"animate\"},{\"args\":[[\"North Macedonia\"],{\"frame\":{\"duration\":0,\"redraw\":true},\"mode\":\"immediate\",\"fromcurrent\":true,\"transition\":{\"duration\":0,\"easing\":\"linear\"}}],\"label\":\"North Macedonia\",\"method\":\"animate\"},{\"args\":[[\"Norway\"],{\"frame\":{\"duration\":0,\"redraw\":true},\"mode\":\"immediate\",\"fromcurrent\":true,\"transition\":{\"duration\":0,\"easing\":\"linear\"}}],\"label\":\"Norway\",\"method\":\"animate\"},{\"args\":[[\"OECD Americas\"],{\"frame\":{\"duration\":0,\"redraw\":true},\"mode\":\"immediate\",\"fromcurrent\":true,\"transition\":{\"duration\":0,\"easing\":\"linear\"}}],\"label\":\"OECD Americas\",\"method\":\"animate\"},{\"args\":[[\"OECD Asia Oceania\"],{\"frame\":{\"duration\":0,\"redraw\":true},\"mode\":\"immediate\",\"fromcurrent\":true,\"transition\":{\"duration\":0,\"easing\":\"linear\"}}],\"label\":\"OECD Asia Oceania\",\"method\":\"animate\"},{\"args\":[[\"OECD Europe\"],{\"frame\":{\"duration\":0,\"redraw\":true},\"mode\":\"immediate\",\"fromcurrent\":true,\"transition\":{\"duration\":0,\"easing\":\"linear\"}}],\"label\":\"OECD Europe\",\"method\":\"animate\"},{\"args\":[[\"OECD Total\"],{\"frame\":{\"duration\":0,\"redraw\":true},\"mode\":\"immediate\",\"fromcurrent\":true,\"transition\":{\"duration\":0,\"easing\":\"linear\"}}],\"label\":\"OECD Total\",\"method\":\"animate\"},{\"args\":[[\"Poland\"],{\"frame\":{\"duration\":0,\"redraw\":true},\"mode\":\"immediate\",\"fromcurrent\":true,\"transition\":{\"duration\":0,\"easing\":\"linear\"}}],\"label\":\"Poland\",\"method\":\"animate\"},{\"args\":[[\"Portugal\"],{\"frame\":{\"duration\":0,\"redraw\":true},\"mode\":\"immediate\",\"fromcurrent\":true,\"transition\":{\"duration\":0,\"easing\":\"linear\"}}],\"label\":\"Portugal\",\"method\":\"animate\"},{\"args\":[[\"Republic of Turkiye\"],{\"frame\":{\"duration\":0,\"redraw\":true},\"mode\":\"immediate\",\"fromcurrent\":true,\"transition\":{\"duration\":0,\"easing\":\"linear\"}}],\"label\":\"Republic of Turkiye\",\"method\":\"animate\"},{\"args\":[[\"Romania\"],{\"frame\":{\"duration\":0,\"redraw\":true},\"mode\":\"immediate\",\"fromcurrent\":true,\"transition\":{\"duration\":0,\"easing\":\"linear\"}}],\"label\":\"Romania\",\"method\":\"animate\"},{\"args\":[[\"Serbia\"],{\"frame\":{\"duration\":0,\"redraw\":true},\"mode\":\"immediate\",\"fromcurrent\":true,\"transition\":{\"duration\":0,\"easing\":\"linear\"}}],\"label\":\"Serbia\",\"method\":\"animate\"},{\"args\":[[\"Slovak Republic\"],{\"frame\":{\"duration\":0,\"redraw\":true},\"mode\":\"immediate\",\"fromcurrent\":true,\"transition\":{\"duration\":0,\"easing\":\"linear\"}}],\"label\":\"Slovak Republic\",\"method\":\"animate\"},{\"args\":[[\"Slovenia\"],{\"frame\":{\"duration\":0,\"redraw\":true},\"mode\":\"immediate\",\"fromcurrent\":true,\"transition\":{\"duration\":0,\"easing\":\"linear\"}}],\"label\":\"Slovenia\",\"method\":\"animate\"},{\"args\":[[\"Spain\"],{\"frame\":{\"duration\":0,\"redraw\":true},\"mode\":\"immediate\",\"fromcurrent\":true,\"transition\":{\"duration\":0,\"easing\":\"linear\"}}],\"label\":\"Spain\",\"method\":\"animate\"},{\"args\":[[\"Sweden\"],{\"frame\":{\"duration\":0,\"redraw\":true},\"mode\":\"immediate\",\"fromcurrent\":true,\"transition\":{\"duration\":0,\"easing\":\"linear\"}}],\"label\":\"Sweden\",\"method\":\"animate\"},{\"args\":[[\"Switzerland\"],{\"frame\":{\"duration\":0,\"redraw\":true},\"mode\":\"immediate\",\"fromcurrent\":true,\"transition\":{\"duration\":0,\"easing\":\"linear\"}}],\"label\":\"Switzerland\",\"method\":\"animate\"},{\"args\":[[\"United Kingdom\"],{\"frame\":{\"duration\":0,\"redraw\":true},\"mode\":\"immediate\",\"fromcurrent\":true,\"transition\":{\"duration\":0,\"easing\":\"linear\"}}],\"label\":\"United Kingdom\",\"method\":\"animate\"},{\"args\":[[\"United States\"],{\"frame\":{\"duration\":0,\"redraw\":true},\"mode\":\"immediate\",\"fromcurrent\":true,\"transition\":{\"duration\":0,\"easing\":\"linear\"}}],\"label\":\"United States\",\"method\":\"animate\"}],\"x\":0.1,\"xanchor\":\"left\",\"y\":0,\"yanchor\":\"top\"}]},                        {\"responsive\": true}                    ).then(function(){\n",
       "                            Plotly.addFrames('6e8b878f-4752-4833-93f0-ce844abad815', [{\"data\":[{\"alignmentgroup\":\"True\",\"hovertemplate\":\"variable=Renewables<br>COUNTRY=Argentina<br>Year=%{x}<br>Energy Production (GWh)=%{y}<extra></extra>\",\"legendgroup\":\"Renewables\",\"marker\":{\"color\":\"#636efa\",\"pattern\":{\"shape\":\"\"}},\"name\":\"Renewables\",\"offsetgroup\":\"Renewables\",\"orientation\":\"v\",\"showlegend\":true,\"textposition\":\"auto\",\"x\":[2015,2016,2017,2018,2019,2020,2021,2022],\"xaxis\":\"x\",\"y\":[33567.573,31013.883,33292.217000000004,34652.21956,34524.081521,36392.04386,42587.396466,43141.786988],\"yaxis\":\"y\",\"type\":\"bar\"},{\"alignmentgroup\":\"True\",\"hovertemplate\":\"variable=Nuclear<br>COUNTRY=Argentina<br>Year=%{x}<br>Energy Production (GWh)=%{y}<extra></extra>\",\"legendgroup\":\"Nuclear\",\"marker\":{\"color\":\"#EF553B\",\"pattern\":{\"shape\":\"\"}},\"name\":\"Nuclear\",\"offsetgroup\":\"Nuclear\",\"orientation\":\"v\",\"showlegend\":true,\"textposition\":\"auto\",\"x\":[2015,2016,2017,2018,2019,2020,2021,2022],\"xaxis\":\"x\",\"y\":[6644.077,7820.169,5770.611,6514.307078,7969.4685230000005,10064.414559,10224.076091,7509.18667],\"yaxis\":\"y\",\"type\":\"bar\"},{\"alignmentgroup\":\"True\",\"hovertemplate\":\"variable=Total combustible fuels<br>COUNTRY=Argentina<br>Year=%{x}<br>Energy Production (GWh)=%{y}<extra></extra>\",\"legendgroup\":\"Total combustible fuels\",\"marker\":{\"color\":\"#00cc96\",\"pattern\":{\"shape\":\"\"}},\"name\":\"Total combustible fuels\",\"offsetgroup\":\"Total combustible fuels\",\"orientation\":\"v\",\"showlegend\":true,\"textposition\":\"auto\",\"x\":[2015,2016,2017,2018,2019,2020,2021,2022],\"xaxis\":\"x\",\"y\":[98499.693,101477.393,100155.943,99297.98336,91519.67088,93246.980101,102048.186182,91536.894631],\"yaxis\":\"y\",\"type\":\"bar\"}],\"name\":\"Argentina\"},{\"data\":[{\"alignmentgroup\":\"True\",\"hovertemplate\":\"variable=Renewables<br>COUNTRY=Australia<br>Year=%{x}<br>Energy Production (GWh)=%{y}<extra></extra>\",\"legendgroup\":\"Renewables\",\"marker\":{\"color\":\"#636efa\",\"pattern\":{\"shape\":\"\"}},\"name\":\"Renewables\",\"offsetgroup\":\"Renewables\",\"orientation\":\"v\",\"showlegend\":true,\"textposition\":\"auto\",\"x\":[2010,2011,2012,2013,2014,2015,2016,2017,2018,2019,2020,2021,2022],\"xaxis\":\"x\",\"y\":[24610.86,25078.374,29876.966,35667.676,32869.815,35033.856311,43979.519863,39298.654663,50132.733078,55675.459561,65300.914967,79585.79405,91140.767104],\"yaxis\":\"y\",\"type\":\"bar\"},{\"alignmentgroup\":\"True\",\"hovertemplate\":\"variable=Nuclear<br>COUNTRY=Australia<br>Year=%{x}<br>Energy Production (GWh)=%{y}<extra></extra>\",\"legendgroup\":\"Nuclear\",\"marker\":{\"color\":\"#EF553B\",\"pattern\":{\"shape\":\"\"}},\"name\":\"Nuclear\",\"offsetgroup\":\"Nuclear\",\"orientation\":\"v\",\"showlegend\":true,\"textposition\":\"auto\",\"x\":[2010,2011,2012,2013,2014,2015,2016,2017,2018,2019,2020,2021,2022],\"xaxis\":\"x\",\"y\":[0.0,0.0,0.0,0.0,0.0,0.0,0.0,0.0,0.0,0.0,0.0,0.0,0.0],\"yaxis\":\"y\",\"type\":\"bar\"},{\"alignmentgroup\":\"True\",\"hovertemplate\":\"variable=Total combustible fuels<br>COUNTRY=Australia<br>Year=%{x}<br>Energy Production (GWh)=%{y}<extra></extra>\",\"legendgroup\":\"Total combustible fuels\",\"marker\":{\"color\":\"#00cc96\",\"pattern\":{\"shape\":\"\"}},\"name\":\"Total combustible fuels\",\"offsetgroup\":\"Total combustible fuels\",\"orientation\":\"v\",\"showlegend\":true,\"textposition\":\"auto\",\"x\":[2010,2011,2012,2013,2014,2015,2016,2017,2018,2019,2020,2021,2022],\"xaxis\":\"x\",\"y\":[214302.969,216322.15899999999,209534.422,198806.252,208675.772,209285.37664099998,207156.89535,209572.321406,200828.02296099998,199150.001687,189712.149699,179392.243375,174108.47098],\"yaxis\":\"y\",\"type\":\"bar\"}],\"name\":\"Australia\"},{\"data\":[{\"alignmentgroup\":\"True\",\"hovertemplate\":\"variable=Renewables<br>COUNTRY=Austria<br>Year=%{x}<br>Energy Production (GWh)=%{y}<extra></extra>\",\"legendgroup\":\"Renewables\",\"marker\":{\"color\":\"#636efa\",\"pattern\":{\"shape\":\"\"}},\"name\":\"Renewables\",\"offsetgroup\":\"Renewables\",\"orientation\":\"v\",\"showlegend\":true,\"textposition\":\"auto\",\"x\":[2010,2011,2012,2013,2014,2015,2016,2017,2018,2019,2020,2021,2022],\"xaxis\":\"x\",\"y\":[45809.266,42207.865,52720.992,51826.71,51370.356999999996,48405.934,51467.09,52448.23,51106.768430000004,55235.997182,55437.98516,53472.61501,51259.356188],\"yaxis\":\"y\",\"type\":\"bar\"},{\"alignmentgroup\":\"True\",\"hovertemplate\":\"variable=Nuclear<br>COUNTRY=Austria<br>Year=%{x}<br>Energy Production (GWh)=%{y}<extra></extra>\",\"legendgroup\":\"Nuclear\",\"marker\":{\"color\":\"#EF553B\",\"pattern\":{\"shape\":\"\"}},\"name\":\"Nuclear\",\"offsetgroup\":\"Nuclear\",\"orientation\":\"v\",\"showlegend\":true,\"textposition\":\"auto\",\"x\":[2010,2011,2012,2013,2014,2015,2016,2017,2018,2019,2020,2021,2022],\"xaxis\":\"x\",\"y\":[0.0,0.0,0.0,0.0,0.0,0.0,0.0,0.0,0.0,0.0,0.0,0.0,0.0],\"yaxis\":\"y\",\"type\":\"bar\"},{\"alignmentgroup\":\"True\",\"hovertemplate\":\"variable=Total combustible fuels<br>COUNTRY=Austria<br>Year=%{x}<br>Energy Production (GWh)=%{y}<extra></extra>\",\"legendgroup\":\"Total combustible fuels\",\"marker\":{\"color\":\"#00cc96\",\"pattern\":{\"shape\":\"\"}},\"name\":\"Total combustible fuels\",\"offsetgroup\":\"Total combustible fuels\",\"orientation\":\"v\",\"showlegend\":true,\"textposition\":\"auto\",\"x\":[2010,2011,2012,2013,2014,2015,2016,2017,2018,2019,2020,2021,2022],\"xaxis\":\"x\",\"y\":[26042.221,24602.529,21050.441,17945.572,15179.741,17947.525,18024.479,20331.363,18961.854999,19984.499001,17572.505,17945.498193,18314.839288],\"yaxis\":\"y\",\"type\":\"bar\"}],\"name\":\"Austria\"},{\"data\":[{\"alignmentgroup\":\"True\",\"hovertemplate\":\"variable=Renewables<br>COUNTRY=Belgium<br>Year=%{x}<br>Energy Production (GWh)=%{y}<extra></extra>\",\"legendgroup\":\"Renewables\",\"marker\":{\"color\":\"#636efa\",\"pattern\":{\"shape\":\"\"}},\"name\":\"Renewables\",\"offsetgroup\":\"Renewables\",\"orientation\":\"v\",\"showlegend\":true,\"textposition\":\"auto\",\"x\":[2010,2011,2012,2013,2014,2015,2016,2017,2018,2019,2020,2021,2022],\"xaxis\":\"x\",\"y\":[7681.649,9405.339,11518.663,12745.991,13199.087,15308.409,15132.223,16576.751,17726.295457,19916.739189,24035.054198,23292.515605,24733.478944000002],\"yaxis\":\"y\",\"type\":\"bar\"},{\"alignmentgroup\":\"True\",\"hovertemplate\":\"variable=Nuclear<br>COUNTRY=Belgium<br>Year=%{x}<br>Energy Production (GWh)=%{y}<extra></extra>\",\"legendgroup\":\"Nuclear\",\"marker\":{\"color\":\"#EF553B\",\"pattern\":{\"shape\":\"\"}},\"name\":\"Nuclear\",\"offsetgroup\":\"Nuclear\",\"orientation\":\"v\",\"showlegend\":true,\"textposition\":\"auto\",\"x\":[2010,2011,2012,2013,2014,2015,2016,2017,2018,2019,2020,2021,2022],\"xaxis\":\"x\",\"y\":[45729.0,45942.0,38464.001,40567.0,31969.002,24824.998,41429.998999999996,40128.501,27126.299999,41305.599999,32605.8,47891.716523,41616.582424],\"yaxis\":\"y\",\"type\":\"bar\"},{\"alignmentgroup\":\"True\",\"hovertemplate\":\"variable=Total combustible fuels<br>COUNTRY=Belgium<br>Year=%{x}<br>Energy Production (GWh)=%{y}<extra></extra>\",\"legendgroup\":\"Total combustible fuels\",\"marker\":{\"color\":\"#00cc96\",\"pattern\":{\"shape\":\"\"}},\"name\":\"Total combustible fuels\",\"offsetgroup\":\"Total combustible fuels\",\"orientation\":\"v\",\"showlegend\":true,\"textposition\":\"auto\",\"x\":[2010,2011,2012,2013,2014,2015,2016,2017,2018,2019,2020,2021,2022],\"xaxis\":\"x\",\"y\":[42060.998999999996,35720.998999999996,34628.0,31407.0,28579.0,32204.899,30672.601,31438.801,31920.700002,33279.4,34037.800001,29265.178901,29513.266759],\"yaxis\":\"y\",\"type\":\"bar\"}],\"name\":\"Belgium\"},{\"data\":[{\"alignmentgroup\":\"True\",\"hovertemplate\":\"variable=Renewables<br>COUNTRY=Brazil<br>Year=%{x}<br>Energy Production (GWh)=%{y}<extra></extra>\",\"legendgroup\":\"Renewables\",\"marker\":{\"color\":\"#636efa\",\"pattern\":{\"shape\":\"\"}},\"name\":\"Renewables\",\"offsetgroup\":\"Renewables\",\"orientation\":\"v\",\"showlegend\":true,\"textposition\":\"auto\",\"x\":[2015,2016,2017,2018,2019,2020,2021,2022],\"xaxis\":\"x\",\"y\":[423216.131,457470.239,458637.322,486518.198235,507537.708859,514703.665791,477740.617312,583458.043248],\"yaxis\":\"y\",\"type\":\"bar\"},{\"alignmentgroup\":\"True\",\"hovertemplate\":\"variable=Nuclear<br>COUNTRY=Brazil<br>Year=%{x}<br>Energy Production (GWh)=%{y}<extra></extra>\",\"legendgroup\":\"Nuclear\",\"marker\":{\"color\":\"#EF553B\",\"pattern\":{\"shape\":\"\"}},\"name\":\"Nuclear\",\"offsetgroup\":\"Nuclear\",\"orientation\":\"v\",\"showlegend\":true,\"textposition\":\"auto\",\"x\":[2015,2016,2017,2018,2019,2020,2021,2022],\"xaxis\":\"x\",\"y\":[13907.351,14973.952000000001,14856.152,14794.505006,15161.094561,13209.442119,13825.679378,13684.322262],\"yaxis\":\"y\",\"type\":\"bar\"},{\"alignmentgroup\":\"True\",\"hovertemplate\":\"variable=Total combustible fuels<br>COUNTRY=Brazil<br>Year=%{x}<br>Energy Production (GWh)=%{y}<extra></extra>\",\"legendgroup\":\"Total combustible fuels\",\"marker\":{\"color\":\"#00cc96\",\"pattern\":{\"shape\":\"\"}},\"name\":\"Total combustible fuels\",\"offsetgroup\":\"Total combustible fuels\",\"orientation\":\"v\",\"showlegend\":true,\"textposition\":\"auto\",\"x\":[2015,2016,2017,2018,2019,2020,2021,2022],\"xaxis\":\"x\",\"y\":[173553.155,139038.848,149241.7,135482.435488,140312.532881,134184.2198,196820.964317,94970.301581],\"yaxis\":\"y\",\"type\":\"bar\"}],\"name\":\"Brazil\"},{\"data\":[{\"alignmentgroup\":\"True\",\"hovertemplate\":\"variable=Renewables<br>COUNTRY=Bulgaria<br>Year=%{x}<br>Energy Production (GWh)=%{y}<extra></extra>\",\"legendgroup\":\"Renewables\",\"marker\":{\"color\":\"#636efa\",\"pattern\":{\"shape\":\"\"}},\"name\":\"Renewables\",\"offsetgroup\":\"Renewables\",\"orientation\":\"v\",\"showlegend\":true,\"textposition\":\"auto\",\"x\":[2015,2016,2017,2018,2019,2020,2021,2022],\"xaxis\":\"x\",\"y\":[9094.398,7648.193,6699.715,9374.168267,7669.257401,7690.763573,10143.970128,9153.369705000001],\"yaxis\":\"y\",\"type\":\"bar\"},{\"alignmentgroup\":\"True\",\"hovertemplate\":\"variable=Nuclear<br>COUNTRY=Bulgaria<br>Year=%{x}<br>Energy Production (GWh)=%{y}<extra></extra>\",\"legendgroup\":\"Nuclear\",\"marker\":{\"color\":\"#EF553B\",\"pattern\":{\"shape\":\"\"}},\"name\":\"Nuclear\",\"offsetgroup\":\"Nuclear\",\"orientation\":\"v\",\"showlegend\":true,\"textposition\":\"auto\",\"x\":[2015,2016,2017,2018,2019,2020,2021,2022],\"xaxis\":\"x\",\"y\":[14528.0,14932.001,14718.367,15291.203999,15712.446,15787.268001,15650.832998,15615.001997],\"yaxis\":\"y\",\"type\":\"bar\"},{\"alignmentgroup\":\"True\",\"hovertemplate\":\"variable=Total combustible fuels<br>COUNTRY=Bulgaria<br>Year=%{x}<br>Energy Production (GWh)=%{y}<extra></extra>\",\"legendgroup\":\"Total combustible fuels\",\"marker\":{\"color\":\"#00cc96\",\"pattern\":{\"shape\":\"\"}},\"name\":\"Total combustible fuels\",\"offsetgroup\":\"Total combustible fuels\",\"orientation\":\"v\",\"showlegend\":true,\"textposition\":\"auto\",\"x\":[2015,2016,2017,2018,2019,2020,2021,2022],\"xaxis\":\"x\",\"y\":[21314.999,18908.998,20234.209,19371.636,18494.507999,15167.317998,19855.117,22862.372252],\"yaxis\":\"y\",\"type\":\"bar\"}],\"name\":\"Bulgaria\"},{\"data\":[{\"alignmentgroup\":\"True\",\"hovertemplate\":\"variable=Renewables<br>COUNTRY=Canada<br>Year=%{x}<br>Energy Production (GWh)=%{y}<extra></extra>\",\"legendgroup\":\"Renewables\",\"marker\":{\"color\":\"#636efa\",\"pattern\":{\"shape\":\"\"}},\"name\":\"Renewables\",\"offsetgroup\":\"Renewables\",\"orientation\":\"v\",\"showlegend\":true,\"textposition\":\"auto\",\"x\":[2010,2011,2012,2013,2014,2015,2016,2017,2018,2019,2020,2021,2022],\"xaxis\":\"x\",\"y\":[366611.134,392288.66000000003,398121.491,416479.892,414931.787,416605.471,425347.081,436143.86100000003,428485.542932,422568.13133999996,430313.182139,427134.88302199997,446026.725612],\"yaxis\":\"y\",\"type\":\"bar\"},{\"alignmentgroup\":\"True\",\"hovertemplate\":\"variable=Nuclear<br>COUNTRY=Canada<br>Year=%{x}<br>Energy Production (GWh)=%{y}<extra></extra>\",\"legendgroup\":\"Nuclear\",\"marker\":{\"color\":\"#EF553B\",\"pattern\":{\"shape\":\"\"}},\"name\":\"Nuclear\",\"offsetgroup\":\"Nuclear\",\"orientation\":\"v\",\"showlegend\":true,\"textposition\":\"auto\",\"x\":[2010,2011,2012,2013,2014,2015,2016,2017,2018,2019,2020,2021,2022],\"xaxis\":\"x\",\"y\":[85527.0,88290.999,89491.99799999999,97583.999,101207.999,96046.00099999999,95687.0,95565.001,95030.00000100001,95469.0,92651.606554,87362.240845,82287.819565],\"yaxis\":\"y\",\"type\":\"bar\"},{\"alignmentgroup\":\"True\",\"hovertemplate\":\"variable=Total combustible fuels<br>COUNTRY=Canada<br>Year=%{x}<br>Energy Production (GWh)=%{y}<extra></extra>\",\"legendgroup\":\"Total combustible fuels\",\"marker\":{\"color\":\"#00cc96\",\"pattern\":{\"shape\":\"\"}},\"name\":\"Total combustible fuels\",\"offsetgroup\":\"Total combustible fuels\",\"orientation\":\"v\",\"showlegend\":true,\"textposition\":\"auto\",\"x\":[2010,2011,2012,2013,2014,2015,2016,2017,2018,2019,2020,2021,2022],\"xaxis\":\"x\",\"y\":[140041.0,140839.999,133848.999,132244.0,134613.998,134251.0,132249.999,122880.0,121393.0,119237.0,109734.866236,120800.180915,119318.008239],\"yaxis\":\"y\",\"type\":\"bar\"}],\"name\":\"Canada\"},{\"data\":[{\"alignmentgroup\":\"True\",\"hovertemplate\":\"variable=Renewables<br>COUNTRY=Chile<br>Year=%{x}<br>Energy Production (GWh)=%{y}<extra></extra>\",\"legendgroup\":\"Renewables\",\"marker\":{\"color\":\"#636efa\",\"pattern\":{\"shape\":\"\"}},\"name\":\"Renewables\",\"offsetgroup\":\"Renewables\",\"orientation\":\"v\",\"showlegend\":true,\"textposition\":\"auto\",\"x\":[2010,2011,2012,2013,2014,2015,2016,2017,2018,2019,2020,2021,2022],\"xaxis\":\"x\",\"y\":[24101.174,25689.737,24871.883,25642.855,29943.127,32035.042999999998,33527.852,34147.004,37294.544856,38612.830575,40547.283435,41529.625071,46886.973366],\"yaxis\":\"y\",\"type\":\"bar\"},{\"alignmentgroup\":\"True\",\"hovertemplate\":\"variable=Nuclear<br>COUNTRY=Chile<br>Year=%{x}<br>Energy Production (GWh)=%{y}<extra></extra>\",\"legendgroup\":\"Nuclear\",\"marker\":{\"color\":\"#EF553B\",\"pattern\":{\"shape\":\"\"}},\"name\":\"Nuclear\",\"offsetgroup\":\"Nuclear\",\"orientation\":\"v\",\"showlegend\":true,\"textposition\":\"auto\",\"x\":[2010,2011,2012,2013,2014,2015,2016,2017,2018,2019,2020,2021,2022],\"xaxis\":\"x\",\"y\":[0.0,0.0,0.0,0.0,0.0,0.0,0.0,0.0,0.0,0.0,0.0,0.0,0.0],\"yaxis\":\"y\",\"type\":\"bar\"},{\"alignmentgroup\":\"True\",\"hovertemplate\":\"variable=Total combustible fuels<br>COUNTRY=Chile<br>Year=%{x}<br>Energy Production (GWh)=%{y}<extra></extra>\",\"legendgroup\":\"Total combustible fuels\",\"marker\":{\"color\":\"#00cc96\",\"pattern\":{\"shape\":\"\"}},\"name\":\"Total combustible fuels\",\"offsetgroup\":\"Total combustible fuels\",\"orientation\":\"v\",\"showlegend\":true,\"textposition\":\"auto\",\"x\":[2010,2011,2012,2013,2014,2015,2016,2017,2018,2019,2020,2021,2022],\"xaxis\":\"x\",\"y\":[36249.001000000004,41914.001,45454.001000000004,49341.0,44426.002,45276.001,48610.002,48716.992,48064.578,48680.373,46666.701831,49492.308858000004,37314.721303],\"yaxis\":\"y\",\"type\":\"bar\"}],\"name\":\"Chile\"},{\"data\":[{\"alignmentgroup\":\"True\",\"hovertemplate\":\"variable=Renewables<br>COUNTRY=Colombia<br>Year=%{x}<br>Energy Production (GWh)=%{y}<extra></extra>\",\"legendgroup\":\"Renewables\",\"marker\":{\"color\":\"#636efa\",\"pattern\":{\"shape\":\"\"}},\"name\":\"Renewables\",\"offsetgroup\":\"Renewables\",\"orientation\":\"v\",\"showlegend\":true,\"textposition\":\"auto\",\"x\":[2014,2015,2016,2017,2018,2019,2020,2021,2022],\"xaxis\":\"x\",\"y\":[48591.614,49301.099,49890.778,61994.521,59670.123082,54698.270145,50731.028468,60649.185588,65484.517485000004],\"yaxis\":\"y\",\"type\":\"bar\"},{\"alignmentgroup\":\"True\",\"hovertemplate\":\"variable=Nuclear<br>COUNTRY=Colombia<br>Year=%{x}<br>Energy Production (GWh)=%{y}<extra></extra>\",\"legendgroup\":\"Nuclear\",\"marker\":{\"color\":\"#EF553B\",\"pattern\":{\"shape\":\"\"}},\"name\":\"Nuclear\",\"offsetgroup\":\"Nuclear\",\"orientation\":\"v\",\"showlegend\":true,\"textposition\":\"auto\",\"x\":[2014,2015,2016,2017,2018,2019,2020,2021,2022],\"xaxis\":\"x\",\"y\":[0.0,0.0,0.0,0.0,0.0,0.0,0.0,0.0,0.0],\"yaxis\":\"y\",\"type\":\"bar\"},{\"alignmentgroup\":\"True\",\"hovertemplate\":\"variable=Total combustible fuels<br>COUNTRY=Colombia<br>Year=%{x}<br>Energy Production (GWh)=%{y}<extra></extra>\",\"legendgroup\":\"Total combustible fuels\",\"marker\":{\"color\":\"#00cc96\",\"pattern\":{\"shape\":\"\"}},\"name\":\"Total combustible fuels\",\"offsetgroup\":\"Total combustible fuels\",\"orientation\":\"v\",\"showlegend\":true,\"textposition\":\"auto\",\"x\":[2014,2015,2016,2017,2018,2019,2020,2021,2022],\"xaxis\":\"x\",\"y\":[21699.775,28107.510000000002,25942.506,16731.232,19437.342999,24906.220001,28438.157497,22487.155456,21698.459702],\"yaxis\":\"y\",\"type\":\"bar\"}],\"name\":\"Colombia\"},{\"data\":[{\"alignmentgroup\":\"True\",\"hovertemplate\":\"variable=Renewables<br>COUNTRY=Costa Rica<br>Year=%{x}<br>Energy Production (GWh)=%{y}<extra></extra>\",\"legendgroup\":\"Renewables\",\"marker\":{\"color\":\"#636efa\",\"pattern\":{\"shape\":\"\"}},\"name\":\"Renewables\",\"offsetgroup\":\"Renewables\",\"orientation\":\"v\",\"showlegend\":true,\"textposition\":\"auto\",\"x\":[2021,2022],\"xaxis\":\"x\",\"y\":[12501.140132,12419.44864],\"yaxis\":\"y\",\"type\":\"bar\"},{\"alignmentgroup\":\"True\",\"hovertemplate\":\"variable=Nuclear<br>COUNTRY=Costa Rica<br>Year=%{x}<br>Energy Production (GWh)=%{y}<extra></extra>\",\"legendgroup\":\"Nuclear\",\"marker\":{\"color\":\"#EF553B\",\"pattern\":{\"shape\":\"\"}},\"name\":\"Nuclear\",\"offsetgroup\":\"Nuclear\",\"orientation\":\"v\",\"showlegend\":true,\"textposition\":\"auto\",\"x\":[2021,2022],\"xaxis\":\"x\",\"y\":[0.0,0.0],\"yaxis\":\"y\",\"type\":\"bar\"},{\"alignmentgroup\":\"True\",\"hovertemplate\":\"variable=Total combustible fuels<br>COUNTRY=Costa Rica<br>Year=%{x}<br>Energy Production (GWh)=%{y}<extra></extra>\",\"legendgroup\":\"Total combustible fuels\",\"marker\":{\"color\":\"#00cc96\",\"pattern\":{\"shape\":\"\"}},\"name\":\"Total combustible fuels\",\"offsetgroup\":\"Total combustible fuels\",\"orientation\":\"v\",\"showlegend\":true,\"textposition\":\"auto\",\"x\":[2021,2022],\"xaxis\":\"x\",\"y\":[193.983,229.18799],\"yaxis\":\"y\",\"type\":\"bar\"}],\"name\":\"Costa Rica\"},{\"data\":[{\"alignmentgroup\":\"True\",\"hovertemplate\":\"variable=Renewables<br>COUNTRY=Croatia<br>Year=%{x}<br>Energy Production (GWh)=%{y}<extra></extra>\",\"legendgroup\":\"Renewables\",\"marker\":{\"color\":\"#636efa\",\"pattern\":{\"shape\":\"\"}},\"name\":\"Renewables\",\"offsetgroup\":\"Renewables\",\"orientation\":\"v\",\"showlegend\":true,\"textposition\":\"auto\",\"x\":[2015,2016,2017,2018,2019,2020,2021,2022],\"xaxis\":\"x\",\"y\":[7611.559,8433.404,7201.522,9717.480248,8281.486968000001,8537.441257,10445.7978,9033.710625],\"yaxis\":\"y\",\"type\":\"bar\"},{\"alignmentgroup\":\"True\",\"hovertemplate\":\"variable=Nuclear<br>COUNTRY=Croatia<br>Year=%{x}<br>Energy Production (GWh)=%{y}<extra></extra>\",\"legendgroup\":\"Nuclear\",\"marker\":{\"color\":\"#EF553B\",\"pattern\":{\"shape\":\"\"}},\"name\":\"Nuclear\",\"offsetgroup\":\"Nuclear\",\"orientation\":\"v\",\"showlegend\":true,\"textposition\":\"auto\",\"x\":[2015,2016,2017,2018,2019,2020,2021,2022],\"xaxis\":\"x\",\"y\":[0.0,0.0,0.0,0.0,0.0,0.0,0.0,0.0],\"yaxis\":\"y\",\"type\":\"bar\"},{\"alignmentgroup\":\"True\",\"hovertemplate\":\"variable=Total combustible fuels<br>COUNTRY=Croatia<br>Year=%{x}<br>Energy Production (GWh)=%{y}<extra></extra>\",\"legendgroup\":\"Total combustible fuels\",\"marker\":{\"color\":\"#00cc96\",\"pattern\":{\"shape\":\"\"}},\"name\":\"Total combustible fuels\",\"offsetgroup\":\"Total combustible fuels\",\"orientation\":\"v\",\"showlegend\":true,\"textposition\":\"auto\",\"x\":[2015,2016,2017,2018,2019,2020,2021,2022],\"xaxis\":\"x\",\"y\":[3611.998,4241.0,4808.002,4078.599999,4778.0,5243.1,5254.227707,6003.620745],\"yaxis\":\"y\",\"type\":\"bar\"}],\"name\":\"Croatia\"},{\"data\":[{\"alignmentgroup\":\"True\",\"hovertemplate\":\"variable=Renewables<br>COUNTRY=Cyprus<br>Year=%{x}<br>Energy Production (GWh)=%{y}<extra></extra>\",\"legendgroup\":\"Renewables\",\"marker\":{\"color\":\"#636efa\",\"pattern\":{\"shape\":\"\"}},\"name\":\"Renewables\",\"offsetgroup\":\"Renewables\",\"orientation\":\"v\",\"showlegend\":true,\"textposition\":\"auto\",\"x\":[2015,2016,2017,2018,2019,2020,2021,2022],\"xaxis\":\"x\",\"y\":[396.823,422.103,432.677,474.56845599999997,511.936738,593.858892,721.596273,880.606586],\"yaxis\":\"y\",\"type\":\"bar\"},{\"alignmentgroup\":\"True\",\"hovertemplate\":\"variable=Nuclear<br>COUNTRY=Cyprus<br>Year=%{x}<br>Energy Production (GWh)=%{y}<extra></extra>\",\"legendgroup\":\"Nuclear\",\"marker\":{\"color\":\"#EF553B\",\"pattern\":{\"shape\":\"\"}},\"name\":\"Nuclear\",\"offsetgroup\":\"Nuclear\",\"orientation\":\"v\",\"showlegend\":true,\"textposition\":\"auto\",\"x\":[2015,2016,2017,2018,2019,2020,2021,2022],\"xaxis\":\"x\",\"y\":[0.0,0.0,0.0,0.0,0.0,0.0,0.0,0.0],\"yaxis\":\"y\",\"type\":\"bar\"},{\"alignmentgroup\":\"True\",\"hovertemplate\":\"variable=Total combustible fuels<br>COUNTRY=Cyprus<br>Year=%{x}<br>Energy Production (GWh)=%{y}<extra></extra>\",\"legendgroup\":\"Total combustible fuels\",\"marker\":{\"color\":\"#00cc96\",\"pattern\":{\"shape\":\"\"}},\"name\":\"Total combustible fuels\",\"offsetgroup\":\"Total combustible fuels\",\"orientation\":\"v\",\"showlegend\":true,\"textposition\":\"auto\",\"x\":[2015,2016,2017,2018,2019,2020,2021,2022],\"xaxis\":\"x\",\"y\":[3964.999,4294.999,4394.819,4406.747999,4456.956,4114.300998,4156.826556,4187.43377],\"yaxis\":\"y\",\"type\":\"bar\"}],\"name\":\"Cyprus\"},{\"data\":[{\"alignmentgroup\":\"True\",\"hovertemplate\":\"variable=Renewables<br>COUNTRY=Czech Republic<br>Year=%{x}<br>Energy Production (GWh)=%{y}<extra></extra>\",\"legendgroup\":\"Renewables\",\"marker\":{\"color\":\"#636efa\",\"pattern\":{\"shape\":\"\"}},\"name\":\"Renewables\",\"offsetgroup\":\"Renewables\",\"orientation\":\"v\",\"showlegend\":true,\"textposition\":\"auto\",\"x\":[2010,2011,2012,2013,2014,2015,2016,2017,2018,2019,2020,2021,2022],\"xaxis\":\"x\",\"y\":[6235.555,7626.8769999999995,8402.173,9725.578,9689.015,10128.543,10035.875,10204.061,9900.257937,10641.624875,11029.68808,11184.533855,11012.935017],\"yaxis\":\"y\",\"type\":\"bar\"},{\"alignmentgroup\":\"True\",\"hovertemplate\":\"variable=Nuclear<br>COUNTRY=Czech Republic<br>Year=%{x}<br>Energy Production (GWh)=%{y}<extra></extra>\",\"legendgroup\":\"Nuclear\",\"marker\":{\"color\":\"#EF553B\",\"pattern\":{\"shape\":\"\"}},\"name\":\"Nuclear\",\"offsetgroup\":\"Nuclear\",\"orientation\":\"v\",\"showlegend\":true,\"textposition\":\"auto\",\"x\":[2010,2011,2012,2013,2014,2015,2016,2017,2018,2019,2020,2021,2022],\"xaxis\":\"x\",\"y\":[26346.003,26602.002,28603.0,29001.0,28633.0,25335.001,22726.999,26785.6,28252.539003,28579.351,28369.685000999998,29041.959857,29308.427907],\"yaxis\":\"y\",\"type\":\"bar\"},{\"alignmentgroup\":\"True\",\"hovertemplate\":\"variable=Total combustible fuels<br>COUNTRY=Czech Republic<br>Year=%{x}<br>Energy Production (GWh)=%{y}<extra></extra>\",\"legendgroup\":\"Total combustible fuels\",\"marker\":{\"color\":\"#00cc96\",\"pattern\":{\"shape\":\"\"}},\"name\":\"Total combustible fuels\",\"offsetgroup\":\"Total combustible fuels\",\"orientation\":\"v\",\"showlegend\":true,\"textposition\":\"auto\",\"x\":[2010,2011,2012,2013,2014,2015,2016,2017,2018,2019,2020,2021,2022],\"xaxis\":\"x\",\"y\":[47564.998,48012.0,46255.998999999996,44610.001000000004,44891.0,45664.0,47816.998999999996,47246.628,46926.262,45301.339,40233.901,42651.637912,42668.316671],\"yaxis\":\"y\",\"type\":\"bar\"}],\"name\":\"Czech Republic\"},{\"data\":[{\"alignmentgroup\":\"True\",\"hovertemplate\":\"variable=Renewables<br>COUNTRY=Denmark<br>Year=%{x}<br>Energy Production (GWh)=%{y}<extra></extra>\",\"legendgroup\":\"Renewables\",\"marker\":{\"color\":\"#636efa\",\"pattern\":{\"shape\":\"\"}},\"name\":\"Renewables\",\"offsetgroup\":\"Renewables\",\"orientation\":\"v\",\"showlegend\":true,\"textposition\":\"auto\",\"x\":[2010,2011,2012,2013,2014,2015,2016,2017,2018,2019,2020,2021,2022],\"xaxis\":\"x\",\"y\":[12134.486,13891.649,14508.385,15667.377,17666.24,18636.517,17974.506,21238.905,20360.452830000002,22679.318561,22820.65616,25624.467061,27909.605478],\"yaxis\":\"y\",\"type\":\"bar\"},{\"alignmentgroup\":\"True\",\"hovertemplate\":\"variable=Nuclear<br>COUNTRY=Denmark<br>Year=%{x}<br>Energy Production (GWh)=%{y}<extra></extra>\",\"legendgroup\":\"Nuclear\",\"marker\":{\"color\":\"#EF553B\",\"pattern\":{\"shape\":\"\"}},\"name\":\"Nuclear\",\"offsetgroup\":\"Nuclear\",\"orientation\":\"v\",\"showlegend\":true,\"textposition\":\"auto\",\"x\":[2010,2011,2012,2013,2014,2015,2016,2017,2018,2019,2020,2021,2022],\"xaxis\":\"x\",\"y\":[0.0,0.0,0.0,0.0,0.0,0.0,0.0,0.0,0.0,0.0,0.0,0.0,0.0],\"yaxis\":\"y\",\"type\":\"bar\"},{\"alignmentgroup\":\"True\",\"hovertemplate\":\"variable=Total combustible fuels<br>COUNTRY=Denmark<br>Year=%{x}<br>Energy Production (GWh)=%{y}<extra></extra>\",\"legendgroup\":\"Total combustible fuels\",\"marker\":{\"color\":\"#00cc96\",\"pattern\":{\"shape\":\"\"}},\"name\":\"Total combustible fuels\",\"offsetgroup\":\"Total combustible fuels\",\"orientation\":\"v\",\"showlegend\":true,\"textposition\":\"auto\",\"x\":[2010,2011,2012,2013,2014,2015,2016,2017,2018,2019,2020,2021,2022],\"xaxis\":\"x\",\"y\":[29036.001,23742.803,18809.527000000002,21484.583,17125.73,13165.758,15536.288,14088.943,14444.509999,11559.499,10352.233002,15464.818858,12366.901574],\"yaxis\":\"y\",\"type\":\"bar\"}],\"name\":\"Denmark\"},{\"data\":[{\"alignmentgroup\":\"True\",\"hovertemplate\":\"variable=Renewables<br>COUNTRY=Estonia<br>Year=%{x}<br>Energy Production (GWh)=%{y}<extra></extra>\",\"legendgroup\":\"Renewables\",\"marker\":{\"color\":\"#636efa\",\"pattern\":{\"shape\":\"\"}},\"name\":\"Renewables\",\"offsetgroup\":\"Renewables\",\"orientation\":\"v\",\"showlegend\":true,\"textposition\":\"auto\",\"x\":[2010,2011,2012,2013,2014,2015,2016,2017,2018,2019,2020,2021,2022],\"xaxis\":\"x\",\"y\":[971.987,1102.37,1351.56,1144.092,1297.0639999999999,1396.847,1444.7930000000001,1689.635,1828.663306,1940.04986,1767.320029,2978.015448,2557.737767],\"yaxis\":\"y\",\"type\":\"bar\"},{\"alignmentgroup\":\"True\",\"hovertemplate\":\"variable=Nuclear<br>COUNTRY=Estonia<br>Year=%{x}<br>Energy Production (GWh)=%{y}<extra></extra>\",\"legendgroup\":\"Nuclear\",\"marker\":{\"color\":\"#EF553B\",\"pattern\":{\"shape\":\"\"}},\"name\":\"Nuclear\",\"offsetgroup\":\"Nuclear\",\"orientation\":\"v\",\"showlegend\":true,\"textposition\":\"auto\",\"x\":[2010,2011,2012,2013,2014,2015,2016,2017,2018,2019,2020,2021,2022],\"xaxis\":\"x\",\"y\":[0.0,0.0,0.0,0.0,0.0,0.0,0.0,0.0,0.0,0.0,0.0,0.0,0.0],\"yaxis\":\"y\",\"type\":\"bar\"},{\"alignmentgroup\":\"True\",\"hovertemplate\":\"variable=Total combustible fuels<br>COUNTRY=Estonia<br>Year=%{x}<br>Energy Production (GWh)=%{y}<extra></extra>\",\"legendgroup\":\"Total combustible fuels\",\"marker\":{\"color\":\"#00cc96\",\"pattern\":{\"shape\":\"\"}},\"name\":\"Total combustible fuels\",\"offsetgroup\":\"Total combustible fuels\",\"orientation\":\"v\",\"showlegend\":true,\"textposition\":\"auto\",\"x\":[2010,2011,2012,2013,2014,2015,2016,2017,2018,2019,2020,2021,2022],\"xaxis\":\"x\",\"y\":[11428.001,11268.999,10051.0,11268.0,10382.0,8319.999,9795.002,10485.0,10251.000001,5820.600001,4163.023108,5582.817304,5224.265671],\"yaxis\":\"y\",\"type\":\"bar\"}],\"name\":\"Estonia\"},{\"data\":[{\"alignmentgroup\":\"True\",\"hovertemplate\":\"variable=Renewables<br>COUNTRY=Finland<br>Year=%{x}<br>Energy Production (GWh)=%{y}<extra></extra>\",\"legendgroup\":\"Renewables\",\"marker\":{\"color\":\"#636efa\",\"pattern\":{\"shape\":\"\"}},\"name\":\"Renewables\",\"offsetgroup\":\"Renewables\",\"orientation\":\"v\",\"showlegend\":true,\"textposition\":\"auto\",\"x\":[2010,2011,2012,2013,2014,2015,2016,2017,2018,2019,2020,2021,2022],\"xaxis\":\"x\",\"y\":[23435.425,23407.943,27777.686,24828.089,25509.815,29759.398,29614.757,30673.984,31229.926874,30976.8402,34769.604541,37048.768122,38975.054112],\"yaxis\":\"y\",\"type\":\"bar\"},{\"alignmentgroup\":\"True\",\"hovertemplate\":\"variable=Nuclear<br>COUNTRY=Finland<br>Year=%{x}<br>Energy Production (GWh)=%{y}<extra></extra>\",\"legendgroup\":\"Nuclear\",\"marker\":{\"color\":\"#EF553B\",\"pattern\":{\"shape\":\"\"}},\"name\":\"Nuclear\",\"offsetgroup\":\"Nuclear\",\"orientation\":\"v\",\"showlegend\":true,\"textposition\":\"auto\",\"x\":[2010,2011,2012,2013,2014,2015,2016,2017,2018,2019,2020,2021,2022],\"xaxis\":\"x\",\"y\":[21889.0,22266.0,22063.0,22673.001,22646.0,22325.999,22280.001,21573.999,21880.999999,22915.0,22354.0,22629.813964,24222.819643000003],\"yaxis\":\"y\",\"type\":\"bar\"},{\"alignmentgroup\":\"True\",\"hovertemplate\":\"variable=Total combustible fuels<br>COUNTRY=Finland<br>Year=%{x}<br>Energy Production (GWh)=%{y}<extra></extra>\",\"legendgroup\":\"Total combustible fuels\",\"marker\":{\"color\":\"#00cc96\",\"pattern\":{\"shape\":\"\"}},\"name\":\"Total combustible fuels\",\"offsetgroup\":\"Total combustible fuels\",\"orientation\":\"v\",\"showlegend\":true,\"textposition\":\"auto\",\"x\":[2010,2011,2012,2013,2014,2015,2016,2017,2018,2019,2020,2021,2022],\"xaxis\":\"x\",\"y\":[42000.0,35103.001,28178.999,31959.001,28185.998,24676.001,24949.997,23681.002,26346.000001,24496.000001,20232.945818,22580.441434,20121.997941],\"yaxis\":\"y\",\"type\":\"bar\"}],\"name\":\"Finland\"},{\"data\":[{\"alignmentgroup\":\"True\",\"hovertemplate\":\"variable=Renewables<br>COUNTRY=France<br>Year=%{x}<br>Energy Production (GWh)=%{y}<extra></extra>\",\"legendgroup\":\"Renewables\",\"marker\":{\"color\":\"#636efa\",\"pattern\":{\"shape\":\"\"}},\"name\":\"Renewables\",\"offsetgroup\":\"Renewables\",\"orientation\":\"v\",\"showlegend\":true,\"textposition\":\"auto\",\"x\":[2010,2011,2012,2013,2014,2015,2016,2017,2018,2019,2020,2021,2022],\"xaxis\":\"x\",\"y\":[81923.204,70281.812,89051.01999999999,103151.674,98533.057,95647.624,102600.669,96631.443,117591.126038,116574.619828,127848.102587,126118.62923600001,118082.833646],\"yaxis\":\"y\",\"type\":\"bar\"},{\"alignmentgroup\":\"True\",\"hovertemplate\":\"variable=Nuclear<br>COUNTRY=France<br>Year=%{x}<br>Energy Production (GWh)=%{y}<extra></extra>\",\"legendgroup\":\"Nuclear\",\"marker\":{\"color\":\"#EF553B\",\"pattern\":{\"shape\":\"\"}},\"name\":\"Nuclear\",\"offsetgroup\":\"Nuclear\",\"orientation\":\"v\",\"showlegend\":true,\"textposition\":\"auto\",\"x\":[2010,2011,2012,2013,2014,2015,2016,2017,2018,2019,2020,2021,2022],\"xaxis\":\"x\",\"y\":[407878.00100000005,421077.532,404880.016,403694.687,415861.772,416794.816,384008.124,379093.955,393134.32699800003,379464.0,335414.238,360703.658711,278961.291218],\"yaxis\":\"y\",\"type\":\"bar\"},{\"alignmentgroup\":\"True\",\"hovertemplate\":\"variable=Total combustible fuels<br>COUNTRY=France<br>Year=%{x}<br>Energy Production (GWh)=%{y}<extra></extra>\",\"legendgroup\":\"Total combustible fuels\",\"marker\":{\"color\":\"#00cc96\",\"pattern\":{\"shape\":\"\"}},\"name\":\"Total combustible fuels\",\"offsetgroup\":\"Total combustible fuels\",\"orientation\":\"v\",\"showlegend\":true,\"textposition\":\"auto\",\"x\":[2010,2011,2012,2013,2014,2015,2016,2017,2018,2019,2020,2021,2022],\"xaxis\":\"x\",\"y\":[58552.293999999994,61128.551,58314.733,55334.394,38956.388999999996,48112.436,60348.004,68753.152,54383.597056,58629.857002000004,53802.365001,58775.660782,63965.959688999996],\"yaxis\":\"y\",\"type\":\"bar\"}],\"name\":\"France\"},{\"data\":[{\"alignmentgroup\":\"True\",\"hovertemplate\":\"variable=Renewables<br>COUNTRY=Germany<br>Year=%{x}<br>Energy Production (GWh)=%{y}<extra></extra>\",\"legendgroup\":\"Renewables\",\"marker\":{\"color\":\"#636efa\",\"pattern\":{\"shape\":\"\"}},\"name\":\"Renewables\",\"offsetgroup\":\"Renewables\",\"orientation\":\"v\",\"showlegend\":true,\"textposition\":\"auto\",\"x\":[2010,2011,2012,2013,2014,2015,2016,2017,2018,2019,2020,2021,2022],\"xaxis\":\"x\",\"y\":[107981.966,125766.644,144484.215,153312.682,163281.499,188901.308,189697.468,216528.135,224773.155651,239316.758056,249594.712705,234913.659841,249975.215754],\"yaxis\":\"y\",\"type\":\"bar\"},{\"alignmentgroup\":\"True\",\"hovertemplate\":\"variable=Nuclear<br>COUNTRY=Germany<br>Year=%{x}<br>Energy Production (GWh)=%{y}<extra></extra>\",\"legendgroup\":\"Nuclear\",\"marker\":{\"color\":\"#EF553B\",\"pattern\":{\"shape\":\"\"}},\"name\":\"Nuclear\",\"offsetgroup\":\"Nuclear\",\"orientation\":\"v\",\"showlegend\":true,\"textposition\":\"auto\",\"x\":[2010,2011,2012,2013,2014,2015,2016,2017,2018,2019,2020,2021,2022],\"xaxis\":\"x\",\"y\":[132971.002,102241.0,94180.0,92127.0,91799.999,86765.0,80038.0,72155.0,71866.0,70992.0,60913.999998,65441.295274000004,32765.274321],\"yaxis\":\"y\",\"type\":\"bar\"},{\"alignmentgroup\":\"True\",\"hovertemplate\":\"variable=Total combustible fuels<br>COUNTRY=Germany<br>Year=%{x}<br>Energy Production (GWh)=%{y}<extra></extra>\",\"legendgroup\":\"Total combustible fuels\",\"marker\":{\"color\":\"#00cc96\",\"pattern\":{\"shape\":\"\"}},\"name\":\"Total combustible fuels\",\"offsetgroup\":\"Total combustible fuels\",\"orientation\":\"v\",\"showlegend\":true,\"textposition\":\"auto\",\"x\":[2010,2011,2012,2013,2014,2015,2016,2017,2018,2019,2020,2021,2022],\"xaxis\":\"x\",\"y\":[382985.0,380502.999,391208.001,396081.0,378653.999,379427.998,390146.00299999997,376115.004,358049.999998,310750.000002,280263.000001,309097.861641,313654.867906],\"yaxis\":\"y\",\"type\":\"bar\"}],\"name\":\"Germany\"},{\"data\":[{\"alignmentgroup\":\"True\",\"hovertemplate\":\"variable=Renewables<br>COUNTRY=Greece<br>Year=%{x}<br>Energy Production (GWh)=%{y}<extra></extra>\",\"legendgroup\":\"Renewables\",\"marker\":{\"color\":\"#636efa\",\"pattern\":{\"shape\":\"\"}},\"name\":\"Renewables\",\"offsetgroup\":\"Renewables\",\"orientation\":\"v\",\"showlegend\":true,\"textposition\":\"auto\",\"x\":[2010,2011,2012,2013,2014,2015,2016,2017,2018,2019,2020,2021,2022],\"xaxis\":\"x\",\"y\":[10501.954,8372.052,9424.246,14354.967,12274.448,14562.704,14886.334,13842.725,15435.686897,16071.374105,17947.702882999998,21757.676028,23116.005828],\"yaxis\":\"y\",\"type\":\"bar\"},{\"alignmentgroup\":\"True\",\"hovertemplate\":\"variable=Nuclear<br>COUNTRY=Greece<br>Year=%{x}<br>Energy Production (GWh)=%{y}<extra></extra>\",\"legendgroup\":\"Nuclear\",\"marker\":{\"color\":\"#EF553B\",\"pattern\":{\"shape\":\"\"}},\"name\":\"Nuclear\",\"offsetgroup\":\"Nuclear\",\"orientation\":\"v\",\"showlegend\":true,\"textposition\":\"auto\",\"x\":[2010,2011,2012,2013,2014,2015,2016,2017,2018,2019,2020,2021,2022],\"xaxis\":\"x\",\"y\":[0.0,0.0,0.0,0.0,0.0,0.0,0.0,0.0,0.0,0.0,0.0,0.0,0.0],\"yaxis\":\"y\",\"type\":\"bar\"},{\"alignmentgroup\":\"True\",\"hovertemplate\":\"variable=Total combustible fuels<br>COUNTRY=Greece<br>Year=%{x}<br>Energy Production (GWh)=%{y}<extra></extra>\",\"legendgroup\":\"Total combustible fuels\",\"marker\":{\"color\":\"#00cc96\",\"pattern\":{\"shape\":\"\"}},\"name\":\"Total combustible fuels\",\"offsetgroup\":\"Total combustible fuels\",\"orientation\":\"v\",\"showlegend\":true,\"textposition\":\"auto\",\"x\":[2010,2011,2012,2013,2014,2015,2016,2017,2018,2019,2020,2021,2022],\"xaxis\":\"x\",\"y\":[43061.0,45726.0,44408.001000000004,38398.0,34626.0,33451.001000000004,35586.001,37021.75,34941.296001,29850.773001,25425.938426,30999.432769,26791.601629],\"yaxis\":\"y\",\"type\":\"bar\"}],\"name\":\"Greece\"},{\"data\":[{\"alignmentgroup\":\"True\",\"hovertemplate\":\"variable=Renewables<br>COUNTRY=Hungary<br>Year=%{x}<br>Energy Production (GWh)=%{y}<extra></extra>\",\"legendgroup\":\"Renewables\",\"marker\":{\"color\":\"#636efa\",\"pattern\":{\"shape\":\"\"}},\"name\":\"Renewables\",\"offsetgroup\":\"Renewables\",\"orientation\":\"v\",\"showlegend\":true,\"textposition\":\"auto\",\"x\":[2010,2011,2012,2013,2014,2015,2016,2017,2018,2019,2020,2021,2022],\"xaxis\":\"x\",\"y\":[2808.989,2544.2889999999998,2495.515,2586.858,2892.04,2989.11,3027.353,3274.518,3536.94958,4468.061637,5327.579371,6848.4823750000005,7300.052959],\"yaxis\":\"y\",\"type\":\"bar\"},{\"alignmentgroup\":\"True\",\"hovertemplate\":\"variable=Nuclear<br>COUNTRY=Hungary<br>Year=%{x}<br>Energy Production (GWh)=%{y}<extra></extra>\",\"legendgroup\":\"Nuclear\",\"marker\":{\"color\":\"#EF553B\",\"pattern\":{\"shape\":\"\"}},\"name\":\"Nuclear\",\"offsetgroup\":\"Nuclear\",\"orientation\":\"v\",\"showlegend\":true,\"textposition\":\"auto\",\"x\":[2010,2011,2012,2013,2014,2015,2016,2017,2018,2019,2020,2021,2022],\"xaxis\":\"x\",\"y\":[14799.001,14711.001,14818.0,14438.999,14778.0,14955.999,15162.0,15215.0,14855.0,15402.000001,15172.000002,15110.007511,14944.495278],\"yaxis\":\"y\",\"type\":\"bar\"},{\"alignmentgroup\":\"True\",\"hovertemplate\":\"variable=Total combustible fuels<br>COUNTRY=Hungary<br>Year=%{x}<br>Energy Production (GWh)=%{y}<extra></extra>\",\"legendgroup\":\"Total combustible fuels\",\"marker\":{\"color\":\"#00cc96\",\"pattern\":{\"shape\":\"\"}},\"name\":\"Total combustible fuels\",\"offsetgroup\":\"Total combustible fuels\",\"orientation\":\"v\",\"showlegend\":true,\"textposition\":\"auto\",\"x\":[2010,2011,2012,2013,2014,2015,2016,2017,2018,2019,2020,2021,2022],\"xaxis\":\"x\",\"y\":[19106.0,17994.999,16574.001,12637.0,11320.999,12100.0,13155.997,14110.002,13449.000001,14217.000002,14286.0,14193.165821,13289.10734],\"yaxis\":\"y\",\"type\":\"bar\"}],\"name\":\"Hungary\"},{\"data\":[{\"alignmentgroup\":\"True\",\"hovertemplate\":\"variable=Renewables<br>COUNTRY=IEA Total<br>Year=%{x}<br>Energy Production (GWh)=%{y}<extra></extra>\",\"legendgroup\":\"Renewables\",\"marker\":{\"color\":\"#636efa\",\"pattern\":{\"shape\":\"\"}},\"name\":\"Renewables\",\"offsetgroup\":\"Renewables\",\"orientation\":\"v\",\"showlegend\":true,\"textposition\":\"auto\",\"x\":[2010,2011,2012,2013,2014,2015,2016,2017,2018,2019,2020,2021,2022],\"xaxis\":\"x\",\"y\":[1912547.6260000002,2038175.736,2142631.108,2270885.688,2332474.781,2438357.519311,2559313.377866,2688748.177663,2811218.612365,2912425.566302,3109925.543598,3221327.644434,3391523.393563],\"yaxis\":\"y\",\"type\":\"bar\"},{\"alignmentgroup\":\"True\",\"hovertemplate\":\"variable=Nuclear<br>COUNTRY=IEA Total<br>Year=%{x}<br>Energy Production (GWh)=%{y}<extra></extra>\",\"legendgroup\":\"Nuclear\",\"marker\":{\"color\":\"#EF553B\",\"pattern\":{\"shape\":\"\"}},\"name\":\"Nuclear\",\"offsetgroup\":\"Nuclear\",\"orientation\":\"v\",\"showlegend\":true,\"textposition\":\"auto\",\"x\":[2010,2011,2012,2013,2014,2015,2016,2017,2018,2019,2020,2021,2022],\"xaxis\":\"x\",\"y\":[2181222.605,2041867.956,1855575.296,1867811.523,1882241.775,1868833.994,1865852.171,1854296.024,1867209.419954,1891313.59427,1773073.964904,1812912.247121,1695683.847461],\"yaxis\":\"y\",\"type\":\"bar\"},{\"alignmentgroup\":\"True\",\"hovertemplate\":\"variable=Total combustible fuels<br>COUNTRY=IEA Total<br>Year=%{x}<br>Energy Production (GWh)=%{y}<extra></extra>\",\"legendgroup\":\"Total combustible fuels\",\"marker\":{\"color\":\"#00cc96\",\"pattern\":{\"shape\":\"\"}},\"name\":\"Total combustible fuels\",\"offsetgroup\":\"Total combustible fuels\",\"orientation\":\"v\",\"showlegend\":true,\"textposition\":\"auto\",\"x\":[2010,2011,2012,2013,2014,2015,2016,2017,2018,2019,2020,2021,2022],\"xaxis\":\"x\",\"y\":[6410080.916,6398424.195,6488511.4629999995,6354139.233,6269516.961,6228698.884641,6182170.4443500005,6103313.757406,6174842.903728,5903687.811668,5554970.1332950005,5727429.765043,5777740.954236],\"yaxis\":\"y\",\"type\":\"bar\"}],\"name\":\"IEA Total\"},{\"data\":[{\"alignmentgroup\":\"True\",\"hovertemplate\":\"variable=Renewables<br>COUNTRY=Iceland<br>Year=%{x}<br>Energy Production (GWh)=%{y}<extra></extra>\",\"legendgroup\":\"Renewables\",\"marker\":{\"color\":\"#636efa\",\"pattern\":{\"shape\":\"\"}},\"name\":\"Renewables\",\"offsetgroup\":\"Renewables\",\"orientation\":\"v\",\"showlegend\":true,\"textposition\":\"auto\",\"x\":[2010,2011,2012,2013,2014,2015,2016,2017,2018,2019,2020,2021,2022],\"xaxis\":\"x\",\"y\":[16743.999,16848.998,17292.999,17995.0,17800.0,18554.002,18168.608,18844.21,19430.622999,19117.132000999998,18775.627002,19260.528452,19745.66915],\"yaxis\":\"y\",\"type\":\"bar\"},{\"alignmentgroup\":\"True\",\"hovertemplate\":\"variable=Nuclear<br>COUNTRY=Iceland<br>Year=%{x}<br>Energy Production (GWh)=%{y}<extra></extra>\",\"legendgroup\":\"Nuclear\",\"marker\":{\"color\":\"#EF553B\",\"pattern\":{\"shape\":\"\"}},\"name\":\"Nuclear\",\"offsetgroup\":\"Nuclear\",\"orientation\":\"v\",\"showlegend\":true,\"textposition\":\"auto\",\"x\":[2010,2011,2012,2013,2014,2015,2016,2017,2018,2019,2020,2021,2022],\"xaxis\":\"x\",\"y\":[0.0,0.0,0.0,0.0,0.0,0.0,0.0,0.0,0.0,0.0,0.0,0.0,0.0],\"yaxis\":\"y\",\"type\":\"bar\"},{\"alignmentgroup\":\"True\",\"hovertemplate\":\"variable=Total combustible fuels<br>COUNTRY=Iceland<br>Year=%{x}<br>Energy Production (GWh)=%{y}<extra></extra>\",\"legendgroup\":\"Total combustible fuels\",\"marker\":{\"color\":\"#00cc96\",\"pattern\":{\"shape\":\"\"}},\"name\":\"Total combustible fuels\",\"offsetgroup\":\"Total combustible fuels\",\"orientation\":\"v\",\"showlegend\":true,\"textposition\":\"auto\",\"x\":[2010,2011,2012,2013,2014,2015,2016,2017,2018,2019,2020,2021,2022],\"xaxis\":\"x\",\"y\":[2.004,2.0,3.0,4.998,3.0,3.9989999999999997,3.0,2.085,1.874998,2.661,3.0669999999999997,2.4598020000000003,2.943],\"yaxis\":\"y\",\"type\":\"bar\"}],\"name\":\"Iceland\"},{\"data\":[{\"alignmentgroup\":\"True\",\"hovertemplate\":\"variable=Renewables<br>COUNTRY=India<br>Year=%{x}<br>Energy Production (GWh)=%{y}<extra></extra>\",\"legendgroup\":\"Renewables\",\"marker\":{\"color\":\"#636efa\",\"pattern\":{\"shape\":\"\"}},\"name\":\"Renewables\",\"offsetgroup\":\"Renewables\",\"orientation\":\"v\",\"showlegend\":true,\"textposition\":\"auto\",\"x\":[2015,2016,2017,2018,2019,2020,2021,2022],\"xaxis\":\"x\",\"y\":[189413.208691,230497.902364,244981.875789,274527.322742,310518.426998,324222.356117,340580.48552,375263.008789],\"yaxis\":\"y\",\"type\":\"bar\"},{\"alignmentgroup\":\"True\",\"hovertemplate\":\"variable=Nuclear<br>COUNTRY=India<br>Year=%{x}<br>Energy Production (GWh)=%{y}<extra></extra>\",\"legendgroup\":\"Nuclear\",\"marker\":{\"color\":\"#EF553B\",\"pattern\":{\"shape\":\"\"}},\"name\":\"Nuclear\",\"offsetgroup\":\"Nuclear\",\"orientation\":\"v\",\"showlegend\":true,\"textposition\":\"auto\",\"x\":[2015,2016,2017,2018,2019,2020,2021,2022],\"xaxis\":\"x\",\"y\":[36158.280103,35760.205132,35326.443863,36707.667708,42449.401366,42063.212379,41407.784799,43422.9992],\"yaxis\":\"y\",\"type\":\"bar\"},{\"alignmentgroup\":\"True\",\"hovertemplate\":\"variable=Total combustible fuels<br>COUNTRY=India<br>Year=%{x}<br>Energy Production (GWh)=%{y}<extra></extra>\",\"legendgroup\":\"Total combustible fuels\",\"marker\":{\"color\":\"#00cc96\",\"pattern\":{\"shape\":\"\"}},\"name\":\"Total combustible fuels\",\"offsetgroup\":\"Total combustible fuels\",\"orientation\":\"v\",\"showlegend\":true,\"textposition\":\"auto\",\"x\":[2015,2016,2017,2018,2019,2020,2021,2022],\"xaxis\":\"x\",\"y\":[992734.84854,1120370.278584,1151146.377724,1237362.1357,1210896.451961,1167108.841222,1273312.698388,1263699.967528],\"yaxis\":\"y\",\"type\":\"bar\"}],\"name\":\"India\"},{\"data\":[{\"alignmentgroup\":\"True\",\"hovertemplate\":\"variable=Renewables<br>COUNTRY=Ireland<br>Year=%{x}<br>Energy Production (GWh)=%{y}<extra></extra>\",\"legendgroup\":\"Renewables\",\"marker\":{\"color\":\"#636efa\",\"pattern\":{\"shape\":\"\"}},\"name\":\"Renewables\",\"offsetgroup\":\"Renewables\",\"orientation\":\"v\",\"showlegend\":true,\"textposition\":\"auto\",\"x\":[2010,2011,2012,2013,2014,2015,2016,2017,2018,2019,2020,2021,2022],\"xaxis\":\"x\",\"y\":[3886.1059999999998,5404.206,5440.341,5943.618,6640.248,8123.493,7771.718,9050.607,10396.352581,12002.999453,13725.098410999999,11731.740322,13856.114475],\"yaxis\":\"y\",\"type\":\"bar\"},{\"alignmentgroup\":\"True\",\"hovertemplate\":\"variable=Nuclear<br>COUNTRY=Ireland<br>Year=%{x}<br>Energy Production (GWh)=%{y}<extra></extra>\",\"legendgroup\":\"Nuclear\",\"marker\":{\"color\":\"#EF553B\",\"pattern\":{\"shape\":\"\"}},\"name\":\"Nuclear\",\"offsetgroup\":\"Nuclear\",\"orientation\":\"v\",\"showlegend\":true,\"textposition\":\"auto\",\"x\":[2010,2011,2012,2013,2014,2015,2016,2017,2018,2019,2020,2021,2022],\"xaxis\":\"x\",\"y\":[0.0,0.0,0.0,0.0,0.0,0.0,0.0,0.0,0.0,0.0,0.0,0.0,0.0],\"yaxis\":\"y\",\"type\":\"bar\"},{\"alignmentgroup\":\"True\",\"hovertemplate\":\"variable=Total combustible fuels<br>COUNTRY=Ireland<br>Year=%{x}<br>Energy Production (GWh)=%{y}<extra></extra>\",\"legendgroup\":\"Total combustible fuels\",\"marker\":{\"color\":\"#00cc96\",\"pattern\":{\"shape\":\"\"}},\"name\":\"Total combustible fuels\",\"offsetgroup\":\"Total combustible fuels\",\"orientation\":\"v\",\"showlegend\":true,\"textposition\":\"auto\",\"x\":[2010,2011,2012,2013,2014,2015,2016,2017,2018,2019,2020,2021,2022],\"xaxis\":\"x\",\"y\":[23858.392,21285.041,21464.357,19639.578,19192.642,19962.933,22575.529,21751.886000000002,20773.890999,19094.546,18695.048999,23276.228928,20472.375782],\"yaxis\":\"y\",\"type\":\"bar\"}],\"name\":\"Ireland\"},{\"data\":[{\"alignmentgroup\":\"True\",\"hovertemplate\":\"variable=Renewables<br>COUNTRY=Italy<br>Year=%{x}<br>Energy Production (GWh)=%{y}<extra></extra>\",\"legendgroup\":\"Renewables\",\"marker\":{\"color\":\"#636efa\",\"pattern\":{\"shape\":\"\"}},\"name\":\"Renewables\",\"offsetgroup\":\"Renewables\",\"orientation\":\"v\",\"showlegend\":true,\"textposition\":\"auto\",\"x\":[2010,2011,2012,2013,2014,2015,2016,2017,2018,2019,2020,2021,2022],\"xaxis\":\"x\",\"y\":[78785.184,83318.159,92377.523,111672.887,119834.336,108039.839,107598.961,103493.942,113831.132686,115359.668468,116594.554235,116313.906562,102165.186896],\"yaxis\":\"y\",\"type\":\"bar\"},{\"alignmentgroup\":\"True\",\"hovertemplate\":\"variable=Nuclear<br>COUNTRY=Italy<br>Year=%{x}<br>Energy Production (GWh)=%{y}<extra></extra>\",\"legendgroup\":\"Nuclear\",\"marker\":{\"color\":\"#EF553B\",\"pattern\":{\"shape\":\"\"}},\"name\":\"Nuclear\",\"offsetgroup\":\"Nuclear\",\"orientation\":\"v\",\"showlegend\":true,\"textposition\":\"auto\",\"x\":[2010,2011,2012,2013,2014,2015,2016,2017,2018,2019,2020,2021,2022],\"xaxis\":\"x\",\"y\":[0.0,0.0,0.0,0.0,0.0,0.0,0.0,0.0,0.0,0.0,0.0,0.0,0.0],\"yaxis\":\"y\",\"type\":\"bar\"},{\"alignmentgroup\":\"True\",\"hovertemplate\":\"variable=Total combustible fuels<br>COUNTRY=Italy<br>Year=%{x}<br>Energy Production (GWh)=%{y}<extra></extra>\",\"legendgroup\":\"Total combustible fuels\",\"marker\":{\"color\":\"#00cc96\",\"pattern\":{\"shape\":\"\"}},\"name\":\"Total combustible fuels\",\"offsetgroup\":\"Total combustible fuels\",\"orientation\":\"v\",\"showlegend\":true,\"textposition\":\"auto\",\"x\":[2010,2011,2012,2013,2014,2015,2016,2017,2018,2019,2020,2021,2022],\"xaxis\":\"x\",\"y\":[220242.0,217707.999,206603.999,182683.0,166445.001,182321.999,190121.0,199722.444,183803.153,186747.629,173464.227001,178613.564502,194506.20908499998],\"yaxis\":\"y\",\"type\":\"bar\"}],\"name\":\"Italy\"},{\"data\":[{\"alignmentgroup\":\"True\",\"hovertemplate\":\"variable=Renewables<br>COUNTRY=Japan<br>Year=%{x}<br>Energy Production (GWh)=%{y}<extra></extra>\",\"legendgroup\":\"Renewables\",\"marker\":{\"color\":\"#636efa\",\"pattern\":{\"shape\":\"\"}},\"name\":\"Renewables\",\"offsetgroup\":\"Renewables\",\"orientation\":\"v\",\"showlegend\":true,\"textposition\":\"auto\",\"x\":[2010,2011,2012,2013,2014,2015,2016,2017,2018,2019,2020,2021,2022],\"xaxis\":\"x\",\"y\":[116146.16,116207.927,112872.466,119508.389,127801.768,151668.684,155914.21600000001,170723.842,183435.188683,180144.999527,198895.040911,213813.716219,222755.341553],\"yaxis\":\"y\",\"type\":\"bar\"},{\"alignmentgroup\":\"True\",\"hovertemplate\":\"variable=Nuclear<br>COUNTRY=Japan<br>Year=%{x}<br>Energy Production (GWh)=%{y}<extra></extra>\",\"legendgroup\":\"Nuclear\",\"marker\":{\"color\":\"#EF553B\",\"pattern\":{\"shape\":\"\"}},\"name\":\"Nuclear\",\"offsetgroup\":\"Nuclear\",\"orientation\":\"v\",\"showlegend\":true,\"textposition\":\"auto\",\"x\":[2010,2011,2012,2013,2014,2015,2016,2017,2018,2019,2020,2021,2022],\"xaxis\":\"x\",\"y\":[278364.595,153375.423,15121.278,10432.836,0.0,3240.625,14869.062,27751.517,47858.632954,63878.788269,42439.837188,61094.686595,51714.184529],\"yaxis\":\"y\",\"type\":\"bar\"},{\"alignmentgroup\":\"True\",\"hovertemplate\":\"variable=Total combustible fuels<br>COUNTRY=Japan<br>Year=%{x}<br>Energy Production (GWh)=%{y}<extra></extra>\",\"legendgroup\":\"Total combustible fuels\",\"marker\":{\"color\":\"#00cc96\",\"pattern\":{\"shape\":\"\"}},\"name\":\"Total combustible fuels\",\"offsetgroup\":\"Total combustible fuels\",\"orientation\":\"v\",\"showlegend\":true,\"textposition\":\"auto\",\"x\":[2010,2011,2012,2013,2014,2015,2016,2017,2018,2019,2020,2021,2022],\"xaxis\":\"x\",\"y\":[711932.093,798366.486,943309.371,921792.895,916433.541,875493.701,856638.696,833573.334,826996.282683,764875.1846789999,737288.309593,728577.7164060001,744497.391412],\"yaxis\":\"y\",\"type\":\"bar\"}],\"name\":\"Japan\"},{\"data\":[{\"alignmentgroup\":\"True\",\"hovertemplate\":\"variable=Renewables<br>COUNTRY=Korea<br>Year=%{x}<br>Energy Production (GWh)=%{y}<extra></extra>\",\"legendgroup\":\"Renewables\",\"marker\":{\"color\":\"#636efa\",\"pattern\":{\"shape\":\"\"}},\"name\":\"Renewables\",\"offsetgroup\":\"Renewables\",\"orientation\":\"v\",\"showlegend\":true,\"textposition\":\"auto\",\"x\":[2010,2011,2012,2013,2014,2015,2016,2017,2018,2019,2020,2021,2022],\"xaxis\":\"x\",\"y\":[8877.013,10592.774,10578.65,12751.641,13490.703,14044.562,19144.339,22590.316,26592.16744,30515.950582999998,36661.79226,41941.465012,50576.365896999996],\"yaxis\":\"y\",\"type\":\"bar\"},{\"alignmentgroup\":\"True\",\"hovertemplate\":\"variable=Nuclear<br>COUNTRY=Korea<br>Year=%{x}<br>Energy Production (GWh)=%{y}<extra></extra>\",\"legendgroup\":\"Nuclear\",\"marker\":{\"color\":\"#EF553B\",\"pattern\":{\"shape\":\"\"}},\"name\":\"Nuclear\",\"offsetgroup\":\"Nuclear\",\"orientation\":\"v\",\"showlegend\":true,\"textposition\":\"auto\",\"x\":[2010,2011,2012,2013,2014,2015,2016,2017,2018,2019,2020,2021,2022],\"xaxis\":\"x\",\"y\":[141894.001,147763.0,143548.0,132465.0,149165.001,157161.0,154195.001,141278.286,127077.898001,138679.204,152583.935999,150456.549001,166924.625678],\"yaxis\":\"y\",\"type\":\"bar\"},{\"alignmentgroup\":\"True\",\"hovertemplate\":\"variable=Total combustible fuels<br>COUNTRY=Korea<br>Year=%{x}<br>Energy Production (GWh)=%{y}<extra></extra>\",\"legendgroup\":\"Total combustible fuels\",\"marker\":{\"color\":\"#00cc96\",\"pattern\":{\"shape\":\"\"}},\"name\":\"Total combustible fuels\",\"offsetgroup\":\"Total combustible fuels\",\"orientation\":\"v\",\"showlegend\":true,\"textposition\":\"auto\",\"x\":[2010,2011,2012,2013,2014,2015,2016,2017,2018,2019,2020,2021,2022],\"xaxis\":\"x\",\"y\":[330155.001,345407.999,360783.0,376741.999,367899.002,359110.999,370979.004,386217.601,418508.641004,395660.755,372071.291001,354664.572001,353410.164293],\"yaxis\":\"y\",\"type\":\"bar\"}],\"name\":\"Korea\"},{\"data\":[{\"alignmentgroup\":\"True\",\"hovertemplate\":\"variable=Renewables<br>COUNTRY=Latvia<br>Year=%{x}<br>Energy Production (GWh)=%{y}<extra></extra>\",\"legendgroup\":\"Renewables\",\"marker\":{\"color\":\"#636efa\",\"pattern\":{\"shape\":\"\"}},\"name\":\"Renewables\",\"offsetgroup\":\"Renewables\",\"orientation\":\"v\",\"showlegend\":true,\"textposition\":\"auto\",\"x\":[2010,2011,2012,2013,2014,2015,2016,2017,2018,2019,2020,2021,2022],\"xaxis\":\"x\",\"y\":[3591.35,3026.934,4026.901,3406.183,2678.8650000000002,2664.2019999999998,3365.527,5285.859,3368.392077,3072.744984,3551.6035,3578.7376050000003,3656.4349660000003],\"yaxis\":\"y\",\"type\":\"bar\"},{\"alignmentgroup\":\"True\",\"hovertemplate\":\"variable=Nuclear<br>COUNTRY=Latvia<br>Year=%{x}<br>Energy Production (GWh)=%{y}<extra></extra>\",\"legendgroup\":\"Nuclear\",\"marker\":{\"color\":\"#EF553B\",\"pattern\":{\"shape\":\"\"}},\"name\":\"Nuclear\",\"offsetgroup\":\"Nuclear\",\"orientation\":\"v\",\"showlegend\":true,\"textposition\":\"auto\",\"x\":[2010,2011,2012,2013,2014,2015,2016,2017,2018,2019,2020,2021,2022],\"xaxis\":\"x\",\"y\":[0.0,0.0,0.0,0.0,0.0,0.0,0.0,0.0,0.0,0.0,0.0,0.0,0.0],\"yaxis\":\"y\",\"type\":\"bar\"},{\"alignmentgroup\":\"True\",\"hovertemplate\":\"variable=Total combustible fuels<br>COUNTRY=Latvia<br>Year=%{x}<br>Energy Production (GWh)=%{y}<extra></extra>\",\"legendgroup\":\"Total combustible fuels\",\"marker\":{\"color\":\"#00cc96\",\"pattern\":{\"shape\":\"\"}},\"name\":\"Total combustible fuels\",\"offsetgroup\":\"Total combustible fuels\",\"orientation\":\"v\",\"showlegend\":true,\"textposition\":\"auto\",\"x\":[2010,2011,2012,2013,2014,2015,2016,2017,2018,2019,2020,2021,2022],\"xaxis\":\"x\",\"y\":[2531.999,2637.0,1929.001,2842.999,2640.999,3106.0009999999997,3277.0,2519.809,3663.77634,3695.446085,2677.731737,2705.216918,1839.904194],\"yaxis\":\"y\",\"type\":\"bar\"}],\"name\":\"Latvia\"},{\"data\":[{\"alignmentgroup\":\"True\",\"hovertemplate\":\"variable=Renewables<br>COUNTRY=Lithuania<br>Year=%{x}<br>Energy Production (GWh)=%{y}<extra></extra>\",\"legendgroup\":\"Renewables\",\"marker\":{\"color\":\"#636efa\",\"pattern\":{\"shape\":\"\"}},\"name\":\"Renewables\",\"offsetgroup\":\"Renewables\",\"orientation\":\"v\",\"showlegend\":true,\"textposition\":\"auto\",\"x\":[2010,2011,2012,2013,2014,2015,2016,2017,2018,2019,2020,2021,2022],\"xaxis\":\"x\",\"y\":[1631.254,1650.941,1656.085,2018.798,2141.92,2297.486,2616.324,3031.148,2625.235035,2963.517518,3076.48411,3039.893571,2932.293548],\"yaxis\":\"y\",\"type\":\"bar\"},{\"alignmentgroup\":\"True\",\"hovertemplate\":\"variable=Nuclear<br>COUNTRY=Lithuania<br>Year=%{x}<br>Energy Production (GWh)=%{y}<extra></extra>\",\"legendgroup\":\"Nuclear\",\"marker\":{\"color\":\"#EF553B\",\"pattern\":{\"shape\":\"\"}},\"name\":\"Nuclear\",\"offsetgroup\":\"Nuclear\",\"orientation\":\"v\",\"showlegend\":true,\"textposition\":\"auto\",\"x\":[2010,2011,2012,2013,2014,2015,2016,2017,2018,2019,2020,2021,2022],\"xaxis\":\"x\",\"y\":[0.0,0.0,0.0,0.0,0.0,0.0,0.0,0.0,0.0,0.0,0.0,0.0,0.0],\"yaxis\":\"y\",\"type\":\"bar\"},{\"alignmentgroup\":\"True\",\"hovertemplate\":\"variable=Total combustible fuels<br>COUNTRY=Lithuania<br>Year=%{x}<br>Energy Production (GWh)=%{y}<extra></extra>\",\"legendgroup\":\"Total combustible fuels\",\"marker\":{\"color\":\"#00cc96\",\"pattern\":{\"shape\":\"\"}},\"name\":\"Total combustible fuels\",\"offsetgroup\":\"Total combustible fuels\",\"orientation\":\"v\",\"showlegend\":true,\"textposition\":\"auto\",\"x\":[2010,2011,2012,2013,2014,2015,2016,2017,2018,2019,2020,2021,2022],\"xaxis\":\"x\",\"y\":[3608.0,2685.001,3011.999,2524.9990000000003,2130.0,2533.0,1566.001,1165.3,929.2000009999999,1050.4,2355.299999,1852.515562,1628.261209],\"yaxis\":\"y\",\"type\":\"bar\"}],\"name\":\"Lithuania\"},{\"data\":[{\"alignmentgroup\":\"True\",\"hovertemplate\":\"variable=Renewables<br>COUNTRY=Luxembourg<br>Year=%{x}<br>Energy Production (GWh)=%{y}<extra></extra>\",\"legendgroup\":\"Renewables\",\"marker\":{\"color\":\"#636efa\",\"pattern\":{\"shape\":\"\"}},\"name\":\"Renewables\",\"offsetgroup\":\"Renewables\",\"orientation\":\"v\",\"showlegend\":true,\"textposition\":\"auto\",\"x\":[2010,2011,2012,2013,2014,2015,2016,2017,2018,2019,2020,2021,2022],\"xaxis\":\"x\",\"y\":[1617.06,1306.914,1355.914,1395.246,1446.538,1848.759,1852.729,1918.857,1909.704624,1617.579315,1961.972683,2013.826948,2014.630064],\"yaxis\":\"y\",\"type\":\"bar\"},{\"alignmentgroup\":\"True\",\"hovertemplate\":\"variable=Nuclear<br>COUNTRY=Luxembourg<br>Year=%{x}<br>Energy Production (GWh)=%{y}<extra></extra>\",\"legendgroup\":\"Nuclear\",\"marker\":{\"color\":\"#EF553B\",\"pattern\":{\"shape\":\"\"}},\"name\":\"Nuclear\",\"offsetgroup\":\"Nuclear\",\"orientation\":\"v\",\"showlegend\":true,\"textposition\":\"auto\",\"x\":[2010,2011,2012,2013,2014,2015,2016,2017,2018,2019,2020,2021,2022],\"xaxis\":\"x\",\"y\":[0.0,0.0,0.0,0.0,0.0,0.0,0.0,0.0,0.0,0.0,0.0,0.0,0.0],\"yaxis\":\"y\",\"type\":\"bar\"},{\"alignmentgroup\":\"True\",\"hovertemplate\":\"variable=Total combustible fuels<br>COUNTRY=Luxembourg<br>Year=%{x}<br>Energy Production (GWh)=%{y}<extra></extra>\",\"legendgroup\":\"Total combustible fuels\",\"marker\":{\"color\":\"#00cc96\",\"pattern\":{\"shape\":\"\"}},\"name\":\"Total combustible fuels\",\"offsetgroup\":\"Total combustible fuels\",\"orientation\":\"v\",\"showlegend\":true,\"textposition\":\"auto\",\"x\":[2010,2011,2012,2013,2014,2015,2016,2017,2018,2019,2020,2021,2022],\"xaxis\":\"x\",\"y\":[3027.39,2479.419,2524.3360000000002,1558.385,1605.1109999999999,1012.691,449.25800000000004,449.96,470.301844,527.830205,608.275306,640.106382,514.403965],\"yaxis\":\"y\",\"type\":\"bar\"}],\"name\":\"Luxembourg\"},{\"data\":[{\"alignmentgroup\":\"True\",\"hovertemplate\":\"variable=Renewables<br>COUNTRY=Malta<br>Year=%{x}<br>Energy Production (GWh)=%{y}<extra></extra>\",\"legendgroup\":\"Renewables\",\"marker\":{\"color\":\"#636efa\",\"pattern\":{\"shape\":\"\"}},\"name\":\"Renewables\",\"offsetgroup\":\"Renewables\",\"orientation\":\"v\",\"showlegend\":true,\"textposition\":\"auto\",\"x\":[2015,2016,2017,2018,2019,2020,2021,2022],\"xaxis\":\"x\",\"y\":[101.618,135.617,171.676,197.520292,201.757092,237.073837,237.073837,255.946001],\"yaxis\":\"y\",\"type\":\"bar\"},{\"alignmentgroup\":\"True\",\"hovertemplate\":\"variable=Nuclear<br>COUNTRY=Malta<br>Year=%{x}<br>Energy Production (GWh)=%{y}<extra></extra>\",\"legendgroup\":\"Nuclear\",\"marker\":{\"color\":\"#EF553B\",\"pattern\":{\"shape\":\"\"}},\"name\":\"Nuclear\",\"offsetgroup\":\"Nuclear\",\"orientation\":\"v\",\"showlegend\":true,\"textposition\":\"auto\",\"x\":[2015,2016,2017,2018,2019,2020,2021,2022],\"xaxis\":\"x\",\"y\":[0.0,0.0,0.0,0.0,0.0,0.0,0.0,0.0],\"yaxis\":\"y\",\"type\":\"bar\"},{\"alignmentgroup\":\"True\",\"hovertemplate\":\"variable=Total combustible fuels<br>COUNTRY=Malta<br>Year=%{x}<br>Energy Production (GWh)=%{y}<extra></extra>\",\"legendgroup\":\"Total combustible fuels\",\"marker\":{\"color\":\"#00cc96\",\"pattern\":{\"shape\":\"\"}},\"name\":\"Total combustible fuels\",\"offsetgroup\":\"Total combustible fuels\",\"orientation\":\"v\",\"showlegend\":true,\"textposition\":\"auto\",\"x\":[2015,2016,2017,2018,2019,2020,2021,2022],\"xaxis\":\"x\",\"y\":[1146.0,678.5980000000001,1440.1970000000001,1716.49,1799.5622700000001,1838.204449,1848.047973,1945.704238],\"yaxis\":\"y\",\"type\":\"bar\"}],\"name\":\"Malta\"},{\"data\":[{\"alignmentgroup\":\"True\",\"hovertemplate\":\"variable=Renewables<br>COUNTRY=Mexico<br>Year=%{x}<br>Energy Production (GWh)=%{y}<extra></extra>\",\"legendgroup\":\"Renewables\",\"marker\":{\"color\":\"#636efa\",\"pattern\":{\"shape\":\"\"}},\"name\":\"Renewables\",\"offsetgroup\":\"Renewables\",\"orientation\":\"v\",\"showlegend\":true,\"textposition\":\"auto\",\"x\":[2010,2011,2012,2013,2014,2015,2016,2017,2018,2019,2020,2021,2022],\"xaxis\":\"x\",\"y\":[45046.671,44372.956,41661.373,38894.262,52118.08,46579.933,47338.895,50332.339,53709.708965,54356.199525,62741.588902,74332.190331,74114.390265],\"yaxis\":\"y\",\"type\":\"bar\"},{\"alignmentgroup\":\"True\",\"hovertemplate\":\"variable=Nuclear<br>COUNTRY=Mexico<br>Year=%{x}<br>Energy Production (GWh)=%{y}<extra></extra>\",\"legendgroup\":\"Nuclear\",\"marker\":{\"color\":\"#EF553B\",\"pattern\":{\"shape\":\"\"}},\"name\":\"Nuclear\",\"offsetgroup\":\"Nuclear\",\"orientation\":\"v\",\"showlegend\":true,\"textposition\":\"auto\",\"x\":[2010,2011,2012,2013,2014,2015,2016,2017,2018,2019,2020,2021,2022],\"xaxis\":\"x\",\"y\":[5661.0,9662.999,8409.0,11377.001,9303.0,11177.001,10271.999,10572.003,13317.000001,10881.0,10866.3479,11432.554308,10401.088265],\"yaxis\":\"y\",\"type\":\"bar\"},{\"alignmentgroup\":\"True\",\"hovertemplate\":\"variable=Total combustible fuels<br>COUNTRY=Mexico<br>Year=%{x}<br>Energy Production (GWh)=%{y}<extra></extra>\",\"legendgroup\":\"Total combustible fuels\",\"marker\":{\"color\":\"#00cc96\",\"pattern\":{\"shape\":\"\"}},\"name\":\"Total combustible fuels\",\"offsetgroup\":\"Total combustible fuels\",\"orientation\":\"v\",\"showlegend\":true,\"textposition\":\"auto\",\"x\":[2010,2011,2012,2013,2014,2015,2016,2017,2018,2019,2020,2021,2022],\"xaxis\":\"x\",\"y\":[214323.0,226638.024,235161.714,237955.0,229923.999,241299.0,246639.0,249983.0,264299.0,254607.056999,250277.750095,248792.219416,251966.00982],\"yaxis\":\"y\",\"type\":\"bar\"}],\"name\":\"Mexico\"},{\"data\":[{\"alignmentgroup\":\"True\",\"hovertemplate\":\"variable=Renewables<br>COUNTRY=Netherlands<br>Year=%{x}<br>Energy Production (GWh)=%{y}<extra></extra>\",\"legendgroup\":\"Renewables\",\"marker\":{\"color\":\"#636efa\",\"pattern\":{\"shape\":\"\"}},\"name\":\"Renewables\",\"offsetgroup\":\"Renewables\",\"orientation\":\"v\",\"showlegend\":true,\"textposition\":\"auto\",\"x\":[2010,2011,2012,2013,2014,2015,2016,2017,2018,2019,2020,2021,2022],\"xaxis\":\"x\",\"y\":[10928.442,12009.844,12182.565,11846.548,11407.684000000001,13469.305,14584.791,17268.945,18744.993066,22541.354424,32767.033419,41459.176057,48185.557145],\"yaxis\":\"y\",\"type\":\"bar\"},{\"alignmentgroup\":\"True\",\"hovertemplate\":\"variable=Nuclear<br>COUNTRY=Netherlands<br>Year=%{x}<br>Energy Production (GWh)=%{y}<extra></extra>\",\"legendgroup\":\"Nuclear\",\"marker\":{\"color\":\"#EF553B\",\"pattern\":{\"shape\":\"\"}},\"name\":\"Nuclear\",\"offsetgroup\":\"Nuclear\",\"orientation\":\"v\",\"showlegend\":true,\"textposition\":\"auto\",\"x\":[2010,2011,2012,2013,2014,2015,2016,2017,2018,2019,2020,2021,2022],\"xaxis\":\"x\",\"y\":[3752.0,3915.0009999999997,3741.0,2737.0,3873.0,3857.0,3749.9049999999997,3277.664,3395.496,3700.299,3864.924,3618.207992,3929.994],\"yaxis\":\"y\",\"type\":\"bar\"},{\"alignmentgroup\":\"True\",\"hovertemplate\":\"variable=Total combustible fuels<br>COUNTRY=Netherlands<br>Year=%{x}<br>Energy Production (GWh)=%{y}<extra></extra>\",\"legendgroup\":\"Total combustible fuels\",\"marker\":{\"color\":\"#00cc96\",\"pattern\":{\"shape\":\"\"}},\"name\":\"Total combustible fuels\",\"offsetgroup\":\"Total combustible fuels\",\"orientation\":\"v\",\"showlegend\":true,\"textposition\":\"auto\",\"x\":[2010,2011,2012,2013,2014,2015,2016,2017,2018,2019,2020,2021,2022],\"xaxis\":\"x\",\"y\":[106765.0,99820.002,90009.477,88438.33,88062.0,93144.269,96026.634,95746.33,92383.448001,96357.694002,91404.952764,85616.456886,75415.273604],\"yaxis\":\"y\",\"type\":\"bar\"}],\"name\":\"Netherlands\"},{\"data\":[{\"alignmentgroup\":\"True\",\"hovertemplate\":\"variable=Renewables<br>COUNTRY=New Zealand<br>Year=%{x}<br>Energy Production (GWh)=%{y}<extra></extra>\",\"legendgroup\":\"Renewables\",\"marker\":{\"color\":\"#636efa\",\"pattern\":{\"shape\":\"\"}},\"name\":\"Renewables\",\"offsetgroup\":\"Renewables\",\"orientation\":\"v\",\"showlegend\":true,\"textposition\":\"auto\",\"x\":[2010,2011,2012,2013,2014,2015,2016,2017,2018,2019,2020,2021,2022],\"xaxis\":\"x\",\"y\":[32200.919,33141.869,31147.021,31445.925,33738.590000000004,34664.254,36162.393,35212.42,36259.645609,35862.697797,35032.111459,35361.30718,37274.750803],\"yaxis\":\"y\",\"type\":\"bar\"},{\"alignmentgroup\":\"True\",\"hovertemplate\":\"variable=Nuclear<br>COUNTRY=New Zealand<br>Year=%{x}<br>Energy Production (GWh)=%{y}<extra></extra>\",\"legendgroup\":\"Nuclear\",\"marker\":{\"color\":\"#EF553B\",\"pattern\":{\"shape\":\"\"}},\"name\":\"Nuclear\",\"offsetgroup\":\"Nuclear\",\"orientation\":\"v\",\"showlegend\":true,\"textposition\":\"auto\",\"x\":[2010,2011,2012,2013,2014,2015,2016,2017,2018,2019,2020,2021,2022],\"xaxis\":\"x\",\"y\":[0.0,0.0,0.0,0.0,0.0,0.0,0.0,0.0,0.0,0.0,0.0,0.0,0.0],\"yaxis\":\"y\",\"type\":\"bar\"},{\"alignmentgroup\":\"True\",\"hovertemplate\":\"variable=Total combustible fuels<br>COUNTRY=New Zealand<br>Year=%{x}<br>Energy Production (GWh)=%{y}<extra></extra>\",\"legendgroup\":\"Total combustible fuels\",\"marker\":{\"color\":\"#00cc96\",\"pattern\":{\"shape\":\"\"}},\"name\":\"Total combustible fuels\",\"offsetgroup\":\"Total combustible fuels\",\"orientation\":\"v\",\"showlegend\":true,\"textposition\":\"auto\",\"x\":[2010,2011,2012,2013,2014,2015,2016,2017,2018,2019,2020,2021,2022],\"xaxis\":\"x\",\"y\":[11749.716,10441.322,12194.074,10947.254,9025.108,8774.759,6979.702,8318.396,7407.079131,8191.821999,8843.194,8454.152606,5889.827408],\"yaxis\":\"y\",\"type\":\"bar\"}],\"name\":\"New Zealand\"},{\"data\":[{\"alignmentgroup\":\"True\",\"hovertemplate\":\"variable=Renewables<br>COUNTRY=North Macedonia<br>Year=%{x}<br>Energy Production (GWh)=%{y}<extra></extra>\",\"legendgroup\":\"Renewables\",\"marker\":{\"color\":\"#636efa\",\"pattern\":{\"shape\":\"\"}},\"name\":\"Renewables\",\"offsetgroup\":\"Renewables\",\"orientation\":\"v\",\"showlegend\":true,\"textposition\":\"auto\",\"x\":[2015,2016,2017,2018,2019,2020,2021,2022],\"xaxis\":\"x\",\"y\":[2008.08,2035.729,1268.664,1944.176044,1331.1916919999999,1465.120386,1586.312667,1511.122053],\"yaxis\":\"y\",\"type\":\"bar\"},{\"alignmentgroup\":\"True\",\"hovertemplate\":\"variable=Nuclear<br>COUNTRY=North Macedonia<br>Year=%{x}<br>Energy Production (GWh)=%{y}<extra></extra>\",\"legendgroup\":\"Nuclear\",\"marker\":{\"color\":\"#EF553B\",\"pattern\":{\"shape\":\"\"}},\"name\":\"Nuclear\",\"offsetgroup\":\"Nuclear\",\"orientation\":\"v\",\"showlegend\":true,\"textposition\":\"auto\",\"x\":[2015,2016,2017,2018,2019,2020,2021,2022],\"xaxis\":\"x\",\"y\":[0.0,0.0,0.0,0.0,0.0,0.0,0.0,0.0],\"yaxis\":\"y\",\"type\":\"bar\"},{\"alignmentgroup\":\"True\",\"hovertemplate\":\"variable=Total combustible fuels<br>COUNTRY=North Macedonia<br>Year=%{x}<br>Energy Production (GWh)=%{y}<extra></extra>\",\"legendgroup\":\"Total combustible fuels\",\"marker\":{\"color\":\"#00cc96\",\"pattern\":{\"shape\":\"\"}},\"name\":\"Total combustible fuels\",\"offsetgroup\":\"Total combustible fuels\",\"orientation\":\"v\",\"showlegend\":true,\"textposition\":\"auto\",\"x\":[2015,2016,2017,2018,2019,2020,2021,2022],\"xaxis\":\"x\",\"y\":[3288.0,3281.379,4005.609,3388.128998,4220.386001,3620.435001,3649.158373,3940.771262],\"yaxis\":\"y\",\"type\":\"bar\"}],\"name\":\"North Macedonia\"},{\"data\":[{\"alignmentgroup\":\"True\",\"hovertemplate\":\"variable=Renewables<br>COUNTRY=Norway<br>Year=%{x}<br>Energy Production (GWh)=%{y}<extra></extra>\",\"legendgroup\":\"Renewables\",\"marker\":{\"color\":\"#636efa\",\"pattern\":{\"shape\":\"\"}},\"name\":\"Renewables\",\"offsetgroup\":\"Renewables\",\"orientation\":\"v\",\"showlegend\":true,\"textposition\":\"auto\",\"x\":[2010,2011,2012,2013,2014,2015,2016,2017,2018,2019,2020,2021,2022],\"xaxis\":\"x\",\"y\":[117902.418,122675.93000000001,144149.001,130388.99799999999,138032.001,140579.0,145202.995,145508.002,142993.82479400001,131662.973523,151223.939729,155890.825443,144002.62901],\"yaxis\":\"y\",\"type\":\"bar\"},{\"alignmentgroup\":\"True\",\"hovertemplate\":\"variable=Nuclear<br>COUNTRY=Norway<br>Year=%{x}<br>Energy Production (GWh)=%{y}<extra></extra>\",\"legendgroup\":\"Nuclear\",\"marker\":{\"color\":\"#EF553B\",\"pattern\":{\"shape\":\"\"}},\"name\":\"Nuclear\",\"offsetgroup\":\"Nuclear\",\"orientation\":\"v\",\"showlegend\":true,\"textposition\":\"auto\",\"x\":[2010,2011,2012,2013,2014,2015,2016,2017,2018,2019,2020,2021,2022],\"xaxis\":\"x\",\"y\":[0.0,0.0,0.0,0.0,0.0,0.0,0.0,0.0,0.0,0.0,0.0,0.0,0.0],\"yaxis\":\"y\",\"type\":\"bar\"},{\"alignmentgroup\":\"True\",\"hovertemplate\":\"variable=Total combustible fuels<br>COUNTRY=Norway<br>Year=%{x}<br>Energy Production (GWh)=%{y}<extra></extra>\",\"legendgroup\":\"Total combustible fuels\",\"marker\":{\"color\":\"#00cc96\",\"pattern\":{\"shape\":\"\"}},\"name\":\"Total combustible fuels\",\"offsetgroup\":\"Total combustible fuels\",\"orientation\":\"v\",\"showlegend\":true,\"textposition\":\"auto\",\"x\":[2010,2011,2012,2013,2014,2015,2016,2017,2018,2019,2020,2021,2022],\"xaxis\":\"x\",\"y\":[5465.999,4644.998,3276.9990000000003,3239.0,3254.9990000000003,3247.0,3201.0,3189.999,3109.719,2940.2359969999998,2372.211999,1451.951667,1813.370556],\"yaxis\":\"y\",\"type\":\"bar\"}],\"name\":\"Norway\"},{\"data\":[{\"alignmentgroup\":\"True\",\"hovertemplate\":\"variable=Renewables<br>COUNTRY=OECD Americas<br>Year=%{x}<br>Energy Production (GWh)=%{y}<extra></extra>\",\"legendgroup\":\"Renewables\",\"marker\":{\"color\":\"#636efa\",\"pattern\":{\"shape\":\"\"}},\"name\":\"Renewables\",\"offsetgroup\":\"Renewables\",\"orientation\":\"v\",\"showlegend\":true,\"textposition\":\"auto\",\"x\":[2010,2011,2012,2013,2014,2015,2016,2017,2018,2019,2020,2021,2022],\"xaxis\":\"x\",\"y\":[891901.202,1004976.744,987431.254,1031201.838,1114449.25,1121504.732,1203603.539,1311204.633,1329967.994947,1345539.997033,1391279.400096,1503230.446647,1620760.8930600001],\"yaxis\":\"y\",\"type\":\"bar\"},{\"alignmentgroup\":\"True\",\"hovertemplate\":\"variable=Nuclear<br>COUNTRY=OECD Americas<br>Year=%{x}<br>Energy Production (GWh)=%{y}<extra></extra>\",\"legendgroup\":\"Nuclear\",\"marker\":{\"color\":\"#EF553B\",\"pattern\":{\"shape\":\"\"}},\"name\":\"Nuclear\",\"offsetgroup\":\"Nuclear\",\"orientation\":\"v\",\"showlegend\":true,\"textposition\":\"auto\",\"x\":[2010,2011,2012,2013,2014,2015,2016,2017,2018,2019,2020,2021,2022],\"xaxis\":\"x\",\"y\":[898156.0009999999,888157.999,867231.999,897977.001,907676.999,904401.0009999999,911652.998,911086.64,915431.477002,915759.262,893396.817453,877290.766866,863806.118845],\"yaxis\":\"y\",\"type\":\"bar\"},{\"alignmentgroup\":\"True\",\"hovertemplate\":\"variable=Total combustible fuels<br>COUNTRY=OECD Americas<br>Year=%{x}<br>Energy Production (GWh)=%{y}<extra></extra>\",\"legendgroup\":\"Total combustible fuels\",\"marker\":{\"color\":\"#00cc96\",\"pattern\":{\"shape\":\"\"}},\"name\":\"Total combustible fuels\",\"offsetgroup\":\"Total combustible fuels\",\"orientation\":\"v\",\"showlegend\":true,\"textposition\":\"auto\",\"x\":[2010,2011,2012,2013,2014,2015,2016,2017,2018,2019,2020,2021,2022],\"xaxis\":\"x\",\"y\":[3341180.001,3267645.0239999997,3256101.716,3232842.002,3250873.775,3245034.511,3179672.511,3050888.197,3191432.827,3113323.904001,2942992.527658,3035763.02048,3066338.760622],\"yaxis\":\"y\",\"type\":\"bar\"}],\"name\":\"OECD Americas\"},{\"data\":[{\"alignmentgroup\":\"True\",\"hovertemplate\":\"variable=Renewables<br>COUNTRY=OECD Asia Oceania<br>Year=%{x}<br>Energy Production (GWh)=%{y}<extra></extra>\",\"legendgroup\":\"Renewables\",\"marker\":{\"color\":\"#636efa\",\"pattern\":{\"shape\":\"\"}},\"name\":\"Renewables\",\"offsetgroup\":\"Renewables\",\"orientation\":\"v\",\"showlegend\":true,\"textposition\":\"auto\",\"x\":[2010,2011,2012,2013,2014,2015,2016,2017,2018,2019,2020,2021,2022],\"xaxis\":\"x\",\"y\":[181834.952,185020.94400000002,184475.103,199373.631,207900.876,235410.858311,255200.467866,267824.734663,296419.73481,302199.107468,335889.859597,370702.282461,401747.225366],\"yaxis\":\"y\",\"type\":\"bar\"},{\"alignmentgroup\":\"True\",\"hovertemplate\":\"variable=Nuclear<br>COUNTRY=OECD Asia Oceania<br>Year=%{x}<br>Energy Production (GWh)=%{y}<extra></extra>\",\"legendgroup\":\"Nuclear\",\"marker\":{\"color\":\"#EF553B\",\"pattern\":{\"shape\":\"\"}},\"name\":\"Nuclear\",\"offsetgroup\":\"Nuclear\",\"orientation\":\"v\",\"showlegend\":true,\"textposition\":\"auto\",\"x\":[2010,2011,2012,2013,2014,2015,2016,2017,2018,2019,2020,2021,2022],\"xaxis\":\"x\",\"y\":[420258.596,301138.423,158669.278,142897.836,149165.001,160401.625,169064.063,169029.803,174936.530955,202557.99226899998,195023.773187,211551.235596,218638.810205],\"yaxis\":\"y\",\"type\":\"bar\"},{\"alignmentgroup\":\"True\",\"hovertemplate\":\"variable=Total combustible fuels<br>COUNTRY=OECD Asia Oceania<br>Year=%{x}<br>Energy Production (GWh)=%{y}<extra></extra>\",\"legendgroup\":\"Total combustible fuels\",\"marker\":{\"color\":\"#00cc96\",\"pattern\":{\"shape\":\"\"}},\"name\":\"Total combustible fuels\",\"offsetgroup\":\"Total combustible fuels\",\"orientation\":\"v\",\"showlegend\":true,\"textposition\":\"auto\",\"x\":[2010,2011,2012,2013,2014,2015,2016,2017,2018,2019,2020,2021,2022],\"xaxis\":\"x\",\"y\":[1268139.779,1370537.966,1525820.867,1508288.4,1502033.423,1452664.835641,1441754.29735,1437681.652406,1453740.025779,1367877.763365,1307914.944293,1271088.684388,1277905.854089],\"yaxis\":\"y\",\"type\":\"bar\"}],\"name\":\"OECD Asia Oceania\"},{\"data\":[{\"alignmentgroup\":\"True\",\"hovertemplate\":\"variable=Renewables<br>COUNTRY=OECD Europe<br>Year=%{x}<br>Energy Production (GWh)=%{y}<extra></extra>\",\"legendgroup\":\"Renewables\",\"marker\":{\"color\":\"#636efa\",\"pattern\":{\"shape\":\"\"}},\"name\":\"Renewables\",\"offsetgroup\":\"Renewables\",\"orientation\":\"v\",\"showlegend\":true,\"textposition\":\"auto\",\"x\":[2010,2011,2012,2013,2014,2015,2016,2017,2018,2019,2020,2021,2022],\"xaxis\":\"x\",\"y\":[888090.17,897682.0549999999,1021342.554,1092660.276,1115908.751,1188545.166,1210707.796,1234626.014,1309926.6792290001,1385344.21306,1502142.024102,1490495.157747,1521337.565494],\"yaxis\":\"y\",\"type\":\"bar\"},{\"alignmentgroup\":\"True\",\"hovertemplate\":\"variable=Nuclear<br>COUNTRY=OECD Europe<br>Year=%{x}<br>Energy Production (GWh)=%{y}<extra></extra>\",\"legendgroup\":\"Nuclear\",\"marker\":{\"color\":\"#EF553B\",\"pattern\":{\"shape\":\"\"}},\"name\":\"Nuclear\",\"offsetgroup\":\"Nuclear\",\"orientation\":\"v\",\"showlegend\":true,\"textposition\":\"auto\",\"x\":[2010,2011,2012,2013,2014,2015,2016,2017,2018,2019,2020,2021,2022],\"xaxis\":\"x\",\"y\":[868189.008,858473.534,834918.017,831972.686,831460.775,809403.367,790566.1089999999,780147.407,782331.319996,778529.321002,690694.220265,729488.888296,618549.615382],\"yaxis\":\"y\",\"type\":\"bar\"},{\"alignmentgroup\":\"True\",\"hovertemplate\":\"variable=Total combustible fuels<br>COUNTRY=OECD Europe<br>Year=%{x}<br>Energy Production (GWh)=%{y}<extra></extra>\",\"legendgroup\":\"Total combustible fuels\",\"marker\":{\"color\":\"#00cc96\",\"pattern\":{\"shape\":\"\"}},\"name\":\"Total combustible fuels\",\"offsetgroup\":\"Total combustible fuels\",\"orientation\":\"v\",\"showlegend\":true,\"textposition\":\"auto\",\"x\":[2010,2011,2012,2013,2014,2015,2016,2017,2018,2019,2020,2021,2022],\"xaxis\":\"x\",\"y\":[1844924.139,1810179.205,1759245.882,1670204.828,1589259.54,1611996.05,1643697.142,1687768.669,1605698.487286,1504531.506387,1386563.6114100001,1499821.740577,1498159.200473],\"yaxis\":\"y\",\"type\":\"bar\"}],\"name\":\"OECD Europe\"},{\"data\":[{\"alignmentgroup\":\"True\",\"hovertemplate\":\"variable=Renewables<br>COUNTRY=OECD Total<br>Year=%{x}<br>Energy Production (GWh)=%{y}<extra></extra>\",\"legendgroup\":\"Renewables\",\"marker\":{\"color\":\"#636efa\",\"pattern\":{\"shape\":\"\"}},\"name\":\"Renewables\",\"offsetgroup\":\"Renewables\",\"orientation\":\"v\",\"showlegend\":true,\"textposition\":\"auto\",\"x\":[2010,2011,2012,2013,2014,2015,2016,2017,2018,2019,2020,2021,2022],\"xaxis\":\"x\",\"y\":[1961826.324,2087679.743,2193248.911,2323235.745,2438258.877,2545460.756311,2669511.802866,2813655.381663,2936314.408986,3033083.317561,3229311.283795,3364427.886855,3543845.683928],\"yaxis\":\"y\",\"type\":\"bar\"},{\"alignmentgroup\":\"True\",\"hovertemplate\":\"variable=Nuclear<br>COUNTRY=OECD Total<br>Year=%{x}<br>Energy Production (GWh)=%{y}<extra></extra>\",\"legendgroup\":\"Nuclear\",\"marker\":{\"color\":\"#EF553B\",\"pattern\":{\"shape\":\"\"}},\"name\":\"Nuclear\",\"offsetgroup\":\"Nuclear\",\"orientation\":\"v\",\"showlegend\":true,\"textposition\":\"auto\",\"x\":[2010,2011,2012,2013,2014,2015,2016,2017,2018,2019,2020,2021,2022],\"xaxis\":\"x\",\"y\":[2186603.605,2047769.956,1860819.294,1872847.523,1888302.775,1874205.993,1871283.17,1860263.85,1872699.327953,1896846.575271,1779114.810905,1818330.890758,1700994.544437],\"yaxis\":\"y\",\"type\":\"bar\"},{\"alignmentgroup\":\"True\",\"hovertemplate\":\"variable=Total combustible fuels<br>COUNTRY=OECD Total<br>Year=%{x}<br>Energy Production (GWh)=%{y}<extra></extra>\",\"legendgroup\":\"Total combustible fuels\",\"marker\":{\"color\":\"#00cc96\",\"pattern\":{\"shape\":\"\"}},\"name\":\"Total combustible fuels\",\"offsetgroup\":\"Total combustible fuels\",\"orientation\":\"v\",\"showlegend\":true,\"textposition\":\"auto\",\"x\":[2010,2011,2012,2013,2014,2015,2016,2017,2018,2019,2020,2021,2022],\"xaxis\":\"x\",\"y\":[6454243.919,6448362.195,6541168.465,6411335.23,6342166.738,6309695.396641,6265123.95035,6176338.518406,6250871.340065,5985733.173753,5637471.083361,5806673.445445,5842403.815192],\"yaxis\":\"y\",\"type\":\"bar\"}],\"name\":\"OECD Total\"},{\"data\":[{\"alignmentgroup\":\"True\",\"hovertemplate\":\"variable=Renewables<br>COUNTRY=Poland<br>Year=%{x}<br>Energy Production (GWh)=%{y}<extra></extra>\",\"legendgroup\":\"Renewables\",\"marker\":{\"color\":\"#636efa\",\"pattern\":{\"shape\":\"\"}},\"name\":\"Renewables\",\"offsetgroup\":\"Renewables\",\"orientation\":\"v\",\"showlegend\":true,\"textposition\":\"auto\",\"x\":[2010,2011,2012,2013,2014,2015,2016,2017,2018,2019,2020,2021,2022],\"xaxis\":\"x\",\"y\":[10841.987000000001,12819.097,16303.798999999999,16735.025999999998,19349.486,22205.917,22196.557,23578.854,21067.722711,26764.098549000002,29552.144511000002,31669.331025,36569.882493],\"yaxis\":\"y\",\"type\":\"bar\"},{\"alignmentgroup\":\"True\",\"hovertemplate\":\"variable=Nuclear<br>COUNTRY=Poland<br>Year=%{x}<br>Energy Production (GWh)=%{y}<extra></extra>\",\"legendgroup\":\"Nuclear\",\"marker\":{\"color\":\"#EF553B\",\"pattern\":{\"shape\":\"\"}},\"name\":\"Nuclear\",\"offsetgroup\":\"Nuclear\",\"orientation\":\"v\",\"showlegend\":true,\"textposition\":\"auto\",\"x\":[2010,2011,2012,2013,2014,2015,2016,2017,2018,2019,2020,2021,2022],\"xaxis\":\"x\",\"y\":[0.0,0.0,0.0,0.0,0.0,0.0,0.0,0.0,0.0,0.0,0.0,0.0,0.0],\"yaxis\":\"y\",\"type\":\"bar\"},{\"alignmentgroup\":\"True\",\"hovertemplate\":\"variable=Total combustible fuels<br>COUNTRY=Poland<br>Year=%{x}<br>Energy Production (GWh)=%{y}<extra></extra>\",\"legendgroup\":\"Total combustible fuels\",\"marker\":{\"color\":\"#00cc96\",\"pattern\":{\"shape\":\"\"}},\"name\":\"Total combustible fuels\",\"offsetgroup\":\"Total combustible fuels\",\"orientation\":\"v\",\"showlegend\":true,\"textposition\":\"auto\",\"x\":[2010,2011,2012,2013,2014,2015,2016,2017,2018,2019,2020,2021,2022],\"xaxis\":\"x\",\"y\":[138253.0,142890.001,140421.999,141062.001,134783.999,137390.002,136945.004,137068.094,140006.418,133025.653999,125770.241998,144484.842017,135129.754279],\"yaxis\":\"y\",\"type\":\"bar\"}],\"name\":\"Poland\"},{\"data\":[{\"alignmentgroup\":\"True\",\"hovertemplate\":\"variable=Renewables<br>COUNTRY=Portugal<br>Year=%{x}<br>Energy Production (GWh)=%{y}<extra></extra>\",\"legendgroup\":\"Renewables\",\"marker\":{\"color\":\"#636efa\",\"pattern\":{\"shape\":\"\"}},\"name\":\"Renewables\",\"offsetgroup\":\"Renewables\",\"orientation\":\"v\",\"showlegend\":true,\"textposition\":\"auto\",\"x\":[2010,2011,2012,2013,2014,2015,2016,2017,2018,2019,2020,2021,2022],\"xaxis\":\"x\",\"y\":[28351.645,24371.972999999998,20120.078,30239.827,32006.033,25164.421000000002,33107.475,23884.456,30292.58838,28550.919296,31325.839434,32202.112412000002,29360.121010000003],\"yaxis\":\"y\",\"type\":\"bar\"},{\"alignmentgroup\":\"True\",\"hovertemplate\":\"variable=Nuclear<br>COUNTRY=Portugal<br>Year=%{x}<br>Energy Production (GWh)=%{y}<extra></extra>\",\"legendgroup\":\"Nuclear\",\"marker\":{\"color\":\"#EF553B\",\"pattern\":{\"shape\":\"\"}},\"name\":\"Nuclear\",\"offsetgroup\":\"Nuclear\",\"orientation\":\"v\",\"showlegend\":true,\"textposition\":\"auto\",\"x\":[2010,2011,2012,2013,2014,2015,2016,2017,2018,2019,2020,2021,2022],\"xaxis\":\"x\",\"y\":[0.0,0.0,0.0,0.0,0.0,0.0,0.0,0.0,0.0,0.0,0.0,0.0,0.0],\"yaxis\":\"y\",\"type\":\"bar\"},{\"alignmentgroup\":\"True\",\"hovertemplate\":\"variable=Total combustible fuels<br>COUNTRY=Portugal<br>Year=%{x}<br>Energy Production (GWh)=%{y}<extra></extra>\",\"legendgroup\":\"Total combustible fuels\",\"marker\":{\"color\":\"#00cc96\",\"pattern\":{\"shape\":\"\"}},\"name\":\"Total combustible fuels\",\"offsetgroup\":\"Total combustible fuels\",\"orientation\":\"v\",\"showlegend\":true,\"textposition\":\"auto\",\"x\":[2010,2011,2012,2013,2014,2015,2016,2017,2018,2019,2020,2021,2022],\"xaxis\":\"x\",\"y\":[26948.999,29568.999,27959.001,23089.999,22431.999,28741.0,28702.0,36882.02,30941.366002,26902.164,24654.035999,20618.797793,23295.746821],\"yaxis\":\"y\",\"type\":\"bar\"}],\"name\":\"Portugal\"},{\"data\":[{\"alignmentgroup\":\"True\",\"hovertemplate\":\"variable=Renewables<br>COUNTRY=Republic of Turkiye<br>Year=%{x}<br>Energy Production (GWh)=%{y}<extra></extra>\",\"legendgroup\":\"Renewables\",\"marker\":{\"color\":\"#636efa\",\"pattern\":{\"shape\":\"\"}},\"name\":\"Renewables\",\"offsetgroup\":\"Renewables\",\"orientation\":\"v\",\"showlegend\":true,\"textposition\":\"auto\",\"x\":[2010,2011,2012,2013,2014,2015,2016,2017,2018,2019,2020,2021,2022],\"xaxis\":\"x\",\"y\":[55213.632,56781.928,63830.644,67756.034,51314.152,81733.611,88628.648,85519.802,94551.226398,129383.29281,132840.472264,114536.729989,133400.383013],\"yaxis\":\"y\",\"type\":\"bar\"},{\"alignmentgroup\":\"True\",\"hovertemplate\":\"variable=Nuclear<br>COUNTRY=Republic of Turkiye<br>Year=%{x}<br>Energy Production (GWh)=%{y}<extra></extra>\",\"legendgroup\":\"Nuclear\",\"marker\":{\"color\":\"#EF553B\",\"pattern\":{\"shape\":\"\"}},\"name\":\"Nuclear\",\"offsetgroup\":\"Nuclear\",\"orientation\":\"v\",\"showlegend\":true,\"textposition\":\"auto\",\"x\":[2010,2011,2012,2013,2014,2015,2016,2017,2018,2019,2020,2021,2022],\"xaxis\":\"x\",\"y\":[0.0,0.0,0.0,0.0,0.0,0.0,0.0,0.0,0.0,0.0,0.0,0.0,0.0],\"yaxis\":\"y\",\"type\":\"bar\"},{\"alignmentgroup\":\"True\",\"hovertemplate\":\"variable=Total combustible fuels<br>COUNTRY=Republic of Turkiye<br>Year=%{x}<br>Energy Production (GWh)=%{y}<extra></extra>\",\"legendgroup\":\"Total combustible fuels\",\"marker\":{\"color\":\"#00cc96\",\"pattern\":{\"shape\":\"\"}},\"name\":\"Total combustible fuels\",\"offsetgroup\":\"Total combustible fuels\",\"orientation\":\"v\",\"showlegend\":true,\"textposition\":\"auto\",\"x\":[2010,2011,2012,2013,2014,2015,2016,2017,2018,2019,2020,2021,2022],\"xaxis\":\"x\",\"y\":[148039.001,160994.0,164323.0,161783.999,188837.001,168870.0,174165.999,199910.04499999998,196483.939998,161975.210999,170363.749999,206596.468274,185484.276096],\"yaxis\":\"y\",\"type\":\"bar\"}],\"name\":\"Republic of Turkiye\"},{\"data\":[{\"alignmentgroup\":\"True\",\"hovertemplate\":\"variable=Renewables<br>COUNTRY=Romania<br>Year=%{x}<br>Energy Production (GWh)=%{y}<extra></extra>\",\"legendgroup\":\"Renewables\",\"marker\":{\"color\":\"#636efa\",\"pattern\":{\"shape\":\"\"}},\"name\":\"Renewables\",\"offsetgroup\":\"Renewables\",\"orientation\":\"v\",\"showlegend\":true,\"textposition\":\"auto\",\"x\":[2015,2016,2017,2018,2019,2020,2021,2022],\"xaxis\":\"x\",\"y\":[26333.446,27046.512,24330.968,26339.668343,24757.235311,24611.710973,26040.261889,23597.636828],\"yaxis\":\"y\",\"type\":\"bar\"},{\"alignmentgroup\":\"True\",\"hovertemplate\":\"variable=Nuclear<br>COUNTRY=Romania<br>Year=%{x}<br>Energy Production (GWh)=%{y}<extra></extra>\",\"legendgroup\":\"Nuclear\",\"marker\":{\"color\":\"#EF553B\",\"pattern\":{\"shape\":\"\"}},\"name\":\"Nuclear\",\"offsetgroup\":\"Nuclear\",\"orientation\":\"v\",\"showlegend\":true,\"textposition\":\"auto\",\"x\":[2015,2016,2017,2018,2019,2020,2021,2022],\"xaxis\":\"x\",\"y\":[10698.0,10365.999,10557.904,10441.658999,10345.440002,10556.703,10376.708063,10116.092326],\"yaxis\":\"y\",\"type\":\"bar\"},{\"alignmentgroup\":\"True\",\"hovertemplate\":\"variable=Total combustible fuels<br>COUNTRY=Romania<br>Year=%{x}<br>Energy Production (GWh)=%{y}<extra></extra>\",\"legendgroup\":\"Total combustible fuels\",\"marker\":{\"color\":\"#00cc96\",\"pattern\":{\"shape\":\"\"}},\"name\":\"Total combustible fuels\",\"offsetgroup\":\"Total combustible fuels\",\"orientation\":\"v\",\"showlegend\":true,\"textposition\":\"auto\",\"x\":[2015,2016,2017,2018,2019,2020,2021,2022],\"xaxis\":\"x\",\"y\":[24698.0,23304.0,24923.059,23774.754521,20509.216551999998,17223.910428,19154.534438,17953.344642],\"yaxis\":\"y\",\"type\":\"bar\"}],\"name\":\"Romania\"},{\"data\":[{\"alignmentgroup\":\"True\",\"hovertemplate\":\"variable=Renewables<br>COUNTRY=Serbia<br>Year=%{x}<br>Energy Production (GWh)=%{y}<extra></extra>\",\"legendgroup\":\"Renewables\",\"marker\":{\"color\":\"#636efa\",\"pattern\":{\"shape\":\"\"}},\"name\":\"Renewables\",\"offsetgroup\":\"Renewables\",\"orientation\":\"v\",\"showlegend\":true,\"textposition\":\"auto\",\"x\":[2015,2016,2017,2018,2019,2020,2021,2022],\"xaxis\":\"x\",\"y\":[10728.851999999999,11497.791,9799.46,11562.372699,11140.886787,10835.240683,13222.463359000001,10404.362017],\"yaxis\":\"y\",\"type\":\"bar\"},{\"alignmentgroup\":\"True\",\"hovertemplate\":\"variable=Nuclear<br>COUNTRY=Serbia<br>Year=%{x}<br>Energy Production (GWh)=%{y}<extra></extra>\",\"legendgroup\":\"Nuclear\",\"marker\":{\"color\":\"#EF553B\",\"pattern\":{\"shape\":\"\"}},\"name\":\"Nuclear\",\"offsetgroup\":\"Nuclear\",\"orientation\":\"v\",\"showlegend\":true,\"textposition\":\"auto\",\"x\":[2015,2016,2017,2018,2019,2020,2021,2022],\"xaxis\":\"x\",\"y\":[0.0,0.0,0.0,0.0,0.0,0.0,0.0,0.0],\"yaxis\":\"y\",\"type\":\"bar\"},{\"alignmentgroup\":\"True\",\"hovertemplate\":\"variable=Total combustible fuels<br>COUNTRY=Serbia<br>Year=%{x}<br>Energy Production (GWh)=%{y}<extra></extra>\",\"legendgroup\":\"Total combustible fuels\",\"marker\":{\"color\":\"#00cc96\",\"pattern\":{\"shape\":\"\"}},\"name\":\"Total combustible fuels\",\"offsetgroup\":\"Total combustible fuels\",\"orientation\":\"v\",\"showlegend\":true,\"textposition\":\"auto\",\"x\":[2015,2016,2017,2018,2019,2020,2021,2022],\"xaxis\":\"x\",\"y\":[24931.002,25161.001,24566.923000000003,23312.703999,23546.842,24612.650999999998,22799.362748,22599.546261],\"yaxis\":\"y\",\"type\":\"bar\"}],\"name\":\"Serbia\"},{\"data\":[{\"alignmentgroup\":\"True\",\"hovertemplate\":\"variable=Renewables<br>COUNTRY=Slovak Republic<br>Year=%{x}<br>Energy Production (GWh)=%{y}<extra></extra>\",\"legendgroup\":\"Renewables\",\"marker\":{\"color\":\"#636efa\",\"pattern\":{\"shape\":\"\"}},\"name\":\"Renewables\",\"offsetgroup\":\"Renewables\",\"orientation\":\"v\",\"showlegend\":true,\"textposition\":\"auto\",\"x\":[2010,2011,2012,2013,2014,2015,2016,2017,2018,2019,2020,2021,2022],\"xaxis\":\"x\",\"y\":[6213.52,4711.824,5276.933,6146.994,5854.472,5932.084,6584.585,6609.296,5806.528377,6579.417074,6299.469084,6586.644067,6023.417867],\"yaxis\":\"y\",\"type\":\"bar\"},{\"alignmentgroup\":\"True\",\"hovertemplate\":\"variable=Nuclear<br>COUNTRY=Slovak Republic<br>Year=%{x}<br>Energy Production (GWh)=%{y}<extra></extra>\",\"legendgroup\":\"Nuclear\",\"marker\":{\"color\":\"#EF553B\",\"pattern\":{\"shape\":\"\"}},\"name\":\"Nuclear\",\"offsetgroup\":\"Nuclear\",\"orientation\":\"v\",\"showlegend\":true,\"textposition\":\"auto\",\"x\":[2010,2011,2012,2013,2014,2015,2016,2017,2018,2019,2020,2021,2022],\"xaxis\":\"x\",\"y\":[12784.002,14340.001,14411.0,14623.999,14420.0,14080.999,13731.998,14016.001,13784.0,14168.000001,14281.0,14589.827,14723.704617],\"yaxis\":\"y\",\"type\":\"bar\"},{\"alignmentgroup\":\"True\",\"hovertemplate\":\"variable=Total combustible fuels<br>COUNTRY=Slovak Republic<br>Year=%{x}<br>Energy Production (GWh)=%{y}<extra></extra>\",\"legendgroup\":\"Total combustible fuels\",\"marker\":{\"color\":\"#00cc96\",\"pattern\":{\"shape\":\"\"}},\"name\":\"Total combustible fuels\",\"offsetgroup\":\"Total combustible fuels\",\"orientation\":\"v\",\"showlegend\":true,\"textposition\":\"auto\",\"x\":[2010,2011,2012,2013,2014,2015,2016,2017,2018,2019,2020,2021,2022],\"xaxis\":\"x\",\"y\":[7005.998,7691.002,7206.999,7243.0,5863.0,6105.998,6065.004,6417.007,6592.999999,7099.999999,7047.999999,7835.636775,6206.705706],\"yaxis\":\"y\",\"type\":\"bar\"}],\"name\":\"Slovak Republic\"},{\"data\":[{\"alignmentgroup\":\"True\",\"hovertemplate\":\"variable=Renewables<br>COUNTRY=Slovenia<br>Year=%{x}<br>Energy Production (GWh)=%{y}<extra></extra>\",\"legendgroup\":\"Renewables\",\"marker\":{\"color\":\"#636efa\",\"pattern\":{\"shape\":\"\"}},\"name\":\"Renewables\",\"offsetgroup\":\"Renewables\",\"orientation\":\"v\",\"showlegend\":true,\"textposition\":\"auto\",\"x\":[2010,2011,2012,2013,2014,2015,2016,2017,2018,2019,2020,2021,2022],\"xaxis\":\"x\",\"y\":[4842.175,3938.338,4426.02,5306.019,6770.49,4548.891,5245.66,4635.61,5332.113607,5156.773553999999,5780.197792,5581.025573,4129.246758],\"yaxis\":\"y\",\"type\":\"bar\"},{\"alignmentgroup\":\"True\",\"hovertemplate\":\"variable=Nuclear<br>COUNTRY=Slovenia<br>Year=%{x}<br>Energy Production (GWh)=%{y}<extra></extra>\",\"legendgroup\":\"Nuclear\",\"marker\":{\"color\":\"#EF553B\",\"pattern\":{\"shape\":\"\"}},\"name\":\"Nuclear\",\"offsetgroup\":\"Nuclear\",\"orientation\":\"v\",\"showlegend\":true,\"textposition\":\"auto\",\"x\":[2010,2011,2012,2013,2014,2015,2016,2017,2018,2019,2020,2021,2022],\"xaxis\":\"x\",\"y\":[5381.0,5902.0,5243.998,5036.0,6061.0,5371.999,5430.999,5967.826,5489.907999,5532.981001,6040.846001,5418.643637,5310.696976],\"yaxis\":\"y\",\"type\":\"bar\"},{\"alignmentgroup\":\"True\",\"hovertemplate\":\"variable=Total combustible fuels<br>COUNTRY=Slovenia<br>Year=%{x}<br>Energy Production (GWh)=%{y}<extra></extra>\",\"legendgroup\":\"Total combustible fuels\",\"marker\":{\"color\":\"#00cc96\",\"pattern\":{\"shape\":\"\"}},\"name\":\"Total combustible fuels\",\"offsetgroup\":\"Total combustible fuels\",\"orientation\":\"v\",\"showlegend\":true,\"textposition\":\"auto\",\"x\":[2010,2011,2012,2013,2014,2015,2016,2017,2018,2019,2020,2021,2022],\"xaxis\":\"x\",\"y\":[5379.999,5384.999,5271.0,5007.0,3880.001,4503.001,5120.9980000000005,5054.643,4860.864,4760.661999,4715.292001,4362.556368,3577.644767],\"yaxis\":\"y\",\"type\":\"bar\"}],\"name\":\"Slovenia\"},{\"data\":[{\"alignmentgroup\":\"True\",\"hovertemplate\":\"variable=Renewables<br>COUNTRY=Spain<br>Year=%{x}<br>Energy Production (GWh)=%{y}<extra></extra>\",\"legendgroup\":\"Renewables\",\"marker\":{\"color\":\"#636efa\",\"pattern\":{\"shape\":\"\"}},\"name\":\"Renewables\",\"offsetgroup\":\"Renewables\",\"orientation\":\"v\",\"showlegend\":true,\"textposition\":\"auto\",\"x\":[2010,2011,2012,2013,2014,2015,2016,2017,2018,2019,2020,2021,2022],\"xaxis\":\"x\",\"y\":[98882.106,87854.001,88403.515,113395.136,111826.439,97776.458,105361.21399999999,88213.458,103674.679244,100570.396748,114462.96765199999,125522.656908,122253.966264],\"yaxis\":\"y\",\"type\":\"bar\"},{\"alignmentgroup\":\"True\",\"hovertemplate\":\"variable=Nuclear<br>COUNTRY=Spain<br>Year=%{x}<br>Energy Production (GWh)=%{y}<extra></extra>\",\"legendgroup\":\"Nuclear\",\"marker\":{\"color\":\"#EF553B\",\"pattern\":{\"shape\":\"\"}},\"name\":\"Nuclear\",\"offsetgroup\":\"Nuclear\",\"orientation\":\"v\",\"showlegend\":true,\"textposition\":\"auto\",\"x\":[2010,2011,2012,2013,2014,2015,2016,2017,2018,2019,2020,2021,2022],\"xaxis\":\"x\",\"y\":[59387.0,55235.998,58827.0,54473.001,54961.001,54755.001,56099.998999999996,55539.999,53233.999999,55823.999999,55756.999999,54040.201585,55983.635218999996],\"yaxis\":\"y\",\"type\":\"bar\"},{\"alignmentgroup\":\"True\",\"hovertemplate\":\"variable=Total combustible fuels<br>COUNTRY=Spain<br>Year=%{x}<br>Energy Production (GWh)=%{y}<extra></extra>\",\"legendgroup\":\"Total combustible fuels\",\"marker\":{\"color\":\"#00cc96\",\"pattern\":{\"shape\":\"\"}},\"name\":\"Total combustible fuels\",\"offsetgroup\":\"Total combustible fuels\",\"orientation\":\"v\",\"showlegend\":true,\"textposition\":\"auto\",\"x\":[2010,2011,2012,2013,2014,2015,2016,2017,2018,2019,2020,2021,2022],\"xaxis\":\"x\",\"y\":[136384.0,144451.0,143955.0,113033.0,106715.0,122491.999,108210.001,126885.0,112466.0,112634.999999,90126.000001,89723.784188,111879.350172],\"yaxis\":\"y\",\"type\":\"bar\"}],\"name\":\"Spain\"},{\"data\":[{\"alignmentgroup\":\"True\",\"hovertemplate\":\"variable=Renewables<br>COUNTRY=Sweden<br>Year=%{x}<br>Energy Production (GWh)=%{y}<extra></extra>\",\"legendgroup\":\"Renewables\",\"marker\":{\"color\":\"#636efa\",\"pattern\":{\"shape\":\"\"}},\"name\":\"Renewables\",\"offsetgroup\":\"Renewables\",\"orientation\":\"v\",\"showlegend\":true,\"textposition\":\"auto\",\"x\":[2010,2011,2012,2013,2014,2015,2016,2017,2018,2019,2020,2021,2022],\"xaxis\":\"x\",\"y\":[81503.03600000001,83419.213,97469.801,82110.734,84938.736,101667.226,88471.466,94168.45,90348.382762,98074.461625,110394.449374,112053.552902,120076.908612],\"yaxis\":\"y\",\"type\":\"bar\"},{\"alignmentgroup\":\"True\",\"hovertemplate\":\"variable=Nuclear<br>COUNTRY=Sweden<br>Year=%{x}<br>Energy Production (GWh)=%{y}<extra></extra>\",\"legendgroup\":\"Nuclear\",\"marker\":{\"color\":\"#EF553B\",\"pattern\":{\"shape\":\"\"}},\"name\":\"Nuclear\",\"offsetgroup\":\"Nuclear\",\"orientation\":\"v\",\"showlegend\":true,\"textposition\":\"auto\",\"x\":[2010,2011,2012,2013,2014,2015,2016,2017,2018,2019,2020,2021,2022],\"xaxis\":\"x\",\"y\":[55625.998,58026.0,61393.001000000004,63597.0,62185.0,54347.0,60524.0,63008.001000000004,65801.0,64334.000001,47262.697266999996,50991.809511,50062.764373],\"yaxis\":\"y\",\"type\":\"bar\"},{\"alignmentgroup\":\"True\",\"hovertemplate\":\"variable=Total combustible fuels<br>COUNTRY=Sweden<br>Year=%{x}<br>Energy Production (GWh)=%{y}<extra></extra>\",\"legendgroup\":\"Total combustible fuels\",\"marker\":{\"color\":\"#00cc96\",\"pattern\":{\"shape\":\"\"}},\"name\":\"Total combustible fuels\",\"offsetgroup\":\"Total combustible fuels\",\"orientation\":\"v\",\"showlegend\":true,\"textposition\":\"auto\",\"x\":[2010,2011,2012,2013,2014,2015,2016,2017,2018,2019,2020,2021,2022],\"xaxis\":\"x\",\"y\":[19759.999,16652.001,15794.0,15119.999,13155.001,13418.001,14621.0,15002.996,15016.0,15815.999998,12837.914197,16064.079283,15397.643736],\"yaxis\":\"y\",\"type\":\"bar\"}],\"name\":\"Sweden\"},{\"data\":[{\"alignmentgroup\":\"True\",\"hovertemplate\":\"variable=Renewables<br>COUNTRY=Switzerland<br>Year=%{x}<br>Energy Production (GWh)=%{y}<extra></extra>\",\"legendgroup\":\"Renewables\",\"marker\":{\"color\":\"#636efa\",\"pattern\":{\"shape\":\"\"}},\"name\":\"Renewables\",\"offsetgroup\":\"Renewables\",\"orientation\":\"v\",\"showlegend\":true,\"textposition\":\"auto\",\"x\":[2010,2011,2012,2013,2014,2015,2016,2017,2018,2019,2020,2021,2022],\"xaxis\":\"x\",\"y\":[38796.51,35354.459,41755.87,41706.266,41856.425,42255.9,39423.574,40241.822,41232.025374,44658.710074,45241.197093,44000.566188,39812.561322],\"yaxis\":\"y\",\"type\":\"bar\"},{\"alignmentgroup\":\"True\",\"hovertemplate\":\"variable=Nuclear<br>COUNTRY=Switzerland<br>Year=%{x}<br>Energy Production (GWh)=%{y}<extra></extra>\",\"legendgroup\":\"Nuclear\",\"marker\":{\"color\":\"#EF553B\",\"pattern\":{\"shape\":\"\"}},\"name\":\"Nuclear\",\"offsetgroup\":\"Nuclear\",\"orientation\":\"v\",\"showlegend\":true,\"textposition\":\"auto\",\"x\":[2010,2011,2012,2013,2014,2015,2016,2017,2018,2019,2020,2021,2022],\"xaxis\":\"x\",\"y\":[25205.0,25560.0,24345.0,24870.999,26370.0,22095.0,20235.0,19499.0,24414.0,25280.0,22989.999998,18350.201817,23338.449675],\"yaxis\":\"y\",\"type\":\"bar\"},{\"alignmentgroup\":\"True\",\"hovertemplate\":\"variable=Total combustible fuels<br>COUNTRY=Switzerland<br>Year=%{x}<br>Energy Production (GWh)=%{y}<extra></extra>\",\"legendgroup\":\"Total combustible fuels\",\"marker\":{\"color\":\"#00cc96\",\"pattern\":{\"shape\":\"\"}},\"name\":\"Total combustible fuels\",\"offsetgroup\":\"Total combustible fuels\",\"orientation\":\"v\",\"showlegend\":true,\"textposition\":\"auto\",\"x\":[2010,2011,2012,2013,2014,2015,2016,2017,2018,2019,2020,2021,2022],\"xaxis\":\"x\",\"y\":[3344.8450000000003,3365.861,3520.014,3481.99,3364.931,3307.651,3691.553,3671.237,3541.886,3579.618,3654.601999,3445.130211,3688.599323],\"yaxis\":\"y\",\"type\":\"bar\"}],\"name\":\"Switzerland\"},{\"data\":[{\"alignmentgroup\":\"True\",\"hovertemplate\":\"variable=Renewables<br>COUNTRY=United Kingdom<br>Year=%{x}<br>Energy Production (GWh)=%{y}<extra></extra>\",\"legendgroup\":\"Renewables\",\"marker\":{\"color\":\"#636efa\",\"pattern\":{\"shape\":\"\"}},\"name\":\"Renewables\",\"offsetgroup\":\"Renewables\",\"orientation\":\"v\",\"showlegend\":true,\"textposition\":\"auto\",\"x\":[2010,2011,2012,2013,2014,2015,2016,2017,2018,2019,2020,2021,2022],\"xaxis\":\"x\",\"y\":[28875.265,37582.456,43540.11,55252.944,66298.304,85948.178,84645.896,100264.309,110831.871514,119446.790151,133990.568095,121814.541142,138230.287216],\"yaxis\":\"y\",\"type\":\"bar\"},{\"alignmentgroup\":\"True\",\"hovertemplate\":\"variable=Nuclear<br>COUNTRY=United Kingdom<br>Year=%{x}<br>Energy Production (GWh)=%{y}<extra></extra>\",\"legendgroup\":\"Nuclear\",\"marker\":{\"color\":\"#EF553B\",\"pattern\":{\"shape\":\"\"}},\"name\":\"Nuclear\",\"offsetgroup\":\"Nuclear\",\"orientation\":\"v\",\"showlegend\":true,\"textposition\":\"auto\",\"x\":[2010,2011,2012,2013,2014,2015,2016,2017,2018,2019,2020,2021,2022],\"xaxis\":\"x\",\"y\":[56442.001000000004,62654.999,63949.001,64133.0,57903.001000000004,63894.555,65149.085,63886.861,59097.749999,51032.09,45668.029999,41661.544914,43381.479736],\"yaxis\":\"y\",\"type\":\"bar\"},{\"alignmentgroup\":\"True\",\"hovertemplate\":\"variable=Total combustible fuels<br>COUNTRY=United Kingdom<br>Year=%{x}<br>Energy Production (GWh)=%{y}<extra></extra>\",\"legendgroup\":\"Total combustible fuels\",\"marker\":{\"color\":\"#00cc96\",\"pattern\":{\"shape\":\"\"}},\"name\":\"Total combustible fuels\",\"offsetgroup\":\"Total combustible fuels\",\"orientation\":\"v\",\"showlegend\":true,\"textposition\":\"auto\",\"x\":[2010,2011,2012,2013,2014,2015,2016,2017,2018,2019,2020,2021,2022],\"xaxis\":\"x\",\"y\":[292471.0,264117.002,252492.999,238328.0,218994.0,206766.889,202924.79,189058.169,180979.429046,174431.788095,155443.249055,165975.431406,171395.613718],\"yaxis\":\"y\",\"type\":\"bar\"}],\"name\":\"United Kingdom\"},{\"data\":[{\"alignmentgroup\":\"True\",\"hovertemplate\":\"variable=Renewables<br>COUNTRY=United States<br>Year=%{x}<br>Energy Production (GWh)=%{y}<extra></extra>\",\"legendgroup\":\"Renewables\",\"marker\":{\"color\":\"#636efa\",\"pattern\":{\"shape\":\"\"}},\"name\":\"Renewables\",\"offsetgroup\":\"Renewables\",\"orientation\":\"v\",\"showlegend\":true,\"textposition\":\"auto\",\"x\":[2010,2011,2012,2013,2014,2015,2016,2017,2018,2019,2020,2021,2022],\"xaxis\":\"x\",\"y\":[456142.223,542625.391,522776.507,550184.829,568864.642,576983.186,647498.933,728586.908,750808.075112,775304.565448,806946.317152,887083.422503,975828.837692],\"yaxis\":\"y\",\"type\":\"bar\"},{\"alignmentgroup\":\"True\",\"hovertemplate\":\"variable=Nuclear<br>COUNTRY=United States<br>Year=%{x}<br>Energy Production (GWh)=%{y}<extra></extra>\",\"legendgroup\":\"Nuclear\",\"marker\":{\"color\":\"#EF553B\",\"pattern\":{\"shape\":\"\"}},\"name\":\"Nuclear\",\"offsetgroup\":\"Nuclear\",\"orientation\":\"v\",\"showlegend\":true,\"textposition\":\"auto\",\"x\":[2010,2011,2012,2013,2014,2015,2016,2017,2018,2019,2020,2021,2022],\"xaxis\":\"x\",\"y\":[806968.0009999999,790204.0009999999,769331.001,789016.001,797166.0,797177.9990000001,805693.9990000001,804949.636,807084.477,809409.262,789878.862999,778495.971713,771117.211015],\"yaxis\":\"y\",\"type\":\"bar\"},{\"alignmentgroup\":\"True\",\"hovertemplate\":\"variable=Total combustible fuels<br>COUNTRY=United States<br>Year=%{x}<br>Energy Production (GWh)=%{y}<extra></extra>\",\"legendgroup\":\"Total combustible fuels\",\"marker\":{\"color\":\"#00cc96\",\"pattern\":{\"shape\":\"\"}},\"name\":\"Total combustible fuels\",\"offsetgroup\":\"Total combustible fuels\",\"orientation\":\"v\",\"showlegend\":true,\"textposition\":\"auto\",\"x\":[2010,2011,2012,2013,2014,2015,2016,2017,2018,2019,2020,2021,2022],\"xaxis\":\"x\",\"y\":[2950567.0,2858253.0,2841637.002,2813302.002,2820210.0009999997,2796101.0,2726231.0039999997,2612576.973,2738238.906001,2665893.254001,2507875.051999,2593997.172835,2635812.373568],\"yaxis\":\"y\",\"type\":\"bar\"}],\"name\":\"United States\"}]);\n",
       "                        }).then(function(){\n",
       "                            \n",
       "var gd = document.getElementById('6e8b878f-4752-4833-93f0-ce844abad815');\n",
       "var x = new MutationObserver(function (mutations, observer) {{\n",
       "        var display = window.getComputedStyle(gd).display;\n",
       "        if (!display || display === 'none') {{\n",
       "            console.log([gd, 'removed!']);\n",
       "            Plotly.purge(gd);\n",
       "            observer.disconnect();\n",
       "        }}\n",
       "}});\n",
       "\n",
       "// Listen for the removal of the full notebook cells\n",
       "var notebookContainer = gd.closest('#notebook-container');\n",
       "if (notebookContainer) {{\n",
       "    x.observe(notebookContainer, {childList: true});\n",
       "}}\n",
       "\n",
       "// Listen for the clearing of the current output cell\n",
       "var outputEl = gd.closest('.output');\n",
       "if (outputEl) {{\n",
       "    x.observe(outputEl, {childList: true});\n",
       "}}\n",
       "\n",
       "                        })                };                });            </script>        </div>"
      ]
     },
     "metadata": {},
     "output_type": "display_data"
    }
   ],
   "source": [
    "fig_2 = px.bar(data_yearly_2, x=\"TIME\", y=[\"Renewables\", \"Nuclear\",  \"Total combustible fuels\"], animation_frame=\"COUNTRY\", title=\"Energy production over the year per energy type per country (GWh)\", labels={\"TIME\": \"Year\", \"value\": \"Energy Production (GWh)\"})\n",
    "fig_2['layout']['yaxis'].update(autorange = True)\n",
    "fig_2.show()"
   ]
  },
  {
   "cell_type": "code",
   "execution_count": 14,
   "id": "33af8d62",
   "metadata": {},
   "outputs": [
    {
     "data": {
      "application/vnd.jupyter.widget-view+json": {
       "model_id": "fd28f1e18a624a09aee66eede2ba0683",
       "version_major": 2,
       "version_minor": 0
      },
      "text/plain": [
       "interactive(children=(Dropdown(description='country', options=('%_RENEWABLE_PRODUCED', '%_NUCLEAR_PRODUCED', '…"
      ]
     },
     "metadata": {},
     "output_type": "display_data"
    }
   ],
   "source": [
    "display_en = [\"%_RENEWABLE_PRODUCED\", \"%_NUCLEAR_PRODUCED\", \"%_FOSSILE_PRODUCED\"]\n",
    "\n",
    "energy_select = interactive(dropdown, country=display_en)\n",
    "display(energy_select)"
   ]
  },
  {
   "cell_type": "code",
   "execution_count": 15,
   "id": "f4c4fb57",
   "metadata": {},
   "outputs": [
    {
     "data": {
      "application/vnd.plotly.v1+json": {
       "config": {
        "plotlyServerURL": "https://plot.ly"
       },
       "data": [
        {
         "hovertemplate": "TIME=2010<br>%_RENEWABLE_PRODUCED=%{r}<br>COUNTRY=%{theta}<extra></extra>",
         "legendgroup": "",
         "marker": {
          "color": "#636efa",
          "pattern": {
           "shape": ""
          }
         },
         "name": "",
         "r": [
          1.7810083737245326,
          6.98095843755017,
          7.312438472709112,
          7.350575312476135,
          7.533774948439617,
          7.60612724000313,
          8.021018283578194,
          9.072408037828419,
          9.727395954135979,
          10.00529687505322,
          10.320057857943434,
          13.155497256784646,
          14.131686723639666,
          14.59768744330563,
          17.461846931052996,
          18.36905192643433,
          23.63723513523795,
          23.669612532925164,
          25.30712307202477,
          25.745801767676767,
          29.30133518017794,
          29.540122907360473,
          30.723328944703265,
          31.06071759415817,
          34.4461857430461,
          38.073922401321894,
          49.685421904034335,
          52.30434509252292,
          52.86527322617934,
          55.02841019217266,
          57.81579822231817,
          64.55619441830112,
          69.18064312099779,
          88.8521947149809,
          95.98165640479543
         ],
         "showlegend": false,
         "subplot": "polar",
         "theta": [
          "Korea",
          "Poland",
          "Hungary",
          "United Kingdom",
          "Czech Republic",
          "Estonia",
          "Belgium",
          "Netherlands",
          "Australia",
          "Japan",
          "United States",
          "Ireland",
          "France",
          "Mexico",
          "Germany",
          "Greece",
          "Slovak Republic",
          "Republic of Turkiye",
          "Italy",
          "Lithuania",
          "Finland",
          "Slovenia",
          "Denmark",
          "Spain",
          "Luxembourg",
          "Chile",
          "Portugal",
          "Sweden",
          "Latvia",
          "Switzerland",
          "Canada",
          "Austria",
          "New Zealand",
          "Norway",
          "Iceland"
         ],
         "type": "barpolar"
        }
       ],
       "frames": [
        {
         "data": [
          {
           "hovertemplate": "TIME=2010<br>%_RENEWABLE_PRODUCED=%{r}<br>COUNTRY=%{theta}<extra></extra>",
           "legendgroup": "",
           "marker": {
            "color": "#636efa",
            "pattern": {
             "shape": ""
            }
           },
           "name": "",
           "r": [
            1.7810083737245326,
            6.98095843755017,
            7.312438472709112,
            7.350575312476135,
            7.533774948439617,
            7.60612724000313,
            8.021018283578194,
            9.072408037828419,
            9.727395954135979,
            10.00529687505322,
            10.320057857943434,
            13.155497256784646,
            14.131686723639666,
            14.59768744330563,
            17.461846931052996,
            18.36905192643433,
            23.63723513523795,
            23.669612532925164,
            25.30712307202477,
            25.745801767676767,
            29.30133518017794,
            29.540122907360473,
            30.723328944703265,
            31.06071759415817,
            34.4461857430461,
            38.073922401321894,
            49.685421904034335,
            52.30434509252292,
            52.86527322617934,
            55.02841019217266,
            57.81579822231817,
            64.55619441830112,
            69.18064312099779,
            88.8521947149809,
            95.98165640479543
           ],
           "showlegend": false,
           "subplot": "polar",
           "theta": [
            "Korea",
            "Poland",
            "Hungary",
            "United Kingdom",
            "Czech Republic",
            "Estonia",
            "Belgium",
            "Netherlands",
            "Australia",
            "Japan",
            "United States",
            "Ireland",
            "France",
            "Mexico",
            "Germany",
            "Greece",
            "Slovak Republic",
            "Republic of Turkiye",
            "Italy",
            "Lithuania",
            "Finland",
            "Slovenia",
            "Denmark",
            "Spain",
            "Luxembourg",
            "Chile",
            "Portugal",
            "Sweden",
            "Latvia",
            "Switzerland",
            "Canada",
            "Austria",
            "New Zealand",
            "Norway",
            "Iceland"
           ],
           "type": "barpolar"
          }
         ],
         "name": "2010"
        },
        {
         "data": [
          {
           "hovertemplate": "TIME=2011<br>%_RENEWABLE_PRODUCED=%{r}<br>COUNTRY=%{theta}<extra></extra>",
           "legendgroup": "",
           "marker": {
            "color": "#636efa",
            "pattern": {
             "shape": ""
            }
           },
           "name": "",
           "r": [
            2.0348008349081397,
            6.817961777284685,
            8.034473528418241,
            8.737871157598104,
            9.0459085900643,
            9.859866796672275,
            9.90262850519634,
            10.356819944756587,
            10.36208687867004,
            10.503381489966083,
            12.010383156274523,
            12.34456025020462,
            13.623961136624441,
            14.756854222733448,
            17.710295722995514,
            19.03329883239178,
            20.924628695766,
            22.7194054481461,
            24.886813578945567,
            26.679732232422737,
            28.403679539613,
            31.050240934782952,
            32.019050341762615,
            33.860788026327654,
            37.84804090258586,
            38.858036609771624,
            44.1376874984516,
            48.98158320278576,
            52.423791130099865,
            52.94373900996102,
            58.742203667488255,
            63.98835501601222,
            71.94844014852585,
            91.3188598907234,
            97.08999654258385
           ],
           "showlegend": false,
           "subplot": "polar",
           "theta": [
            "Korea",
            "Hungary",
            "Poland",
            "Estonia",
            "Czech Republic",
            "Australia",
            "United Kingdom",
            "Belgium",
            "Japan",
            "Netherlands",
            "France",
            "United States",
            "Mexico",
            "Greece",
            "Slovak Republic",
            "Ireland",
            "Germany",
            "Republic of Turkiye",
            "Slovenia",
            "Italy",
            "Spain",
            "Lithuania",
            "Finland",
            "Luxembourg",
            "Chile",
            "Denmark",
            "Portugal",
            "Latvia",
            "Switzerland",
            "Sweden",
            "Canada",
            "Austria",
            "New Zealand",
            "Norway",
            "Iceland"
           ],
           "type": "barpolar"
          }
         ],
         "name": "2011"
        },
        {
         "data": [
          {
           "hovertemplate": "TIME=2012<br>%_RENEWABLE_PRODUCED=%{r}<br>COUNTRY=%{theta}<extra></extra>",
           "legendgroup": "",
           "marker": {
            "color": "#636efa",
            "pattern": {
             "shape": ""
            }
           },
           "name": "",
           "r": [
            1.9898238744461794,
            6.925271291119782,
            9.943870715773528,
            10.062389104522296,
            10.284167269375036,
            11.636047067878552,
            11.672991527479901,
            11.849550789137158,
            11.93280733465134,
            12.029177517030016,
            12.684050011567038,
            13.726747458984825,
            15.19983828035236,
            17.052829096172985,
            19.101037911322884,
            19.25115029545984,
            23.455496285599832,
            24.236662657905644,
            28.31186488987955,
            28.408695948544167,
            29.719868722448624,
            29.91467305321151,
            34.40459528393711,
            35.869977526932246,
            39.336388836768,
            40.2710027827115,
            46.27816875115449,
            56.0851382998924,
            57.4081987373649,
            59.8634822099921,
            64.14111391977625,
            67.99363571092236,
            72.37575124636814,
            92.23292959152334,
            97.2500334326885
           ],
           "showlegend": false,
           "subplot": "polar",
           "theta": [
            "Korea",
            "Hungary",
            "Czech Republic",
            "Japan",
            "Poland",
            "United Kingdom",
            "Netherlands",
            "Estonia",
            "Australia",
            "United States",
            "Mexico",
            "Belgium",
            "France",
            "Greece",
            "Ireland",
            "Slovak Republic",
            "Germany",
            "Republic of Turkiye",
            "Spain",
            "Slovenia",
            "Lithuania",
            "Italy",
            "Luxembourg",
            "Chile",
            "Finland",
            "Portugal",
            "Denmark",
            "Sweden",
            "Switzerland",
            "Canada",
            "Latvia",
            "New Zealand",
            "Austria",
            "Norway",
            "Iceland"
           ],
           "type": "barpolar"
          }
         ],
         "name": "2012"
        },
        {
         "data": [
          {
           "hovertemplate": "TIME=2013<br>%_RENEWABLE_PRODUCED=%{r}<br>COUNTRY=%{theta}<extra></extra>",
           "legendgroup": "",
           "marker": {
            "color": "#636efa",
            "pattern": {
             "shape": ""
            }
           },
           "name": "",
           "r": [
            2.3623735549437477,
            8.162077788460966,
            8.990194011487821,
            10.438123508113947,
            10.827279983676688,
            11.54828017448151,
            11.595323855793454,
            11.800071915817483,
            12.651641165763671,
            14.640598327628517,
            15.055954442003047,
            15.122131167982461,
            17.291193862931717,
            21.905137508719406,
            22.006995560647287,
            24.514339903238984,
            25.42727304933133,
            25.46156829293039,
            33.23472772330717,
            34.35814060135943,
            34.9910946235829,
            37.2217655791877,
            37.536499025134646,
            37.92750443799961,
            44.697372236048146,
            46.30031160091191,
            51.466532019571844,
            53.43161230875224,
            54.12834351160246,
            56.99213899947772,
            60.11164022508911,
            70.24510318689832,
            75.28480139565936,
            92.11775535868198,
            97.93730271035159
           ],
           "showlegend": false,
           "subplot": "polar",
           "theta": [
            "Korea",
            "Hungary",
            "Estonia",
            "Poland",
            "Japan",
            "Netherlands",
            "Czech Republic",
            "Mexico",
            "United States",
            "Australia",
            "United Kingdom",
            "Belgium",
            "France",
            "Ireland",
            "Slovak Republic",
            "Germany",
            "Greece",
            "Republic of Turkiye",
            "Slovenia",
            "Chile",
            "Finland",
            "Italy",
            "Spain",
            "Lithuania",
            "Denmark",
            "Luxembourg",
            "Sweden",
            "Latvia",
            "Portugal",
            "Switzerland",
            "Canada",
            "New Zealand",
            "Austria",
            "Norway",
            "Iceland"
           ],
           "type": "barpolar"
          }
         ],
         "name": "2013"
        },
        {
         "data": [
          {
           "hovertemplate": "TIME=2014<br>%_RENEWABLE_PRODUCED=%{r}<br>COUNTRY=%{theta}<extra></extra>",
           "legendgroup": "",
           "marker": {
            "color": "#636efa",
            "pattern": {
             "shape": ""
            }
           },
           "name": "",
           "r": [
            2.460561511404082,
            9.3982841544261,
            10.941070355034132,
            11.006104379563896,
            11.678718223786506,
            11.68169974138345,
            12.446280730932688,
            12.991116940108347,
            13.131821606727087,
            15.72797989023421,
            16.900085574589404,
            17.61511043803667,
            17.932933959196166,
            18.539689216924312,
            22.803116881012574,
            24.138065640045117,
            24.28676033300879,
            26.548412557301415,
            37.39139743028505,
            37.936459112820856,
            39.119890435255,
            40.56454998501206,
            41.52279231911508,
            43.192709798476905,
            46.80586285870339,
            51.545420750357515,
            53.87814932504704,
            54.00067204944526,
            56.06282202963116,
            56.41210730958519,
            59.425637113399496,
            64.8949877318625,
            74.85511745633723,
            78.25184342208942,
            92.6718912947014,
            97.26242873136516
           ],
           "showlegend": false,
           "subplot": "polar",
           "theta": [
            "Korea",
            "Hungary",
            "Estonia",
            "Netherlands",
            "Czech Republic",
            "Japan",
            "Poland",
            "United States",
            "Australia",
            "Mexico",
            "France",
            "United Kingdom",
            "Belgium",
            "Republic of Turkiye",
            "Slovak Republic",
            "Greece",
            "Ireland",
            "Germany",
            "Finland",
            "Spain",
            "Slovenia",
            "Chile",
            "Italy",
            "Lithuania",
            "Luxembourg",
            "Latvia",
            "Denmark",
            "Sweden",
            "Switzerland",
            "Portugal",
            "Canada",
            "Colombia",
            "New Zealand",
            "Austria",
            "Norway",
            "Iceland"
           ],
           "type": "barpolar"
          }
         ],
         "name": "2014"
        },
        {
         "data": [
          {
           "hovertemplate": "TIME=2015<br>%_RENEWABLE_PRODUCED=%{r}<br>COUNTRY=%{theta}<extra></extra>",
           "legendgroup": "",
           "marker": {
            "color": "#636efa",
            "pattern": {
             "shape": ""
            }
           },
           "name": "",
           "r": [
            2.567828198163703,
            7.156242539565391,
            8.76275831580184,
            9.386424858985855,
            12.116301155580562,
            12.506999463109523,
            13.219790717970115,
            13.76406635381669,
            13.772904998480422,
            13.990459841267496,
            14.145940735134685,
            14.313422039817395,
            15.740078916228379,
            16.17671695837775,
            18.746697337840175,
            21.50211491977817,
            22.431045341781775,
            22.71001788943693,
            24.672221422009592,
            26.291052062882375,
            27.343266249962134,
            27.632689557452622,
            28.535482215425866,
            29.70627444381716,
            30.222657091654977,
            31.8036210971242,
            33.00359773849725,
            36.9815275556947,
            38.47781349542652,
            42.006863387362685,
            42.29830387528129,
            43.38830564991172,
            45.06992052054995,
            48.061009763907364,
            59.227655906811236,
            59.535063037143054,
            59.804009218976276,
            61.23314401353947,
            62.01728774246832,
            62.77764932453581,
            63.856929397290244,
            73.98722718204496,
            75.69139457555822,
            76.10419790327909,
            92.86927056257899,
            96.96876732191568
           ],
           "showlegend": false,
           "subplot": "polar",
           "theta": [
            "Korea",
            "Malta",
            "Cyprus",
            "Hungary",
            "Netherlands",
            "Czech Republic",
            "United States",
            "Mexico",
            "Poland",
            "Australia",
            "Japan",
            "Estonia",
            "India",
            "France",
            "Bulgaria",
            "Belgium",
            "United Kingdom",
            "Slovak Republic",
            "Argentina",
            "Serbia",
            "Ireland",
            "Greece",
            "Republic of Turkiye",
            "Germany",
            "Slovenia",
            "North Macedonia",
            "Spain",
            "Italy",
            "Romania",
            "Lithuania",
            "Chile",
            "Finland",
            "Portugal",
            "Latvia",
            "Colombia",
            "Croatia",
            "Switzerland",
            "Sweden",
            "Canada",
            "Denmark",
            "Luxembourg",
            "Austria",
            "New Zealand",
            "Brazil",
            "Norway",
            "Iceland"
           ],
           "type": "barpolar"
          }
         ],
         "name": "2015"
        },
        {
         "data": [
          {
           "hovertemplate": "TIME=2016<br>%_RENEWABLE_PRODUCED=%{r}<br>COUNTRY=%{theta}<extra></extra>",
           "legendgroup": "",
           "marker": {
            "color": "#636efa",
            "pattern": {
             "shape": ""
            }
           },
           "name": "",
           "r": [
            3.4274540842075747,
            8.560819106979665,
            9.142212288460755,
            12.470264708398188,
            12.527432442436739,
            12.950028673409776,
            13.26358760499024,
            13.744241964416275,
            13.806338185176777,
            14.518535292583401,
            14.87049875633967,
            17.011916103535537,
            17.05984641519777,
            17.072619640093347,
            17.526785547684923,
            17.75411998842335,
            22.569448472177058,
            24.168856816750413,
            24.41911227461853,
            25.0088666482687,
            27.473769561333512,
            27.748313730773088,
            29.636015642944592,
            29.786323108222373,
            31.941846726193013,
            32.35818283026828,
            36.05191281653287,
            36.19864203334857,
            40.13967380357512,
            42.265374044097506,
            43.051441741595795,
            51.922770288393785,
            52.568609255531065,
            52.76435023687574,
            54.91725973882835,
            58.06891436639873,
            59.597515296140294,
            59.85381691216226,
            61.24478219840198,
            62.83063821798744,
            75.35498053280608,
            79.37927625904958,
            79.6809286142823,
            81.2114273548593,
            92.10524387788848,
            97.36342995898097
           ],
           "showlegend": false,
           "subplot": "polar",
           "theta": [
            "Korea",
            "Cyprus",
            "Hungary",
            "Czech Republic",
            "Netherlands",
            "Estonia",
            "Malta",
            "Poland",
            "Mexico",
            "Japan",
            "United States",
            "Australia",
            "India",
            "Bulgaria",
            "Belgium",
            "France",
            "Argentina",
            "United Kingdom",
            "Ireland",
            "Slovak Republic",
            "Greece",
            "Serbia",
            "Germany",
            "Republic of Turkiye",
            "Slovenia",
            "North Macedonia",
            "Italy",
            "Spain",
            "Romania",
            "Chile",
            "Finland",
            "Portugal",
            "Latvia",
            "Lithuania",
            "Sweden",
            "Denmark",
            "Switzerland",
            "Croatia",
            "Colombia",
            "Canada",
            "Austria",
            "New Zealand",
            "Luxembourg",
            "Brazil",
            "Norway",
            "Iceland"
           ],
           "type": "barpolar"
          }
         ],
         "name": "2016"
        },
        {
         "data": [
          {
           "hovertemplate": "TIME=2017<br>%_RENEWABLE_PRODUCED=%{r}<br>COUNTRY=%{theta}<extra></extra>",
           "legendgroup": "",
           "marker": {
            "color": "#636efa",
            "pattern": {
             "shape": ""
            }
           },
           "name": "",
           "r": [
            4.001217118151268,
            8.642115123806327,
            9.587230213326047,
            9.816569735693223,
            12.11013439154356,
            14.04810978849286,
            14.264589819256349,
            14.301887138990663,
            14.53132723131769,
            14.947019597023258,
            15.387219951579839,
            15.910140794038078,
            16.763238921098317,
            16.896271005688043,
            17.425703462211946,
            19.061141268164356,
            20.360444825833575,
            24.490576596309612,
            24.51973575964835,
            25.059556807034,
            26.779757529173065,
            26.815693661421967,
            28.04765699390065,
            28.456484588160546,
            28.682833964083965,
            30.5510678831659,
            33.51429199907389,
            34.0515341801736,
            36.670993460735325,
            38.05088675242184,
            42.051194130256434,
            45.23440196480861,
            54.08691627860621,
            55.38636501466934,
            60.7799536489256,
            61.732930435822176,
            64.18146488548271,
            67.86261304468466,
            70.49563111476893,
            73.30021579780711,
            74.74083134677954,
            76.62136452423088,
            80.03026894223866,
            81.29258487743563,
            92.1426582215525,
            96.94872167404355
           ],
           "showlegend": false,
           "subplot": "polar",
           "theta": [
            "Korea",
            "Cyprus",
            "Hungary",
            "Malta",
            "Czech Republic",
            "Estonia",
            "Mexico",
            "Poland",
            "Netherlands",
            "Bulgaria",
            "Australia",
            "Japan",
            "France",
            "United States",
            "India",
            "Belgium",
            "North Macedonia",
            "Argentina",
            "Slovak Republic",
            "Serbia",
            "Greece",
            "Republic of Turkiye",
            "Ireland",
            "Slovenia",
            "United Kingdom",
            "Spain",
            "Germany",
            "Italy",
            "Romania",
            "Portugal",
            "Chile",
            "Finland",
            "Croatia",
            "Sweden",
            "Switzerland",
            "Lithuania",
            "Canada",
            "Denmark",
            "Latvia",
            "Austria",
            "Colombia",
            "New Zealand",
            "Brazil",
            "Luxembourg",
            "Norway",
            "Iceland"
           ],
           "type": "barpolar"
          }
         ],
         "name": "2017"
        },
        {
         "data": [
          {
           "hovertemplate": "TIME=2018<br>%_RENEWABLE_PRODUCED=%{r}<br>COUNTRY=%{theta}<extra></extra>",
           "legendgroup": "",
           "marker": {
            "color": "#636efa",
            "pattern": {
             "shape": ""
            }
           },
           "name": "",
           "r": [
            4.5454509922455175,
            9.519035244033258,
            9.64048677344277,
            10.64608728924679,
            11.629504285814447,
            12.834146554663404,
            14.176761806219945,
            15.660651826474293,
            16.155865805891438,
            16.6335209101458,
            16.879437366380667,
            18.066500806985324,
            19.443472483060706,
            19.71622373844337,
            20.461730533615533,
            22.24894005798349,
            23.3961083566084,
            24.895961186218997,
            27.899691699984242,
            29.409002137325867,
            29.460566339577433,
            30.970220697311735,
            31.902537252970543,
            32.28896080889448,
            32.66893379666014,
            35.36543491473778,
            35.82116115330034,
            38.21981363179576,
            39.17728493608836,
            44.26219060401208,
            44.72094688537088,
            47.887956973885416,
            50.64347733511122,
            53.07929004719847,
            57.51984836114092,
            61.78768203686037,
            64.00130589971248,
            64.75902495068507,
            64.83830378138632,
            70.27286002208075,
            74.3698978027454,
            78.65497528578138,
            82.08533959208411,
            83.0575798679935,
            92.10968758264112,
            97.2179009896368
           ],
           "showlegend": false,
           "subplot": "polar",
           "theta": [
            "Korea",
            "Cyprus",
            "Malta",
            "Hungary",
            "Czech Republic",
            "Poland",
            "Mexico",
            "Estonia",
            "Netherlands",
            "Japan",
            "United States",
            "India",
            "Australia",
            "France",
            "Bulgaria",
            "Slovak Republic",
            "Belgium",
            "Argentina",
            "Greece",
            "Serbia",
            "Republic of Turkiye",
            "North Macedonia",
            "Ireland",
            "United Kingdom",
            "Slovenia",
            "Germany",
            "Spain",
            "Italy",
            "Romania",
            "Finland",
            "Chile",
            "Portugal",
            "Latvia",
            "Sweden",
            "Switzerland",
            "Lithuania",
            "Canada",
            "Croatia",
            "Denmark",
            "Colombia",
            "Austria",
            "New Zealand",
            "Luxembourg",
            "Brazil",
            "Norway",
            "Iceland"
           ],
           "type": "barpolar"
          }
         ],
         "name": "2018"
        },
        {
         "data": [
          {
           "hovertemplate": "TIME=2019<br>%_RENEWABLE_PRODUCED=%{r}<br>COUNTRY=%{theta}<extra></extra>",
           "legendgroup": "",
           "marker": {
            "color": "#636efa",
            "pattern": {
             "shape": ""
            }
           },
           "name": "",
           "r": [
            5.278000043404165,
            9.369681734417213,
            10.042533775617258,
            12.606110413659493,
            12.611311741793447,
            14.790792965344721,
            16.69480128012616,
            17.25470261511649,
            17.768676654469804,
            17.788878362461244,
            18.3815436383714,
            19.92274904782167,
            20.243220370563606,
            20.54353501936848,
            21.296685022659826,
            21.34137032647697,
            23.460042916058203,
            26.06332377011616,
            27.112272983826625,
            28.641731302438657,
            32.063896006635744,
            32.63261863922676,
            34.8493678657473,
            35.67320712763514,
            36.87761358077531,
            38.2278979063493,
            39.60335977005859,
            40.139140211455256,
            40.38231023291242,
            44.81961076788995,
            45.606827272600356,
            48.09941656438738,
            50.09154218542078,
            55.57036021098194,
            58.848048558289875,
            59.54006347352022,
            63.84894728561983,
            64.05928085642938,
            65.75800527882176,
            72.99893553835183,
            74.56419097688824,
            77.41180814436065,
            79.74934899841982,
            83.01432273986096,
            92.12177435228693,
            97.52907335835668
           ],
           "showlegend": false,
           "subplot": "polar",
           "theta": [
            "Korea",
            "Malta",
            "Cyprus",
            "Czech Republic",
            "Hungary",
            "Mexico",
            "Poland",
            "Japan",
            "United States",
            "Bulgaria",
            "Netherlands",
            "France",
            "India",
            "North Macedonia",
            "Australia",
            "Belgium",
            "Slovak Republic",
            "Argentina",
            "Estonia",
            "Serbia",
            "Slovenia",
            "Greece",
            "Spain",
            "United Kingdom",
            "Ireland",
            "Italy",
            "Germany",
            "Romania",
            "Republic of Turkiye",
            "Finland",
            "Chile",
            "Latvia",
            "Portugal",
            "Sweden",
            "Switzerland",
            "Croatia",
            "Canada",
            "Lithuania",
            "Colombia",
            "Denmark",
            "Austria",
            "New Zealand",
            "Luxembourg",
            "Brazil",
            "Norway",
            "Iceland"
           ],
           "type": "barpolar"
          }
         ],
         "name": "2019"
        },
        {
         "data": [
          {
           "hovertemplate": "TIME=2020<br>%_RENEWABLE_PRODUCED=%{r}<br>COUNTRY=%{theta}<extra></extra>",
           "legendgroup": "",
           "marker": {
            "color": "#636efa",
            "pattern": {
             "shape": ""
            }
           },
           "name": "",
           "r": [
            6.371951014806013,
            10.653946933234188,
            12.301488420276794,
            13.91988578840567,
            14.777076445788145,
            17.111073823081295,
            18.92602403458121,
            19.30882129789591,
            19.350460751617383,
            19.696306559445294,
            21.56499420070938,
            22.706957738360135,
            23.452202895858264,
            24.79807409885296,
            24.948417662948337,
            26.333278301780272,
            26.452585130740143,
            26.92569494979029,
            27.35550756804137,
            31.39220595281863,
            33.72464330053348,
            38.422944832849865,
            40.33056034738783,
            40.332050478928956,
            40.56688151061741,
            40.847245273958336,
            41.354390028231734,
            42.30919372826682,
            43.659619343280156,
            48.09637489461322,
            49.94166716551148,
            51.009799238644185,
            55.87190994038046,
            58.47522452870355,
            60.90913703113212,
            60.99495149512213,
            61.38462244077098,
            64.64432261463739,
            65.48117211047388,
            76.21903542736563,
            77.19050402571297,
            79.59447430354884,
            83.56333715359679,
            84.81142363243363,
            93.02612313984612,
            97.34369048414658
           ],
           "showlegend": false,
           "subplot": "polar",
           "theta": [
            "Korea",
            "Malta",
            "Cyprus",
            "Czech Republic",
            "Hungary",
            "Mexico",
            "Poland",
            "Bulgaria",
            "United States",
            "Japan",
            "India",
            "Slovak Republic",
            "France",
            "North Macedonia",
            "Australia",
            "Netherlands",
            "Argentina",
            "Belgium",
            "Serbia",
            "Estonia",
            "Slovenia",
            "Greece",
            "Italy",
            "Republic of Turkiye",
            "Ireland",
            "Spain",
            "United Kingdom",
            "Romania",
            "Germany",
            "Chile",
            "Finland",
            "Lithuania",
            "Portugal",
            "Croatia",
            "Switzerland",
            "Latvia",
            "Colombia",
            "Sweden",
            "Canada",
            "New Zealand",
            "Austria",
            "Denmark",
            "Luxembourg",
            "Brazil",
            "Norway",
            "Iceland"
           ],
           "type": "barpolar"
          }
         ],
         "name": "2020"
        },
        {
         "data": [
          {
           "hovertemplate": "TIME=2021<br>%_RENEWABLE_PRODUCED=%{r}<br>COUNTRY=%{theta}<extra></extra>",
           "legendgroup": "",
           "marker": {
            "color": "#636efa",
            "pattern": {
             "shape": ""
            }
           },
           "name": "",
           "r": [
            7.4120614602065675,
            10.975735724894802,
            13.652117240526678,
            14.965165512576217,
            18.40186446993739,
            18.415110820769883,
            19.263145376922857,
            20.316312427972182,
            20.516276144199928,
            20.954020585985166,
            21.989751701420417,
            22.023308709620643,
            22.781933179253947,
            23.4391228389066,
            28.10168090224402,
            29.80215863100597,
            30.590746388305984,
            32.16389731636889,
            32.89806387905658,
            33.20602931255024,
            34.31639829714942,
            34.96914115567561,
            36.600089381867846,
            38.50698219843891,
            39.43884438219989,
            39.86893373873583,
            43.175328031059024,
            43.37623805872772,
            47.17712686708448,
            47.37704678785043,
            51.021905910334596,
            55.359994917337474,
            60.345509361197294,
            61.16124199065046,
            63.81233005909907,
            64.2633976308321,
            64.318949563614,
            64.80810124935198,
            69.85730528258881,
            75.00417403274345,
            75.69871721877512,
            75.88004604155985,
            77.12155919709211,
            83.1743723615872,
            92.21938636292332,
            93.63066008839164,
            97.34837231346233
           ],
           "showlegend": false,
           "subplot": "polar",
           "theta": [
            "Korea",
            "Malta",
            "Czech Republic",
            "Cyprus",
            "Hungary",
            "Poland",
            "Mexico",
            "Japan",
            "United States",
            "India",
            "France",
            "Bulgaria",
            "Slovak Republic",
            "Belgium",
            "Argentina",
            "Australia",
            "North Macedonia",
            "Ireland",
            "Republic of Turkiye",
            "Netherlands",
            "Serbia",
            "Slovenia",
            "Greece",
            "United Kingdom",
            "Italy",
            "Germany",
            "Estonia",
            "Spain",
            "Chile",
            "Romania",
            "Finland",
            "Lithuania",
            "Latvia",
            "Portugal",
            "Croatia",
            "Switzerland",
            "Sweden",
            "Canada",
            "Colombia",
            "Brazil",
            "Denmark",
            "Austria",
            "New Zealand",
            "Luxembourg",
            "Costa Rica",
            "Norway",
            "Iceland"
           ],
           "type": "barpolar"
          }
         ],
         "name": "2021"
        },
        {
         "data": [
          {
           "hovertemplate": "TIME=2022<br>%_RENEWABLE_PRODUCED=%{r}<br>COUNTRY=%{theta}<extra></extra>",
           "legendgroup": "",
           "marker": {
            "color": "#636efa",
            "pattern": {
             "shape": ""
            }
           },
           "name": "",
           "r": [
            8.620069190074876,
            11.625188981709096,
            13.488216748143532,
            17.558414535493206,
            18.970783337624407,
            19.828214547592644,
            19.982187283195064,
            20.96023354004707,
            21.108723965788272,
            21.237627320686933,
            22.753245531286797,
            22.853077732158937,
            24.177908412165376,
            26.018741372350185,
            27.86774558053342,
            30.33768118042022,
            30.82548007595075,
            31.760044518299097,
            33.2856395611311,
            34.40448710823095,
            38.27646570440718,
            38.697689936753605,
            38.87659864228248,
            38.97626250185489,
            39.451012596118765,
            40.517409992796374,
            42.20494816029374,
            43.19127721141432,
            46.14546143023409,
            52.95910888560994,
            53.03346301866878,
            55.08913868680675,
            56.27835368373771,
            57.15748888294048,
            57.33458641068182,
            65.41952404590427,
            66.36587549536402,
            71.06820388924801,
            73.00782616555635,
            75.01595544727915,
            77.04475768931638,
            82.35974371307137,
            86.68144365450121,
            90.95991728218932,
            91.22443236169003,
            92.97123264613826,
            97.34207778110633
           ],
           "showlegend": false,
           "subplot": "polar",
           "theta": [
            "Korea",
            "Malta",
            "Czech Republic",
            "Cyprus",
            "Bulgaria",
            "Mexico",
            "Hungary",
            "Japan",
            "Poland",
            "United States",
            "India",
            "Slovak Republic",
            "France",
            "Belgium",
            "North Macedonia",
            "Slovenia",
            "Argentina",
            "Serbia",
            "Australia",
            "Italy",
            "Estonia",
            "Ireland",
            "Republic of Turkiye",
            "Netherlands",
            "Spain",
            "United Kingdom",
            "Greece",
            "Germany",
            "Romania",
            "Finland",
            "Chile",
            "Portugal",
            "Lithuania",
            "Croatia",
            "Switzerland",
            "Sweden",
            "Canada",
            "Latvia",
            "Colombia",
            "Austria",
            "Denmark",
            "New Zealand",
            "Luxembourg",
            "Costa Rica",
            "Brazil",
            "Norway",
            "Iceland"
           ],
           "type": "barpolar"
          }
         ],
         "name": "2022"
        }
       ],
       "layout": {
        "barmode": "relative",
        "legend": {
         "tracegroupgap": 0
        },
        "polar": {
         "angularaxis": {
          "direction": "clockwise",
          "rotation": 90
         },
         "domain": {
          "x": [
           0,
           1
          ],
          "y": [
           0,
           1
          ]
         }
        },
        "sliders": [
         {
          "active": 0,
          "currentvalue": {
           "prefix": "TIME="
          },
          "len": 0.9,
          "pad": {
           "b": 10,
           "t": 60
          },
          "steps": [
           {
            "args": [
             [
              "2010"
             ],
             {
              "frame": {
               "duration": 0,
               "redraw": true
              },
              "fromcurrent": true,
              "mode": "immediate",
              "transition": {
               "duration": 0,
               "easing": "linear"
              }
             }
            ],
            "label": "2010",
            "method": "animate"
           },
           {
            "args": [
             [
              "2011"
             ],
             {
              "frame": {
               "duration": 0,
               "redraw": true
              },
              "fromcurrent": true,
              "mode": "immediate",
              "transition": {
               "duration": 0,
               "easing": "linear"
              }
             }
            ],
            "label": "2011",
            "method": "animate"
           },
           {
            "args": [
             [
              "2012"
             ],
             {
              "frame": {
               "duration": 0,
               "redraw": true
              },
              "fromcurrent": true,
              "mode": "immediate",
              "transition": {
               "duration": 0,
               "easing": "linear"
              }
             }
            ],
            "label": "2012",
            "method": "animate"
           },
           {
            "args": [
             [
              "2013"
             ],
             {
              "frame": {
               "duration": 0,
               "redraw": true
              },
              "fromcurrent": true,
              "mode": "immediate",
              "transition": {
               "duration": 0,
               "easing": "linear"
              }
             }
            ],
            "label": "2013",
            "method": "animate"
           },
           {
            "args": [
             [
              "2014"
             ],
             {
              "frame": {
               "duration": 0,
               "redraw": true
              },
              "fromcurrent": true,
              "mode": "immediate",
              "transition": {
               "duration": 0,
               "easing": "linear"
              }
             }
            ],
            "label": "2014",
            "method": "animate"
           },
           {
            "args": [
             [
              "2015"
             ],
             {
              "frame": {
               "duration": 0,
               "redraw": true
              },
              "fromcurrent": true,
              "mode": "immediate",
              "transition": {
               "duration": 0,
               "easing": "linear"
              }
             }
            ],
            "label": "2015",
            "method": "animate"
           },
           {
            "args": [
             [
              "2016"
             ],
             {
              "frame": {
               "duration": 0,
               "redraw": true
              },
              "fromcurrent": true,
              "mode": "immediate",
              "transition": {
               "duration": 0,
               "easing": "linear"
              }
             }
            ],
            "label": "2016",
            "method": "animate"
           },
           {
            "args": [
             [
              "2017"
             ],
             {
              "frame": {
               "duration": 0,
               "redraw": true
              },
              "fromcurrent": true,
              "mode": "immediate",
              "transition": {
               "duration": 0,
               "easing": "linear"
              }
             }
            ],
            "label": "2017",
            "method": "animate"
           },
           {
            "args": [
             [
              "2018"
             ],
             {
              "frame": {
               "duration": 0,
               "redraw": true
              },
              "fromcurrent": true,
              "mode": "immediate",
              "transition": {
               "duration": 0,
               "easing": "linear"
              }
             }
            ],
            "label": "2018",
            "method": "animate"
           },
           {
            "args": [
             [
              "2019"
             ],
             {
              "frame": {
               "duration": 0,
               "redraw": true
              },
              "fromcurrent": true,
              "mode": "immediate",
              "transition": {
               "duration": 0,
               "easing": "linear"
              }
             }
            ],
            "label": "2019",
            "method": "animate"
           },
           {
            "args": [
             [
              "2020"
             ],
             {
              "frame": {
               "duration": 0,
               "redraw": true
              },
              "fromcurrent": true,
              "mode": "immediate",
              "transition": {
               "duration": 0,
               "easing": "linear"
              }
             }
            ],
            "label": "2020",
            "method": "animate"
           },
           {
            "args": [
             [
              "2021"
             ],
             {
              "frame": {
               "duration": 0,
               "redraw": true
              },
              "fromcurrent": true,
              "mode": "immediate",
              "transition": {
               "duration": 0,
               "easing": "linear"
              }
             }
            ],
            "label": "2021",
            "method": "animate"
           },
           {
            "args": [
             [
              "2022"
             ],
             {
              "frame": {
               "duration": 0,
               "redraw": true
              },
              "fromcurrent": true,
              "mode": "immediate",
              "transition": {
               "duration": 0,
               "easing": "linear"
              }
             }
            ],
            "label": "2022",
            "method": "animate"
           }
          ],
          "x": 0.1,
          "xanchor": "left",
          "y": 0,
          "yanchor": "top"
         }
        ],
        "template": {
         "data": {
          "bar": [
           {
            "error_x": {
             "color": "#f2f5fa"
            },
            "error_y": {
             "color": "#f2f5fa"
            },
            "marker": {
             "line": {
              "color": "rgb(17,17,17)",
              "width": 0.5
             },
             "pattern": {
              "fillmode": "overlay",
              "size": 10,
              "solidity": 0.2
             }
            },
            "type": "bar"
           }
          ],
          "barpolar": [
           {
            "marker": {
             "line": {
              "color": "rgb(17,17,17)",
              "width": 0.5
             },
             "pattern": {
              "fillmode": "overlay",
              "size": 10,
              "solidity": 0.2
             }
            },
            "type": "barpolar"
           }
          ],
          "carpet": [
           {
            "aaxis": {
             "endlinecolor": "#A2B1C6",
             "gridcolor": "#506784",
             "linecolor": "#506784",
             "minorgridcolor": "#506784",
             "startlinecolor": "#A2B1C6"
            },
            "baxis": {
             "endlinecolor": "#A2B1C6",
             "gridcolor": "#506784",
             "linecolor": "#506784",
             "minorgridcolor": "#506784",
             "startlinecolor": "#A2B1C6"
            },
            "type": "carpet"
           }
          ],
          "choropleth": [
           {
            "colorbar": {
             "outlinewidth": 0,
             "ticks": ""
            },
            "type": "choropleth"
           }
          ],
          "contour": [
           {
            "colorbar": {
             "outlinewidth": 0,
             "ticks": ""
            },
            "colorscale": [
             [
              0,
              "#0d0887"
             ],
             [
              0.1111111111111111,
              "#46039f"
             ],
             [
              0.2222222222222222,
              "#7201a8"
             ],
             [
              0.3333333333333333,
              "#9c179e"
             ],
             [
              0.4444444444444444,
              "#bd3786"
             ],
             [
              0.5555555555555556,
              "#d8576b"
             ],
             [
              0.6666666666666666,
              "#ed7953"
             ],
             [
              0.7777777777777778,
              "#fb9f3a"
             ],
             [
              0.8888888888888888,
              "#fdca26"
             ],
             [
              1,
              "#f0f921"
             ]
            ],
            "type": "contour"
           }
          ],
          "contourcarpet": [
           {
            "colorbar": {
             "outlinewidth": 0,
             "ticks": ""
            },
            "type": "contourcarpet"
           }
          ],
          "heatmap": [
           {
            "colorbar": {
             "outlinewidth": 0,
             "ticks": ""
            },
            "colorscale": [
             [
              0,
              "#0d0887"
             ],
             [
              0.1111111111111111,
              "#46039f"
             ],
             [
              0.2222222222222222,
              "#7201a8"
             ],
             [
              0.3333333333333333,
              "#9c179e"
             ],
             [
              0.4444444444444444,
              "#bd3786"
             ],
             [
              0.5555555555555556,
              "#d8576b"
             ],
             [
              0.6666666666666666,
              "#ed7953"
             ],
             [
              0.7777777777777778,
              "#fb9f3a"
             ],
             [
              0.8888888888888888,
              "#fdca26"
             ],
             [
              1,
              "#f0f921"
             ]
            ],
            "type": "heatmap"
           }
          ],
          "heatmapgl": [
           {
            "colorbar": {
             "outlinewidth": 0,
             "ticks": ""
            },
            "colorscale": [
             [
              0,
              "#0d0887"
             ],
             [
              0.1111111111111111,
              "#46039f"
             ],
             [
              0.2222222222222222,
              "#7201a8"
             ],
             [
              0.3333333333333333,
              "#9c179e"
             ],
             [
              0.4444444444444444,
              "#bd3786"
             ],
             [
              0.5555555555555556,
              "#d8576b"
             ],
             [
              0.6666666666666666,
              "#ed7953"
             ],
             [
              0.7777777777777778,
              "#fb9f3a"
             ],
             [
              0.8888888888888888,
              "#fdca26"
             ],
             [
              1,
              "#f0f921"
             ]
            ],
            "type": "heatmapgl"
           }
          ],
          "histogram": [
           {
            "marker": {
             "pattern": {
              "fillmode": "overlay",
              "size": 10,
              "solidity": 0.2
             }
            },
            "type": "histogram"
           }
          ],
          "histogram2d": [
           {
            "colorbar": {
             "outlinewidth": 0,
             "ticks": ""
            },
            "colorscale": [
             [
              0,
              "#0d0887"
             ],
             [
              0.1111111111111111,
              "#46039f"
             ],
             [
              0.2222222222222222,
              "#7201a8"
             ],
             [
              0.3333333333333333,
              "#9c179e"
             ],
             [
              0.4444444444444444,
              "#bd3786"
             ],
             [
              0.5555555555555556,
              "#d8576b"
             ],
             [
              0.6666666666666666,
              "#ed7953"
             ],
             [
              0.7777777777777778,
              "#fb9f3a"
             ],
             [
              0.8888888888888888,
              "#fdca26"
             ],
             [
              1,
              "#f0f921"
             ]
            ],
            "type": "histogram2d"
           }
          ],
          "histogram2dcontour": [
           {
            "colorbar": {
             "outlinewidth": 0,
             "ticks": ""
            },
            "colorscale": [
             [
              0,
              "#0d0887"
             ],
             [
              0.1111111111111111,
              "#46039f"
             ],
             [
              0.2222222222222222,
              "#7201a8"
             ],
             [
              0.3333333333333333,
              "#9c179e"
             ],
             [
              0.4444444444444444,
              "#bd3786"
             ],
             [
              0.5555555555555556,
              "#d8576b"
             ],
             [
              0.6666666666666666,
              "#ed7953"
             ],
             [
              0.7777777777777778,
              "#fb9f3a"
             ],
             [
              0.8888888888888888,
              "#fdca26"
             ],
             [
              1,
              "#f0f921"
             ]
            ],
            "type": "histogram2dcontour"
           }
          ],
          "mesh3d": [
           {
            "colorbar": {
             "outlinewidth": 0,
             "ticks": ""
            },
            "type": "mesh3d"
           }
          ],
          "parcoords": [
           {
            "line": {
             "colorbar": {
              "outlinewidth": 0,
              "ticks": ""
             }
            },
            "type": "parcoords"
           }
          ],
          "pie": [
           {
            "automargin": true,
            "type": "pie"
           }
          ],
          "scatter": [
           {
            "marker": {
             "line": {
              "color": "#283442"
             }
            },
            "type": "scatter"
           }
          ],
          "scatter3d": [
           {
            "line": {
             "colorbar": {
              "outlinewidth": 0,
              "ticks": ""
             }
            },
            "marker": {
             "colorbar": {
              "outlinewidth": 0,
              "ticks": ""
             }
            },
            "type": "scatter3d"
           }
          ],
          "scattercarpet": [
           {
            "marker": {
             "colorbar": {
              "outlinewidth": 0,
              "ticks": ""
             }
            },
            "type": "scattercarpet"
           }
          ],
          "scattergeo": [
           {
            "marker": {
             "colorbar": {
              "outlinewidth": 0,
              "ticks": ""
             }
            },
            "type": "scattergeo"
           }
          ],
          "scattergl": [
           {
            "marker": {
             "line": {
              "color": "#283442"
             }
            },
            "type": "scattergl"
           }
          ],
          "scattermapbox": [
           {
            "marker": {
             "colorbar": {
              "outlinewidth": 0,
              "ticks": ""
             }
            },
            "type": "scattermapbox"
           }
          ],
          "scatterpolar": [
           {
            "marker": {
             "colorbar": {
              "outlinewidth": 0,
              "ticks": ""
             }
            },
            "type": "scatterpolar"
           }
          ],
          "scatterpolargl": [
           {
            "marker": {
             "colorbar": {
              "outlinewidth": 0,
              "ticks": ""
             }
            },
            "type": "scatterpolargl"
           }
          ],
          "scatterternary": [
           {
            "marker": {
             "colorbar": {
              "outlinewidth": 0,
              "ticks": ""
             }
            },
            "type": "scatterternary"
           }
          ],
          "surface": [
           {
            "colorbar": {
             "outlinewidth": 0,
             "ticks": ""
            },
            "colorscale": [
             [
              0,
              "#0d0887"
             ],
             [
              0.1111111111111111,
              "#46039f"
             ],
             [
              0.2222222222222222,
              "#7201a8"
             ],
             [
              0.3333333333333333,
              "#9c179e"
             ],
             [
              0.4444444444444444,
              "#bd3786"
             ],
             [
              0.5555555555555556,
              "#d8576b"
             ],
             [
              0.6666666666666666,
              "#ed7953"
             ],
             [
              0.7777777777777778,
              "#fb9f3a"
             ],
             [
              0.8888888888888888,
              "#fdca26"
             ],
             [
              1,
              "#f0f921"
             ]
            ],
            "type": "surface"
           }
          ],
          "table": [
           {
            "cells": {
             "fill": {
              "color": "#506784"
             },
             "line": {
              "color": "rgb(17,17,17)"
             }
            },
            "header": {
             "fill": {
              "color": "#2a3f5f"
             },
             "line": {
              "color": "rgb(17,17,17)"
             }
            },
            "type": "table"
           }
          ]
         },
         "layout": {
          "annotationdefaults": {
           "arrowcolor": "#f2f5fa",
           "arrowhead": 0,
           "arrowwidth": 1
          },
          "autotypenumbers": "strict",
          "coloraxis": {
           "colorbar": {
            "outlinewidth": 0,
            "ticks": ""
           }
          },
          "colorscale": {
           "diverging": [
            [
             0,
             "#8e0152"
            ],
            [
             0.1,
             "#c51b7d"
            ],
            [
             0.2,
             "#de77ae"
            ],
            [
             0.3,
             "#f1b6da"
            ],
            [
             0.4,
             "#fde0ef"
            ],
            [
             0.5,
             "#f7f7f7"
            ],
            [
             0.6,
             "#e6f5d0"
            ],
            [
             0.7,
             "#b8e186"
            ],
            [
             0.8,
             "#7fbc41"
            ],
            [
             0.9,
             "#4d9221"
            ],
            [
             1,
             "#276419"
            ]
           ],
           "sequential": [
            [
             0,
             "#0d0887"
            ],
            [
             0.1111111111111111,
             "#46039f"
            ],
            [
             0.2222222222222222,
             "#7201a8"
            ],
            [
             0.3333333333333333,
             "#9c179e"
            ],
            [
             0.4444444444444444,
             "#bd3786"
            ],
            [
             0.5555555555555556,
             "#d8576b"
            ],
            [
             0.6666666666666666,
             "#ed7953"
            ],
            [
             0.7777777777777778,
             "#fb9f3a"
            ],
            [
             0.8888888888888888,
             "#fdca26"
            ],
            [
             1,
             "#f0f921"
            ]
           ],
           "sequentialminus": [
            [
             0,
             "#0d0887"
            ],
            [
             0.1111111111111111,
             "#46039f"
            ],
            [
             0.2222222222222222,
             "#7201a8"
            ],
            [
             0.3333333333333333,
             "#9c179e"
            ],
            [
             0.4444444444444444,
             "#bd3786"
            ],
            [
             0.5555555555555556,
             "#d8576b"
            ],
            [
             0.6666666666666666,
             "#ed7953"
            ],
            [
             0.7777777777777778,
             "#fb9f3a"
            ],
            [
             0.8888888888888888,
             "#fdca26"
            ],
            [
             1,
             "#f0f921"
            ]
           ]
          },
          "colorway": [
           "#636efa",
           "#EF553B",
           "#00cc96",
           "#ab63fa",
           "#FFA15A",
           "#19d3f3",
           "#FF6692",
           "#B6E880",
           "#FF97FF",
           "#FECB52"
          ],
          "font": {
           "color": "#f2f5fa"
          },
          "geo": {
           "bgcolor": "rgb(17,17,17)",
           "lakecolor": "rgb(17,17,17)",
           "landcolor": "rgb(17,17,17)",
           "showlakes": true,
           "showland": true,
           "subunitcolor": "#506784"
          },
          "hoverlabel": {
           "align": "left"
          },
          "hovermode": "closest",
          "mapbox": {
           "style": "dark"
          },
          "paper_bgcolor": "rgb(17,17,17)",
          "plot_bgcolor": "rgb(17,17,17)",
          "polar": {
           "angularaxis": {
            "gridcolor": "#506784",
            "linecolor": "#506784",
            "ticks": ""
           },
           "bgcolor": "rgb(17,17,17)",
           "radialaxis": {
            "gridcolor": "#506784",
            "linecolor": "#506784",
            "ticks": ""
           }
          },
          "scene": {
           "xaxis": {
            "backgroundcolor": "rgb(17,17,17)",
            "gridcolor": "#506784",
            "gridwidth": 2,
            "linecolor": "#506784",
            "showbackground": true,
            "ticks": "",
            "zerolinecolor": "#C8D4E3"
           },
           "yaxis": {
            "backgroundcolor": "rgb(17,17,17)",
            "gridcolor": "#506784",
            "gridwidth": 2,
            "linecolor": "#506784",
            "showbackground": true,
            "ticks": "",
            "zerolinecolor": "#C8D4E3"
           },
           "zaxis": {
            "backgroundcolor": "rgb(17,17,17)",
            "gridcolor": "#506784",
            "gridwidth": 2,
            "linecolor": "#506784",
            "showbackground": true,
            "ticks": "",
            "zerolinecolor": "#C8D4E3"
           }
          },
          "shapedefaults": {
           "line": {
            "color": "#f2f5fa"
           }
          },
          "sliderdefaults": {
           "bgcolor": "#C8D4E3",
           "bordercolor": "rgb(17,17,17)",
           "borderwidth": 1,
           "tickwidth": 0
          },
          "ternary": {
           "aaxis": {
            "gridcolor": "#506784",
            "linecolor": "#506784",
            "ticks": ""
           },
           "baxis": {
            "gridcolor": "#506784",
            "linecolor": "#506784",
            "ticks": ""
           },
           "bgcolor": "rgb(17,17,17)",
           "caxis": {
            "gridcolor": "#506784",
            "linecolor": "#506784",
            "ticks": ""
           }
          },
          "title": {
           "x": 0.05
          },
          "updatemenudefaults": {
           "bgcolor": "#506784",
           "borderwidth": 0
          },
          "xaxis": {
           "automargin": true,
           "gridcolor": "#283442",
           "linecolor": "#506784",
           "ticks": "",
           "title": {
            "standoff": 15
           },
           "zerolinecolor": "#283442",
           "zerolinewidth": 2
          },
          "yaxis": {
           "automargin": true,
           "gridcolor": "#283442",
           "linecolor": "#506784",
           "ticks": "",
           "title": {
            "standoff": 15
           },
           "zerolinecolor": "#283442",
           "zerolinewidth": 2
          }
         }
        },
        "title": {
         "text": "Ratio of Renewable energy produced by country (%)"
        },
        "updatemenus": [
         {
          "buttons": [
           {
            "args": [
             null,
             {
              "frame": {
               "duration": 500,
               "redraw": true
              },
              "fromcurrent": true,
              "mode": "immediate",
              "transition": {
               "duration": 500,
               "easing": "linear"
              }
             }
            ],
            "label": "&#9654;",
            "method": "animate"
           },
           {
            "args": [
             [
              null
             ],
             {
              "frame": {
               "duration": 0,
               "redraw": true
              },
              "fromcurrent": true,
              "mode": "immediate",
              "transition": {
               "duration": 0,
               "easing": "linear"
              }
             }
            ],
            "label": "&#9724;",
            "method": "animate"
           }
          ],
          "direction": "left",
          "pad": {
           "r": 10,
           "t": 70
          },
          "showactive": false,
          "type": "buttons",
          "x": 0.1,
          "xanchor": "right",
          "y": 0,
          "yanchor": "top"
         }
        ]
       }
      },
      "text/html": [
       "<div>                            <div id=\"99e1cb82-78fd-4f24-a35c-489659c5fd6b\" class=\"plotly-graph-div\" style=\"height:525px; width:100%;\"></div>            <script type=\"text/javascript\">                require([\"plotly\"], function(Plotly) {                    window.PLOTLYENV=window.PLOTLYENV || {};                                    if (document.getElementById(\"99e1cb82-78fd-4f24-a35c-489659c5fd6b\")) {                    Plotly.newPlot(                        \"99e1cb82-78fd-4f24-a35c-489659c5fd6b\",                        [{\"hovertemplate\":\"TIME=2010<br>%_RENEWABLE_PRODUCED=%{r}<br>COUNTRY=%{theta}<extra></extra>\",\"legendgroup\":\"\",\"marker\":{\"color\":\"#636efa\",\"pattern\":{\"shape\":\"\"}},\"name\":\"\",\"r\":[1.7810083737245326,6.98095843755017,7.312438472709112,7.350575312476135,7.533774948439617,7.60612724000313,8.021018283578194,9.072408037828419,9.727395954135979,10.00529687505322,10.320057857943434,13.155497256784646,14.131686723639666,14.59768744330563,17.461846931052996,18.36905192643433,23.63723513523795,23.669612532925164,25.30712307202477,25.745801767676767,29.30133518017794,29.540122907360473,30.723328944703265,31.06071759415817,34.4461857430461,38.073922401321894,49.685421904034335,52.30434509252292,52.86527322617934,55.02841019217266,57.81579822231817,64.55619441830112,69.18064312099779,88.8521947149809,95.98165640479543],\"showlegend\":false,\"subplot\":\"polar\",\"theta\":[\"Korea\",\"Poland\",\"Hungary\",\"United Kingdom\",\"Czech Republic\",\"Estonia\",\"Belgium\",\"Netherlands\",\"Australia\",\"Japan\",\"United States\",\"Ireland\",\"France\",\"Mexico\",\"Germany\",\"Greece\",\"Slovak Republic\",\"Republic of Turkiye\",\"Italy\",\"Lithuania\",\"Finland\",\"Slovenia\",\"Denmark\",\"Spain\",\"Luxembourg\",\"Chile\",\"Portugal\",\"Sweden\",\"Latvia\",\"Switzerland\",\"Canada\",\"Austria\",\"New Zealand\",\"Norway\",\"Iceland\"],\"type\":\"barpolar\"}],                        {\"template\":{\"data\":{\"barpolar\":[{\"marker\":{\"line\":{\"color\":\"rgb(17,17,17)\",\"width\":0.5},\"pattern\":{\"fillmode\":\"overlay\",\"size\":10,\"solidity\":0.2}},\"type\":\"barpolar\"}],\"bar\":[{\"error_x\":{\"color\":\"#f2f5fa\"},\"error_y\":{\"color\":\"#f2f5fa\"},\"marker\":{\"line\":{\"color\":\"rgb(17,17,17)\",\"width\":0.5},\"pattern\":{\"fillmode\":\"overlay\",\"size\":10,\"solidity\":0.2}},\"type\":\"bar\"}],\"carpet\":[{\"aaxis\":{\"endlinecolor\":\"#A2B1C6\",\"gridcolor\":\"#506784\",\"linecolor\":\"#506784\",\"minorgridcolor\":\"#506784\",\"startlinecolor\":\"#A2B1C6\"},\"baxis\":{\"endlinecolor\":\"#A2B1C6\",\"gridcolor\":\"#506784\",\"linecolor\":\"#506784\",\"minorgridcolor\":\"#506784\",\"startlinecolor\":\"#A2B1C6\"},\"type\":\"carpet\"}],\"choropleth\":[{\"colorbar\":{\"outlinewidth\":0,\"ticks\":\"\"},\"type\":\"choropleth\"}],\"contourcarpet\":[{\"colorbar\":{\"outlinewidth\":0,\"ticks\":\"\"},\"type\":\"contourcarpet\"}],\"contour\":[{\"colorbar\":{\"outlinewidth\":0,\"ticks\":\"\"},\"colorscale\":[[0.0,\"#0d0887\"],[0.1111111111111111,\"#46039f\"],[0.2222222222222222,\"#7201a8\"],[0.3333333333333333,\"#9c179e\"],[0.4444444444444444,\"#bd3786\"],[0.5555555555555556,\"#d8576b\"],[0.6666666666666666,\"#ed7953\"],[0.7777777777777778,\"#fb9f3a\"],[0.8888888888888888,\"#fdca26\"],[1.0,\"#f0f921\"]],\"type\":\"contour\"}],\"heatmapgl\":[{\"colorbar\":{\"outlinewidth\":0,\"ticks\":\"\"},\"colorscale\":[[0.0,\"#0d0887\"],[0.1111111111111111,\"#46039f\"],[0.2222222222222222,\"#7201a8\"],[0.3333333333333333,\"#9c179e\"],[0.4444444444444444,\"#bd3786\"],[0.5555555555555556,\"#d8576b\"],[0.6666666666666666,\"#ed7953\"],[0.7777777777777778,\"#fb9f3a\"],[0.8888888888888888,\"#fdca26\"],[1.0,\"#f0f921\"]],\"type\":\"heatmapgl\"}],\"heatmap\":[{\"colorbar\":{\"outlinewidth\":0,\"ticks\":\"\"},\"colorscale\":[[0.0,\"#0d0887\"],[0.1111111111111111,\"#46039f\"],[0.2222222222222222,\"#7201a8\"],[0.3333333333333333,\"#9c179e\"],[0.4444444444444444,\"#bd3786\"],[0.5555555555555556,\"#d8576b\"],[0.6666666666666666,\"#ed7953\"],[0.7777777777777778,\"#fb9f3a\"],[0.8888888888888888,\"#fdca26\"],[1.0,\"#f0f921\"]],\"type\":\"heatmap\"}],\"histogram2dcontour\":[{\"colorbar\":{\"outlinewidth\":0,\"ticks\":\"\"},\"colorscale\":[[0.0,\"#0d0887\"],[0.1111111111111111,\"#46039f\"],[0.2222222222222222,\"#7201a8\"],[0.3333333333333333,\"#9c179e\"],[0.4444444444444444,\"#bd3786\"],[0.5555555555555556,\"#d8576b\"],[0.6666666666666666,\"#ed7953\"],[0.7777777777777778,\"#fb9f3a\"],[0.8888888888888888,\"#fdca26\"],[1.0,\"#f0f921\"]],\"type\":\"histogram2dcontour\"}],\"histogram2d\":[{\"colorbar\":{\"outlinewidth\":0,\"ticks\":\"\"},\"colorscale\":[[0.0,\"#0d0887\"],[0.1111111111111111,\"#46039f\"],[0.2222222222222222,\"#7201a8\"],[0.3333333333333333,\"#9c179e\"],[0.4444444444444444,\"#bd3786\"],[0.5555555555555556,\"#d8576b\"],[0.6666666666666666,\"#ed7953\"],[0.7777777777777778,\"#fb9f3a\"],[0.8888888888888888,\"#fdca26\"],[1.0,\"#f0f921\"]],\"type\":\"histogram2d\"}],\"histogram\":[{\"marker\":{\"pattern\":{\"fillmode\":\"overlay\",\"size\":10,\"solidity\":0.2}},\"type\":\"histogram\"}],\"mesh3d\":[{\"colorbar\":{\"outlinewidth\":0,\"ticks\":\"\"},\"type\":\"mesh3d\"}],\"parcoords\":[{\"line\":{\"colorbar\":{\"outlinewidth\":0,\"ticks\":\"\"}},\"type\":\"parcoords\"}],\"pie\":[{\"automargin\":true,\"type\":\"pie\"}],\"scatter3d\":[{\"line\":{\"colorbar\":{\"outlinewidth\":0,\"ticks\":\"\"}},\"marker\":{\"colorbar\":{\"outlinewidth\":0,\"ticks\":\"\"}},\"type\":\"scatter3d\"}],\"scattercarpet\":[{\"marker\":{\"colorbar\":{\"outlinewidth\":0,\"ticks\":\"\"}},\"type\":\"scattercarpet\"}],\"scattergeo\":[{\"marker\":{\"colorbar\":{\"outlinewidth\":0,\"ticks\":\"\"}},\"type\":\"scattergeo\"}],\"scattergl\":[{\"marker\":{\"line\":{\"color\":\"#283442\"}},\"type\":\"scattergl\"}],\"scattermapbox\":[{\"marker\":{\"colorbar\":{\"outlinewidth\":0,\"ticks\":\"\"}},\"type\":\"scattermapbox\"}],\"scatterpolargl\":[{\"marker\":{\"colorbar\":{\"outlinewidth\":0,\"ticks\":\"\"}},\"type\":\"scatterpolargl\"}],\"scatterpolar\":[{\"marker\":{\"colorbar\":{\"outlinewidth\":0,\"ticks\":\"\"}},\"type\":\"scatterpolar\"}],\"scatter\":[{\"marker\":{\"line\":{\"color\":\"#283442\"}},\"type\":\"scatter\"}],\"scatterternary\":[{\"marker\":{\"colorbar\":{\"outlinewidth\":0,\"ticks\":\"\"}},\"type\":\"scatterternary\"}],\"surface\":[{\"colorbar\":{\"outlinewidth\":0,\"ticks\":\"\"},\"colorscale\":[[0.0,\"#0d0887\"],[0.1111111111111111,\"#46039f\"],[0.2222222222222222,\"#7201a8\"],[0.3333333333333333,\"#9c179e\"],[0.4444444444444444,\"#bd3786\"],[0.5555555555555556,\"#d8576b\"],[0.6666666666666666,\"#ed7953\"],[0.7777777777777778,\"#fb9f3a\"],[0.8888888888888888,\"#fdca26\"],[1.0,\"#f0f921\"]],\"type\":\"surface\"}],\"table\":[{\"cells\":{\"fill\":{\"color\":\"#506784\"},\"line\":{\"color\":\"rgb(17,17,17)\"}},\"header\":{\"fill\":{\"color\":\"#2a3f5f\"},\"line\":{\"color\":\"rgb(17,17,17)\"}},\"type\":\"table\"}]},\"layout\":{\"annotationdefaults\":{\"arrowcolor\":\"#f2f5fa\",\"arrowhead\":0,\"arrowwidth\":1},\"autotypenumbers\":\"strict\",\"coloraxis\":{\"colorbar\":{\"outlinewidth\":0,\"ticks\":\"\"}},\"colorscale\":{\"diverging\":[[0,\"#8e0152\"],[0.1,\"#c51b7d\"],[0.2,\"#de77ae\"],[0.3,\"#f1b6da\"],[0.4,\"#fde0ef\"],[0.5,\"#f7f7f7\"],[0.6,\"#e6f5d0\"],[0.7,\"#b8e186\"],[0.8,\"#7fbc41\"],[0.9,\"#4d9221\"],[1,\"#276419\"]],\"sequential\":[[0.0,\"#0d0887\"],[0.1111111111111111,\"#46039f\"],[0.2222222222222222,\"#7201a8\"],[0.3333333333333333,\"#9c179e\"],[0.4444444444444444,\"#bd3786\"],[0.5555555555555556,\"#d8576b\"],[0.6666666666666666,\"#ed7953\"],[0.7777777777777778,\"#fb9f3a\"],[0.8888888888888888,\"#fdca26\"],[1.0,\"#f0f921\"]],\"sequentialminus\":[[0.0,\"#0d0887\"],[0.1111111111111111,\"#46039f\"],[0.2222222222222222,\"#7201a8\"],[0.3333333333333333,\"#9c179e\"],[0.4444444444444444,\"#bd3786\"],[0.5555555555555556,\"#d8576b\"],[0.6666666666666666,\"#ed7953\"],[0.7777777777777778,\"#fb9f3a\"],[0.8888888888888888,\"#fdca26\"],[1.0,\"#f0f921\"]]},\"colorway\":[\"#636efa\",\"#EF553B\",\"#00cc96\",\"#ab63fa\",\"#FFA15A\",\"#19d3f3\",\"#FF6692\",\"#B6E880\",\"#FF97FF\",\"#FECB52\"],\"font\":{\"color\":\"#f2f5fa\"},\"geo\":{\"bgcolor\":\"rgb(17,17,17)\",\"lakecolor\":\"rgb(17,17,17)\",\"landcolor\":\"rgb(17,17,17)\",\"showlakes\":true,\"showland\":true,\"subunitcolor\":\"#506784\"},\"hoverlabel\":{\"align\":\"left\"},\"hovermode\":\"closest\",\"mapbox\":{\"style\":\"dark\"},\"paper_bgcolor\":\"rgb(17,17,17)\",\"plot_bgcolor\":\"rgb(17,17,17)\",\"polar\":{\"angularaxis\":{\"gridcolor\":\"#506784\",\"linecolor\":\"#506784\",\"ticks\":\"\"},\"bgcolor\":\"rgb(17,17,17)\",\"radialaxis\":{\"gridcolor\":\"#506784\",\"linecolor\":\"#506784\",\"ticks\":\"\"}},\"scene\":{\"xaxis\":{\"backgroundcolor\":\"rgb(17,17,17)\",\"gridcolor\":\"#506784\",\"gridwidth\":2,\"linecolor\":\"#506784\",\"showbackground\":true,\"ticks\":\"\",\"zerolinecolor\":\"#C8D4E3\"},\"yaxis\":{\"backgroundcolor\":\"rgb(17,17,17)\",\"gridcolor\":\"#506784\",\"gridwidth\":2,\"linecolor\":\"#506784\",\"showbackground\":true,\"ticks\":\"\",\"zerolinecolor\":\"#C8D4E3\"},\"zaxis\":{\"backgroundcolor\":\"rgb(17,17,17)\",\"gridcolor\":\"#506784\",\"gridwidth\":2,\"linecolor\":\"#506784\",\"showbackground\":true,\"ticks\":\"\",\"zerolinecolor\":\"#C8D4E3\"}},\"shapedefaults\":{\"line\":{\"color\":\"#f2f5fa\"}},\"sliderdefaults\":{\"bgcolor\":\"#C8D4E3\",\"bordercolor\":\"rgb(17,17,17)\",\"borderwidth\":1,\"tickwidth\":0},\"ternary\":{\"aaxis\":{\"gridcolor\":\"#506784\",\"linecolor\":\"#506784\",\"ticks\":\"\"},\"baxis\":{\"gridcolor\":\"#506784\",\"linecolor\":\"#506784\",\"ticks\":\"\"},\"bgcolor\":\"rgb(17,17,17)\",\"caxis\":{\"gridcolor\":\"#506784\",\"linecolor\":\"#506784\",\"ticks\":\"\"}},\"title\":{\"x\":0.05},\"updatemenudefaults\":{\"bgcolor\":\"#506784\",\"borderwidth\":0},\"xaxis\":{\"automargin\":true,\"gridcolor\":\"#283442\",\"linecolor\":\"#506784\",\"ticks\":\"\",\"title\":{\"standoff\":15},\"zerolinecolor\":\"#283442\",\"zerolinewidth\":2},\"yaxis\":{\"automargin\":true,\"gridcolor\":\"#283442\",\"linecolor\":\"#506784\",\"ticks\":\"\",\"title\":{\"standoff\":15},\"zerolinecolor\":\"#283442\",\"zerolinewidth\":2}}},\"polar\":{\"domain\":{\"x\":[0.0,1.0],\"y\":[0.0,1.0]},\"angularaxis\":{\"direction\":\"clockwise\",\"rotation\":90}},\"legend\":{\"tracegroupgap\":0},\"title\":{\"text\":\"Ratio of Renewable energy produced by country (%)\"},\"barmode\":\"relative\",\"updatemenus\":[{\"buttons\":[{\"args\":[null,{\"frame\":{\"duration\":500,\"redraw\":true},\"mode\":\"immediate\",\"fromcurrent\":true,\"transition\":{\"duration\":500,\"easing\":\"linear\"}}],\"label\":\"&#9654;\",\"method\":\"animate\"},{\"args\":[[null],{\"frame\":{\"duration\":0,\"redraw\":true},\"mode\":\"immediate\",\"fromcurrent\":true,\"transition\":{\"duration\":0,\"easing\":\"linear\"}}],\"label\":\"&#9724;\",\"method\":\"animate\"}],\"direction\":\"left\",\"pad\":{\"r\":10,\"t\":70},\"showactive\":false,\"type\":\"buttons\",\"x\":0.1,\"xanchor\":\"right\",\"y\":0,\"yanchor\":\"top\"}],\"sliders\":[{\"active\":0,\"currentvalue\":{\"prefix\":\"TIME=\"},\"len\":0.9,\"pad\":{\"b\":10,\"t\":60},\"steps\":[{\"args\":[[\"2010\"],{\"frame\":{\"duration\":0,\"redraw\":true},\"mode\":\"immediate\",\"fromcurrent\":true,\"transition\":{\"duration\":0,\"easing\":\"linear\"}}],\"label\":\"2010\",\"method\":\"animate\"},{\"args\":[[\"2011\"],{\"frame\":{\"duration\":0,\"redraw\":true},\"mode\":\"immediate\",\"fromcurrent\":true,\"transition\":{\"duration\":0,\"easing\":\"linear\"}}],\"label\":\"2011\",\"method\":\"animate\"},{\"args\":[[\"2012\"],{\"frame\":{\"duration\":0,\"redraw\":true},\"mode\":\"immediate\",\"fromcurrent\":true,\"transition\":{\"duration\":0,\"easing\":\"linear\"}}],\"label\":\"2012\",\"method\":\"animate\"},{\"args\":[[\"2013\"],{\"frame\":{\"duration\":0,\"redraw\":true},\"mode\":\"immediate\",\"fromcurrent\":true,\"transition\":{\"duration\":0,\"easing\":\"linear\"}}],\"label\":\"2013\",\"method\":\"animate\"},{\"args\":[[\"2014\"],{\"frame\":{\"duration\":0,\"redraw\":true},\"mode\":\"immediate\",\"fromcurrent\":true,\"transition\":{\"duration\":0,\"easing\":\"linear\"}}],\"label\":\"2014\",\"method\":\"animate\"},{\"args\":[[\"2015\"],{\"frame\":{\"duration\":0,\"redraw\":true},\"mode\":\"immediate\",\"fromcurrent\":true,\"transition\":{\"duration\":0,\"easing\":\"linear\"}}],\"label\":\"2015\",\"method\":\"animate\"},{\"args\":[[\"2016\"],{\"frame\":{\"duration\":0,\"redraw\":true},\"mode\":\"immediate\",\"fromcurrent\":true,\"transition\":{\"duration\":0,\"easing\":\"linear\"}}],\"label\":\"2016\",\"method\":\"animate\"},{\"args\":[[\"2017\"],{\"frame\":{\"duration\":0,\"redraw\":true},\"mode\":\"immediate\",\"fromcurrent\":true,\"transition\":{\"duration\":0,\"easing\":\"linear\"}}],\"label\":\"2017\",\"method\":\"animate\"},{\"args\":[[\"2018\"],{\"frame\":{\"duration\":0,\"redraw\":true},\"mode\":\"immediate\",\"fromcurrent\":true,\"transition\":{\"duration\":0,\"easing\":\"linear\"}}],\"label\":\"2018\",\"method\":\"animate\"},{\"args\":[[\"2019\"],{\"frame\":{\"duration\":0,\"redraw\":true},\"mode\":\"immediate\",\"fromcurrent\":true,\"transition\":{\"duration\":0,\"easing\":\"linear\"}}],\"label\":\"2019\",\"method\":\"animate\"},{\"args\":[[\"2020\"],{\"frame\":{\"duration\":0,\"redraw\":true},\"mode\":\"immediate\",\"fromcurrent\":true,\"transition\":{\"duration\":0,\"easing\":\"linear\"}}],\"label\":\"2020\",\"method\":\"animate\"},{\"args\":[[\"2021\"],{\"frame\":{\"duration\":0,\"redraw\":true},\"mode\":\"immediate\",\"fromcurrent\":true,\"transition\":{\"duration\":0,\"easing\":\"linear\"}}],\"label\":\"2021\",\"method\":\"animate\"},{\"args\":[[\"2022\"],{\"frame\":{\"duration\":0,\"redraw\":true},\"mode\":\"immediate\",\"fromcurrent\":true,\"transition\":{\"duration\":0,\"easing\":\"linear\"}}],\"label\":\"2022\",\"method\":\"animate\"}],\"x\":0.1,\"xanchor\":\"left\",\"y\":0,\"yanchor\":\"top\"}]},                        {\"responsive\": true}                    ).then(function(){\n",
       "                            Plotly.addFrames('99e1cb82-78fd-4f24-a35c-489659c5fd6b', [{\"data\":[{\"hovertemplate\":\"TIME=2010<br>%_RENEWABLE_PRODUCED=%{r}<br>COUNTRY=%{theta}<extra></extra>\",\"legendgroup\":\"\",\"marker\":{\"color\":\"#636efa\",\"pattern\":{\"shape\":\"\"}},\"name\":\"\",\"r\":[1.7810083737245326,6.98095843755017,7.312438472709112,7.350575312476135,7.533774948439617,7.60612724000313,8.021018283578194,9.072408037828419,9.727395954135979,10.00529687505322,10.320057857943434,13.155497256784646,14.131686723639666,14.59768744330563,17.461846931052996,18.36905192643433,23.63723513523795,23.669612532925164,25.30712307202477,25.745801767676767,29.30133518017794,29.540122907360473,30.723328944703265,31.06071759415817,34.4461857430461,38.073922401321894,49.685421904034335,52.30434509252292,52.86527322617934,55.02841019217266,57.81579822231817,64.55619441830112,69.18064312099779,88.8521947149809,95.98165640479543],\"showlegend\":false,\"subplot\":\"polar\",\"theta\":[\"Korea\",\"Poland\",\"Hungary\",\"United Kingdom\",\"Czech Republic\",\"Estonia\",\"Belgium\",\"Netherlands\",\"Australia\",\"Japan\",\"United States\",\"Ireland\",\"France\",\"Mexico\",\"Germany\",\"Greece\",\"Slovak Republic\",\"Republic of Turkiye\",\"Italy\",\"Lithuania\",\"Finland\",\"Slovenia\",\"Denmark\",\"Spain\",\"Luxembourg\",\"Chile\",\"Portugal\",\"Sweden\",\"Latvia\",\"Switzerland\",\"Canada\",\"Austria\",\"New Zealand\",\"Norway\",\"Iceland\"],\"type\":\"barpolar\"}],\"name\":\"2010\"},{\"data\":[{\"hovertemplate\":\"TIME=2011<br>%_RENEWABLE_PRODUCED=%{r}<br>COUNTRY=%{theta}<extra></extra>\",\"legendgroup\":\"\",\"marker\":{\"color\":\"#636efa\",\"pattern\":{\"shape\":\"\"}},\"name\":\"\",\"r\":[2.0348008349081397,6.817961777284685,8.034473528418241,8.737871157598104,9.0459085900643,9.859866796672275,9.90262850519634,10.356819944756587,10.36208687867004,10.503381489966083,12.010383156274523,12.34456025020462,13.623961136624441,14.756854222733448,17.710295722995514,19.03329883239178,20.924628695766,22.7194054481461,24.886813578945567,26.679732232422737,28.403679539613,31.050240934782952,32.019050341762615,33.860788026327654,37.84804090258586,38.858036609771624,44.1376874984516,48.98158320278576,52.423791130099865,52.94373900996102,58.742203667488255,63.98835501601222,71.94844014852585,91.3188598907234,97.08999654258385],\"showlegend\":false,\"subplot\":\"polar\",\"theta\":[\"Korea\",\"Hungary\",\"Poland\",\"Estonia\",\"Czech Republic\",\"Australia\",\"United Kingdom\",\"Belgium\",\"Japan\",\"Netherlands\",\"France\",\"United States\",\"Mexico\",\"Greece\",\"Slovak Republic\",\"Ireland\",\"Germany\",\"Republic of Turkiye\",\"Slovenia\",\"Italy\",\"Spain\",\"Lithuania\",\"Finland\",\"Luxembourg\",\"Chile\",\"Denmark\",\"Portugal\",\"Latvia\",\"Switzerland\",\"Sweden\",\"Canada\",\"Austria\",\"New Zealand\",\"Norway\",\"Iceland\"],\"type\":\"barpolar\"}],\"name\":\"2011\"},{\"data\":[{\"hovertemplate\":\"TIME=2012<br>%_RENEWABLE_PRODUCED=%{r}<br>COUNTRY=%{theta}<extra></extra>\",\"legendgroup\":\"\",\"marker\":{\"color\":\"#636efa\",\"pattern\":{\"shape\":\"\"}},\"name\":\"\",\"r\":[1.9898238744461794,6.925271291119782,9.943870715773528,10.062389104522296,10.284167269375036,11.636047067878552,11.672991527479901,11.849550789137158,11.93280733465134,12.029177517030016,12.684050011567038,13.726747458984825,15.19983828035236,17.052829096172985,19.101037911322884,19.25115029545984,23.455496285599832,24.236662657905644,28.31186488987955,28.408695948544167,29.719868722448624,29.91467305321151,34.40459528393711,35.869977526932246,39.336388836768,40.2710027827115,46.27816875115449,56.0851382998924,57.4081987373649,59.8634822099921,64.14111391977625,67.99363571092236,72.37575124636814,92.23292959152334,97.2500334326885],\"showlegend\":false,\"subplot\":\"polar\",\"theta\":[\"Korea\",\"Hungary\",\"Czech Republic\",\"Japan\",\"Poland\",\"United Kingdom\",\"Netherlands\",\"Estonia\",\"Australia\",\"United States\",\"Mexico\",\"Belgium\",\"France\",\"Greece\",\"Ireland\",\"Slovak Republic\",\"Germany\",\"Republic of Turkiye\",\"Spain\",\"Slovenia\",\"Lithuania\",\"Italy\",\"Luxembourg\",\"Chile\",\"Finland\",\"Portugal\",\"Denmark\",\"Sweden\",\"Switzerland\",\"Canada\",\"Latvia\",\"New Zealand\",\"Austria\",\"Norway\",\"Iceland\"],\"type\":\"barpolar\"}],\"name\":\"2012\"},{\"data\":[{\"hovertemplate\":\"TIME=2013<br>%_RENEWABLE_PRODUCED=%{r}<br>COUNTRY=%{theta}<extra></extra>\",\"legendgroup\":\"\",\"marker\":{\"color\":\"#636efa\",\"pattern\":{\"shape\":\"\"}},\"name\":\"\",\"r\":[2.3623735549437477,8.162077788460966,8.990194011487821,10.438123508113947,10.827279983676688,11.54828017448151,11.595323855793454,11.800071915817483,12.651641165763671,14.640598327628517,15.055954442003047,15.122131167982461,17.291193862931717,21.905137508719406,22.006995560647287,24.514339903238984,25.42727304933133,25.46156829293039,33.23472772330717,34.35814060135943,34.9910946235829,37.2217655791877,37.536499025134646,37.92750443799961,44.697372236048146,46.30031160091191,51.466532019571844,53.43161230875224,54.12834351160246,56.99213899947772,60.11164022508911,70.24510318689832,75.28480139565936,92.11775535868198,97.93730271035159],\"showlegend\":false,\"subplot\":\"polar\",\"theta\":[\"Korea\",\"Hungary\",\"Estonia\",\"Poland\",\"Japan\",\"Netherlands\",\"Czech Republic\",\"Mexico\",\"United States\",\"Australia\",\"United Kingdom\",\"Belgium\",\"France\",\"Ireland\",\"Slovak Republic\",\"Germany\",\"Greece\",\"Republic of Turkiye\",\"Slovenia\",\"Chile\",\"Finland\",\"Italy\",\"Spain\",\"Lithuania\",\"Denmark\",\"Luxembourg\",\"Sweden\",\"Latvia\",\"Portugal\",\"Switzerland\",\"Canada\",\"New Zealand\",\"Austria\",\"Norway\",\"Iceland\"],\"type\":\"barpolar\"}],\"name\":\"2013\"},{\"data\":[{\"hovertemplate\":\"TIME=2014<br>%_RENEWABLE_PRODUCED=%{r}<br>COUNTRY=%{theta}<extra></extra>\",\"legendgroup\":\"\",\"marker\":{\"color\":\"#636efa\",\"pattern\":{\"shape\":\"\"}},\"name\":\"\",\"r\":[2.460561511404082,9.3982841544261,10.941070355034132,11.006104379563896,11.678718223786506,11.68169974138345,12.446280730932688,12.991116940108347,13.131821606727087,15.72797989023421,16.900085574589404,17.61511043803667,17.932933959196166,18.539689216924312,22.803116881012574,24.138065640045117,24.28676033300879,26.548412557301415,37.39139743028505,37.936459112820856,39.119890435255,40.56454998501206,41.52279231911508,43.192709798476905,46.80586285870339,51.545420750357515,53.87814932504704,54.00067204944526,56.06282202963116,56.41210730958519,59.425637113399496,64.8949877318625,74.85511745633723,78.25184342208942,92.6718912947014,97.26242873136516],\"showlegend\":false,\"subplot\":\"polar\",\"theta\":[\"Korea\",\"Hungary\",\"Estonia\",\"Netherlands\",\"Czech Republic\",\"Japan\",\"Poland\",\"United States\",\"Australia\",\"Mexico\",\"France\",\"United Kingdom\",\"Belgium\",\"Republic of Turkiye\",\"Slovak Republic\",\"Greece\",\"Ireland\",\"Germany\",\"Finland\",\"Spain\",\"Slovenia\",\"Chile\",\"Italy\",\"Lithuania\",\"Luxembourg\",\"Latvia\",\"Denmark\",\"Sweden\",\"Switzerland\",\"Portugal\",\"Canada\",\"Colombia\",\"New Zealand\",\"Austria\",\"Norway\",\"Iceland\"],\"type\":\"barpolar\"}],\"name\":\"2014\"},{\"data\":[{\"hovertemplate\":\"TIME=2015<br>%_RENEWABLE_PRODUCED=%{r}<br>COUNTRY=%{theta}<extra></extra>\",\"legendgroup\":\"\",\"marker\":{\"color\":\"#636efa\",\"pattern\":{\"shape\":\"\"}},\"name\":\"\",\"r\":[2.567828198163703,7.156242539565391,8.76275831580184,9.386424858985855,12.116301155580562,12.506999463109523,13.219790717970115,13.76406635381669,13.772904998480422,13.990459841267496,14.145940735134685,14.313422039817395,15.740078916228379,16.17671695837775,18.746697337840175,21.50211491977817,22.431045341781775,22.71001788943693,24.672221422009592,26.291052062882375,27.343266249962134,27.632689557452622,28.535482215425866,29.70627444381716,30.222657091654977,31.8036210971242,33.00359773849725,36.9815275556947,38.47781349542652,42.006863387362685,42.29830387528129,43.38830564991172,45.06992052054995,48.061009763907364,59.227655906811236,59.535063037143054,59.804009218976276,61.23314401353947,62.01728774246832,62.77764932453581,63.856929397290244,73.98722718204496,75.69139457555822,76.10419790327909,92.86927056257899,96.96876732191568],\"showlegend\":false,\"subplot\":\"polar\",\"theta\":[\"Korea\",\"Malta\",\"Cyprus\",\"Hungary\",\"Netherlands\",\"Czech Republic\",\"United States\",\"Mexico\",\"Poland\",\"Australia\",\"Japan\",\"Estonia\",\"India\",\"France\",\"Bulgaria\",\"Belgium\",\"United Kingdom\",\"Slovak Republic\",\"Argentina\",\"Serbia\",\"Ireland\",\"Greece\",\"Republic of Turkiye\",\"Germany\",\"Slovenia\",\"North Macedonia\",\"Spain\",\"Italy\",\"Romania\",\"Lithuania\",\"Chile\",\"Finland\",\"Portugal\",\"Latvia\",\"Colombia\",\"Croatia\",\"Switzerland\",\"Sweden\",\"Canada\",\"Denmark\",\"Luxembourg\",\"Austria\",\"New Zealand\",\"Brazil\",\"Norway\",\"Iceland\"],\"type\":\"barpolar\"}],\"name\":\"2015\"},{\"data\":[{\"hovertemplate\":\"TIME=2016<br>%_RENEWABLE_PRODUCED=%{r}<br>COUNTRY=%{theta}<extra></extra>\",\"legendgroup\":\"\",\"marker\":{\"color\":\"#636efa\",\"pattern\":{\"shape\":\"\"}},\"name\":\"\",\"r\":[3.4274540842075747,8.560819106979665,9.142212288460755,12.470264708398188,12.527432442436739,12.950028673409776,13.26358760499024,13.744241964416275,13.806338185176777,14.518535292583401,14.87049875633967,17.011916103535537,17.05984641519777,17.072619640093347,17.526785547684923,17.75411998842335,22.569448472177058,24.168856816750413,24.41911227461853,25.0088666482687,27.473769561333512,27.748313730773088,29.636015642944592,29.786323108222373,31.941846726193013,32.35818283026828,36.05191281653287,36.19864203334857,40.13967380357512,42.265374044097506,43.051441741595795,51.922770288393785,52.568609255531065,52.76435023687574,54.91725973882835,58.06891436639873,59.597515296140294,59.85381691216226,61.24478219840198,62.83063821798744,75.35498053280608,79.37927625904958,79.6809286142823,81.2114273548593,92.10524387788848,97.36342995898097],\"showlegend\":false,\"subplot\":\"polar\",\"theta\":[\"Korea\",\"Cyprus\",\"Hungary\",\"Czech Republic\",\"Netherlands\",\"Estonia\",\"Malta\",\"Poland\",\"Mexico\",\"Japan\",\"United States\",\"Australia\",\"India\",\"Bulgaria\",\"Belgium\",\"France\",\"Argentina\",\"United Kingdom\",\"Ireland\",\"Slovak Republic\",\"Greece\",\"Serbia\",\"Germany\",\"Republic of Turkiye\",\"Slovenia\",\"North Macedonia\",\"Italy\",\"Spain\",\"Romania\",\"Chile\",\"Finland\",\"Portugal\",\"Latvia\",\"Lithuania\",\"Sweden\",\"Denmark\",\"Switzerland\",\"Croatia\",\"Colombia\",\"Canada\",\"Austria\",\"New Zealand\",\"Luxembourg\",\"Brazil\",\"Norway\",\"Iceland\"],\"type\":\"barpolar\"}],\"name\":\"2016\"},{\"data\":[{\"hovertemplate\":\"TIME=2017<br>%_RENEWABLE_PRODUCED=%{r}<br>COUNTRY=%{theta}<extra></extra>\",\"legendgroup\":\"\",\"marker\":{\"color\":\"#636efa\",\"pattern\":{\"shape\":\"\"}},\"name\":\"\",\"r\":[4.001217118151268,8.642115123806327,9.587230213326047,9.816569735693223,12.11013439154356,14.04810978849286,14.264589819256349,14.301887138990663,14.53132723131769,14.947019597023258,15.387219951579839,15.910140794038078,16.763238921098317,16.896271005688043,17.425703462211946,19.061141268164356,20.360444825833575,24.490576596309612,24.51973575964835,25.059556807034,26.779757529173065,26.815693661421967,28.04765699390065,28.456484588160546,28.682833964083965,30.5510678831659,33.51429199907389,34.0515341801736,36.670993460735325,38.05088675242184,42.051194130256434,45.23440196480861,54.08691627860621,55.38636501466934,60.7799536489256,61.732930435822176,64.18146488548271,67.86261304468466,70.49563111476893,73.30021579780711,74.74083134677954,76.62136452423088,80.03026894223866,81.29258487743563,92.1426582215525,96.94872167404355],\"showlegend\":false,\"subplot\":\"polar\",\"theta\":[\"Korea\",\"Cyprus\",\"Hungary\",\"Malta\",\"Czech Republic\",\"Estonia\",\"Mexico\",\"Poland\",\"Netherlands\",\"Bulgaria\",\"Australia\",\"Japan\",\"France\",\"United States\",\"India\",\"Belgium\",\"North Macedonia\",\"Argentina\",\"Slovak Republic\",\"Serbia\",\"Greece\",\"Republic of Turkiye\",\"Ireland\",\"Slovenia\",\"United Kingdom\",\"Spain\",\"Germany\",\"Italy\",\"Romania\",\"Portugal\",\"Chile\",\"Finland\",\"Croatia\",\"Sweden\",\"Switzerland\",\"Lithuania\",\"Canada\",\"Denmark\",\"Latvia\",\"Austria\",\"Colombia\",\"New Zealand\",\"Brazil\",\"Luxembourg\",\"Norway\",\"Iceland\"],\"type\":\"barpolar\"}],\"name\":\"2017\"},{\"data\":[{\"hovertemplate\":\"TIME=2018<br>%_RENEWABLE_PRODUCED=%{r}<br>COUNTRY=%{theta}<extra></extra>\",\"legendgroup\":\"\",\"marker\":{\"color\":\"#636efa\",\"pattern\":{\"shape\":\"\"}},\"name\":\"\",\"r\":[4.5454509922455175,9.519035244033258,9.64048677344277,10.64608728924679,11.629504285814447,12.834146554663404,14.176761806219945,15.660651826474293,16.155865805891438,16.6335209101458,16.879437366380667,18.066500806985324,19.443472483060706,19.71622373844337,20.461730533615533,22.24894005798349,23.3961083566084,24.895961186218997,27.899691699984242,29.409002137325867,29.460566339577433,30.970220697311735,31.902537252970543,32.28896080889448,32.66893379666014,35.36543491473778,35.82116115330034,38.21981363179576,39.17728493608836,44.26219060401208,44.72094688537088,47.887956973885416,50.64347733511122,53.07929004719847,57.51984836114092,61.78768203686037,64.00130589971248,64.75902495068507,64.83830378138632,70.27286002208075,74.3698978027454,78.65497528578138,82.08533959208411,83.0575798679935,92.10968758264112,97.2179009896368],\"showlegend\":false,\"subplot\":\"polar\",\"theta\":[\"Korea\",\"Cyprus\",\"Malta\",\"Hungary\",\"Czech Republic\",\"Poland\",\"Mexico\",\"Estonia\",\"Netherlands\",\"Japan\",\"United States\",\"India\",\"Australia\",\"France\",\"Bulgaria\",\"Slovak Republic\",\"Belgium\",\"Argentina\",\"Greece\",\"Serbia\",\"Republic of Turkiye\",\"North Macedonia\",\"Ireland\",\"United Kingdom\",\"Slovenia\",\"Germany\",\"Spain\",\"Italy\",\"Romania\",\"Finland\",\"Chile\",\"Portugal\",\"Latvia\",\"Sweden\",\"Switzerland\",\"Lithuania\",\"Canada\",\"Croatia\",\"Denmark\",\"Colombia\",\"Austria\",\"New Zealand\",\"Luxembourg\",\"Brazil\",\"Norway\",\"Iceland\"],\"type\":\"barpolar\"}],\"name\":\"2018\"},{\"data\":[{\"hovertemplate\":\"TIME=2019<br>%_RENEWABLE_PRODUCED=%{r}<br>COUNTRY=%{theta}<extra></extra>\",\"legendgroup\":\"\",\"marker\":{\"color\":\"#636efa\",\"pattern\":{\"shape\":\"\"}},\"name\":\"\",\"r\":[5.278000043404165,9.369681734417213,10.042533775617258,12.606110413659493,12.611311741793447,14.790792965344721,16.69480128012616,17.25470261511649,17.768676654469804,17.788878362461244,18.3815436383714,19.92274904782167,20.243220370563606,20.54353501936848,21.296685022659826,21.34137032647697,23.460042916058203,26.06332377011616,27.112272983826625,28.641731302438657,32.063896006635744,32.63261863922676,34.8493678657473,35.67320712763514,36.87761358077531,38.2278979063493,39.60335977005859,40.139140211455256,40.38231023291242,44.81961076788995,45.606827272600356,48.09941656438738,50.09154218542078,55.57036021098194,58.848048558289875,59.54006347352022,63.84894728561983,64.05928085642938,65.75800527882176,72.99893553835183,74.56419097688824,77.41180814436065,79.74934899841982,83.01432273986096,92.12177435228693,97.52907335835668],\"showlegend\":false,\"subplot\":\"polar\",\"theta\":[\"Korea\",\"Malta\",\"Cyprus\",\"Czech Republic\",\"Hungary\",\"Mexico\",\"Poland\",\"Japan\",\"United States\",\"Bulgaria\",\"Netherlands\",\"France\",\"India\",\"North Macedonia\",\"Australia\",\"Belgium\",\"Slovak Republic\",\"Argentina\",\"Estonia\",\"Serbia\",\"Slovenia\",\"Greece\",\"Spain\",\"United Kingdom\",\"Ireland\",\"Italy\",\"Germany\",\"Romania\",\"Republic of Turkiye\",\"Finland\",\"Chile\",\"Latvia\",\"Portugal\",\"Sweden\",\"Switzerland\",\"Croatia\",\"Canada\",\"Lithuania\",\"Colombia\",\"Denmark\",\"Austria\",\"New Zealand\",\"Luxembourg\",\"Brazil\",\"Norway\",\"Iceland\"],\"type\":\"barpolar\"}],\"name\":\"2019\"},{\"data\":[{\"hovertemplate\":\"TIME=2020<br>%_RENEWABLE_PRODUCED=%{r}<br>COUNTRY=%{theta}<extra></extra>\",\"legendgroup\":\"\",\"marker\":{\"color\":\"#636efa\",\"pattern\":{\"shape\":\"\"}},\"name\":\"\",\"r\":[6.371951014806013,10.653946933234188,12.301488420276794,13.91988578840567,14.777076445788145,17.111073823081295,18.92602403458121,19.30882129789591,19.350460751617383,19.696306559445294,21.56499420070938,22.706957738360135,23.452202895858264,24.79807409885296,24.948417662948337,26.333278301780272,26.452585130740143,26.92569494979029,27.35550756804137,31.39220595281863,33.72464330053348,38.422944832849865,40.33056034738783,40.332050478928956,40.56688151061741,40.847245273958336,41.354390028231734,42.30919372826682,43.659619343280156,48.09637489461322,49.94166716551148,51.009799238644185,55.87190994038046,58.47522452870355,60.90913703113212,60.99495149512213,61.38462244077098,64.64432261463739,65.48117211047388,76.21903542736563,77.19050402571297,79.59447430354884,83.56333715359679,84.81142363243363,93.02612313984612,97.34369048414658],\"showlegend\":false,\"subplot\":\"polar\",\"theta\":[\"Korea\",\"Malta\",\"Cyprus\",\"Czech Republic\",\"Hungary\",\"Mexico\",\"Poland\",\"Bulgaria\",\"United States\",\"Japan\",\"India\",\"Slovak Republic\",\"France\",\"North Macedonia\",\"Australia\",\"Netherlands\",\"Argentina\",\"Belgium\",\"Serbia\",\"Estonia\",\"Slovenia\",\"Greece\",\"Italy\",\"Republic of Turkiye\",\"Ireland\",\"Spain\",\"United Kingdom\",\"Romania\",\"Germany\",\"Chile\",\"Finland\",\"Lithuania\",\"Portugal\",\"Croatia\",\"Switzerland\",\"Latvia\",\"Colombia\",\"Sweden\",\"Canada\",\"New Zealand\",\"Austria\",\"Denmark\",\"Luxembourg\",\"Brazil\",\"Norway\",\"Iceland\"],\"type\":\"barpolar\"}],\"name\":\"2020\"},{\"data\":[{\"hovertemplate\":\"TIME=2021<br>%_RENEWABLE_PRODUCED=%{r}<br>COUNTRY=%{theta}<extra></extra>\",\"legendgroup\":\"\",\"marker\":{\"color\":\"#636efa\",\"pattern\":{\"shape\":\"\"}},\"name\":\"\",\"r\":[7.4120614602065675,10.975735724894802,13.652117240526678,14.965165512576217,18.40186446993739,18.415110820769883,19.263145376922857,20.316312427972182,20.516276144199928,20.954020585985166,21.989751701420417,22.023308709620643,22.781933179253947,23.4391228389066,28.10168090224402,29.80215863100597,30.590746388305984,32.16389731636889,32.89806387905658,33.20602931255024,34.31639829714942,34.96914115567561,36.600089381867846,38.50698219843891,39.43884438219989,39.86893373873583,43.175328031059024,43.37623805872772,47.17712686708448,47.37704678785043,51.021905910334596,55.359994917337474,60.345509361197294,61.16124199065046,63.81233005909907,64.2633976308321,64.318949563614,64.80810124935198,69.85730528258881,75.00417403274345,75.69871721877512,75.88004604155985,77.12155919709211,83.1743723615872,92.21938636292332,93.63066008839164,97.34837231346233],\"showlegend\":false,\"subplot\":\"polar\",\"theta\":[\"Korea\",\"Malta\",\"Czech Republic\",\"Cyprus\",\"Hungary\",\"Poland\",\"Mexico\",\"Japan\",\"United States\",\"India\",\"France\",\"Bulgaria\",\"Slovak Republic\",\"Belgium\",\"Argentina\",\"Australia\",\"North Macedonia\",\"Ireland\",\"Republic of Turkiye\",\"Netherlands\",\"Serbia\",\"Slovenia\",\"Greece\",\"United Kingdom\",\"Italy\",\"Germany\",\"Estonia\",\"Spain\",\"Chile\",\"Romania\",\"Finland\",\"Lithuania\",\"Latvia\",\"Portugal\",\"Croatia\",\"Switzerland\",\"Sweden\",\"Canada\",\"Colombia\",\"Brazil\",\"Denmark\",\"Austria\",\"New Zealand\",\"Luxembourg\",\"Costa Rica\",\"Norway\",\"Iceland\"],\"type\":\"barpolar\"}],\"name\":\"2021\"},{\"data\":[{\"hovertemplate\":\"TIME=2022<br>%_RENEWABLE_PRODUCED=%{r}<br>COUNTRY=%{theta}<extra></extra>\",\"legendgroup\":\"\",\"marker\":{\"color\":\"#636efa\",\"pattern\":{\"shape\":\"\"}},\"name\":\"\",\"r\":[8.620069190074876,11.625188981709096,13.488216748143532,17.558414535493206,18.970783337624407,19.828214547592644,19.982187283195064,20.96023354004707,21.108723965788272,21.237627320686933,22.753245531286797,22.853077732158937,24.177908412165376,26.018741372350185,27.86774558053342,30.33768118042022,30.82548007595075,31.760044518299097,33.2856395611311,34.40448710823095,38.27646570440718,38.697689936753605,38.87659864228248,38.97626250185489,39.451012596118765,40.517409992796374,42.20494816029374,43.19127721141432,46.14546143023409,52.95910888560994,53.03346301866878,55.08913868680675,56.27835368373771,57.15748888294048,57.33458641068182,65.41952404590427,66.36587549536402,71.06820388924801,73.00782616555635,75.01595544727915,77.04475768931638,82.35974371307137,86.68144365450121,90.95991728218932,91.22443236169003,92.97123264613826,97.34207778110633],\"showlegend\":false,\"subplot\":\"polar\",\"theta\":[\"Korea\",\"Malta\",\"Czech Republic\",\"Cyprus\",\"Bulgaria\",\"Mexico\",\"Hungary\",\"Japan\",\"Poland\",\"United States\",\"India\",\"Slovak Republic\",\"France\",\"Belgium\",\"North Macedonia\",\"Slovenia\",\"Argentina\",\"Serbia\",\"Australia\",\"Italy\",\"Estonia\",\"Ireland\",\"Republic of Turkiye\",\"Netherlands\",\"Spain\",\"United Kingdom\",\"Greece\",\"Germany\",\"Romania\",\"Finland\",\"Chile\",\"Portugal\",\"Lithuania\",\"Croatia\",\"Switzerland\",\"Sweden\",\"Canada\",\"Latvia\",\"Colombia\",\"Austria\",\"Denmark\",\"New Zealand\",\"Luxembourg\",\"Costa Rica\",\"Brazil\",\"Norway\",\"Iceland\"],\"type\":\"barpolar\"}],\"name\":\"2022\"}]);\n",
       "                        }).then(function(){\n",
       "                            \n",
       "var gd = document.getElementById('99e1cb82-78fd-4f24-a35c-489659c5fd6b');\n",
       "var x = new MutationObserver(function (mutations, observer) {{\n",
       "        var display = window.getComputedStyle(gd).display;\n",
       "        if (!display || display === 'none') {{\n",
       "            console.log([gd, 'removed!']);\n",
       "            Plotly.purge(gd);\n",
       "            observer.disconnect();\n",
       "        }}\n",
       "}});\n",
       "\n",
       "// Listen for the removal of the full notebook cells\n",
       "var notebookContainer = gd.closest('#notebook-container');\n",
       "if (notebookContainer) {{\n",
       "    x.observe(notebookContainer, {childList: true});\n",
       "}}\n",
       "\n",
       "// Listen for the clearing of the current output cell\n",
       "var outputEl = gd.closest('.output');\n",
       "if (outputEl) {{\n",
       "    x.observe(outputEl, {childList: true});\n",
       "}}\n",
       "\n",
       "                        })                };                });            </script>        </div>"
      ]
     },
     "metadata": {},
     "output_type": "display_data"
    }
   ],
   "source": [
    "data_rad = data_yearly[~data_yearly[\"COUNTRY\"].isin(['OECD Americas','OECD Asia Oceania', 'OECD Europe', 'OECD Total','IEA Total' ])].sort_values(by=[\"TIME\",energy_select.result])\n",
    "fig = px.bar_polar(data_rad, r=energy_select.result, theta=\"COUNTRY\",template=\"plotly_dark\",animation_frame=\"TIME\", title=f\"Ratio of {energy_select.result[2:-9].title()} energy produced by country (%)\")\n",
    "fig.show()"
   ]
  },
  {
   "cell_type": "code",
   "execution_count": 16,
   "id": "47848cdc",
   "metadata": {},
   "outputs": [
    {
     "data": {
      "text/plain": [
       "Index(['Fossil fuels', 'Low carbon', 'Total combustible fuels',\n",
       "       'Non-renewables', 'Net electricity production', 'Electricity supplied',\n",
       "       'Renewables', 'Others', 'Other renewables aggregated', 'Oil', 'Hydro',\n",
       "       'Distribution losses', 'Final consumption', 'Combustible renewables',\n",
       "       'Wind', 'Natural gas', 'Solar', 'Coal', 'Electricity trade',\n",
       "       'Total imports', 'Total exports', 'Other combustible non-renewables',\n",
       "       'Used for pumped storage', 'Not specified', 'Nuclear', 'Geothermal',\n",
       "       'Other renewables'],\n",
       "      dtype='object')"
      ]
     },
     "execution_count": 16,
     "metadata": {},
     "output_type": "execute_result"
    }
   ],
   "source": [
    "data.PRODUCT.value_counts().keys()"
   ]
  },
  {
   "cell_type": "code",
   "execution_count": 17,
   "id": "45c55ee6",
   "metadata": {},
   "outputs": [
    {
     "data": {
      "text/html": [
       "<div>\n",
       "<style scoped>\n",
       "    .dataframe tbody tr th:only-of-type {\n",
       "        vertical-align: middle;\n",
       "    }\n",
       "\n",
       "    .dataframe tbody tr th {\n",
       "        vertical-align: top;\n",
       "    }\n",
       "\n",
       "    .dataframe thead th {\n",
       "        text-align: right;\n",
       "    }\n",
       "</style>\n",
       "<table border=\"1\" class=\"dataframe\">\n",
       "  <thead>\n",
       "    <tr style=\"text-align: right;\">\n",
       "      <th>PRODUCT</th>\n",
       "      <th>TIME</th>\n",
       "      <th>Coal</th>\n",
       "      <th>Geothermal</th>\n",
       "      <th>Hydro</th>\n",
       "      <th>Natural gas</th>\n",
       "      <th>Net electricity production</th>\n",
       "      <th>Nuclear</th>\n",
       "      <th>Oil</th>\n",
       "      <th>Renewables</th>\n",
       "      <th>Solar</th>\n",
       "      <th>Total combustible fuels</th>\n",
       "      <th>Wind</th>\n",
       "    </tr>\n",
       "  </thead>\n",
       "  <tbody>\n",
       "    <tr>\n",
       "      <th>0</th>\n",
       "      <td>2010</td>\n",
       "      <td>1.391791e+07</td>\n",
       "      <td>153957.248000</td>\n",
       "      <td>5.630037e+06</td>\n",
       "      <td>9.729816e+06</td>\n",
       "      <td>4.161422e+07</td>\n",
       "      <td>8.741033e+06</td>\n",
       "      <td>1.139135e+06</td>\n",
       "      <td>7.798027e+06</td>\n",
       "      <td>1.224891e+05</td>\n",
       "      <td>2.577281e+07</td>\n",
       "      <td>1.064956e+06</td>\n",
       "    </tr>\n",
       "    <tr>\n",
       "      <th>1</th>\n",
       "      <td>2011</td>\n",
       "      <td>1.355551e+07</td>\n",
       "      <td>156852.033000</td>\n",
       "      <td>5.709308e+06</td>\n",
       "      <td>9.934005e+06</td>\n",
       "      <td>4.149379e+07</td>\n",
       "      <td>8.185178e+06</td>\n",
       "      <td>1.208316e+06</td>\n",
       "      <td>8.301215e+06</td>\n",
       "      <td>2.481547e+05</td>\n",
       "      <td>2.574351e+07</td>\n",
       "      <td>1.319213e+06</td>\n",
       "    </tr>\n",
       "    <tr>\n",
       "      <th>2</th>\n",
       "      <td>2012</td>\n",
       "      <td>1.295800e+07</td>\n",
       "      <td>157437.500000</td>\n",
       "      <td>5.745132e+06</td>\n",
       "      <td>1.051916e+07</td>\n",
       "      <td>4.146581e+07</td>\n",
       "      <td>7.438033e+06</td>\n",
       "      <td>1.510375e+06</td>\n",
       "      <td>8.722378e+06</td>\n",
       "      <td>3.687882e+05</td>\n",
       "      <td>2.611202e+07</td>\n",
       "      <td>1.512465e+06</td>\n",
       "    </tr>\n",
       "    <tr>\n",
       "      <th>3</th>\n",
       "      <td>2013</td>\n",
       "      <td>1.315917e+07</td>\n",
       "      <td>162687.212000</td>\n",
       "      <td>5.825129e+06</td>\n",
       "      <td>9.963354e+06</td>\n",
       "      <td>4.145811e+07</td>\n",
       "      <td>7.486354e+06</td>\n",
       "      <td>1.287965e+06</td>\n",
       "      <td>9.240593e+06</td>\n",
       "      <td>4.722771e+05</td>\n",
       "      <td>2.558814e+07</td>\n",
       "      <td>1.784702e+06</td>\n",
       "    </tr>\n",
       "    <tr>\n",
       "      <th>4</th>\n",
       "      <td>2014</td>\n",
       "      <td>1.300914e+07</td>\n",
       "      <td>170619.289000</td>\n",
       "      <td>5.881753e+06</td>\n",
       "      <td>9.903350e+06</td>\n",
       "      <td>4.156977e+07</td>\n",
       "      <td>7.547150e+06</td>\n",
       "      <td>1.134974e+06</td>\n",
       "      <td>9.647251e+06</td>\n",
       "      <td>5.990869e+05</td>\n",
       "      <td>2.529602e+07</td>\n",
       "      <td>1.935022e+06</td>\n",
       "    </tr>\n",
       "    <tr>\n",
       "      <th>5</th>\n",
       "      <td>2015</td>\n",
       "      <td>1.311264e+07</td>\n",
       "      <td>178240.376000</td>\n",
       "      <td>6.384374e+06</td>\n",
       "      <td>1.095248e+07</td>\n",
       "      <td>4.381091e+07</td>\n",
       "      <td>7.573388e+06</td>\n",
       "      <td>1.084939e+06</td>\n",
       "      <td>1.077721e+07</td>\n",
       "      <td>7.551723e+05</td>\n",
       "      <td>2.650553e+07</td>\n",
       "      <td>2.279481e+06</td>\n",
       "    </tr>\n",
       "    <tr>\n",
       "      <th>6</th>\n",
       "      <td>2016</td>\n",
       "      <td>1.250820e+07</td>\n",
       "      <td>182242.266000</td>\n",
       "      <td>6.548657e+06</td>\n",
       "      <td>1.147930e+07</td>\n",
       "      <td>4.424375e+07</td>\n",
       "      <td>7.563554e+06</td>\n",
       "      <td>1.009176e+06</td>\n",
       "      <td>1.134405e+07</td>\n",
       "      <td>8.989652e+05</td>\n",
       "      <td>2.641830e+07</td>\n",
       "      <td>2.495297e+06</td>\n",
       "    </tr>\n",
       "    <tr>\n",
       "      <th>7</th>\n",
       "      <td>2017</td>\n",
       "      <td>1.234561e+07</td>\n",
       "      <td>186005.592000</td>\n",
       "      <td>6.527835e+06</td>\n",
       "      <td>1.144297e+07</td>\n",
       "      <td>4.444516e+07</td>\n",
       "      <td>7.516317e+06</td>\n",
       "      <td>8.785849e+05</td>\n",
       "      <td>1.191653e+07</td>\n",
       "      <td>1.092588e+06</td>\n",
       "      <td>2.611725e+07</td>\n",
       "      <td>2.869596e+06</td>\n",
       "    </tr>\n",
       "    <tr>\n",
       "      <th>8</th>\n",
       "      <td>2018</td>\n",
       "      <td>1.203401e+07</td>\n",
       "      <td>191648.361217</td>\n",
       "      <td>6.659584e+06</td>\n",
       "      <td>1.210693e+07</td>\n",
       "      <td>4.542482e+07</td>\n",
       "      <td>7.569057e+06</td>\n",
       "      <td>8.400285e+05</td>\n",
       "      <td>1.247547e+07</td>\n",
       "      <td>1.271252e+06</td>\n",
       "      <td>2.647965e+07</td>\n",
       "      <td>3.076187e+06</td>\n",
       "    </tr>\n",
       "    <tr>\n",
       "      <th>9</th>\n",
       "      <td>2019</td>\n",
       "      <td>1.053498e+07</td>\n",
       "      <td>194728.531515</td>\n",
       "      <td>6.527791e+06</td>\n",
       "      <td>1.260016e+07</td>\n",
       "      <td>4.486309e+07</td>\n",
       "      <td>7.673491e+06</td>\n",
       "      <td>7.360481e+05</td>\n",
       "      <td>1.291815e+07</td>\n",
       "      <td>1.467786e+06</td>\n",
       "      <td>2.538142e+07</td>\n",
       "      <td>3.433267e+06</td>\n",
       "    </tr>\n",
       "    <tr>\n",
       "      <th>10</th>\n",
       "      <td>2020</td>\n",
       "      <td>8.946434e+06</td>\n",
       "      <td>199114.267724</td>\n",
       "      <td>6.721847e+06</td>\n",
       "      <td>1.274181e+07</td>\n",
       "      <td>4.372505e+07</td>\n",
       "      <td>7.202099e+06</td>\n",
       "      <td>7.039811e+05</td>\n",
       "      <td>1.372715e+07</td>\n",
       "      <td>1.648628e+06</td>\n",
       "      <td>2.393374e+07</td>\n",
       "      <td>3.840899e+06</td>\n",
       "    </tr>\n",
       "    <tr>\n",
       "      <th>11</th>\n",
       "      <td>2021</td>\n",
       "      <td>9.778072e+06</td>\n",
       "      <td>203777.074378</td>\n",
       "      <td>6.509868e+06</td>\n",
       "      <td>1.265339e+07</td>\n",
       "      <td>4.519573e+07</td>\n",
       "      <td>7.359390e+06</td>\n",
       "      <td>7.485739e+05</td>\n",
       "      <td>1.423792e+07</td>\n",
       "      <td>2.116078e+06</td>\n",
       "      <td>2.479635e+07</td>\n",
       "      <td>4.019540e+06</td>\n",
       "    </tr>\n",
       "    <tr>\n",
       "      <th>12</th>\n",
       "      <td>2022</td>\n",
       "      <td>9.507778e+06</td>\n",
       "      <td>209246.775292</td>\n",
       "      <td>6.412109e+06</td>\n",
       "      <td>1.297165e+07</td>\n",
       "      <td>4.556412e+07</td>\n",
       "      <td>6.889015e+06</td>\n",
       "      <td>7.741525e+05</td>\n",
       "      <td>1.507976e+07</td>\n",
       "      <td>2.565459e+06</td>\n",
       "      <td>2.483465e+07</td>\n",
       "      <td>4.526282e+06</td>\n",
       "    </tr>\n",
       "  </tbody>\n",
       "</table>\n",
       "</div>"
      ],
      "text/plain": [
       "PRODUCT  TIME          Coal     Geothermal         Hydro   Natural gas  \\\n",
       "0        2010  1.391791e+07  153957.248000  5.630037e+06  9.729816e+06   \n",
       "1        2011  1.355551e+07  156852.033000  5.709308e+06  9.934005e+06   \n",
       "2        2012  1.295800e+07  157437.500000  5.745132e+06  1.051916e+07   \n",
       "3        2013  1.315917e+07  162687.212000  5.825129e+06  9.963354e+06   \n",
       "4        2014  1.300914e+07  170619.289000  5.881753e+06  9.903350e+06   \n",
       "5        2015  1.311264e+07  178240.376000  6.384374e+06  1.095248e+07   \n",
       "6        2016  1.250820e+07  182242.266000  6.548657e+06  1.147930e+07   \n",
       "7        2017  1.234561e+07  186005.592000  6.527835e+06  1.144297e+07   \n",
       "8        2018  1.203401e+07  191648.361217  6.659584e+06  1.210693e+07   \n",
       "9        2019  1.053498e+07  194728.531515  6.527791e+06  1.260016e+07   \n",
       "10       2020  8.946434e+06  199114.267724  6.721847e+06  1.274181e+07   \n",
       "11       2021  9.778072e+06  203777.074378  6.509868e+06  1.265339e+07   \n",
       "12       2022  9.507778e+06  209246.775292  6.412109e+06  1.297165e+07   \n",
       "\n",
       "PRODUCT  Net electricity production       Nuclear           Oil    Renewables  \\\n",
       "0                      4.161422e+07  8.741033e+06  1.139135e+06  7.798027e+06   \n",
       "1                      4.149379e+07  8.185178e+06  1.208316e+06  8.301215e+06   \n",
       "2                      4.146581e+07  7.438033e+06  1.510375e+06  8.722378e+06   \n",
       "3                      4.145811e+07  7.486354e+06  1.287965e+06  9.240593e+06   \n",
       "4                      4.156977e+07  7.547150e+06  1.134974e+06  9.647251e+06   \n",
       "5                      4.381091e+07  7.573388e+06  1.084939e+06  1.077721e+07   \n",
       "6                      4.424375e+07  7.563554e+06  1.009176e+06  1.134405e+07   \n",
       "7                      4.444516e+07  7.516317e+06  8.785849e+05  1.191653e+07   \n",
       "8                      4.542482e+07  7.569057e+06  8.400285e+05  1.247547e+07   \n",
       "9                      4.486309e+07  7.673491e+06  7.360481e+05  1.291815e+07   \n",
       "10                     4.372505e+07  7.202099e+06  7.039811e+05  1.372715e+07   \n",
       "11                     4.519573e+07  7.359390e+06  7.485739e+05  1.423792e+07   \n",
       "12                     4.556412e+07  6.889015e+06  7.741525e+05  1.507976e+07   \n",
       "\n",
       "PRODUCT         Solar  Total combustible fuels          Wind  \n",
       "0        1.224891e+05             2.577281e+07  1.064956e+06  \n",
       "1        2.481547e+05             2.574351e+07  1.319213e+06  \n",
       "2        3.687882e+05             2.611202e+07  1.512465e+06  \n",
       "3        4.722771e+05             2.558814e+07  1.784702e+06  \n",
       "4        5.990869e+05             2.529602e+07  1.935022e+06  \n",
       "5        7.551723e+05             2.650553e+07  2.279481e+06  \n",
       "6        8.989652e+05             2.641830e+07  2.495297e+06  \n",
       "7        1.092588e+06             2.611725e+07  2.869596e+06  \n",
       "8        1.271252e+06             2.647965e+07  3.076187e+06  \n",
       "9        1.467786e+06             2.538142e+07  3.433267e+06  \n",
       "10       1.648628e+06             2.393374e+07  3.840899e+06  \n",
       "11       2.116078e+06             2.479635e+07  4.019540e+06  \n",
       "12       2.565459e+06             2.483465e+07  4.526282e+06  "
      ]
     },
     "execution_count": 17,
     "metadata": {},
     "output_type": "execute_result"
    }
   ],
   "source": [
    "display_en_type = [\"Natural gas\", \"Coal\", \"Oil\", \"Nuclear\", \"Solar\", \"Wind\", \"Hydro\", \"Geothermal\", \"Total combustible fuels\", \"Net electricity production\", \"Renewables\"]\n",
    "data_filtered = data[data[\"PRODUCT\"].isin(display_en_type)]\n",
    "\n",
    "data_group = data_filtered.groupby(by=['COUNTRY', 'TIME', \"PRODUCT\"])[\"VALUE\"].sum().reset_index()\n",
    "\n",
    "data_more  = data_group.pivot(index=['COUNTRY', 'TIME'], columns='PRODUCT', values='VALUE').reset_index()\n",
    "\n",
    "data_more[\"TIME\"] = pd.to_datetime(data_more.TIME)\n",
    "data_more[\"TIME\"] = data_more[\"TIME\"].apply(lambda x: x.year)\n",
    "\n",
    "data_yearly_more = data_more.groupby([\"COUNTRY\", \"TIME\"]).sum().sort_values(by=[\"COUNTRY\",\"TIME\"]).reset_index()\n",
    "data_global_year = data_yearly_more.groupby(by=\"TIME\").sum().reset_index()\n",
    "data_global_year"
   ]
  },
  {
   "cell_type": "code",
   "execution_count": 18,
   "id": "45d5dcc3",
   "metadata": {},
   "outputs": [
    {
     "data": {
      "text/plain": [
       "['Natural gas',\n",
       " 'Coal',\n",
       " 'Oil',\n",
       " 'Nuclear',\n",
       " 'Solar',\n",
       " 'Wind',\n",
       " 'Hydro',\n",
       " 'Geothermal',\n",
       " 'Total combustible fuels',\n",
       " 'Net electricity production',\n",
       " 'Renewables']"
      ]
     },
     "execution_count": 18,
     "metadata": {},
     "output_type": "execute_result"
    }
   ],
   "source": [
    "display_en_type"
   ]
  },
  {
   "cell_type": "code",
   "execution_count": 19,
   "id": "e38bceb2",
   "metadata": {},
   "outputs": [
    {
     "data": {
      "application/vnd.jupyter.widget-view+json": {
       "model_id": "432dd584a17c472792e25d96e8a64589",
       "version_major": 2,
       "version_minor": 0
      },
      "text/plain": [
       "interactive(children=(Dropdown(description='country', options=('Natural gas', 'Coal', 'Oil', 'Nuclear', 'Solar…"
      ]
     },
     "metadata": {},
     "output_type": "display_data"
    }
   ],
   "source": [
    "energy_type = interactive(dropdown, country=display_en_type)\n",
    "display(energy_type)"
   ]
  },
  {
   "cell_type": "code",
   "execution_count": 20,
   "id": "3e6a953b",
   "metadata": {},
   "outputs": [],
   "source": [
    "Nat_gas = interactive(dropdown, country=Checkbox(value=False, description='Natural gas',disabled=False, indent=False, layout=widgets.Layout(width='100px')))\n",
    "Coal = interactive(dropdown, country=Checkbox(value=False, description='Coal',disabled=False, indent=False, layout=widgets.Layout(width='100px')))\n",
    "Oil = interactive(dropdown, country=Checkbox(value=False, description='Oil',disabled=False, indent=False, layout=widgets.Layout(width='100px')))\n",
    "Nuclear = interactive(dropdown, country=Checkbox(value=False, description='Nuclear',disabled=False, indent=False, layout=widgets.Layout(width='100px')))\n",
    "Solar = interactive(dropdown, country=Checkbox(value=False, description='Solar',disabled=False, indent=False, layout=widgets.Layout(width='100px')))\n",
    "Wind = interactive(dropdown, country=Checkbox(value=False, description='Wind',disabled=False, indent=False, layout=widgets.Layout(width='100px')))\n",
    "Hydro = interactive(dropdown, country=Checkbox(value=False, description='Hydro',disabled=False, indent=False, layout=widgets.Layout(width='100px')))\n",
    "Geothermal = interactive(dropdown, country=Checkbox(value=False, description='Geothermal',disabled=False, indent=False, layout=widgets.Layout(width='100px')))\n",
    "total_en = interactive(dropdown, country=Checkbox(value=False, description='Total combustible fuels',disabled=False, indent=False, layout=widgets.Layout(width='100px')))\n",
    "total_comb = interactive(dropdown, country=Checkbox(value=False, description='Net electricity production',disabled=False, indent=False, layout=widgets.Layout(width='100px')))\n",
    "total_renew = interactive(dropdown, country=Checkbox(value=False, description='Renewables',disabled=False, indent=False, layout=widgets.Layout(width='100px')))"
   ]
  },
  {
   "cell_type": "code",
   "execution_count": 21,
   "id": "e53d21c9",
   "metadata": {},
   "outputs": [],
   "source": [
    "h1 = widgets.HBox(children=[Nat_gas,Coal,Oil,Nuclear])\n",
    "h2 = widgets.HBox(children=[Solar,Wind,Hydro,Geothermal])\n",
    "h3 = widgets.HBox(children=[total_en,total_comb,total_renew])"
   ]
  },
  {
   "cell_type": "code",
   "execution_count": 22,
   "id": "17597c67",
   "metadata": {},
   "outputs": [
    {
     "data": {
      "application/vnd.jupyter.widget-view+json": {
       "model_id": "f23764a5229f4acd83ebefddca4115c4",
       "version_major": 2,
       "version_minor": 0
      },
      "text/plain": [
       "VBox(children=(HBox(children=(interactive(children=(Checkbox(value=False, description='Natural gas', indent=Fa…"
      ]
     },
     "execution_count": 22,
     "metadata": {},
     "output_type": "execute_result"
    }
   ],
   "source": [
    "final = widgets.VBox(children=[h1,h2, h3])\n",
    "final"
   ]
  },
  {
   "cell_type": "code",
   "execution_count": 23,
   "id": "995c564f",
   "metadata": {},
   "outputs": [
    {
     "data": {
      "text/plain": [
       "[]"
      ]
     },
     "execution_count": 23,
     "metadata": {},
     "output_type": "execute_result"
    }
   ],
   "source": [
    "state = {}\n",
    "res = []\n",
    "for line in final.children:\n",
    "    for widget in line.children:\n",
    "        state[widget.children[0].description]= widget.result\n",
    "for key,value in state.items():\n",
    "    if value == True:\n",
    "        res.append(key)\n",
    "res"
   ]
  },
  {
   "cell_type": "code",
   "execution_count": 24,
   "id": "50d85203",
   "metadata": {},
   "outputs": [
    {
     "data": {
      "application/vnd.plotly.v1+json": {
       "config": {
        "plotlyServerURL": "https://plot.ly"
       },
       "data": [],
       "layout": {
        "legend": {
         "tracegroupgap": 0
        },
        "template": {
         "data": {
          "bar": [
           {
            "error_x": {
             "color": "#2a3f5f"
            },
            "error_y": {
             "color": "#2a3f5f"
            },
            "marker": {
             "line": {
              "color": "#E5ECF6",
              "width": 0.5
             },
             "pattern": {
              "fillmode": "overlay",
              "size": 10,
              "solidity": 0.2
             }
            },
            "type": "bar"
           }
          ],
          "barpolar": [
           {
            "marker": {
             "line": {
              "color": "#E5ECF6",
              "width": 0.5
             },
             "pattern": {
              "fillmode": "overlay",
              "size": 10,
              "solidity": 0.2
             }
            },
            "type": "barpolar"
           }
          ],
          "carpet": [
           {
            "aaxis": {
             "endlinecolor": "#2a3f5f",
             "gridcolor": "white",
             "linecolor": "white",
             "minorgridcolor": "white",
             "startlinecolor": "#2a3f5f"
            },
            "baxis": {
             "endlinecolor": "#2a3f5f",
             "gridcolor": "white",
             "linecolor": "white",
             "minorgridcolor": "white",
             "startlinecolor": "#2a3f5f"
            },
            "type": "carpet"
           }
          ],
          "choropleth": [
           {
            "colorbar": {
             "outlinewidth": 0,
             "ticks": ""
            },
            "type": "choropleth"
           }
          ],
          "contour": [
           {
            "colorbar": {
             "outlinewidth": 0,
             "ticks": ""
            },
            "colorscale": [
             [
              0,
              "#0d0887"
             ],
             [
              0.1111111111111111,
              "#46039f"
             ],
             [
              0.2222222222222222,
              "#7201a8"
             ],
             [
              0.3333333333333333,
              "#9c179e"
             ],
             [
              0.4444444444444444,
              "#bd3786"
             ],
             [
              0.5555555555555556,
              "#d8576b"
             ],
             [
              0.6666666666666666,
              "#ed7953"
             ],
             [
              0.7777777777777778,
              "#fb9f3a"
             ],
             [
              0.8888888888888888,
              "#fdca26"
             ],
             [
              1,
              "#f0f921"
             ]
            ],
            "type": "contour"
           }
          ],
          "contourcarpet": [
           {
            "colorbar": {
             "outlinewidth": 0,
             "ticks": ""
            },
            "type": "contourcarpet"
           }
          ],
          "heatmap": [
           {
            "colorbar": {
             "outlinewidth": 0,
             "ticks": ""
            },
            "colorscale": [
             [
              0,
              "#0d0887"
             ],
             [
              0.1111111111111111,
              "#46039f"
             ],
             [
              0.2222222222222222,
              "#7201a8"
             ],
             [
              0.3333333333333333,
              "#9c179e"
             ],
             [
              0.4444444444444444,
              "#bd3786"
             ],
             [
              0.5555555555555556,
              "#d8576b"
             ],
             [
              0.6666666666666666,
              "#ed7953"
             ],
             [
              0.7777777777777778,
              "#fb9f3a"
             ],
             [
              0.8888888888888888,
              "#fdca26"
             ],
             [
              1,
              "#f0f921"
             ]
            ],
            "type": "heatmap"
           }
          ],
          "heatmapgl": [
           {
            "colorbar": {
             "outlinewidth": 0,
             "ticks": ""
            },
            "colorscale": [
             [
              0,
              "#0d0887"
             ],
             [
              0.1111111111111111,
              "#46039f"
             ],
             [
              0.2222222222222222,
              "#7201a8"
             ],
             [
              0.3333333333333333,
              "#9c179e"
             ],
             [
              0.4444444444444444,
              "#bd3786"
             ],
             [
              0.5555555555555556,
              "#d8576b"
             ],
             [
              0.6666666666666666,
              "#ed7953"
             ],
             [
              0.7777777777777778,
              "#fb9f3a"
             ],
             [
              0.8888888888888888,
              "#fdca26"
             ],
             [
              1,
              "#f0f921"
             ]
            ],
            "type": "heatmapgl"
           }
          ],
          "histogram": [
           {
            "marker": {
             "pattern": {
              "fillmode": "overlay",
              "size": 10,
              "solidity": 0.2
             }
            },
            "type": "histogram"
           }
          ],
          "histogram2d": [
           {
            "colorbar": {
             "outlinewidth": 0,
             "ticks": ""
            },
            "colorscale": [
             [
              0,
              "#0d0887"
             ],
             [
              0.1111111111111111,
              "#46039f"
             ],
             [
              0.2222222222222222,
              "#7201a8"
             ],
             [
              0.3333333333333333,
              "#9c179e"
             ],
             [
              0.4444444444444444,
              "#bd3786"
             ],
             [
              0.5555555555555556,
              "#d8576b"
             ],
             [
              0.6666666666666666,
              "#ed7953"
             ],
             [
              0.7777777777777778,
              "#fb9f3a"
             ],
             [
              0.8888888888888888,
              "#fdca26"
             ],
             [
              1,
              "#f0f921"
             ]
            ],
            "type": "histogram2d"
           }
          ],
          "histogram2dcontour": [
           {
            "colorbar": {
             "outlinewidth": 0,
             "ticks": ""
            },
            "colorscale": [
             [
              0,
              "#0d0887"
             ],
             [
              0.1111111111111111,
              "#46039f"
             ],
             [
              0.2222222222222222,
              "#7201a8"
             ],
             [
              0.3333333333333333,
              "#9c179e"
             ],
             [
              0.4444444444444444,
              "#bd3786"
             ],
             [
              0.5555555555555556,
              "#d8576b"
             ],
             [
              0.6666666666666666,
              "#ed7953"
             ],
             [
              0.7777777777777778,
              "#fb9f3a"
             ],
             [
              0.8888888888888888,
              "#fdca26"
             ],
             [
              1,
              "#f0f921"
             ]
            ],
            "type": "histogram2dcontour"
           }
          ],
          "mesh3d": [
           {
            "colorbar": {
             "outlinewidth": 0,
             "ticks": ""
            },
            "type": "mesh3d"
           }
          ],
          "parcoords": [
           {
            "line": {
             "colorbar": {
              "outlinewidth": 0,
              "ticks": ""
             }
            },
            "type": "parcoords"
           }
          ],
          "pie": [
           {
            "automargin": true,
            "type": "pie"
           }
          ],
          "scatter": [
           {
            "fillpattern": {
             "fillmode": "overlay",
             "size": 10,
             "solidity": 0.2
            },
            "type": "scatter"
           }
          ],
          "scatter3d": [
           {
            "line": {
             "colorbar": {
              "outlinewidth": 0,
              "ticks": ""
             }
            },
            "marker": {
             "colorbar": {
              "outlinewidth": 0,
              "ticks": ""
             }
            },
            "type": "scatter3d"
           }
          ],
          "scattercarpet": [
           {
            "marker": {
             "colorbar": {
              "outlinewidth": 0,
              "ticks": ""
             }
            },
            "type": "scattercarpet"
           }
          ],
          "scattergeo": [
           {
            "marker": {
             "colorbar": {
              "outlinewidth": 0,
              "ticks": ""
             }
            },
            "type": "scattergeo"
           }
          ],
          "scattergl": [
           {
            "marker": {
             "colorbar": {
              "outlinewidth": 0,
              "ticks": ""
             }
            },
            "type": "scattergl"
           }
          ],
          "scattermapbox": [
           {
            "marker": {
             "colorbar": {
              "outlinewidth": 0,
              "ticks": ""
             }
            },
            "type": "scattermapbox"
           }
          ],
          "scatterpolar": [
           {
            "marker": {
             "colorbar": {
              "outlinewidth": 0,
              "ticks": ""
             }
            },
            "type": "scatterpolar"
           }
          ],
          "scatterpolargl": [
           {
            "marker": {
             "colorbar": {
              "outlinewidth": 0,
              "ticks": ""
             }
            },
            "type": "scatterpolargl"
           }
          ],
          "scatterternary": [
           {
            "marker": {
             "colorbar": {
              "outlinewidth": 0,
              "ticks": ""
             }
            },
            "type": "scatterternary"
           }
          ],
          "surface": [
           {
            "colorbar": {
             "outlinewidth": 0,
             "ticks": ""
            },
            "colorscale": [
             [
              0,
              "#0d0887"
             ],
             [
              0.1111111111111111,
              "#46039f"
             ],
             [
              0.2222222222222222,
              "#7201a8"
             ],
             [
              0.3333333333333333,
              "#9c179e"
             ],
             [
              0.4444444444444444,
              "#bd3786"
             ],
             [
              0.5555555555555556,
              "#d8576b"
             ],
             [
              0.6666666666666666,
              "#ed7953"
             ],
             [
              0.7777777777777778,
              "#fb9f3a"
             ],
             [
              0.8888888888888888,
              "#fdca26"
             ],
             [
              1,
              "#f0f921"
             ]
            ],
            "type": "surface"
           }
          ],
          "table": [
           {
            "cells": {
             "fill": {
              "color": "#EBF0F8"
             },
             "line": {
              "color": "white"
             }
            },
            "header": {
             "fill": {
              "color": "#C8D4E3"
             },
             "line": {
              "color": "white"
             }
            },
            "type": "table"
           }
          ]
         },
         "layout": {
          "annotationdefaults": {
           "arrowcolor": "#2a3f5f",
           "arrowhead": 0,
           "arrowwidth": 1
          },
          "autotypenumbers": "strict",
          "coloraxis": {
           "colorbar": {
            "outlinewidth": 0,
            "ticks": ""
           }
          },
          "colorscale": {
           "diverging": [
            [
             0,
             "#8e0152"
            ],
            [
             0.1,
             "#c51b7d"
            ],
            [
             0.2,
             "#de77ae"
            ],
            [
             0.3,
             "#f1b6da"
            ],
            [
             0.4,
             "#fde0ef"
            ],
            [
             0.5,
             "#f7f7f7"
            ],
            [
             0.6,
             "#e6f5d0"
            ],
            [
             0.7,
             "#b8e186"
            ],
            [
             0.8,
             "#7fbc41"
            ],
            [
             0.9,
             "#4d9221"
            ],
            [
             1,
             "#276419"
            ]
           ],
           "sequential": [
            [
             0,
             "#0d0887"
            ],
            [
             0.1111111111111111,
             "#46039f"
            ],
            [
             0.2222222222222222,
             "#7201a8"
            ],
            [
             0.3333333333333333,
             "#9c179e"
            ],
            [
             0.4444444444444444,
             "#bd3786"
            ],
            [
             0.5555555555555556,
             "#d8576b"
            ],
            [
             0.6666666666666666,
             "#ed7953"
            ],
            [
             0.7777777777777778,
             "#fb9f3a"
            ],
            [
             0.8888888888888888,
             "#fdca26"
            ],
            [
             1,
             "#f0f921"
            ]
           ],
           "sequentialminus": [
            [
             0,
             "#0d0887"
            ],
            [
             0.1111111111111111,
             "#46039f"
            ],
            [
             0.2222222222222222,
             "#7201a8"
            ],
            [
             0.3333333333333333,
             "#9c179e"
            ],
            [
             0.4444444444444444,
             "#bd3786"
            ],
            [
             0.5555555555555556,
             "#d8576b"
            ],
            [
             0.6666666666666666,
             "#ed7953"
            ],
            [
             0.7777777777777778,
             "#fb9f3a"
            ],
            [
             0.8888888888888888,
             "#fdca26"
            ],
            [
             1,
             "#f0f921"
            ]
           ]
          },
          "colorway": [
           "#636efa",
           "#EF553B",
           "#00cc96",
           "#ab63fa",
           "#FFA15A",
           "#19d3f3",
           "#FF6692",
           "#B6E880",
           "#FF97FF",
           "#FECB52"
          ],
          "font": {
           "color": "#2a3f5f"
          },
          "geo": {
           "bgcolor": "white",
           "lakecolor": "white",
           "landcolor": "#E5ECF6",
           "showlakes": true,
           "showland": true,
           "subunitcolor": "white"
          },
          "hoverlabel": {
           "align": "left"
          },
          "hovermode": "closest",
          "mapbox": {
           "style": "light"
          },
          "paper_bgcolor": "white",
          "plot_bgcolor": "#E5ECF6",
          "polar": {
           "angularaxis": {
            "gridcolor": "white",
            "linecolor": "white",
            "ticks": ""
           },
           "bgcolor": "#E5ECF6",
           "radialaxis": {
            "gridcolor": "white",
            "linecolor": "white",
            "ticks": ""
           }
          },
          "scene": {
           "xaxis": {
            "backgroundcolor": "#E5ECF6",
            "gridcolor": "white",
            "gridwidth": 2,
            "linecolor": "white",
            "showbackground": true,
            "ticks": "",
            "zerolinecolor": "white"
           },
           "yaxis": {
            "backgroundcolor": "#E5ECF6",
            "gridcolor": "white",
            "gridwidth": 2,
            "linecolor": "white",
            "showbackground": true,
            "ticks": "",
            "zerolinecolor": "white"
           },
           "zaxis": {
            "backgroundcolor": "#E5ECF6",
            "gridcolor": "white",
            "gridwidth": 2,
            "linecolor": "white",
            "showbackground": true,
            "ticks": "",
            "zerolinecolor": "white"
           }
          },
          "shapedefaults": {
           "line": {
            "color": "#2a3f5f"
           }
          },
          "ternary": {
           "aaxis": {
            "gridcolor": "white",
            "linecolor": "white",
            "ticks": ""
           },
           "baxis": {
            "gridcolor": "white",
            "linecolor": "white",
            "ticks": ""
           },
           "bgcolor": "#E5ECF6",
           "caxis": {
            "gridcolor": "white",
            "linecolor": "white",
            "ticks": ""
           }
          },
          "title": {
           "x": 0.05
          },
          "xaxis": {
           "automargin": true,
           "gridcolor": "white",
           "linecolor": "white",
           "ticks": "",
           "title": {
            "standoff": 15
           },
           "zerolinecolor": "white",
           "zerolinewidth": 2
          },
          "yaxis": {
           "automargin": true,
           "gridcolor": "white",
           "linecolor": "white",
           "ticks": "",
           "title": {
            "standoff": 15
           },
           "zerolinecolor": "white",
           "zerolinewidth": 2
          }
         }
        },
        "title": {
         "text": "Global energy production per energy type (GWh)"
        },
        "xaxis": {
         "anchor": "y",
         "domain": [
          0,
          1
         ],
         "title": {
          "text": "Year"
         }
        },
        "yaxis": {
         "anchor": "x",
         "domain": [
          0,
          1
         ],
         "title": {
          "text": "energy produced (GWh)"
         }
        }
       }
      },
      "text/html": [
       "<div>                            <div id=\"9fe48a27-f7e2-47e8-bab8-0c5fb6c1531e\" class=\"plotly-graph-div\" style=\"height:525px; width:100%;\"></div>            <script type=\"text/javascript\">                require([\"plotly\"], function(Plotly) {                    window.PLOTLYENV=window.PLOTLYENV || {};                                    if (document.getElementById(\"9fe48a27-f7e2-47e8-bab8-0c5fb6c1531e\")) {                    Plotly.newPlot(                        \"9fe48a27-f7e2-47e8-bab8-0c5fb6c1531e\",                        [],                        {\"template\":{\"data\":{\"histogram2dcontour\":[{\"type\":\"histogram2dcontour\",\"colorbar\":{\"outlinewidth\":0,\"ticks\":\"\"},\"colorscale\":[[0.0,\"#0d0887\"],[0.1111111111111111,\"#46039f\"],[0.2222222222222222,\"#7201a8\"],[0.3333333333333333,\"#9c179e\"],[0.4444444444444444,\"#bd3786\"],[0.5555555555555556,\"#d8576b\"],[0.6666666666666666,\"#ed7953\"],[0.7777777777777778,\"#fb9f3a\"],[0.8888888888888888,\"#fdca26\"],[1.0,\"#f0f921\"]]}],\"choropleth\":[{\"type\":\"choropleth\",\"colorbar\":{\"outlinewidth\":0,\"ticks\":\"\"}}],\"histogram2d\":[{\"type\":\"histogram2d\",\"colorbar\":{\"outlinewidth\":0,\"ticks\":\"\"},\"colorscale\":[[0.0,\"#0d0887\"],[0.1111111111111111,\"#46039f\"],[0.2222222222222222,\"#7201a8\"],[0.3333333333333333,\"#9c179e\"],[0.4444444444444444,\"#bd3786\"],[0.5555555555555556,\"#d8576b\"],[0.6666666666666666,\"#ed7953\"],[0.7777777777777778,\"#fb9f3a\"],[0.8888888888888888,\"#fdca26\"],[1.0,\"#f0f921\"]]}],\"heatmap\":[{\"type\":\"heatmap\",\"colorbar\":{\"outlinewidth\":0,\"ticks\":\"\"},\"colorscale\":[[0.0,\"#0d0887\"],[0.1111111111111111,\"#46039f\"],[0.2222222222222222,\"#7201a8\"],[0.3333333333333333,\"#9c179e\"],[0.4444444444444444,\"#bd3786\"],[0.5555555555555556,\"#d8576b\"],[0.6666666666666666,\"#ed7953\"],[0.7777777777777778,\"#fb9f3a\"],[0.8888888888888888,\"#fdca26\"],[1.0,\"#f0f921\"]]}],\"heatmapgl\":[{\"type\":\"heatmapgl\",\"colorbar\":{\"outlinewidth\":0,\"ticks\":\"\"},\"colorscale\":[[0.0,\"#0d0887\"],[0.1111111111111111,\"#46039f\"],[0.2222222222222222,\"#7201a8\"],[0.3333333333333333,\"#9c179e\"],[0.4444444444444444,\"#bd3786\"],[0.5555555555555556,\"#d8576b\"],[0.6666666666666666,\"#ed7953\"],[0.7777777777777778,\"#fb9f3a\"],[0.8888888888888888,\"#fdca26\"],[1.0,\"#f0f921\"]]}],\"contourcarpet\":[{\"type\":\"contourcarpet\",\"colorbar\":{\"outlinewidth\":0,\"ticks\":\"\"}}],\"contour\":[{\"type\":\"contour\",\"colorbar\":{\"outlinewidth\":0,\"ticks\":\"\"},\"colorscale\":[[0.0,\"#0d0887\"],[0.1111111111111111,\"#46039f\"],[0.2222222222222222,\"#7201a8\"],[0.3333333333333333,\"#9c179e\"],[0.4444444444444444,\"#bd3786\"],[0.5555555555555556,\"#d8576b\"],[0.6666666666666666,\"#ed7953\"],[0.7777777777777778,\"#fb9f3a\"],[0.8888888888888888,\"#fdca26\"],[1.0,\"#f0f921\"]]}],\"surface\":[{\"type\":\"surface\",\"colorbar\":{\"outlinewidth\":0,\"ticks\":\"\"},\"colorscale\":[[0.0,\"#0d0887\"],[0.1111111111111111,\"#46039f\"],[0.2222222222222222,\"#7201a8\"],[0.3333333333333333,\"#9c179e\"],[0.4444444444444444,\"#bd3786\"],[0.5555555555555556,\"#d8576b\"],[0.6666666666666666,\"#ed7953\"],[0.7777777777777778,\"#fb9f3a\"],[0.8888888888888888,\"#fdca26\"],[1.0,\"#f0f921\"]]}],\"mesh3d\":[{\"type\":\"mesh3d\",\"colorbar\":{\"outlinewidth\":0,\"ticks\":\"\"}}],\"scatter\":[{\"fillpattern\":{\"fillmode\":\"overlay\",\"size\":10,\"solidity\":0.2},\"type\":\"scatter\"}],\"parcoords\":[{\"type\":\"parcoords\",\"line\":{\"colorbar\":{\"outlinewidth\":0,\"ticks\":\"\"}}}],\"scatterpolargl\":[{\"type\":\"scatterpolargl\",\"marker\":{\"colorbar\":{\"outlinewidth\":0,\"ticks\":\"\"}}}],\"bar\":[{\"error_x\":{\"color\":\"#2a3f5f\"},\"error_y\":{\"color\":\"#2a3f5f\"},\"marker\":{\"line\":{\"color\":\"#E5ECF6\",\"width\":0.5},\"pattern\":{\"fillmode\":\"overlay\",\"size\":10,\"solidity\":0.2}},\"type\":\"bar\"}],\"scattergeo\":[{\"type\":\"scattergeo\",\"marker\":{\"colorbar\":{\"outlinewidth\":0,\"ticks\":\"\"}}}],\"scatterpolar\":[{\"type\":\"scatterpolar\",\"marker\":{\"colorbar\":{\"outlinewidth\":0,\"ticks\":\"\"}}}],\"histogram\":[{\"marker\":{\"pattern\":{\"fillmode\":\"overlay\",\"size\":10,\"solidity\":0.2}},\"type\":\"histogram\"}],\"scattergl\":[{\"type\":\"scattergl\",\"marker\":{\"colorbar\":{\"outlinewidth\":0,\"ticks\":\"\"}}}],\"scatter3d\":[{\"type\":\"scatter3d\",\"line\":{\"colorbar\":{\"outlinewidth\":0,\"ticks\":\"\"}},\"marker\":{\"colorbar\":{\"outlinewidth\":0,\"ticks\":\"\"}}}],\"scattermapbox\":[{\"type\":\"scattermapbox\",\"marker\":{\"colorbar\":{\"outlinewidth\":0,\"ticks\":\"\"}}}],\"scatterternary\":[{\"type\":\"scatterternary\",\"marker\":{\"colorbar\":{\"outlinewidth\":0,\"ticks\":\"\"}}}],\"scattercarpet\":[{\"type\":\"scattercarpet\",\"marker\":{\"colorbar\":{\"outlinewidth\":0,\"ticks\":\"\"}}}],\"carpet\":[{\"aaxis\":{\"endlinecolor\":\"#2a3f5f\",\"gridcolor\":\"white\",\"linecolor\":\"white\",\"minorgridcolor\":\"white\",\"startlinecolor\":\"#2a3f5f\"},\"baxis\":{\"endlinecolor\":\"#2a3f5f\",\"gridcolor\":\"white\",\"linecolor\":\"white\",\"minorgridcolor\":\"white\",\"startlinecolor\":\"#2a3f5f\"},\"type\":\"carpet\"}],\"table\":[{\"cells\":{\"fill\":{\"color\":\"#EBF0F8\"},\"line\":{\"color\":\"white\"}},\"header\":{\"fill\":{\"color\":\"#C8D4E3\"},\"line\":{\"color\":\"white\"}},\"type\":\"table\"}],\"barpolar\":[{\"marker\":{\"line\":{\"color\":\"#E5ECF6\",\"width\":0.5},\"pattern\":{\"fillmode\":\"overlay\",\"size\":10,\"solidity\":0.2}},\"type\":\"barpolar\"}],\"pie\":[{\"automargin\":true,\"type\":\"pie\"}]},\"layout\":{\"autotypenumbers\":\"strict\",\"colorway\":[\"#636efa\",\"#EF553B\",\"#00cc96\",\"#ab63fa\",\"#FFA15A\",\"#19d3f3\",\"#FF6692\",\"#B6E880\",\"#FF97FF\",\"#FECB52\"],\"font\":{\"color\":\"#2a3f5f\"},\"hovermode\":\"closest\",\"hoverlabel\":{\"align\":\"left\"},\"paper_bgcolor\":\"white\",\"plot_bgcolor\":\"#E5ECF6\",\"polar\":{\"bgcolor\":\"#E5ECF6\",\"angularaxis\":{\"gridcolor\":\"white\",\"linecolor\":\"white\",\"ticks\":\"\"},\"radialaxis\":{\"gridcolor\":\"white\",\"linecolor\":\"white\",\"ticks\":\"\"}},\"ternary\":{\"bgcolor\":\"#E5ECF6\",\"aaxis\":{\"gridcolor\":\"white\",\"linecolor\":\"white\",\"ticks\":\"\"},\"baxis\":{\"gridcolor\":\"white\",\"linecolor\":\"white\",\"ticks\":\"\"},\"caxis\":{\"gridcolor\":\"white\",\"linecolor\":\"white\",\"ticks\":\"\"}},\"coloraxis\":{\"colorbar\":{\"outlinewidth\":0,\"ticks\":\"\"}},\"colorscale\":{\"sequential\":[[0.0,\"#0d0887\"],[0.1111111111111111,\"#46039f\"],[0.2222222222222222,\"#7201a8\"],[0.3333333333333333,\"#9c179e\"],[0.4444444444444444,\"#bd3786\"],[0.5555555555555556,\"#d8576b\"],[0.6666666666666666,\"#ed7953\"],[0.7777777777777778,\"#fb9f3a\"],[0.8888888888888888,\"#fdca26\"],[1.0,\"#f0f921\"]],\"sequentialminus\":[[0.0,\"#0d0887\"],[0.1111111111111111,\"#46039f\"],[0.2222222222222222,\"#7201a8\"],[0.3333333333333333,\"#9c179e\"],[0.4444444444444444,\"#bd3786\"],[0.5555555555555556,\"#d8576b\"],[0.6666666666666666,\"#ed7953\"],[0.7777777777777778,\"#fb9f3a\"],[0.8888888888888888,\"#fdca26\"],[1.0,\"#f0f921\"]],\"diverging\":[[0,\"#8e0152\"],[0.1,\"#c51b7d\"],[0.2,\"#de77ae\"],[0.3,\"#f1b6da\"],[0.4,\"#fde0ef\"],[0.5,\"#f7f7f7\"],[0.6,\"#e6f5d0\"],[0.7,\"#b8e186\"],[0.8,\"#7fbc41\"],[0.9,\"#4d9221\"],[1,\"#276419\"]]},\"xaxis\":{\"gridcolor\":\"white\",\"linecolor\":\"white\",\"ticks\":\"\",\"title\":{\"standoff\":15},\"zerolinecolor\":\"white\",\"automargin\":true,\"zerolinewidth\":2},\"yaxis\":{\"gridcolor\":\"white\",\"linecolor\":\"white\",\"ticks\":\"\",\"title\":{\"standoff\":15},\"zerolinecolor\":\"white\",\"automargin\":true,\"zerolinewidth\":2},\"scene\":{\"xaxis\":{\"backgroundcolor\":\"#E5ECF6\",\"gridcolor\":\"white\",\"linecolor\":\"white\",\"showbackground\":true,\"ticks\":\"\",\"zerolinecolor\":\"white\",\"gridwidth\":2},\"yaxis\":{\"backgroundcolor\":\"#E5ECF6\",\"gridcolor\":\"white\",\"linecolor\":\"white\",\"showbackground\":true,\"ticks\":\"\",\"zerolinecolor\":\"white\",\"gridwidth\":2},\"zaxis\":{\"backgroundcolor\":\"#E5ECF6\",\"gridcolor\":\"white\",\"linecolor\":\"white\",\"showbackground\":true,\"ticks\":\"\",\"zerolinecolor\":\"white\",\"gridwidth\":2}},\"shapedefaults\":{\"line\":{\"color\":\"#2a3f5f\"}},\"annotationdefaults\":{\"arrowcolor\":\"#2a3f5f\",\"arrowhead\":0,\"arrowwidth\":1},\"geo\":{\"bgcolor\":\"white\",\"landcolor\":\"#E5ECF6\",\"subunitcolor\":\"white\",\"showland\":true,\"showlakes\":true,\"lakecolor\":\"white\"},\"title\":{\"x\":0.05},\"mapbox\":{\"style\":\"light\"}}},\"xaxis\":{\"anchor\":\"y\",\"domain\":[0.0,1.0],\"title\":{\"text\":\"Year\"}},\"yaxis\":{\"anchor\":\"x\",\"domain\":[0.0,1.0],\"title\":{\"text\":\"energy produced (GWh)\"}},\"legend\":{\"tracegroupgap\":0},\"title\":{\"text\":\"Global energy production per energy type (GWh)\"}},                        {\"responsive\": true}                    ).then(function(){\n",
       "                            \n",
       "var gd = document.getElementById('9fe48a27-f7e2-47e8-bab8-0c5fb6c1531e');\n",
       "var x = new MutationObserver(function (mutations, observer) {{\n",
       "        var display = window.getComputedStyle(gd).display;\n",
       "        if (!display || display === 'none') {{\n",
       "            console.log([gd, 'removed!']);\n",
       "            Plotly.purge(gd);\n",
       "            observer.disconnect();\n",
       "        }}\n",
       "}});\n",
       "\n",
       "// Listen for the removal of the full notebook cells\n",
       "var notebookContainer = gd.closest('#notebook-container');\n",
       "if (notebookContainer) {{\n",
       "    x.observe(notebookContainer, {childList: true});\n",
       "}}\n",
       "\n",
       "// Listen for the clearing of the current output cell\n",
       "var outputEl = gd.closest('.output');\n",
       "if (outputEl) {{\n",
       "    x.observe(outputEl, {childList: true});\n",
       "}}\n",
       "\n",
       "                        })                };                });            </script>        </div>"
      ]
     },
     "metadata": {},
     "output_type": "display_data"
    }
   ],
   "source": [
    "px.line(data_global_year, x=\"TIME\", y=res, title = \"Global energy production per energy type (GWh)\", labels={\"value\":\"energy produced (GWh)\", \"TIME\": \"Year\", \"variable\": \"Energy type\"})\n"
   ]
  },
  {
   "cell_type": "code",
   "execution_count": 25,
   "id": "b91b1f6f",
   "metadata": {},
   "outputs": [],
   "source": [
    "energy_dict = {\"%_RENEWABLE_PRODUCED\": \"Renewable\", \"%_NUCLEAR_PRODUCED\":\"Nuclear\", \"%_FOSSILE_PRODUCED\":\"Fossile\"}"
   ]
  },
  {
   "cell_type": "code",
   "execution_count": null,
   "id": "a14ca503",
   "metadata": {},
   "outputs": [],
   "source": []
  },
  {
   "cell_type": "code",
   "execution_count": null,
   "id": "70ae601a",
   "metadata": {},
   "outputs": [],
   "source": []
  }
 ],
 "metadata": {
  "kernelspec": {
   "display_name": "Python 3 (ipykernel)",
   "language": "python",
   "name": "python3"
  },
  "language_info": {
   "codemirror_mode": {
    "name": "ipython",
    "version": 3
   },
   "file_extension": ".py",
   "mimetype": "text/x-python",
   "name": "python",
   "nbconvert_exporter": "python",
   "pygments_lexer": "ipython3",
   "version": "3.10.6"
  },
  "toc": {
   "base_numbering": 1,
   "nav_menu": {},
   "number_sections": true,
   "sideBar": true,
   "skip_h1_title": false,
   "title_cell": "Table of Contents",
   "title_sidebar": "Contents",
   "toc_cell": false,
   "toc_position": {},
   "toc_section_display": true,
   "toc_window_display": false
  }
 },
 "nbformat": 4,
 "nbformat_minor": 5
}
